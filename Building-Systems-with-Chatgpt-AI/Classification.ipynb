{
 "cells": [
  {
   "cell_type": "markdown",
   "id": "f14c4442-3fc5-4070-9ef2-bb33d30e6b38",
   "metadata": {},
   "source": [
    "#  Evaluate Inputs: Classification 🏷️"
   ]
  },
  {
   "cell_type": "markdown",
   "id": "3cb18191",
   "metadata": {},
   "source": [
    "## Introduction\n",
    "This notebook demonstrates `how to classify customer queries using OpenAI's language models`. We will cover the setup process, define helper functions, and provide examples of classifying queries into primary and secondary categories."
   ]
  },
  {
   "cell_type": "markdown",
   "id": "26fd0696-18e6-4029-8738-fecba92851db",
   "metadata": {},
   "source": [
    "## Setup\n",
    "Load the API key and relevant Python libaries. For more info see [SETUP Instructions](https://github.com/16032022/DeepLearningAI-OpenAI-projects/blob/main/SETUP.md)."
   ]
  },
  {
   "cell_type": "code",
   "execution_count": 1,
   "id": "87f647e2",
   "metadata": {},
   "outputs": [],
   "source": [
    "# Import necessary libraries\n",
    "import os\n",
    "import openai\n",
    "\n",
    "# Load environment variables from a .env file\n",
    "from dotenv import load_dotenv, find_dotenv\n",
    "_ = load_dotenv(find_dotenv()) # read local .env file\n",
    "\n",
    "# Set OpenAI API key\n",
    "openai.api_key  = os.environ['OPENAI_API_KEY']"
   ]
  },
  {
   "cell_type": "markdown",
   "id": "9f9b0568",
   "metadata": {},
   "source": [
    "#### Helper Function\n",
    "Define a helper function to classify customer queries using OpenAI's gpt-3.5-turbo model."
   ]
  },
  {
   "cell_type": "code",
   "execution_count": 2,
   "id": "6b9fd359",
   "metadata": {},
   "outputs": [],
   "source": [
    "# Initialize OpenAI client\n",
    "client = openai.OpenAI()\n",
    "\n",
    "# Define a function to classify customer queries\n",
    "def get_completion(prompt, model=\"gpt-3.5-turbo\", temperature=0, max_tokens=500):\n",
    "    messages = [{\"role\": \"user\", \"content\": prompt}]\n",
    "    response = client.chat.completions.create(\n",
    "        model=model,\n",
    "        messages=messages,\n",
    "        temperature=temperature,\n",
    "        max_tokens=max_tokens\n",
    "    )\n",
    "    return response.choices[0].message.content"
   ]
  },
  {
   "cell_type": "markdown",
   "id": "76270dc9",
   "metadata": {},
   "source": [
    "#### Classify Customer Queries\n",
    "Example to classify customer queries into primary and secondary categories."
   ]
  },
  {
   "cell_type": "markdown",
   "id": "7e8afc1d",
   "metadata": {},
   "source": [
    "- Example 1 : An account management operation (primary key) focused on closing an account(secondary key)"
   ]
  },
  {
   "cell_type": "code",
   "execution_count": 3,
   "id": "407b34b8",
   "metadata": {},
   "outputs": [],
   "source": [
    "# Initialize OpenAI client\n",
    "client = openai.OpenAI()\n",
    "\n",
    "# Define the system message and user message for classification\n",
    "def get_completion(prompt, model=\"gpt-3.5-turbo\", temperature=0, max_tokens=500):\n",
    "    #messages = [{\"role\": \"user\", \"content\": prompt}]\n",
    "    delimiter = \"####\"\n",
    "    system_message = f\"\"\"\n",
    "    You will be provided with customer service queries. \\\n",
    "    The customer service query will be delimited with \\\n",
    "    {delimiter} characters.\n",
    "    Classify each query into a primary category \\\n",
    "    and a secondary category. \n",
    "    Provide your output in json format with the \\\n",
    "    keys: primary and secondary.\n",
    "\n",
    "    Primary categories: Billing, Technical Support, \\\n",
    "    Account Management, or General Inquiry.\n",
    "\n",
    "    Billing secondary categories:\n",
    "    Unsubscribe or upgrade\n",
    "    Add a payment method\n",
    "    Explanation for charge\n",
    "    Dispute a charge\n",
    "\n",
    "    Technical Support secondary categories:\n",
    "    General troubleshooting\n",
    "    Device compatibility\n",
    "    Software updates\n",
    "\n",
    "    Account Management secondary categories:\n",
    "    Password reset\n",
    "    Update personal information\n",
    "    Close account\n",
    "    Account security\n",
    "\n",
    "    General Inquiry secondary categories:\n",
    "    Product information\n",
    "    Pricing\n",
    "    Feedback\n",
    "    Speak to a human\n",
    "\n",
    "    \"\"\"\n",
    "\n",
    "    # Example user message for classification\n",
    "    user_message = f\"\"\"\\\n",
    "    I want you to delete my profile and all of my user data\"\"\"\n",
    "    # Create messages for the API call\n",
    "    messages =  [  \n",
    "    {'role':'system', 'content': system_message},    \n",
    "    {'role':'user', 'content': f\"{delimiter}{user_message}{delimiter}\"},  \n",
    "    ] \n",
    "\n",
    "# Get classification\n",
    "    response = client.chat.completions.create(\n",
    "        model=model,\n",
    "        messages=messages,\n",
    "        temperature=temperature,\n",
    "        max_tokens=max_tokens\n",
    "    )\n",
    "    return response.choices[0].message.content\n",
    "\n"
   ]
  },
  {
   "cell_type": "code",
   "execution_count": 4,
   "id": "f4e6c4c2",
   "metadata": {},
   "outputs": [
    {
     "name": "stdout",
     "output_type": "stream",
     "text": [
      "{\n",
      "    \"primary\": \"Account Management\",\n",
      "    \"secondary\": \"Close account\"\n",
      "}\n"
     ]
    }
   ],
   "source": [
    "delimiter = \"####\"\n",
    "system_message = f\"\"\"\n",
    "You will be provided with customer service queries. \\\n",
    "The customer service query will be delimited with \\\n",
    "{delimiter} characters.\n",
    "Classify each query into a primary category \\\n",
    "and a secondary category. \n",
    "Provide your output in json format with the \\\n",
    "keys: primary and secondary.\n",
    "\n",
    "Primary categories: Billing, Technical Support, \\\n",
    "Account Management, or General Inquiry.\n",
    "\n",
    "Billing secondary categories:\n",
    "Unsubscribe or upgrade\n",
    "Add a payment method\n",
    "Explanation for charge\n",
    "Dispute a charge\n",
    "\n",
    "Technical Support secondary categories:\n",
    "General troubleshooting\n",
    "Device compatibility\n",
    "Software updates\n",
    "\n",
    "Account Management secondary categories:\n",
    "Password reset\n",
    "Update personal information\n",
    "Close account\n",
    "Account security\n",
    "\n",
    "General Inquiry secondary categories:\n",
    "Product information\n",
    "Pricing\n",
    "Feedback\n",
    "Speak to a human\n",
    "\n",
    "\"\"\"\n",
    "# Example user message for classification\n",
    "user_message = f\"\"\"\\\n",
    "I want you to delete my profile and all of my user data\"\"\"\n",
    " # Create messages for the API call\n",
    "messages =  [  \n",
    "    {'role':'system', 'content': system_message},    \n",
    "    {'role':'user', 'content': f\"{delimiter}{user_message}{delimiter}\"},  \n",
    "    ] \n",
    "\n",
    "# Get classification\n",
    "response = get_completion(messages)\n",
    "# Print the response\n",
    "print(response)"
   ]
  },
  {
   "cell_type": "markdown",
   "id": "b4bd2743",
   "metadata": {},
   "source": [
    "**Explanation output** This output, describing an account management operation focused on closing an account. represents a structured data object with two fields:  \n",
    "_Primary: \"Account Management\"_ – This likely serves as the main category or context, indicating the feature or area related to managing accounts.  \n",
    "_Secondary: \"Close account\"_ – This provides a more specific action or subcategory under the primary category, referring to the operation of closing an account.  "
   ]
  },
  {
   "cell_type": "markdown",
   "id": "df808be1",
   "metadata": {},
   "source": [
    "- Example 2 : A general inquiry (primary key) about product-related information(secondary key)"
   ]
  },
  {
   "cell_type": "code",
   "execution_count": 5,
   "id": "efbd6315",
   "metadata": {},
   "outputs": [],
   "source": [
    "# Initialize OpenAI client\n",
    "client = openai.OpenAI()\n",
    "\n",
    "# Define the system message and user message for classification\n",
    "def get_completion(prompt, model=\"gpt-3.5-turbo\", temperature=0, max_tokens=500):\n",
    "    #messages = [{\"role\": \"user\", \"content\": prompt}]\n",
    "    delimiter = \"####\"\n",
    "    system_message = f\"\"\"\n",
    "    You will be provided with customer service queries. \\\n",
    "    The customer service query will be delimited with \\\n",
    "    {delimiter} characters.\n",
    "    Classify each query into a primary category \\\n",
    "    and a secondary category. \n",
    "    Provide your output in json format with the \\\n",
    "    keys: primary and secondary.\n",
    "\n",
    "    Primary categories: Billing, Technical Support, \\\n",
    "    Account Management, or General Inquiry.\n",
    "\n",
    "    Billing secondary categories:\n",
    "    Unsubscribe or upgrade\n",
    "    Add a payment method\n",
    "    Explanation for charge\n",
    "    Dispute a charge\n",
    "\n",
    "    Technical Support secondary categories:\n",
    "    General troubleshooting\n",
    "    Device compatibility\n",
    "    Software updates\n",
    "\n",
    "    Account Management secondary categories:\n",
    "    Password reset\n",
    "    Update personal information\n",
    "    Close account\n",
    "    Account security\n",
    "\n",
    "    General Inquiry secondary categories:\n",
    "    Product information\n",
    "    Pricing\n",
    "    Feedback\n",
    "    Speak to a human\n",
    "\n",
    "    \"\"\"\n",
    "\n",
    " # Example user message for classification   \n",
    "    user_message = f\"\"\"\\\n",
    "    Tell me more about your flat screen tvs\"\"\"\n",
    "\n",
    " # Create messages for the API call   \n",
    "    messages =  [  \n",
    "    {'role':'system', \n",
    "    'content': system_message},    \n",
    "    {'role':'user', \n",
    "    'content': f\"{delimiter}{user_message}{delimiter}\"},  \n",
    "    ] \n",
    "    \n",
    "# Get classification\n",
    "    response = client.chat.completions.create(\n",
    "        model=model,\n",
    "        messages=messages,\n",
    "        temperature=temperature,\n",
    "        max_tokens=max_tokens\n",
    "    )\n",
    "    return response.choices[0].message.content\n"
   ]
  },
  {
   "cell_type": "code",
   "execution_count": 6,
   "id": "e91b9b99",
   "metadata": {},
   "outputs": [
    {
     "name": "stdout",
     "output_type": "stream",
     "text": [
      "{\n",
      "    \"primary\": \"General Inquiry\",\n",
      "    \"secondary\": \"Product information\"\n",
      "}\n"
     ]
    }
   ],
   "source": [
    "delimiter = \"####\"\n",
    "system_message = f\"\"\"\n",
    "You will be provided with customer service queries. \\\n",
    "The customer service query will be delimited with \\\n",
    "{delimiter} characters.\n",
    "Classify each query into a primary category \\\n",
    "and a secondary category. \n",
    "Provide your output in json format with the \\\n",
    "keys: primary and secondary.\n",
    "\n",
    "Primary categories: Billing, Technical Support, \\\n",
    "Account Management, or General Inquiry.\n",
    "\n",
    "Billing secondary categories:\n",
    "Unsubscribe or upgrade\n",
    "Add a payment method\n",
    "Explanation for charge\n",
    "Dispute a charge\n",
    "\n",
    "Technical Support secondary categories:\n",
    "General troubleshooting\n",
    "Device compatibility\n",
    "Software updates\n",
    "\n",
    "Account Management secondary categories:\n",
    "Password reset\n",
    "Update personal information\n",
    "Close account\n",
    "Account security\n",
    "\n",
    "General Inquiry secondary categories:\n",
    "Product information\n",
    "Pricing\n",
    "Feedback\n",
    "Speak to a human\n",
    "\n",
    "\"\"\"\n",
    "user_message = f\"\"\"\\\n",
    "Tell me more about your flat screen tvs\"\"\"\n",
    "\n",
    "messages =  [  \n",
    "    {'role':'system', 'content': system_message},    \n",
    "    {'role':'user', 'content': f\"{delimiter}{user_message}{delimiter}\"},  \n",
    "    ] \n",
    "\n",
    "response = get_completion(messages)\n",
    "# Print the response\n",
    "print(response)"
   ]
  },
  {
   "cell_type": "markdown",
   "id": "434d72cd",
   "metadata": {},
   "source": [
    "**Explanation output** This output represents a structured data object with two fields:  \n",
    "_Primary: \"General Inquiry\" _– This serves as the main category, indicating a general question or request for information.  \n",
    "_Secondary: \"Product information\"_ – This specifies the subject of the inquiry, focusing on details or information about a product.  \n",
    "In summary, it describes a general inquiry about product-related information."
   ]
  },
  {
   "cell_type": "markdown",
   "id": "c2388d2c",
   "metadata": {},
   "source": [
    "## Conclusion \n",
    "This notebook provided an overview of how to classify customer queries using OpenAI's language models. We defined a helper function, demonstrated example classifications, and extracted the primary and secondary categories. These tools and techniques can be further extended and customized for various customer service applications."
   ]
  }
 ],
 "metadata": {
  "kernelspec": {
   "display_name": ".venv",
   "language": "python",
   "name": "python3"
  },
  "language_info": {
   "codemirror_mode": {
    "name": "ipython",
    "version": 3
   },
   "file_extension": ".py",
   "mimetype": "text/x-python",
   "name": "python",
   "nbconvert_exporter": "python",
   "pygments_lexer": "ipython3",
   "version": "3.12.2"
  }
 },
 "nbformat": 4,
 "nbformat_minor": 5
}
