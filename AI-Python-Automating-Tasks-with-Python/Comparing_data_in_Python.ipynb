{
 "cells": [
  {
   "cell_type": "markdown",
   "id": "1d3c3445-0836-45b7-b879-df92ba1fd264",
   "metadata": {},
   "source": [
    "# Comparing data in Python 📝\n"
   ]
  },
  {
   "cell_type": "markdown",
   "id": "fbf800ff",
   "metadata": {},
   "source": [
    "## Introduction \n",
    "In this section, we will compare different types of data in Python using `boolean values` and `logical operators`."
   ]
  },
  {
   "cell_type": "markdown",
   "id": "4efa693c",
   "metadata": {},
   "source": [
    "## Importing specific functions from the helper_functions module  \n",
    "For more info see [helper_functions]      and [Setup Instrctions](https://github.com/16032022/DeepLearningAI-OpenAI-projects/blob/main/SETUP.md). The imported functions are the following:  \n",
    "- The _print_llm_response_ function is likely used to print responses from a language learning model.  \n",
    "- The _get_llm_response_ function is likely used to get responses from a language learning model."
   ]
  },
  {
   "cell_type": "code",
   "execution_count": 1,
   "id": "3f11902c-9cf7-42f5-9c0f-890cfed3506c",
   "metadata": {},
   "outputs": [],
   "source": [
    "# Import necessary functions from the helper_functions module\n",
    "from helper_functions import print_llm_response, get_llm_response"
   ]
  },
  {
   "cell_type": "markdown",
   "id": "a1ed0d5d",
   "metadata": {},
   "source": [
    ">_Note_ `Boolean values` in Python can only be True or False and they are usually used to represent the truth value of an expression."
   ]
  },
  {
   "cell_type": "markdown",
   "id": "27643fe1-d280-4c25-9df6-4c1fbdc93c91",
   "metadata": {},
   "source": [
    "Take a closer look at the True/False variable in a dictionary example enclosing the Tommy's food preferences"
   ]
  },
  {
   "cell_type": "code",
   "execution_count": 2,
   "id": "66fd82db-5451-4286-a2d8-bc2b48de47d0",
   "metadata": {},
   "outputs": [],
   "source": [
    "# Define a dictionary with Tommy's food preferences\n",
    "food_preferences_tommy = {\n",
    "    #\"dietary_restrictions\": \"vegetarian\",\n",
    "    \"favorite_ingredients\": [\"mushrooms\", \"olives\"],\n",
    "    \"experience_level\": \"intermediate\",\n",
    "    \"maximum_spice_level\": 6\n",
    "}"
   ]
  },
  {
   "cell_type": "markdown",
   "id": "cda25f5c",
   "metadata": {},
   "source": [
    "In the following code, the element _\\\"is_vegetarian\\\"_ with a value equal to `True` will be added to the dictionary _food_preferences_tommy_."
   ]
  },
  {
   "cell_type": "code",
   "execution_count": 3,
   "id": "fa282cdb",
   "metadata": {},
   "outputs": [],
   "source": [
    "# Add a boolean value to the dictionary\n",
    "food_preferences_tommy[\"is_vegetarian\"] = True"
   ]
  },
  {
   "cell_type": "markdown",
   "id": "c21c36e3-3b19-403c-b667-e81c38e8dc09",
   "metadata": {},
   "source": [
    "This type of data is know as booleans. It can take only two values: `True` or `False`."
   ]
  },
  {
   "cell_type": "code",
   "execution_count": 4,
   "id": "c986cc9a-853c-46f7-bdf8-ef8df55abe32",
   "metadata": {},
   "outputs": [
    {
     "name": "stdout",
     "output_type": "stream",
     "text": [
      "{'favorite_ingredients': ['mushrooms', 'olives'], 'experience_level': 'intermediate', 'maximum_spice_level': 6, 'is_vegetarian': True}\n"
     ]
    }
   ],
   "source": [
    "# Print the dictionary to check the added value\n",
    "print(food_preferences_tommy)"
   ]
  },
  {
   "cell_type": "markdown",
   "id": "df2a16f0",
   "metadata": {},
   "source": [
    "### True and False\n",
    "\n",
    "`True` and `False` may look like strings without quotation marks. They are the two values that booleans can take. "
   ]
  },
  {
   "cell_type": "code",
   "execution_count": 5,
   "id": "bf4bbcab",
   "metadata": {},
   "outputs": [
    {
     "name": "stdout",
     "output_type": "stream",
     "text": [
      "True\n",
      "False\n"
     ]
    }
   ],
   "source": [
    "print(True)\n",
    "print(False)"
   ]
  },
  {
   "cell_type": "markdown",
   "id": "dd28620f",
   "metadata": {},
   "source": [
    "Below, you can check the type for each of these values."
   ]
  },
  {
   "cell_type": "code",
   "execution_count": 6,
   "id": "81b76163-452a-41fc-99d9-7409d501739d",
   "metadata": {},
   "outputs": [
    {
     "data": {
      "text/plain": [
       "bool"
      ]
     },
     "execution_count": 6,
     "metadata": {},
     "output_type": "execute_result"
    }
   ],
   "source": [
    "type(True)"
   ]
  },
  {
   "cell_type": "code",
   "execution_count": 7,
   "id": "65304293",
   "metadata": {},
   "outputs": [
    {
     "data": {
      "text/plain": [
       "bool"
      ]
     },
     "execution_count": 7,
     "metadata": {},
     "output_type": "execute_result"
    }
   ],
   "source": [
    "type(False)"
   ]
  },
  {
   "cell_type": "markdown",
   "id": "36a3ed4b",
   "metadata": {},
   "source": [
    "Let's check the type of the variable _\\\"is_vegetarian\\\"_ to confirm it is indeed a boolean."
   ]
  },
  {
   "cell_type": "code",
   "execution_count": 8,
   "id": "63e623b6",
   "metadata": {},
   "outputs": [
    {
     "data": {
      "text/plain": [
       "bool"
      ]
     },
     "execution_count": 8,
     "metadata": {},
     "output_type": "execute_result"
    }
   ],
   "source": [
    "type(food_preferences_tommy[\"is_vegetarian\"])"
   ]
  },
  {
   "cell_type": "markdown",
   "id": "54b865d5",
   "metadata": {},
   "source": [
    "Let's  ask chatbot why it's called Boolean\n",
    "<p style=\"background-color:#F5C780; padding:15px\"> 🤖 <b>Use the Chatbot</b>: Why is the True or False data type called a Boolean?\n",
    "</p>  \n"
   ]
  },
  {
   "cell_type": "markdown",
   "id": "2b8125dd",
   "metadata": {},
   "source": [
    "**Response Chatbot**: A Boolean is a data type in logic and computing that represents two possible values: true or false. Key aspects include:\n",
    "1. _In Programming_:    \n",
    "- Boolean values: Represent true/false conditions (e.g., True/False or 1/0).    \n",
    "- Boolean expressions: Logical statements like 5 > 3 (True) or x == y (True/False).    \n",
    "- Boolean operators: AND (True if both conditions are true), OR (True if at least one condition is true) and NOT (Inverts true to false and vice versa).  \n",
    "\n",
    "2. _In Boolean Algebra (Mathematics and Logic)_:      \n",
    " - Focuses on binary variables and logical operations.     \n",
    " - Simplifies logical expressions and is vital in digital circuit design, databases, and search algorithms.  \n",
    "\n",
    "3. _In Search Queries_:\n",
    "Used to refine results using Boolean operators:    \n",
    "- \"apple AND orange\" includes both terms.    \n",
    "- \"apple OR orange\" includes either term.    \n",
    "- \"NOT banana\" excludes results with \"banana.\"    \n",
    "\n",
    "To sum up, Boolean logic underpins programming, computing, and systems requiring true/false decision-making."
   ]
  },
  {
   "cell_type": "markdown",
   "id": "00fc7a7e",
   "metadata": {},
   "source": [
    "As with any other data type, you can assign booleans to variables:"
   ]
  },
  {
   "cell_type": "code",
   "execution_count": 9,
   "id": "d94fb8d3-4c0a-4247-b802-fa0a1821754b",
   "metadata": {},
   "outputs": [],
   "source": [
    "is_tommy_my_friend = True"
   ]
  },
  {
   "cell_type": "code",
   "execution_count": 10,
   "id": "fe3aef3c-8c01-4ad2-867a-fef7c8afe109",
   "metadata": {},
   "outputs": [],
   "source": [
    "is_isabel_older_than_me = False"
   ]
  },
  {
   "cell_type": "code",
   "execution_count": 11,
   "id": "41c2106f-2878-459e-9b91-8b59efe0de1f",
   "metadata": {},
   "outputs": [
    {
     "name": "stdout",
     "output_type": "stream",
     "text": [
      "True\n"
     ]
    }
   ],
   "source": [
    "print(is_tommy_my_friend)"
   ]
  },
  {
   "cell_type": "code",
   "execution_count": 12,
   "id": "2160cb40-97a6-48f9-a3ef-fc97a1b74f11",
   "metadata": {},
   "outputs": [
    {
     "name": "stdout",
     "output_type": "stream",
     "text": [
      "False\n"
     ]
    }
   ],
   "source": [
    "print(is_isabel_older_than_me)"
   ]
  },
  {
   "cell_type": "code",
   "execution_count": 13,
   "id": "110edbfc-3412-4f97-91d3-f294ddf009c6",
   "metadata": {},
   "outputs": [
    {
     "data": {
      "text/plain": [
       "bool"
      ]
     },
     "execution_count": 13,
     "metadata": {},
     "output_type": "execute_result"
    }
   ],
   "source": [
    "type(is_isabel_older_than_me)"
   ]
  },
  {
   "cell_type": "code",
   "execution_count": 14,
   "id": "cefa1a81",
   "metadata": {},
   "outputs": [
    {
     "data": {
      "text/plain": [
       "bool"
      ]
     },
     "execution_count": 14,
     "metadata": {},
     "output_type": "execute_result"
    }
   ],
   "source": [
    "#Let's check out also the variable \"is_tommy_my_friend\"\n",
    "type(is_tommy_my_friend)"
   ]
  },
  {
   "cell_type": "markdown",
   "id": "6930b80c",
   "metadata": {},
   "source": [
    "### Comparison Operators\n",
    "\n",
    "Booleans are what you get back when you compare variables in python. For example, here are the ages for Isabel, Daniel and Tommy:"
   ]
  },
  {
   "cell_type": "code",
   "execution_count": 15,
   "id": "2e3000f5",
   "metadata": {},
   "outputs": [],
   "source": [
    "# Define a variable indicating the Isabel's age\n",
    "isabel_age = 28\n",
    "# Define a variable indicating the Daniel's age\n",
    "daniel_age = 30\n",
    "# Define  a variable indicating the Tommy's age\n",
    "tommy_age = 30"
   ]
  },
  {
   "cell_type": "markdown",
   "id": "cc9b9c70",
   "metadata": {},
   "source": [
    "In Python you can compare values using the same operator you probably encounter in math classes. Let's start determining if Isabel is older than Daniel using `>`."
   ]
  },
  {
   "cell_type": "code",
   "execution_count": 22,
   "id": "6c9370d2-5d69-428f-8c8a-c321fa8d830b",
   "metadata": {},
   "outputs": [
    {
     "name": "stdout",
     "output_type": "stream",
     "text": [
      "False\n",
      "Is Isabel older than Daniel? False\n"
     ]
    }
   ],
   "source": [
    "# Check if Isabel is older than Daniel\n",
    "print(isabel_age > daniel_age) \n",
    "print(f\"Is Isabel older than Daniel? {isabel_age > daniel_age}\")"
   ]
  },
  {
   "cell_type": "markdown",
   "id": "3ecf1493-cddf-495f-ba6d-b21549d33538",
   "metadata": {},
   "source": [
    "Now, let's determine if she is younger using `<`:"
   ]
  },
  {
   "cell_type": "code",
   "execution_count": 23,
   "id": "0c6dca17-e8d0-4b22-935e-9162882f9910",
   "metadata": {},
   "outputs": [
    {
     "name": "stdout",
     "output_type": "stream",
     "text": [
      "True\n",
      "Is Isabel younger than Daniel? True\n"
     ]
    }
   ],
   "source": [
    "# Check if both Isabel is younger than Daniel \n",
    "print(isabel_age < daniel_age) \n",
    "print(f\"Is Isabel younger than Daniel? {isabel_age < daniel_age}\")"
   ]
  },
  {
   "cell_type": "code",
   "execution_count": 25,
   "id": "d52d2c60-0ac9-4a4d-acb9-3bf98d56efb6",
   "metadata": {},
   "outputs": [
    {
     "name": "stdout",
     "output_type": "stream",
     "text": [
      "False\n",
      "Is Isabel older than Daniel? False\n"
     ]
    }
   ],
   "source": [
    "is_isabel_older_than_daniel = isabel_age > daniel_age\n",
    "print(is_isabel_older_than_daniel)\n",
    "print(f\"Is Isabel older than Daniel? {is_isabel_older_than_daniel}\")"
   ]
  },
  {
   "cell_type": "markdown",
   "id": "104a2ac5",
   "metadata": {},
   "source": [
    "You can also use `<=` and `>=` to check if one number is greater than or equal to the other, or if it is lower than or equal to the other. "
   ]
  },
  {
   "cell_type": "code",
   "execution_count": 26,
   "id": "b9a720e6-8727-4284-812a-96c5a7f502c5",
   "metadata": {},
   "outputs": [
    {
     "name": "stdout",
     "output_type": "stream",
     "text": [
      "True\n"
     ]
    }
   ],
   "source": [
    "print(isabel_age <= daniel_age)"
   ]
  },
  {
   "cell_type": "markdown",
   "id": "73861806-67ac-4554-91a0-9d46c226cbc8",
   "metadata": {},
   "source": [
    "Since Daniel and Tommy are the same age, when you use `<=` and `>=` you will get `True` for both cases:"
   ]
  },
  {
   "cell_type": "code",
   "execution_count": 27,
   "id": "2ce5ab16-cc4c-4911-977b-1b1bad075434",
   "metadata": {},
   "outputs": [
    {
     "name": "stdout",
     "output_type": "stream",
     "text": [
      "False\n"
     ]
    }
   ],
   "source": [
    "print(tommy_age < daniel_age)"
   ]
  },
  {
   "cell_type": "code",
   "execution_count": 28,
   "id": "5bbe17e3",
   "metadata": {},
   "outputs": [
    {
     "name": "stdout",
     "output_type": "stream",
     "text": [
      "Are Daniel and Tommy of the same age? False\n"
     ]
    }
   ],
   "source": [
    "print(f\"Are Daniel and Tommy of the same age? {tommy_age < daniel_age}\")"
   ]
  },
  {
   "cell_type": "code",
   "execution_count": 29,
   "id": "4919a6c8-8c01-48e4-95da-51cf265d900e",
   "metadata": {},
   "outputs": [
    {
     "name": "stdout",
     "output_type": "stream",
     "text": [
      "True\n"
     ]
    }
   ],
   "source": [
    "print(tommy_age <= daniel_age)"
   ]
  },
  {
   "cell_type": "code",
   "execution_count": 30,
   "id": "1e1ca93a",
   "metadata": {},
   "outputs": [
    {
     "name": "stdout",
     "output_type": "stream",
     "text": [
      "Are Daniel and Tommy of the same age? True\n"
     ]
    }
   ],
   "source": [
    "print(f\"Are Daniel and Tommy of the same age? {tommy_age <= daniel_age}\")"
   ]
  },
  {
   "cell_type": "markdown",
   "id": "b2cc56ad",
   "metadata": {},
   "source": [
    "### Equality Operator\n",
    "So, what if you want to check if to things are equal? You would neeed to use `==`. \n",
    "\n",
    "- `= `is an assignment operator, it assigns values to variables\n",
    "- `==` is a comparison operator, it checks if two things are holding the same value, or if two pieces of data are equal "
   ]
  },
  {
   "cell_type": "markdown",
   "id": "1ad8f8b9-5511-4647-899f-83c1cab8b659",
   "metadata": {},
   "source": [
    "So, going back to comparing Daniel's and Tommy's age:"
   ]
  },
  {
   "cell_type": "code",
   "execution_count": 31,
   "id": "4ee287e3-3cd2-4e34-8d4e-eada1cb17b1c",
   "metadata": {},
   "outputs": [
    {
     "name": "stdout",
     "output_type": "stream",
     "text": [
      "True\n"
     ]
    }
   ],
   "source": [
    "print(tommy_age == daniel_age)"
   ]
  },
  {
   "cell_type": "code",
   "execution_count": 32,
   "id": "28844c45",
   "metadata": {},
   "outputs": [
    {
     "name": "stdout",
     "output_type": "stream",
     "text": [
      "Are Daniel and Tommy of the same age? True\n"
     ]
    }
   ],
   "source": [
    "print(f\"Are Daniel and Tommy of the same age? {tommy_age == daniel_age}\")"
   ]
  },
  {
   "cell_type": "markdown",
   "id": "1bb8a1ef-e7cd-4c8d-bb85-bac592a3cfa2",
   "metadata": {},
   "source": [
    "And Isabel's and Daniel's:"
   ]
  },
  {
   "cell_type": "code",
   "execution_count": 33,
   "id": "bed57b0f",
   "metadata": {},
   "outputs": [
    {
     "name": "stdout",
     "output_type": "stream",
     "text": [
      "False\n"
     ]
    }
   ],
   "source": [
    "print(isabel_age == daniel_age) "
   ]
  },
  {
   "cell_type": "code",
   "execution_count": 34,
   "id": "bf982ddb",
   "metadata": {},
   "outputs": [
    {
     "name": "stdout",
     "output_type": "stream",
     "text": [
      "Are Isabel and Daniel of the same age? False\n"
     ]
    }
   ],
   "source": [
    "print(f\"Are Isabel and Daniel of the same age? {isabel_age == daniel_age}\")"
   ]
  },
  {
   "cell_type": "markdown",
   "id": "e9d3f4f0",
   "metadata": {},
   "source": [
    "This operator works for strings too. Here you have definitive proof that a vegetarian is not the same as a vegan."
   ]
  },
  {
   "cell_type": "code",
   "execution_count": 35,
   "id": "f2f80d9f-4f26-490d-a331-8e59db46f060",
   "metadata": {},
   "outputs": [
    {
     "name": "stdout",
     "output_type": "stream",
     "text": [
      "False\n"
     ]
    }
   ],
   "source": [
    "#strings\n",
    "print(\"vegetarian\" == \"vegan\")"
   ]
  },
  {
   "cell_type": "code",
   "execution_count": 36,
   "id": "ad5f89eb",
   "metadata": {},
   "outputs": [
    {
     "name": "stdout",
     "output_type": "stream",
     "text": [
      "True\n"
     ]
    }
   ],
   "source": [
    "#strings\n",
    "print(\"vegan\" == \"vegan\")"
   ]
  },
  {
   "cell_type": "markdown",
   "id": "3faccc81",
   "metadata": {},
   "source": [
    "### Logical Operators"
   ]
  },
  {
   "cell_type": "markdown",
   "id": "32ad7780",
   "metadata": {},
   "source": [
    "You can use logical operators to combine multiple boolean expressions. For example, the `and operator` returns True if both expressions are true."
   ]
  },
  {
   "cell_type": "markdown",
   "id": "3d3bcfdc",
   "metadata": {},
   "source": [
    "Operations with booleans involve logical operators like `and` and `or`. Logical operators are used to combine multiple boolean expressions. Let's define a couple of boolean variables to illustrate this:"
   ]
  },
  {
   "cell_type": "markdown",
   "id": "8cd4df36",
   "metadata": {},
   "source": [
    "- EXAMPLE : If you want to check whether both Tommy and Isabel are your friends, you can use the `and` operator"
   ]
  },
  {
   "cell_type": "code",
   "execution_count": 37,
   "id": "9cc10aa3-44a1-4663-80af-198008a2be60",
   "metadata": {},
   "outputs": [],
   "source": [
    "# Define a variable indicating if Tommy is your friend\n",
    "is_tommy_my_friend = True\n",
    "\n",
    "# Define a variable indicating if Isabel is your friend\n",
    "is_isabel_my_friend = True"
   ]
  },
  {
   "cell_type": "code",
   "execution_count": 38,
   "id": "022abd75",
   "metadata": {},
   "outputs": [
    {
     "name": "stdout",
     "output_type": "stream",
     "text": [
      "Are Tommy and Isabel both my friends? True\n"
     ]
    }
   ],
   "source": [
    "# Print a message to check if both Tommy and Isabel are your friends\n",
    "# Using the logical AND operator to evaluate if both conditions are True\n",
    "print(f\"Are Tommy and Isabel both my friends? {is_tommy_my_friend and is_isabel_my_friend}\")"
   ]
  },
  {
   "cell_type": "markdown",
   "id": "e0f46758",
   "metadata": {},
   "source": [
    "- EXAMPLE: If you want to check if at least one of Tommy or Isabel is your friend, using the logical `OR` operator to evaluate if either condition is True"
   ]
  },
  {
   "cell_type": "code",
   "execution_count": 39,
   "id": "29682cb9",
   "metadata": {},
   "outputs": [
    {
     "name": "stdout",
     "output_type": "stream",
     "text": [
      "Are Tommy and Isabel at least one of them my friends? True\n"
     ]
    }
   ],
   "source": [
    " # Print a message to check if at least one of Tommy or Isabel is your friend\n",
    "# Using the logical OR operator to evaluate if either condition is True\n",
    "print(f\"Are Tommy and Isabel at least one of them my friends? {is_tommy_my_friend or is_isabel_my_friend}\")"
   ]
  },
  {
   "cell_type": "markdown",
   "id": "8b34bd9d",
   "metadata": {},
   "source": [
    "- EXAMPLE:  Checking If Isabel Is Younger Than Tommy and Daniel."
   ]
  },
  {
   "cell_type": "code",
   "execution_count": 40,
   "id": "2debc569-bdc9-4756-989c-a2be8b1cf2d1",
   "metadata": {},
   "outputs": [],
   "source": [
    "# Define the ages of Isabel, Daniel, and Otto\n",
    "isabel_age = 28\n",
    "daniel_age = 30\n",
    "otto_age = 29"
   ]
  },
  {
   "cell_type": "code",
   "execution_count": 41,
   "id": "31d50ba0-7fc6-4867-81b4-84e6202c7415",
   "metadata": {},
   "outputs": [
    {
     "name": "stdout",
     "output_type": "stream",
     "text": [
      "True\n"
     ]
    }
   ],
   "source": [
    "# Check if Isabel is younger than Tommy (assuming tommy_age is defined elsewhere)\n",
    "# This comparison will result in a Boolean value (True or False)\n",
    "is_isabel_younger_than_tommy = isabel_age < tommy_age\n",
    "\n",
    "# Check if Isabel is younger than Daniel\n",
    "# This also evaluates to a Boolean value (True or False)\n",
    "is_isabel_younger_than_daniel = isabel_age < daniel_age\n",
    "\n",
    "\n",
    "# Print the result of checking if Isabel is younger than both Tommy and Daniel\n",
    "# Using the logical AND operator to ensure both conditions are True\n",
    "print(is_isabel_younger_than_tommy and is_isabel_younger_than_daniel)"
   ]
  },
  {
   "cell_type": "markdown",
   "id": "578bef1f",
   "metadata": {},
   "source": [
    "**Explanation output** The output diplays `true`, confirming that Isabel is younger than Tommy and Daniel. "
   ]
  },
  {
   "cell_type": "markdown",
   "id": "946adaf0",
   "metadata": {},
   "source": [
    "In this lesson, you learned how to use boolean values and logical operators to compare data in Python. These skills are essential for creating dynamic and responsive programs.\""
   ]
  },
  {
   "cell_type": "markdown",
   "id": "7df1747c",
   "metadata": {},
   "source": [
    "## Conclusion \n",
    "In this notebook, we explored the concept of booleans and logical operators in Python. We learned how to use comparison operators to evaluate expressions and how logical operators can combine multiple boolean expressions. Understanding these concepts is crucial for decision-making and control flow in programming. Feel free to experiment with the examples provided and explore more complex logical expressions in your projects.\n",
    "\n",
    "By completing this notebook, you have gained a solid understanding of how to compare data in Python using boolean values and logical operators. You learned how to use comparison operators to evaluate expressions and how logical operators can combine multiple boolean expressions. These skills are essential for creating more complex and dynamic programs. Continue practicing and exploring different ways to use these operators to make your code more efficient and responsiv\n"
   ]
  },
  {
   "cell_type": "markdown",
   "id": "e63f57b8-f653-4295-aff1-fac06a807136",
   "metadata": {},
   "source": [
    "## Extra practice"
   ]
  },
  {
   "cell_type": "markdown",
   "id": "ce9e6425-5ea6-4216-9262-225b79ede6df",
   "metadata": {},
   "source": [
    "Please go through the exercises in the cells below if you want some extra practice for the topics you covered in this lesson."
   ]
  },
  {
   "cell_type": "markdown",
   "id": "81cfdd74",
   "metadata": {},
   "source": [
    "- EXAMPLE 1"
   ]
  },
  {
   "cell_type": "code",
   "execution_count": null,
   "id": "54049d9c-c247-4ade-bee3-0ee5d72cb73c",
   "metadata": {},
   "outputs": [],
   "source": [
    "# Check whether Isabel is older\n",
    "# than at least one of my friends (Tommy and Daniel)\n",
    "\n",
    "### EDIT THE FOLLOWING CODE ###\n",
    "# Hint: Replace the \"?\" with the correct comparison operator\n",
    "is_isabel_older_than_tommy = isabel_age ? tommy_age\n",
    "is_isabel_older_than_daniel = isabel_age ? daniel_age\n",
    "### --------------- ###\n",
    "\n",
    "### EDIT THE FOLLOWING CODE ###\n",
    "#Hint: Recall the logical operators \"and\" and \"or\" \n",
    "print(\"Check if Isabel is older than at least one of my friends\")\n",
    "### --------------- ###"
   ]
  },
  {
   "cell_type": "markdown",
   "id": "ff422ad5",
   "metadata": {},
   "source": [
    "Let's check whether Isabel is older than at least one of my friends (Tommy and Daniel)\n"
   ]
  },
  {
   "cell_type": "code",
   "execution_count": 42,
   "id": "80a508fa",
   "metadata": {},
   "outputs": [
    {
     "name": "stdout",
     "output_type": "stream",
     "text": [
      "Check if Isabel is older than at least one of my friends False\n",
      "Check if Isabel is older than at least one of my friends False\n"
     ]
    }
   ],
   "source": [
    "is_isabel_older_than_tommy = isabel_age > tommy_age\n",
    "is_isabel_older_than_daniel = isabel_age > daniel_age\n",
    "### --------------- ###\n",
    "\n",
    "### EDIT THE FOLLOWING CODE ###\n",
    "#Hint: Recall the logical operators \"and\" and \"or\" \n",
    "print(f\"Check if Isabel is older than at least one of my friends {is_isabel_older_than_tommy or is_isabel_older_than_daniel}\")\n",
    "print(f\"Check if Isabel is older than at least one of my friends {is_isabel_older_than_tommy and is_isabel_older_than_daniel}\")\n",
    "\n",
    "### --------------- ###"
   ]
  }
 ],
 "metadata": {
  "kernelspec": {
   "display_name": ".venv",
   "language": "python",
   "name": "python3"
  },
  "language_info": {
   "codemirror_mode": {
    "name": "ipython",
    "version": 3
   },
   "file_extension": ".py",
   "mimetype": "text/x-python",
   "name": "python",
   "nbconvert_exporter": "python",
   "pygments_lexer": "ipython3",
   "version": "3.12.2"
  }
 },
 "nbformat": 4,
 "nbformat_minor": 5
}
