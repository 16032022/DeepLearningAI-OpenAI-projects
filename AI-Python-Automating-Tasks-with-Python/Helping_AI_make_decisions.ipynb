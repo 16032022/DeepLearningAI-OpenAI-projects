{
 "cells": [
  {
   "cell_type": "markdown",
   "id": "c37dfb58-902b-44dd-a56b-11d6afee457a",
   "metadata": {},
   "source": [
    "#  Helping AI make decisions 🤖"
   ]
  },
  {
   "cell_type": "markdown",
   "id": "acc85383-e456-40d7-8b09-79bd91da0eed",
   "metadata": {},
   "source": [
    "In this lesson you will see how booleans can be used to create sophisticated programs with branching decisions."
   ]
  },
  {
   "cell_type": "code",
   "execution_count": 2,
   "id": "09291854-2c07-4c09-8378-d825734df7c6",
   "metadata": {},
   "outputs": [],
   "source": [
    "from helper_functions import print_llm_response"
   ]
  },
  {
   "cell_type": "markdown",
   "id": "3b5f7010-989e-4fc2-87be-ac437ce70df7",
   "metadata": {},
   "source": [
    "## Performing tasks depending on their time to completion"
   ]
  },
  {
   "cell_type": "markdown",
   "id": "9d8faf4e-714e-492d-a3ef-c45a5fd02460",
   "metadata": {},
   "source": [
    "Let's say that you have a task list with tasks that LLMs could assist you with. Each element in that list is a dictionary with two keys: the `description` for the task and the `time_to_complete` after the LLM's first pass."
   ]
  },
  {
   "cell_type": "code",
   "execution_count": 3,
   "id": "224d7983-2e71-40e9-af21-92b9433c34c5",
   "metadata": {},
   "outputs": [],
   "source": [
    "task_list = [\n",
    "    {\n",
    "        \"description\": \"Compose a brief email to my boss explaining that I will be late for next week's meeting.\",\n",
    "        \"time_to_complete\": 3\n",
    "    },\n",
    "    {\n",
    "        \"description\": \"Create an outline for a presentation on the benefits of remote work.\",\n",
    "        \"time_to_complete\": 60\n",
    "    },\n",
    "    {\n",
    "        \"description\": \"Write a 300-word review of the movie 'The Arrival'.\",\n",
    "        \"time_to_complete\": 30\n",
    "    },\n",
    "    {\n",
    "        \"description\": \"Create a shopping list for tofu and olive stir fry.\",\n",
    "        \"time_to_complete\": 5\n",
    "    }\n",
    "]"
   ]
  },
  {
   "cell_type": "markdown",
   "id": "e4326c98-b881-43aa-8c9a-c3dce0aa8312",
   "metadata": {},
   "source": [
    "So, if you access the first element, you will get the following dictionary:"
   ]
  },
  {
   "cell_type": "code",
   "execution_count": 4,
   "id": "033a9da9-5d47-41e5-9366-eb396afdf87a",
   "metadata": {},
   "outputs": [
    {
     "name": "stdout",
     "output_type": "stream",
     "text": [
      "{'description': \"Compose a brief email to my boss explaining that I will be late for next week's meeting.\", 'time_to_complete': 3}\n"
     ]
    }
   ],
   "source": [
    "task = task_list[0]\n",
    "print(task)"
   ]
  },
  {
   "cell_type": "markdown",
   "id": "f222c387-f959-4f24-98ac-8dabad18792c",
   "metadata": {},
   "source": [
    "Now, let's check whether the first task takes at most 5 minutes to complete after the LLM's first pass."
   ]
  },
  {
   "cell_type": "code",
   "execution_count": 5,
   "id": "3e4d5838-e14a-4f10-8492-4b0f45491600",
   "metadata": {},
   "outputs": [
    {
     "data": {
      "text/plain": [
       "True"
      ]
     },
     "execution_count": 5,
     "metadata": {},
     "output_type": "execute_result"
    }
   ],
   "source": [
    "task[\"time_to_complete\"] <= 5 "
   ]
  },
  {
   "cell_type": "markdown",
   "id": "7feac1b2",
   "metadata": {},
   "source": [
    "CONTROL STATEMENT IF \n",
    "CHATBOT (python): The if statement in Python is a control flow structure used to execute a block of code only if a specified condition is true. It allows you to branch the flow of your program depending on certain conditions. If the condition evaluates to True, the code block inside the if statement is executed. Otherwise, it is skipped.\n",
    "x = 5\n",
    "\n",
    "if x > 0:\n",
    "    print(\"x is positive\")\n",
    "In this example, the condition x > 0 is evaluated. Since x is 5, the condition is True, so the program prints x is positive."
   ]
  },
  {
   "cell_type": "markdown",
   "id": "80a9bb09-1f08-48f0-94ae-ec81997fac3f",
   "metadata": {},
   "source": [
    "To complete a task that requires 5 minutes or less after the LLM's first pass, you can use an `if` statement like the one below:"
   ]
  },
  {
   "cell_type": "code",
   "execution_count": 6,
   "id": "48f46f36-1ddc-4add-850a-db1146ea255a",
   "metadata": {},
   "outputs": [
    {
     "name": "stdout",
     "output_type": "stream",
     "text": [
      "____________________________________________________________________________________________________\n",
      "Subject: Late Arrival for Next Week's Meeting\n",
      "\n",
      "Hi [Boss's Name],\n",
      "\n",
      "I wanted to inform you that I will be arriving late for next week's meeting due to a prior commitment. I apologize for any inconvenience this may cause and will make sure to catch up on any missed information promptly upon my arrival.\n",
      "\n",
      "Thank you for your understanding.\n",
      "\n",
      "Best regards,\n",
      "[Your Name]\n",
      "____________________________________________________________________________________________________\n",
      "\n",
      "\n"
     ]
    }
   ],
   "source": [
    "if task[\"time_to_complete\"] <= 5:\n",
    "    task_to_do = task[\"description\"]\n",
    "    print_llm_response(task_to_do)"
   ]
  },
  {
   "cell_type": "markdown",
   "id": "94757062-3a0b-4988-bb33-147762c11d97",
   "metadata": {},
   "source": [
    "Let's see what would happen if you execute that same code for the second task:"
   ]
  },
  {
   "cell_type": "code",
   "execution_count": 7,
   "id": "f868908d-2a8b-498f-954d-11e058694913",
   "metadata": {},
   "outputs": [],
   "source": [
    "task = task_list[1]\n",
    "if task[\"time_to_complete\"] <= 5:\n",
    "    task_to_do = task[\"description\"]\n",
    "    print_llm_response(task_to_do)"
   ]
  },
  {
   "cell_type": "code",
   "execution_count": 8,
   "id": "3e71c360-2aba-4fc8-9afe-6acedef33b57",
   "metadata": {},
   "outputs": [
    {
     "data": {
      "text/plain": [
       "False"
      ]
     },
     "execution_count": 8,
     "metadata": {},
     "output_type": "execute_result"
    }
   ],
   "source": [
    "task[\"time_to_complete\"] <= 5"
   ]
  },
  {
   "cell_type": "markdown",
   "id": "4aad5cf6",
   "metadata": {},
   "source": [
    "This is correct, becasue to perform the second task the time to complete is 60minutes"
   ]
  },
  {
   "cell_type": "markdown",
   "id": "ce67bfcc-bf70-4678-bc5f-fc70713aeb2f",
   "metadata": {},
   "source": [
    "And for the third and fourth tasks:"
   ]
  },
  {
   "cell_type": "code",
   "execution_count": 9,
   "id": "6d2d541f-be6c-43ac-8ce9-8088d6ac82fb",
   "metadata": {},
   "outputs": [],
   "source": [
    "task = task_list[2]\n",
    "if task[\"time_to_complete\"] <= 5:\n",
    "    task_to_do = task[\"description\"]\n",
    "    print_llm_response(task_to_do)"
   ]
  },
  {
   "cell_type": "code",
   "execution_count": 10,
   "id": "584d039b",
   "metadata": {},
   "outputs": [
    {
     "data": {
      "text/plain": [
       "False"
      ]
     },
     "execution_count": 10,
     "metadata": {},
     "output_type": "execute_result"
    }
   ],
   "source": [
    "task[\"time_to_complete\"] <= 5"
   ]
  },
  {
   "cell_type": "markdown",
   "id": "2e5aac49",
   "metadata": {},
   "source": [
    "This is correct, becasue to perform the second task the time to complete is 30 minutes"
   ]
  },
  {
   "cell_type": "code",
   "execution_count": 11,
   "id": "ee1a2257-e87a-4c01-91c0-649765cf3144",
   "metadata": {},
   "outputs": [
    {
     "name": "stdout",
     "output_type": "stream",
     "text": [
      "____________________________________________________________________________________________________\n",
      "1. Tofu\n",
      "2. Olives\n",
      "3. Vegetables (such as bell peppers, broccoli, and carrots)\n",
      "4. Soy sauce\n",
      "5. Olive oil\n",
      "6. Garlic\n",
      "7. Ginger\n",
      "8. Cornstarch\n",
      "9. Rice (for serving)\n",
      "10. Optional: sesame seeds or green onions for garnish\n",
      "____________________________________________________________________________________________________\n",
      "\n",
      "\n"
     ]
    }
   ],
   "source": [
    "task = task_list[3]\n",
    "if task[\"time_to_complete\"] <= 5:\n",
    "    task_to_do = task[\"description\"]\n",
    "    print_llm_response(task_to_do)"
   ]
  },
  {
   "cell_type": "markdown",
   "id": "facabd8a",
   "metadata": {},
   "source": [
    " FOR STATEMENT \n",
    "CHATBOT: The for loop in Python is a control flow structure used to iterate over a sequence (like a list, tuple, dictionary, string, or any iterable object) and execute a block of code for each item in that sequence. Unlike other languages where for loops often involve an explicit counter, Python's for loop is more akin to an \"iterator\" loop."
   ]
  },
  {
   "cell_type": "markdown",
   "id": "629e34bd-f02b-4163-b826-4626215f55f3",
   "metadata": {},
   "source": [
    "## Looping through the task list"
   ]
  },
  {
   "cell_type": "markdown",
   "id": "9bbb1658-819b-4f72-a90c-6d99643e6e20",
   "metadata": {},
   "source": [
    "There is a more efficient way to avoid repeating the same code over and over again for different elements in a list. You have used the `for` loop in previous lessons. Here, you will use it to iterate through all the tasks, check if they take 5 minutes or less to complete, and ask the LLM to do a first pass at them if that's the case."
   ]
  },
  {
   "cell_type": "code",
   "execution_count": 12,
   "id": "af2044cb-6cc4-4ad7-aa70-a447641c5f63",
   "metadata": {},
   "outputs": [
    {
     "name": "stdout",
     "output_type": "stream",
     "text": [
      "____________________________________________________________________________________________________\n",
      "Subject: Late Arrival for Next Week's Meeting\n",
      "\n",
      "Hi [Boss's Name],\n",
      "\n",
      "I wanted to inform you that I will be arriving late for next week's meeting due to a prior commitment. I apologize for any inconvenience this may cause and will make sure to catch up on any missed information upon my arrival.\n",
      "\n",
      "Thank you for your understanding.\n",
      "\n",
      "Best regards,\n",
      "[Your Name]\n",
      "____________________________________________________________________________________________________\n",
      "\n",
      "\n",
      "____________________________________________________________________________________________________\n",
      "1. Tofu\n",
      "2. Olive oil\n",
      "3. Soy sauce\n",
      "4. Garlic\n",
      "5. Ginger\n",
      "6. Bell peppers\n",
      "7. Broccoli\n",
      "8. Carrots\n",
      "9. Green onions\n",
      "10. Rice\n",
      "____________________________________________________________________________________________________\n",
      "\n",
      "\n"
     ]
    }
   ],
   "source": [
    "for task in task_list:\n",
    "    if task[\"time_to_complete\"] <= 5:\n",
    "        task_to_do = task[\"description\"]\n",
    "        print_llm_response(task_to_do)        "
   ]
  },
  {
   "cell_type": "markdown",
   "id": "f3e455a5",
   "metadata": {},
   "source": [
    "ELSE STATEMENT\n",
    "CHATBOT: Using else You can provide an else clause to specify what should happen if the condition is False.\n",
    "x = -5\n",
    "\n",
    "if x > 0:\n",
    "    print(\"x is positive\")\n",
    "else:\n",
    "    print(\"x is not positive\")\n",
    "Here, the program checks if x is positive. Since x is -5, the condition is False, so the code block in the else branch is executed."
   ]
  },
  {
   "cell_type": "markdown",
   "id": "77194b60-9e68-461a-a920-eb84d268bd87",
   "metadata": {},
   "source": [
    "## `if`-`else` blocks"
   ]
  },
  {
   "cell_type": "markdown",
   "id": "8f276ad1-48d1-4211-b509-20ce20ae3a1d",
   "metadata": {},
   "source": [
    "In some cases, you may want to perform another action when the `if` condition is not met. In those cases, you can use `else`. For instance, here Python will let you know that some of the tasks were not completed and will provide you with the `time_to_complete` information for those tasks."
   ]
  },
  {
   "cell_type": "code",
   "execution_count": 13,
   "id": "a403c715-e321-446c-9fd9-ee5db1c28b05",
   "metadata": {},
   "outputs": [
    {
     "name": "stdout",
     "output_type": "stream",
     "text": [
      "____________________________________________________________________________________________________\n",
      "Subject: Running Late for Next Week's Meeting\n",
      "\n",
      "Hi [Boss's Name],\n",
      "\n",
      "I wanted to let you know that I will be running late for next week's meeting. I apologize for any inconvenience this may cause. Please let me know if there is anything I can do to prepare in advance.\n",
      "\n",
      "Thank you for your understanding.\n",
      "\n",
      "Best regards,\n",
      "[Your Name]\n",
      "____________________________________________________________________________________________________\n",
      "\n",
      "\n",
      "To complete later: 60 time to complete.\n",
      "To complete later: 30 time to complete.\n",
      "____________________________________________________________________________________________________\n",
      "1. Tofu\n",
      "2. Olive oil\n",
      "3. Soy sauce\n",
      "4. Garlic\n",
      "5. Ginger\n",
      "6. Bell peppers\n",
      "7. Broccoli\n",
      "8. Carrots\n",
      "9. Green onions\n",
      "10. Rice\n",
      "____________________________________________________________________________________________________\n",
      "\n",
      "\n"
     ]
    }
   ],
   "source": [
    "for task in task_list:\n",
    "    if task[\"time_to_complete\"] <= 5:\n",
    "        task_to_do = task[\"description\"]\n",
    "        print_llm_response(task_to_do) \n",
    "    else:\n",
    "        print(f\"To complete later: {task['time_to_complete']} time to complete.\")        "
   ]
  },
  {
   "cell_type": "markdown",
   "id": "425e5bb2-c90e-42b0-a046-8b760ea007b7",
   "metadata": {},
   "source": [
    "## Saving tasks for later using lists"
   ]
  },
  {
   "cell_type": "markdown",
   "id": "04030334-2cdf-4164-967d-4d2af593c3d9",
   "metadata": {},
   "source": [
    "After you executed the previous cell, you saw that some of the tasks were not completed and their time to completion. However, it is better practice to save all the information from those tasks using a new list. Here, you will again use the coding paradigm where you initialize an empty list to save information (the tasks to complete later) using `.append()`."
   ]
  },
  {
   "cell_type": "code",
   "execution_count": 14,
   "id": "20751a1a-e73e-4ded-98a5-48c341debae5",
   "metadata": {},
   "outputs": [
    {
     "name": "stdout",
     "output_type": "stream",
     "text": [
      "____________________________________________________________________________________________________\n",
      "Subject: Late Arrival for Next Week's Meeting\n",
      "\n",
      "Hi [Boss's Name],\n",
      "\n",
      "I wanted to inform you that I will be arriving late for next week's meeting due to a prior commitment. I apologize for any inconvenience this may cause and will make sure to catch up on any missed information promptly upon my arrival.\n",
      "\n",
      "Thank you for your understanding.\n",
      "\n",
      "Best regards,\n",
      "[Your Name]\n",
      "____________________________________________________________________________________________________\n",
      "\n",
      "\n",
      "____________________________________________________________________________________________________\n",
      "1. Tofu\n",
      "2. Olive oil\n",
      "3. Soy sauce\n",
      "4. Garlic\n",
      "5. Ginger\n",
      "6. Bell peppers\n",
      "7. Broccoli\n",
      "8. Carrots\n",
      "9. Green onions\n",
      "10. Rice\n",
      "____________________________________________________________________________________________________\n",
      "\n",
      "\n"
     ]
    }
   ],
   "source": [
    "tasks_for_later = []\n",
    "\n",
    "for task in task_list:\n",
    "    if task[\"time_to_complete\"] <= 5:\n",
    "        task_to_do = task[\"description\"]\n",
    "        print_llm_response(task_to_do)\n",
    "    else:\n",
    "        tasks_for_later.append(task) #initialize an empty list for task to be completed later"
   ]
  },
  {
   "cell_type": "code",
   "execution_count": 15,
   "id": "f5969c9f-57ac-4146-839b-226ce092387a",
   "metadata": {},
   "outputs": [
    {
     "name": "stdout",
     "output_type": "stream",
     "text": [
      "[{'description': 'Create an outline for a presentation on the benefits of remote work.', 'time_to_complete': 60}, {'description': \"Write a 300-word review of the movie 'The Arrival'.\", 'time_to_complete': 30}]\n"
     ]
    }
   ],
   "source": [
    "print(tasks_for_later)"
   ]
  },
  {
   "cell_type": "markdown",
   "id": "9d616998-e210-4d8b-8928-a9776856f518",
   "metadata": {},
   "source": [
    "Congratulations 🎉🎉🎉, you are very close to completing this course. In the next lesson, you will go through a quick demo about working with files."
   ]
  },
  {
   "cell_type": "markdown",
   "id": "3b4a0ab3-f01a-4fe4-9a50-5f985972b51f",
   "metadata": {},
   "source": [
    "## Extra practice"
   ]
  },
  {
   "cell_type": "markdown",
   "id": "ecbfea5c-678a-4a50-9843-a8a939098c18",
   "metadata": {},
   "source": [
    "Please go through the exercises in the cells below if you want some extra practice for the topics you covered in this lesson."
   ]
  },
  {
   "cell_type": "code",
   "execution_count": null,
   "id": "f625ce01-fca2-4754-9503-2c33020524be",
   "metadata": {},
   "outputs": [],
   "source": [
    "# Modify this code to complete the task \n",
    "# if it takes more than 15 minutes\n",
    "\n",
    "task = task_list[2]\n",
    "\n",
    "### EDIT THE FOLLOWING CODE ###\n",
    "if task[\"time_to_complete\"]: #Modify this line\n",
    "    task_to_do = task[\"description\"]\n",
    "    print_llm_response(task_to_do)\n",
    "### --------------- ###"
   ]
  },
  {
   "cell_type": "markdown",
   "id": "5aeec2e8",
   "metadata": {},
   "source": [
    "Let's modify the above code in order to complete the task if it takes more than 15 minutes "
   ]
  },
  {
   "cell_type": "code",
   "execution_count": 16,
   "id": "5ffc7bda",
   "metadata": {},
   "outputs": [
    {
     "name": "stdout",
     "output_type": "stream",
     "text": [
      "____________________________________________________________________________________________________\n",
      "\"The Arrival\" is a captivating science fiction film that follows the story of a linguist, Louise Banks, played by Amy Adams, who is tasked with communicating with extraterrestrial beings that have arrived on Earth. The movie is a masterful blend of suspense, mystery, and thought-provoking themes that keep viewers engaged from start to finish.\n",
      "\n",
      "Director Denis Villeneuve's expert storytelling and visual style create a tense and immersive atmosphere that draws audiences into the world of the film. The cinematography is stunning, with breathtaking shots of the alien spacecraft and the vast landscapes they inhabit. The special effects are top-notch, bringing the otherworldly visitors to life in a way that feels both realistic and awe-inspiring.\n",
      "\n",
      "Amy Adams delivers a standout performance as Louise Banks, capturing the character's intelligence, vulnerability, and determination with nuance and depth. Her emotional journey as she unravels the complexities of the alien language and grapples with the consequences of her discoveries is both compelling and moving.\n",
      "\n",
      "The screenplay, written by Eric Heisserer, is intelligent and thought-provoking, exploring themes of communication, time, and the nature of humanity in a way that challenges viewers to think beyond the surface of the story. The film's twist ending is both surprising and satisfying, tying together the narrative threads in a way that is both clever and emotionally resonant.\n",
      "\n",
      "Overall, \"The Arrival\" is a must-see for fans of science fiction and thought-provoking cinema. With its stellar performances, stunning visuals, and intelligent storytelling, it is a film that will linger in your mind long after the credits roll.\n",
      "____________________________________________________________________________________________________\n",
      "\n",
      "\n"
     ]
    }
   ],
   "source": [
    "# Modify this code to complete the task if it takes more than 15 minutes\n",
    "\n",
    "task = task_list[2]\n",
    "\n",
    "### EDIT THE FOLLOWING CODE ###\n",
    "if task[\"time_to_complete\"] >= 15: \n",
    "    task_to_do = task[\"description\"]\n",
    "    print_llm_response(task_to_do)\n",
    "### --------------- ###"
   ]
  },
  {
   "cell_type": "markdown",
   "id": "6059f4b6",
   "metadata": {},
   "source": [
    "To sum up, the output does dispay the third task that takes more than 15 min (\"description\": \"Write a 300-word review of the movie 'The Arrival'.\", \"time_to_complete\": 30)"
   ]
  },
  {
   "cell_type": "markdown",
   "id": "f574116a",
   "metadata": {},
   "source": [
    "Since in the list of task, there are two tasks that take more than 15 minutes (the second and third task, respectively ), let's modify the code to get both these two tasks "
   ]
  },
  {
   "cell_type": "code",
   "execution_count": 17,
   "id": "8de6a2ca",
   "metadata": {},
   "outputs": [
    {
     "name": "stdout",
     "output_type": "stream",
     "text": [
      "____________________________________________________________________________________________________\n",
      "I. Introduction\n",
      "    A. Definition of remote work\n",
      "    B. Overview of remote work trends\n",
      "\n",
      "II. Benefits of Remote Work\n",
      "    A. Increased flexibility\n",
      "    B. Improved work-life balance\n",
      "    C. Cost savings for both employees and employers\n",
      "    D. Access to a larger talent pool\n",
      "    E. Increased productivity and job satisfaction\n",
      "\n",
      "III. Challenges of Remote Work\n",
      "    A. Communication and collaboration issues\n",
      "    B. Feelings of isolation and disconnection\n",
      "    C. Difficulty in setting boundaries between work and personal life\n",
      "\n",
      "IV. Best Practices for Remote Work\n",
      "    A. Establishing a dedicated workspace\n",
      "    B. Setting clear expectations and goals\n",
      "    C. Utilizing technology for communication and collaboration\n",
      "    D. Maintaining work-life balance\n",
      "\n",
      "V. Conclusion\n",
      "    A. Recap of benefits and challenges of remote work\n",
      "    B. Encouragement for embracing remote work opportunities\n",
      "    C. Q&A session\n",
      "____________________________________________________________________________________________________\n",
      "\n",
      "\n",
      "____________________________________________________________________________________________________\n",
      "\"The Arrival\" is a captivating science fiction film that delves into the complexities of communication and the consequences of human actions. Directed by Denis Villeneuve, the movie follows linguist Louise Banks, played brilliantly by Amy Adams, as she is tasked with deciphering the language of extraterrestrial visitors who have arrived on Earth.\n",
      "\n",
      "The film's slow-burning tension and thought-provoking narrative keep viewers on the edge of their seats as they unravel the mysteries surrounding the alien arrival. Villeneuve's masterful direction creates a sense of unease and wonder, drawing audiences into a world where time and language are key elements in understanding the alien beings' intentions.\n",
      "\n",
      "Amy Adams delivers a powerful performance as Louise Banks, capturing the character's intelligence, vulnerability, and determination with nuance and depth. Her emotional journey throughout the film adds a layer of humanity to the sci-fi spectacle, making her character relatable and engaging.\n",
      "\n",
      "The visual effects in \"The Arrival\" are stunning, creating a sense of awe and otherworldliness that enhances the film's immersive experience. The alien spacecraft and their intricate language system are beautifully realized, adding to the film's sense of wonder and mystery.\n",
      "\n",
      "The film's exploration of themes such as communication, time, and the nature of humanity elevates it beyond a typical sci-fi thriller, offering audiences a thought-provoking and emotionally resonant experience. \"The Arrival\" is a masterclass in storytelling, blending intelligent science fiction with heartfelt drama to create a truly unforgettable cinematic experience.\n",
      "\n",
      "In conclusion, \"The Arrival\" is a must-see film for fans of science fiction and thought-provoking cinema. With its stellar performances, stunning visuals, and compelling narrative, it is a standout entry in the genre that will leave a lasting impact on viewers long after the credits roll.\n",
      "____________________________________________________________________________________________________\n",
      "\n",
      "\n"
     ]
    }
   ],
   "source": [
    "tasks_for_earlier = []\n",
    "\n",
    "for task in task_list:\n",
    "    if task[\"time_to_complete\"] >= 15:\n",
    "        task_to_do = task[\"description\"]\n",
    "        print_llm_response(task_to_do)\n",
    "    else:\n",
    "        tasks_for_earlier.append(task) #initialize an empty list for task to be completed earlier"
   ]
  },
  {
   "cell_type": "code",
   "execution_count": 18,
   "id": "93857486",
   "metadata": {},
   "outputs": [
    {
     "name": "stdout",
     "output_type": "stream",
     "text": [
      "[{'description': \"Compose a brief email to my boss explaining that I will be late for next week's meeting.\", 'time_to_complete': 3}, {'description': 'Create a shopping list for tofu and olive stir fry.', 'time_to_complete': 5}]\n"
     ]
    }
   ],
   "source": [
    "print(tasks_for_earlier)"
   ]
  },
  {
   "cell_type": "code",
   "execution_count": null,
   "id": "42a8fb32-b7f9-4dbb-be2b-0eaa790a0e0f",
   "metadata": {},
   "outputs": [],
   "source": [
    "# Fix the code here by only using indentation.\n",
    "# It should print a message if the \"Chocolate\" ice cream flavor \n",
    "# is located in the ice_cream_flavors list.\n",
    "\n",
    "ice_cream_flavors = [\n",
    "    \"Vanilla\", \"Strawberry\", \"Mint Chocolate Chip\",\n",
    "    \"Cookies and Cream\", \"Rocky Road\", \"Butter Pecan\",\n",
    "    \"Pistachio\", \"Salted Caramel\", \"Chocolate\",\n",
    "    \"Mango\"\n",
    "]\n",
    "\n",
    "### EDIT THE FOLLOWING CODE ### \n",
    "#Hint: Recall that the code within for loops \n",
    "# and if statements is indented. The convention\n",
    "# in Python is to add four spaces for indented code.\n",
    "for flavor in ice_cream_flavors:\n",
    "if flavor == \"Chocolate\":\n",
    "print(f\"The list of flavors contains {flavor}, Andrew's favorite.\")\n",
    "### --------------- ###"
   ]
  },
  {
   "cell_type": "markdown",
   "id": "95ccb29d",
   "metadata": {},
   "source": [
    "Let's fix the above given code in order to satisfy the given requirements: \n",
    "using only indentation.\n",
    "It should print a message if the \"Chocolate\" ice cream flavor \n",
    "is located in the ice_cream_flavors list.\n"
   ]
  },
  {
   "cell_type": "markdown",
   "id": "f63d8399",
   "metadata": {},
   "source": [
    "What is indentation? \n",
    "RESPONSE CHATBOT: Indentation refers to the use of spaces or tabs at the beginning of a line of code to indicate its structure or hierarchy, particularly in block-level constructs like loops, conditionals, functions, and classes. In Python, indentation is especially critical because it is used to define the structure of the code, rather than relying on braces {} like in many other programming languages.\n",
    "Example: \n",
    "def example_function():\n",
    "    print(\"This line is part of the function.\")\n",
    "    if True:\n",
    "        print(\"This line is inside the if statement.\")\n",
    "    print(\"This line is still part of the function, but outside the if statement.\")\n"
   ]
  },
  {
   "cell_type": "code",
   "execution_count": 19,
   "id": "7fc41bed",
   "metadata": {},
   "outputs": [
    {
     "name": "stdout",
     "output_type": "stream",
     "text": [
      "The list of flavors contains Chocolate, Andrew's favorite.\n"
     ]
    }
   ],
   "source": [
    "ice_cream_flavors = [\n",
    "    \"Vanilla\", \"Strawberry\", \"Mint Chocolate Chip\",\n",
    "    \"Cookies and Cream\", \"Rocky Road\", \"Butter Pecan\",\n",
    "    \"Pistachio\", \"Salted Caramel\", \"Chocolate\",\n",
    "    \"Mango\"\n",
    "]\n",
    "\n",
    "for flavor in ice_cream_flavors:\n",
    "    if flavor == \"Chocolate\":\n",
    "        print(f\"The list of flavors contains {flavor}, Andrew's favorite.\")\n",
    "### --------------- ###"
   ]
  },
  {
   "cell_type": "markdown",
   "id": "73f7cf9d",
   "metadata": {},
   "source": [
    "Let's get the detailed flavors of the list of Andrew "
   ]
  },
  {
   "cell_type": "code",
   "execution_count": 20,
   "id": "8266291a",
   "metadata": {},
   "outputs": [
    {
     "name": "stdout",
     "output_type": "stream",
     "text": [
      "The list of flavors contains Chocolate, Andrew's favorite.\n",
      "['Chocolate']\n"
     ]
    }
   ],
   "source": [
    "ice_cream_flavors = [\n",
    "    \"Vanilla\", \"Strawberry\", \"Mint Chocolate Chip\",\n",
    "    \"Cookies and Cream\", \"Rocky Road\", \"Butter Pecan\",\n",
    "    \"Pistachio\", \"Salted Caramel\", \"Chocolate\",\n",
    "    \"Mango\"\n",
    "]\n",
    "\n",
    "favorite_flavor = []\n",
    "\n",
    "for flavor in ice_cream_flavors:\n",
    "    if flavor == \"Chocolate\":\n",
    "        favorite_flavor.append(flavor)\n",
    "        print(f\"The list of flavors contains {flavor}, Andrew's favorite.\")\n",
    "        print(favorite_flavor)\n",
    "### --------------- ###"
   ]
  },
  {
   "cell_type": "markdown",
   "id": "3888eb1d",
   "metadata": {},
   "source": [
    "CHATBOT :If you want to include any flavor that contains the word \"Chocolate\" (not just the exact match for \"Chocolate\"), you can modify the condition in the if statement to check if \"Chocolate\" is a substring of the flavor.\n",
    " You can use the in operator to achieve this. Here's the modified version of the code:"
   ]
  },
  {
   "cell_type": "code",
   "execution_count": 21,
   "id": "c3368dd8",
   "metadata": {},
   "outputs": [
    {
     "name": "stdout",
     "output_type": "stream",
     "text": [
      "The list of flavors contains Mint Chocolate Chip, Andrew's favorite.\n",
      "['Mint Chocolate Chip']\n",
      "The list of flavors contains Chocolate, Andrew's favorite.\n",
      "['Mint Chocolate Chip', 'Chocolate']\n"
     ]
    }
   ],
   "source": [
    "ice_cream_flavors = [\n",
    "    \"Vanilla\", \"Strawberry\", \"Mint Chocolate Chip\",\n",
    "    \"Cookies and Cream\", \"Rocky Road\", \"Butter Pecan\",\n",
    "    \"Pistachio\", \"Salted Caramel\", \"Chocolate\",\n",
    "    \"Mango\"\n",
    "]\n",
    "\n",
    "favorite_flavor = []\n",
    "\n",
    "for flavor in ice_cream_flavors:\n",
    "    if \"Chocolate\" in flavor:\n",
    "        favorite_flavor.append(flavor)\n",
    "        print(f\"The list of flavors contains {flavor}, Andrew's favorite.\")\n",
    "        print(favorite_flavor)\n"
   ]
  },
  {
   "cell_type": "code",
   "execution_count": null,
   "id": "fe5406ef-5da6-41d3-993a-764ef3e6dff9",
   "metadata": {},
   "outputs": [],
   "source": [
    "# Add variables to the f-string to provide the\n",
    "# task description as well as the time to complete \n",
    "# for the tasks that are left for later.\n",
    "\n",
    "for task in task_list:\n",
    "    if task[\"time_to_complete\"] <= 5:\n",
    "        task_to_do = task[\"description\"]\n",
    "        print_llm_response(task_to_do) \n",
    "    else:\n",
    "        ### EDIT THE FOLLOWING CODE ###\n",
    "        # Hint: To add a variable in an f-string\n",
    "        # you need to use the following syntax: {variable_name}. \n",
    "        print(f\"To complete later:\") \n",
    "        ### ---------------  ###"
   ]
  },
  {
   "cell_type": "markdown",
   "id": "3caa665b",
   "metadata": {},
   "source": [
    "Let's complete the above code following the  given instructions: \n",
    "Add variables to the f-string to provide the task description as well as the time to complete for the tasks that are left for later."
   ]
  },
  {
   "cell_type": "code",
   "execution_count": 23,
   "id": "0506f358",
   "metadata": {},
   "outputs": [
    {
     "name": "stdout",
     "output_type": "stream",
     "text": [
      "____________________________________________________________________________________________________\n",
      "Subject: Running Late for Next Week's Meeting\n",
      "\n",
      "Hi [Boss's Name],\n",
      "\n",
      "I wanted to let you know that I will be running late for next week's meeting. I apologize for any inconvenience this may cause. Please let me know if there are any adjustments needed on your end.\n",
      "\n",
      "Thank you for your understanding.\n",
      "\n",
      "Best,\n",
      "[Your Name]\n",
      "____________________________________________________________________________________________________\n",
      "\n",
      "\n",
      "To complete later: [{'description': 'Create an outline for a presentation on the benefits of remote work.', 'time_to_complete': 60}]\n",
      "To complete later: [{'description': \"Write a 300-word review of the movie 'The Arrival'.\", 'time_to_complete': 30}]\n",
      "____________________________________________________________________________________________________\n",
      "1. Tofu\n",
      "2. Olives\n",
      "3. Vegetables (such as bell peppers, broccoli, and carrots)\n",
      "4. Soy sauce\n",
      "5. Olive oil\n",
      "6. Garlic\n",
      "7. Ginger\n",
      "8. Cornstarch\n",
      "9. Rice (for serving)\n",
      "10. Optional: sesame seeds or green onions for garnish\n",
      "____________________________________________________________________________________________________\n",
      "\n",
      "\n"
     ]
    }
   ],
   "source": [
    "for task in task_list:\n",
    "    if task[\"time_to_complete\"] <= 5:\n",
    "        task_to_do = task[\"description\"]\n",
    "        print_llm_response(task_to_do) \n",
    "    else:\n",
    "        tasks_for_later = []  #initialisation of the new variable \n",
    "        tasks_for_later.append(task) #initialize an empty list for task to be completed later\n",
    "        print(f\"To complete later: {tasks_for_later}\") \n",
    "        ### ---------------  ###"
   ]
  }
 ],
 "metadata": {
  "kernelspec": {
   "display_name": "Python 3 (ipykernel)",
   "language": "python",
   "name": "python3"
  },
  "language_info": {
   "codemirror_mode": {
    "name": "ipython",
    "version": 3
   },
   "file_extension": ".py",
   "mimetype": "text/x-python",
   "name": "python",
   "nbconvert_exporter": "python",
   "pygments_lexer": "ipython3",
   "version": "3.12.2"
  }
 },
 "nbformat": 4,
 "nbformat_minor": 5
}
