{
 "cells": [
  {
   "cell_type": "markdown",
   "id": "f6bf49f7-21f0-47bc-9a3e-7fd325a0b9bf",
   "metadata": {},
   "source": [
    "# Customizing recipes with lists, dictionaries and AI 🧑‍🍳"
   ]
  },
  {
   "cell_type": "markdown",
   "id": "daa27bb8",
   "metadata": {},
   "source": [
    "## Introduction\n",
    "This notebook is designed to demonstrate how you can use lists and dictionaries in Python to update LLm prompts, in details, to create customized recipes using AI. By leveraging these data structures, you can generate recipes that cater to specific dietary preferences, restrictions, and available ingredients."
   ]
  },
  {
   "cell_type": "markdown",
   "id": "e2f90e00",
   "metadata": {},
   "source": [
    "## Importing specific functions from the helper_functions module  \n",
    "For more info see [helper_functions](https://github.com/16032022/DeepLearningAI-OpenAI-projects/blob/main/AI-Python-Automating-Tasks-with-Python/helper_functions.py) and [Setup Instructions](https://github.com/16032022/DeepLearningAI-OpenAI-projects/blob/main/SETUP.md). The imported functions are the following:    \n",
    "- The _print_llm_response_ function is likely used to print responses from a language learning model.\n",
    "- The _get_llm_response_ function is likely used to get responses from a language learning model."
   ]
  },
  {
   "cell_type": "code",
   "execution_count": 1,
   "id": "0669df5d-5013-466b-90c8-679364ff80a1",
   "metadata": {},
   "outputs": [],
   "source": [
    "# Import necessary functions from the helper_functions module\n",
    "from helper_functions import print_llm_response, get_llm_response"
   ]
  },
  {
   "cell_type": "markdown",
   "id": "4115537d",
   "metadata": {},
   "source": [
    "### Customizing recipes using AI\n",
    "Customizing recipes using AI allows for tailored meal planning that meets individual dietary needs and preferences, making cooking more personalized and efficient. By the end of this example (real-world example), you will learn how to use dictionaries to store food preferences and generate customized recipes using AI"
   ]
  },
  {
   "cell_type": "markdown",
   "id": "f2ddd461",
   "metadata": {},
   "source": [
    "#### Food preference dictionaries\n",
    "\n",
    "`Dictionaries` are a useful way to organize multiple variables associated with a single entity, like one of your friends. In the next dictionary, you store the food preferences and cooking experience for Tommy."
   ]
  },
  {
   "cell_type": "code",
   "execution_count": 2,
   "id": "5ccb6d62",
   "metadata": {},
   "outputs": [],
   "source": [
    "# Define a dictionary with Tommy's food preferences\n",
    "food_preferences_tommy = {\n",
    "        \"dietary_restrictions\": \"vegetarian\",\n",
    "        \"favorite_ingredients\": [\"tofu\", \"olives\"],\n",
    "        \"experience_level\": \"intermediate\",\n",
    "        \"maximum_spice_level\": 6\n",
    "}"
   ]
  },
  {
   "cell_type": "markdown",
   "id": "b27a261d",
   "metadata": {},
   "source": [
    "As you can see there, that dictionary has four keys, wich you can access using `\".keys()\"`:"
   ]
  },
  {
   "cell_type": "code",
   "execution_count": 3,
   "id": "8849cd3c",
   "metadata": {},
   "outputs": [
    {
     "name": "stdout",
     "output_type": "stream",
     "text": [
      "dict_keys(['dietary_restrictions', 'favorite_ingredients', 'experience_level', 'maximum_spice_level'])\n"
     ]
    }
   ],
   "source": [
    "print(food_preferences_tommy.keys())"
   ]
  },
  {
   "cell_type": "markdown",
   "id": "3a7bf648",
   "metadata": {},
   "source": [
    "You can store lists, strings, integers, and even other dictionaries within a dictionary, making it a versatile data structure for complex data."
   ]
  },
  {
   "cell_type": "markdown",
   "id": "d73a2a44",
   "metadata": {},
   "source": [
    "And it has values with `different data types: lists, strings and integers`. "
   ]
  },
  {
   "cell_type": "code",
   "execution_count": 4,
   "id": "31f98465",
   "metadata": {},
   "outputs": [
    {
     "name": "stdout",
     "output_type": "stream",
     "text": [
      "dict_values(['vegetarian', ['tofu', 'olives'], 'intermediate', 6])\n"
     ]
    }
   ],
   "source": [
    "print(food_preferences_tommy.values())"
   ]
  },
  {
   "cell_type": "markdown",
   "id": "4d786ed3",
   "metadata": {},
   "source": [
    "Let's see how you can use these in a prompt to create recipes that take into account your friends dietary preferences."
   ]
  },
  {
   "cell_type": "markdown",
   "id": "5241f8b9",
   "metadata": {},
   "source": [
    "#### Using keys and values within AI prompt"
   ]
  },
  {
   "cell_type": "markdown",
   "id": "6a8f30dc",
   "metadata": {},
   "source": [
    "So here's a prompt that uses all the information in the dictionary to create a customized recipe"
   ]
  },
  {
   "cell_type": "code",
   "execution_count": 5,
   "id": "463a6d2a",
   "metadata": {},
   "outputs": [],
   "source": [
    "# Generate a prompt for the AI using Tommy's food preferences\n",
    "prompt = f\"\"\"Please suggest a recipe that tries to include \n",
    "the following ingredients: \n",
    "{food_preferences_tommy[\"favorite_ingredients\"]}.\n",
    "The recipe should adhere to the following dietary restrictions:\n",
    "{food_preferences_tommy[\"dietary_restrictions\"]}.\n",
    "The difficulty of the recipe should be: \n",
    "{food_preferences_tommy[\"experience_level\"]}\n",
    "The maximum spice level on a scale of 10 should be: \n",
    "{food_preferences_tommy[\"maximum_spice_level\"]} \n",
    "Provide a two sentence description.\n",
    "\"\"\""
   ]
  },
  {
   "cell_type": "code",
   "execution_count": 6,
   "id": "6cceec03-639e-460c-a0d6-b34adb2cd28d",
   "metadata": {},
   "outputs": [
    {
     "name": "stdout",
     "output_type": "stream",
     "text": [
      "Please suggest a recipe that tries to include \n",
      "the following ingredients: \n",
      "['tofu', 'olives'].\n",
      "The recipe should adhere to the following dietary restrictions:\n",
      "vegetarian.\n",
      "The difficulty of the recipe should be: \n",
      "intermediate\n",
      "The maximum spice level on a scale of 10 should be: \n",
      "6 \n",
      "Provide a two sentence description.\n",
      "\n"
     ]
    }
   ],
   "source": [
    "# Print the prompt\n",
    "print(prompt)"
   ]
  },
  {
   "cell_type": "markdown",
   "id": "10b37203",
   "metadata": {},
   "source": [
    "Now, let's use that prompt with an LLM to suggest a recipe to fit Tommy's preferences:"
   ]
  },
  {
   "cell_type": "code",
   "execution_count": 7,
   "id": "14850b74",
   "metadata": {},
   "outputs": [
    {
     "name": "stdout",
     "output_type": "stream",
     "text": [
      "____________________________________________________________________________________________________\n",
      "Try making a delicious Tofu and Olive Stir-Fry. This vegetarian recipe involves stir-frying tofu, olives, bell peppers, and onions in a savory soy sauce-based sauce with a moderate level of spiciness, making it an intermediate-level dish with a spice level of 6 out of 10.\n",
      "____________________________________________________________________________________________________\n",
      "\n",
      "\n"
     ]
    }
   ],
   "source": [
    "print_llm_response(prompt)"
   ]
  },
  {
   "cell_type": "markdown",
   "id": "11b4f573",
   "metadata": {},
   "source": [
    "**Explanation output** : The model followed the instructions. Tommy will be delighted!"
   ]
  },
  {
   "cell_type": "markdown",
   "id": "86e7ba47",
   "metadata": {},
   "source": [
    "#### Refining the prompt with available ingredients"
   ]
  },
  {
   "cell_type": "markdown",
   "id": "e813a9b6",
   "metadata": {},
   "source": [
    "You can go a step further and consider the available ingredients at your house. To do so, let's use the following lists:"
   ]
  },
  {
   "cell_type": "code",
   "execution_count": 8,
   "id": "72256217-4474-4c48-a87d-36b444c25ea6",
   "metadata": {},
   "outputs": [],
   "source": [
    "available_spices = [\"cumin\", \"turmeric\", \"oregano\", \"paprika\"]"
   ]
  },
  {
   "cell_type": "code",
   "execution_count": 9,
   "id": "fba5c98d",
   "metadata": {},
   "outputs": [
    {
     "name": "stdout",
     "output_type": "stream",
     "text": [
      "['cumin', 'turmeric', 'oregano', 'paprika']\n"
     ]
    }
   ],
   "source": [
    "print(available_spices)"
   ]
  },
  {
   "cell_type": "markdown",
   "id": "b2f46ab1",
   "metadata": {},
   "source": [
    "You can add these directly to the prompt so that the LLM take those into consideration"
   ]
  },
  {
   "cell_type": "code",
   "execution_count": 10,
   "id": "3b73cd00-bf5e-4865-9a05-07e7f68b1296",
   "metadata": {},
   "outputs": [
    {
     "name": "stdout",
     "output_type": "stream",
     "text": [
      "Please suggest a recipe that tries to include \n",
      "the following ingredients: \n",
      "['tofu', 'olives'].\n",
      "The recipe should adhere to the following dietary restrictions:\n",
      "vegetarian.\n",
      "The difficulty of the recipe should be: \n",
      "intermediate\n",
      "The maximum spice level on a scale of 10 should be: \n",
      "6 \n",
      "Provide a two sentence description.\n",
      "\n",
      "The recipe should not include spices outside of this list:\n",
      "Spices: ['cumin', 'turmeric', 'oregano', 'paprika']\n",
      "\n"
     ]
    }
   ],
   "source": [
    "prompt = f\"\"\"Please suggest a recipe that tries to include \n",
    "the following ingredients: \n",
    "{food_preferences_tommy[\"favorite_ingredients\"]}.\n",
    "The recipe should adhere to the following dietary restrictions:\n",
    "{food_preferences_tommy[\"dietary_restrictions\"]}.\n",
    "The difficulty of the recipe should be: \n",
    "{food_preferences_tommy[\"experience_level\"]}\n",
    "The maximum spice level on a scale of 10 should be: \n",
    "{food_preferences_tommy[\"maximum_spice_level\"]} \n",
    "Provide a two sentence description.\n",
    "\n",
    "The recipe should not include spices outside of this list:\n",
    "Spices: {available_spices}\n",
    "\"\"\"\n",
    "print(prompt)"
   ]
  },
  {
   "cell_type": "markdown",
   "id": "4a78b961",
   "metadata": {},
   "source": [
    "Now, get the LLM response to that prompt and assign it to a variable:"
   ]
  },
  {
   "cell_type": "code",
   "execution_count": 11,
   "id": "bc9f9acf",
   "metadata": {},
   "outputs": [],
   "source": [
    "recipe = get_llm_response(prompt)"
   ]
  },
  {
   "cell_type": "markdown",
   "id": "c87c1079",
   "metadata": {},
   "source": [
    "And print the recipe that considers Tommy's restrictions as well as the available ingredients at your house."
   ]
  },
  {
   "cell_type": "code",
   "execution_count": 12,
   "id": "d211dac7",
   "metadata": {},
   "outputs": [
    {
     "name": "stdout",
     "output_type": "stream",
     "text": [
      "Try making a vegetarian Tofu and Olive Stir-Fry. Sauté tofu and olives with garlic, ginger, oregano, and a touch of paprika for a flavorful dish with a maximum spice level of 6 out of 10. Serve over rice or quinoa for a satisfying and savory meal.\n"
     ]
    }
   ],
   "source": [
    "print(recipe)"
   ]
  },
  {
   "cell_type": "markdown",
   "id": "8dd1eebb",
   "metadata": {},
   "source": [
    "Try changing the prompt to give you step-by-step instructions and try adding a key-value pair to the dictionary that indicates favorite cuisine."
   ]
  },
  {
   "cell_type": "markdown",
   "id": "db8dffd4",
   "metadata": {},
   "source": [
    "Step 1: let's try to change the prompt to get step-by-step instruction "
   ]
  },
  {
   "cell_type": "code",
   "execution_count": 13,
   "id": "b4c61826",
   "metadata": {},
   "outputs": [
    {
     "name": "stdout",
     "output_type": "stream",
     "text": [
      "Please suggest a recipe that tries to include \n",
      "the following ingredients: \n",
      "['tofu', 'olives'].\n",
      "The recipe should adhere to the following dietary restrictions:\n",
      "vegetarian.\n",
      "The difficulty of the recipe should be: \n",
      "intermediate\n",
      "The maximum spice level on a scale of 10 should be: \n",
      "6 \n",
      "Provide a two sentence description.\n",
      "\n",
      "The recipe should not include spices outside of this list:\n",
      "Spices: ['cumin', 'turmeric', 'oregano', 'paprika']\n",
      "\n",
      "Give step-by-step instructions of the recipe\n",
      "\n"
     ]
    }
   ],
   "source": [
    "prompt = f\"\"\"Please suggest a recipe that tries to include \n",
    "the following ingredients: \n",
    "{food_preferences_tommy[\"favorite_ingredients\"]}.\n",
    "The recipe should adhere to the following dietary restrictions:\n",
    "{food_preferences_tommy[\"dietary_restrictions\"]}.\n",
    "The difficulty of the recipe should be: \n",
    "{food_preferences_tommy[\"experience_level\"]}\n",
    "The maximum spice level on a scale of 10 should be: \n",
    "{food_preferences_tommy[\"maximum_spice_level\"]} \n",
    "Provide a two sentence description.\n",
    "\n",
    "The recipe should not include spices outside of this list:\n",
    "Spices: {available_spices}\n",
    "\n",
    "Give step-by-step instructions of the recipe\n",
    "\"\"\"\n",
    "print(prompt)"
   ]
  },
  {
   "cell_type": "code",
   "execution_count": 14,
   "id": "8d06cc3b",
   "metadata": {},
   "outputs": [
    {
     "name": "stdout",
     "output_type": "stream",
     "text": [
      "Recipe: Tofu and Olive Stir-Fry\n",
      "\n",
      "Description: A flavorful and satisfying vegetarian stir-fry featuring tofu and olives, seasoned with a blend of cumin, turmeric, oregano, and paprika. This intermediate-level recipe has a maximum spice level of 6 out of 10.\n",
      "\n",
      "Ingredients:\n",
      "- 1 block of firm tofu, cubed\n",
      "- 1/2 cup sliced olives\n",
      "- 1 onion, sliced\n",
      "- 2 cloves of garlic, minced\n",
      "- 1 bell pepper, sliced\n",
      "- 2 tablespoons soy sauce\n",
      "- 1 tablespoon olive oil\n",
      "- Spices: cumin, turmeric, oregano, paprika\n",
      "- Salt and pepper to taste\n",
      "\n",
      "Instructions:\n",
      "1. Heat olive oil in a pan over medium heat.\n",
      "2. Add tofu cubes and cook until golden brown, then set aside.\n",
      "3. In the same pan, sauté onions, garlic, and bell pepper until softened.\n",
      "4. Add olives, soy sauce, and a sprinkle of cumin, turmeric, oregano, and paprika.\n",
      "5. Return the tofu to the pan and stir well to combine.\n",
      "6. Season with salt and pepper to taste.\n",
      "7. Cook for another 2-3 minutes, then serve hot. Enjoy your delicious tofu and olive stir-fry!\n"
     ]
    }
   ],
   "source": [
    "recipe = get_llm_response(prompt)\n",
    "# Print the prompt\n",
    "print(recipe)"
   ]
  },
  {
   "cell_type": "markdown",
   "id": "e0b10941",
   "metadata": {},
   "source": [
    "**Note** After analysing the above prompt, it is not clear for how many persons are the given ingredients. Therefore, let's clarify that the recipe should be maximum for 2 persons (Tommy and his friend) "
   ]
  },
  {
   "cell_type": "code",
   "execution_count": 15,
   "id": "63a2ba79",
   "metadata": {},
   "outputs": [],
   "source": [
    "maximum_persons = 2"
   ]
  },
  {
   "cell_type": "code",
   "execution_count": 17,
   "id": "9aedc05e",
   "metadata": {},
   "outputs": [
    {
     "name": "stdout",
     "output_type": "stream",
     "text": [
      "Please suggest a recipe for a maximum of 2 persons. This recipe tries to include \n",
      "the following ingredients: \n",
      "['tofu', 'olives'].\n",
      "The recipe should adhere to the following dietary restrictions:\n",
      "vegetarian.\n",
      "The difficulty of the recipe should be: \n",
      "intermediate\n",
      "The maximum spice level on a scale of 10 should be: \n",
      "6 \n",
      "Provide a two sentence description.\n",
      "\n",
      "The recipe should not include spices outside of this list:\n",
      "Spices: ['cumin', 'turmeric', 'oregano', 'paprika']\n",
      "\n",
      "Give step-by-step instructions of the recipe\n",
      "\n"
     ]
    }
   ],
   "source": [
    "prompt = f\"\"\"Please suggest a recipe for a maximum of {maximum_persons} persons. This recipe tries to include \n",
    "the following ingredients: \n",
    "{food_preferences_tommy[\"favorite_ingredients\"]}.\n",
    "The recipe should adhere to the following dietary restrictions:\n",
    "{food_preferences_tommy[\"dietary_restrictions\"]}.\n",
    "The difficulty of the recipe should be: \n",
    "{food_preferences_tommy[\"experience_level\"]}\n",
    "The maximum spice level on a scale of 10 should be: \n",
    "{food_preferences_tommy[\"maximum_spice_level\"]} \n",
    "Provide a two sentence description.\n",
    "\n",
    "The recipe should not include spices outside of this list:\n",
    "Spices: {available_spices}\n",
    "\n",
    "Give step-by-step instructions of the recipe\n",
    "\"\"\"\n",
    "print(prompt)"
   ]
  },
  {
   "cell_type": "code",
   "execution_count": 18,
   "id": "ef2383b3",
   "metadata": {},
   "outputs": [
    {
     "name": "stdout",
     "output_type": "stream",
     "text": [
      "Recipe: Tofu and Olive Stir-Fry\n",
      "\n",
      "Description: A flavorful and satisfying vegetarian stir-fry featuring tofu and olives, seasoned with a blend of cumin, turmeric, oregano, and paprika. This intermediate-level recipe has a moderate spice level of 6 out of 10.\n",
      "\n",
      "Ingredients:\n",
      "- 1 block of firm tofu, cubed\n",
      "- 1/2 cup sliced olives\n",
      "- 1 onion, sliced\n",
      "- 2 cloves of garlic, minced\n",
      "- 1 bell pepper, sliced\n",
      "- 2 tablespoons soy sauce\n",
      "- 1 tablespoon olive oil\n",
      "- Spices: cumin, turmeric, oregano, paprika\n",
      "- Salt and pepper to taste\n",
      "\n",
      "Instructions:\n",
      "1. Heat olive oil in a pan over medium heat. Add onions and garlic, sauté until fragrant.\n",
      "2. Add tofu cubes and bell pepper slices to the pan. Cook until tofu is lightly browned.\n",
      "3. Season with a pinch of cumin, turmeric, oregano, and paprika. Stir well to coat the ingredients.\n",
      "4. Pour in soy sauce and add sliced olives. Cook for another 2-3 minutes.\n",
      "5. Taste and adjust seasoning with salt and pepper as needed.\n",
      "6. Serve the tofu and olive stir-fry hot over rice or quinoa. Enjoy your delicious and vegetarian meal!\n"
     ]
    }
   ],
   "source": [
    "recipe = get_llm_response(prompt)\n",
    "# Print the prompt\n",
    "print(recipe)"
   ]
  },
  {
   "cell_type": "markdown",
   "id": "db630836",
   "metadata": {},
   "source": [
    "**Explanation output** It seems that the quantity of the ingredients is not related to the number of persons.\n",
    " \n",
    "Let's try to modify again the prompt, taking into consideration a maximum of person of 4. "
   ]
  },
  {
   "cell_type": "code",
   "execution_count": 19,
   "id": "a2b4f074",
   "metadata": {},
   "outputs": [],
   "source": [
    "quantity_ingredients = {\n",
    "        \"maximum_persons\": 4\n",
    "}"
   ]
  },
  {
   "cell_type": "code",
   "execution_count": 20,
   "id": "f15faadb",
   "metadata": {},
   "outputs": [
    {
     "name": "stdout",
     "output_type": "stream",
     "text": [
      "Please suggest a recipe that tries to include \n",
      "the following ingredients: \n",
      "['tofu', 'olives'].\n",
      "The recipe should adhere to the following dietary restrictions:\n",
      "vegetarian.\n",
      "The difficulty of the recipe should be: \n",
      "intermediate\n",
      "The maximum spice level on a scale of 10 should be: \n",
      "6 \n",
      "Provide a two sentence description.\n",
      "\n",
      "The recipe should not include spices outside of this list:\n",
      "Spices: ['cumin', 'turmeric', 'oregano', 'paprika']\n",
      "\n",
      "The ingredients should be for 4 persons\n",
      "\n",
      "Give step-by-step instructions of the recipe\n",
      "\n"
     ]
    }
   ],
   "source": [
    "prompt = f\"\"\"Please suggest a recipe that tries to include \n",
    "the following ingredients: \n",
    "{food_preferences_tommy[\"favorite_ingredients\"]}.\n",
    "The recipe should adhere to the following dietary restrictions:\n",
    "{food_preferences_tommy[\"dietary_restrictions\"]}.\n",
    "The difficulty of the recipe should be: \n",
    "{food_preferences_tommy[\"experience_level\"]}\n",
    "The maximum spice level on a scale of 10 should be: \n",
    "{food_preferences_tommy[\"maximum_spice_level\"]} \n",
    "Provide a two sentence description.\n",
    "\n",
    "The recipe should not include spices outside of this list:\n",
    "Spices: {available_spices}\n",
    "\n",
    "The ingredients should be for {quantity_ingredients[\"maximum_persons\"]} persons\n",
    "\n",
    "Give step-by-step instructions of the recipe\n",
    "\"\"\"\n",
    "print(prompt)"
   ]
  },
  {
   "cell_type": "code",
   "execution_count": 21,
   "id": "01d52669",
   "metadata": {},
   "outputs": [
    {
     "name": "stdout",
     "output_type": "stream",
     "text": [
      "Recipe: Tofu and Olive Stir-Fry\n",
      "\n",
      "Description: A flavorful and satisfying vegetarian stir-fry featuring tofu and olives, seasoned with a blend of cumin, turmeric, oregano, and paprika. This intermediate-level recipe has a maximum spice level of 6 out of 10.\n",
      "\n",
      "Ingredients for 4 persons:\n",
      "- 1 block of firm tofu, cubed\n",
      "- 1 cup green olives, sliced\n",
      "- 1 onion, sliced\n",
      "- 2 bell peppers, sliced\n",
      "- 3 cloves of garlic, minced\n",
      "- 2 tablespoons olive oil\n",
      "- Salt and pepper to taste\n",
      "- 1 teaspoon cumin\n",
      "- 1 teaspoon turmeric\n",
      "- 1 teaspoon oregano\n",
      "- 1 teaspoon paprika\n",
      "\n",
      "Instructions:\n",
      "1. Heat olive oil in a large skillet over medium heat.\n",
      "2. Add the sliced onion and bell peppers, sauté until softened.\n",
      "3. Add the cubed tofu and minced garlic, cook until tofu is lightly browned.\n",
      "4. Sprinkle cumin, turmeric, oregano, and paprika over the tofu and vegetables, stir well to coat.\n",
      "5. Add the sliced olives to the skillet and continue to cook for another 2-3 minutes.\n",
      "6. Season with salt and pepper to taste.\n",
      "7. Serve the tofu and olive stir-fry hot over cooked rice or quinoa. Enjoy your delicious and flavorful meal!\n"
     ]
    }
   ],
   "source": [
    "recipe = get_llm_response(prompt)\n",
    "print(recipe)"
   ]
  },
  {
   "cell_type": "markdown",
   "id": "19f07b05",
   "metadata": {},
   "source": [
    "**Explanation output** Changing the number of persons, the quantity of the ingredients `change` also. "
   ]
  },
  {
   "cell_type": "markdown",
   "id": "369c9c6a",
   "metadata": {},
   "source": [
    "Step 2 :Let's add a key-value pair to the dictionary that indicates favorite cuisine."
   ]
  },
  {
   "cell_type": "code",
   "execution_count": 22,
   "id": "b29c8411",
   "metadata": {},
   "outputs": [
    {
     "name": "stdout",
     "output_type": "stream",
     "text": [
      "{'dietary_restrictions': 'vegetarian', 'favorite_ingredients': ['tofu', 'olives'], 'experience_level': 'intermediate', 'maximum_spice_level': 6, 'favorite_cousine': ['Spanish']}\n"
     ]
    }
   ],
   "source": [
    "#let's create the new variable \n",
    "food_preferences_tommy[\"favorite_cousine\"] = [\"Spanish\"]\n",
    "print(food_preferences_tommy)"
   ]
  },
  {
   "cell_type": "code",
   "execution_count": 23,
   "id": "bf2e1cef",
   "metadata": {},
   "outputs": [
    {
     "name": "stdout",
     "output_type": "stream",
     "text": [
      "['Spanish']\n"
     ]
    }
   ],
   "source": [
    "print(food_preferences_tommy[\"favorite_cousine\"])"
   ]
  },
  {
   "cell_type": "markdown",
   "id": "d21d016e-e278-47f9-a3da-b031eb6905e9",
   "metadata": {},
   "source": [
    "#### Looking ahead"
   ]
  },
  {
   "cell_type": "markdown",
   "id": "71e7f4a4-efbe-4bbb-a6b4-60305a2e5427",
   "metadata": {},
   "source": [
    "Let's take another look at`food_preferences_tommy[\"dietary_restrictions\"]` "
   ]
  },
  {
   "cell_type": "code",
   "execution_count": 24,
   "id": "91bb95c7-1940-452d-a120-149bf8db61c7",
   "metadata": {},
   "outputs": [
    {
     "name": "stdout",
     "output_type": "stream",
     "text": [
      "vegetarian\n"
     ]
    }
   ],
   "source": [
    "print(food_preferences_tommy[\"dietary_restrictions\"])"
   ]
  },
  {
   "cell_type": "markdown",
   "id": "b5f5fe5e-feae-4a8a-9e11-9cfb99958df2",
   "metadata": {},
   "source": [
    "Here is a different way you could tell Python that Tommy is vegetarian:"
   ]
  },
  {
   "cell_type": "code",
   "execution_count": 25,
   "id": "c447a119-a75b-4f83-87e1-81a6f4e34c13",
   "metadata": {},
   "outputs": [],
   "source": [
    "food_preferences_tommy[\"is_vegetarian\"] = True"
   ]
  },
  {
   "cell_type": "code",
   "execution_count": 26,
   "id": "bfea6233-99af-43b8-b26f-6ba0696f34c6",
   "metadata": {},
   "outputs": [
    {
     "name": "stdout",
     "output_type": "stream",
     "text": [
      "{'dietary_restrictions': 'vegetarian', 'favorite_ingredients': ['tofu', 'olives'], 'experience_level': 'intermediate', 'maximum_spice_level': 6, 'favorite_cousine': ['Spanish'], 'is_vegetarian': True}\n"
     ]
    }
   ],
   "source": [
    "print(food_preferences_tommy)"
   ]
  },
  {
   "cell_type": "markdown",
   "id": "bf3fa67a",
   "metadata": {},
   "source": [
    "To sum up, you learned how to use dictionaries and lists to create customized recipes using AI. By mastering these data structures, you can enhance your programming skills and create more dynamic and personalized applications."
   ]
  },
  {
   "cell_type": "markdown",
   "id": "c828ab40",
   "metadata": {},
   "source": [
    "## Conclusion \n",
    "In this lesson, you learned how to use dictionaries and lists to create customized recipes using AI. By mastering these data structures, you can enhance your programming skills and create more dynamic and personalized applications.\n",
    "By completing this notebook, you have gained a solid understanding of using lists and dictionaries in Python to customize recipes with AI. You learned how to store food preferences, generate prompts, and refine recipes based on available ingredients. These skills are essential for creating personalized applications and making programming more dynamic and efficient. Continue practicing and exploring different ways to use these data structures to solve problems and streamline your code.\n",
    "\n",
    "By completing this notebook, you have gained a solid understanding of using lists and dictionaries in Python to customize recipes with AI. You learned how to store food preferences, generate prompts, and refine recipes based on available ingredients. These skills are essential for creating personalized applications and making programming more dynamic and efficient. Continue practicing and exploring different ways to use these data structures to solve problems and streamline your code"
   ]
  },
  {
   "cell_type": "markdown",
   "id": "cc7e65ef-1983-43d0-93b5-ce29a2c9f387",
   "metadata": {},
   "source": [
    "## Extra practice"
   ]
  },
  {
   "cell_type": "markdown",
   "id": "7389bce5-8c0d-41cf-b347-01c741078ef0",
   "metadata": {},
   "source": [
    "Please go through the exercises in the cells below if you want some extra practice for the topics you covered in this lesson."
   ]
  },
  {
   "cell_type": "markdown",
   "id": "4e8cad12",
   "metadata": {},
   "source": [
    "- Exercise 1"
   ]
  },
  {
   "cell_type": "code",
   "execution_count": null,
   "id": "83969e6c-e89b-4061-8a9b-69764225dccd",
   "metadata": {},
   "outputs": [],
   "source": [
    "# Update the following dictionary \n",
    "# with your own preferences \n",
    "\n",
    "### EDIT THE FOLLOWING CODE ###\n",
    "my_food_preferences = {\n",
    "        \"dietary_restrictions\": [], #List with dietary restrictions\n",
    "        \"favorite_ingredients\": [], #List with top three favorite ingredients\n",
    "        \"experience_level\": \"\", #Experience level\n",
    "        \"maximum_spice_level\": 0 #Spice level in a scale from 1 to 10\n",
    "}\n",
    "### --------------- ###\n",
    "\n",
    "print(my_food_preferences)"
   ]
  },
  {
   "cell_type": "markdown",
   "id": "629a3cd5",
   "metadata": {},
   "source": [
    "Let's update the above dictionary with my own preferances "
   ]
  },
  {
   "cell_type": "code",
   "execution_count": 27,
   "id": "7dd94f17",
   "metadata": {},
   "outputs": [
    {
     "name": "stdout",
     "output_type": "stream",
     "text": [
      "{'dietary_restrictions': 'Macrobiotic Diet', 'favorite_ingredients': ['beans', 'rice', 'tamari', 'millet', 'cabbage', 'salmon'], 'experience_level': 'intermediate', 'maximum_spice_level': 8}\n"
     ]
    }
   ],
   "source": [
    "my_food_preferences = {\n",
    "        \"dietary_restrictions\": \"Macrobiotic Diet\", #List with dietary restrictions\n",
    "        \"favorite_ingredients\": [\"beans\", \"rice\", \"tamari\", \"millet\", \"cabbage\", \"salmon\"], #List with top three favorite ingredients\n",
    "        \"experience_level\": \"intermediate\", #Experience level\n",
    "        \"maximum_spice_level\": 8 #Spice level in a scale from 1 to 10\n",
    "}\n",
    "### --------------- ###\n",
    "\n",
    "print(my_food_preferences)"
   ]
  },
  {
   "cell_type": "code",
   "execution_count": 28,
   "id": "cb0d6f11",
   "metadata": {},
   "outputs": [],
   "source": [
    "available_spices = [\"cumin\", \"turmeric\", \"oregano\", \"paprika\"]"
   ]
  },
  {
   "cell_type": "code",
   "execution_count": 29,
   "id": "9f04ceed",
   "metadata": {},
   "outputs": [],
   "source": [
    "quantity_ingredients = {\n",
    "        \"maximum_persons\": 2\n",
    "}"
   ]
  },
  {
   "cell_type": "code",
   "execution_count": 30,
   "id": "16e875a2",
   "metadata": {},
   "outputs": [
    {
     "name": "stdout",
     "output_type": "stream",
     "text": [
      "Please suggest a recipe that tries to include \n",
      "the following ingredients: \n",
      "['beans', 'rice', 'tamari', 'millet', 'cabbage', 'salmon'].\n",
      "The recipe should adhere to the following dietary restrictions:\n",
      "Macrobiotic Diet.\n",
      "The difficulty of the recipe should be: \n",
      "intermediate\n",
      "The maximum spice level on a scale of 10 should be: \n",
      "8 \n",
      "Provide a two sentence description.\n",
      "\n",
      "The recipe should not include spices outside of this list:\n",
      "Spices: ['cumin', 'turmeric', 'oregano', 'paprika']\n",
      "\n",
      "The ingredients should be for 2 persons\n",
      "\n",
      "Give step-by-step instructions of the recipe\n",
      "\n"
     ]
    }
   ],
   "source": [
    "prompt = f\"\"\"Please suggest a recipe that tries to include \n",
    "the following ingredients: \n",
    "{my_food_preferences[\"favorite_ingredients\"]}.\n",
    "The recipe should adhere to the following dietary restrictions:\n",
    "{my_food_preferences[\"dietary_restrictions\"]}.\n",
    "The difficulty of the recipe should be: \n",
    "{my_food_preferences[\"experience_level\"]}\n",
    "The maximum spice level on a scale of 10 should be: \n",
    "{my_food_preferences[\"maximum_spice_level\"]} \n",
    "Provide a two sentence description.\n",
    "\n",
    "The recipe should not include spices outside of this list:\n",
    "Spices: {available_spices}\n",
    "\n",
    "The ingredients should be for {quantity_ingredients[\"maximum_persons\"]} persons\n",
    "\n",
    "Give step-by-step instructions of the recipe\n",
    "\"\"\"\n",
    "print(prompt)"
   ]
  },
  {
   "cell_type": "code",
   "execution_count": 31,
   "id": "dcbef3b4",
   "metadata": {},
   "outputs": [
    {
     "name": "stdout",
     "output_type": "stream",
     "text": [
      "Macrobiotic Salmon and Cabbage Stir-Fry:\n",
      "\n",
      "Description: A nourishing and balanced meal combining the richness of salmon with the wholesome goodness of beans, rice, millet, and cabbage, all seasoned with tamari for a savory touch.\n",
      "\n",
      "Ingredients:\n",
      "- 1 cup cooked beans\n",
      "- 1 cup cooked rice\n",
      "- 1/2 cup cooked millet\n",
      "- 1 cup shredded cabbage\n",
      "- 2 salmon fillets\n",
      "- 2 tbsp tamari\n",
      "\n",
      "Instructions:\n",
      "1. In a large skillet over medium heat, cook the salmon fillets until they are just cooked through, then set them aside.\n",
      "2. In the same skillet, add the cooked beans, rice, millet, and cabbage. Stir in the tamari and cook for 5-7 minutes until the cabbage is tender.\n",
      "3. Flake the cooked salmon and gently fold it into the bean, rice, and cabbage mixture.\n",
      "4. Cook for an additional 2-3 minutes to heat everything through.\n",
      "5. Serve the stir-fry hot and enjoy your macrobiotic meal!\n"
     ]
    }
   ],
   "source": [
    "recipe = get_llm_response(prompt)\n",
    "# Print the output\n",
    "print(recipe)"
   ]
  },
  {
   "cell_type": "code",
   "execution_count": 32,
   "id": "7db1c009",
   "metadata": {},
   "outputs": [],
   "source": [
    "quantity_ingredients = {\n",
    "        \"maximum_persons\": 4\n",
    "}"
   ]
  },
  {
   "cell_type": "code",
   "execution_count": 33,
   "id": "269cdfc5",
   "metadata": {},
   "outputs": [
    {
     "name": "stdout",
     "output_type": "stream",
     "text": [
      "Please suggest a recipe that tries to include \n",
      "the following ingredients: \n",
      "['beans', 'rice', 'tamari', 'millet', 'cabbage', 'salmon'].\n",
      "The recipe should adhere to the following dietary restrictions:\n",
      "Macrobiotic Diet.\n",
      "The difficulty of the recipe should be: \n",
      "intermediate\n",
      "The maximum spice level on a scale of 10 should be: \n",
      "8 \n",
      "Provide a two sentence description.\n",
      "\n",
      "The recipe should not include spices outside of this list:\n",
      "Spices: ['cumin', 'turmeric', 'oregano', 'paprika']\n",
      "\n",
      "The ingredients should be for 4 persons\n",
      "\n",
      "Give step-by-step instructions of the recipe\n",
      "\n"
     ]
    }
   ],
   "source": [
    "prompt = f\"\"\"Please suggest a recipe that tries to include \n",
    "the following ingredients: \n",
    "{my_food_preferences[\"favorite_ingredients\"]}.\n",
    "The recipe should adhere to the following dietary restrictions:\n",
    "{my_food_preferences[\"dietary_restrictions\"]}.\n",
    "The difficulty of the recipe should be: \n",
    "{my_food_preferences[\"experience_level\"]}\n",
    "The maximum spice level on a scale of 10 should be: \n",
    "{my_food_preferences[\"maximum_spice_level\"]} \n",
    "Provide a two sentence description.\n",
    "\n",
    "The recipe should not include spices outside of this list:\n",
    "Spices: {available_spices}\n",
    "\n",
    "The ingredients should be for {quantity_ingredients[\"maximum_persons\"]} persons\n",
    "\n",
    "Give step-by-step instructions of the recipe\n",
    "\"\"\"\n",
    "print(prompt)"
   ]
  },
  {
   "cell_type": "code",
   "execution_count": 34,
   "id": "76837e99",
   "metadata": {},
   "outputs": [
    {
     "name": "stdout",
     "output_type": "stream",
     "text": [
      "**Macrobiotic Salmon and Cabbage Stir-Fry**\n",
      "\n",
      "**Description:** A nourishing and balanced macrobiotic stir-fry featuring salmon, beans, rice, millet, and cabbage, seasoned with tamari for a savory umami flavor.\n",
      "\n",
      "**Ingredients for 4 servings:**\n",
      "- 1 cup cooked beans\n",
      "- 1 cup cooked rice\n",
      "- 1 cup cooked millet\n",
      "- 1 small head of cabbage, thinly sliced\n",
      "- 4 salmon fillets\n",
      "- 4 tablespoons tamari\n",
      "\n",
      "**Instructions:**\n",
      "1. In a large skillet over medium heat, cook the salmon fillets until just cooked through, then remove and set aside.\n",
      "2. In the same skillet, add the cabbage and stir-fry until slightly softened.\n",
      "3. Add the cooked beans, rice, and millet to the skillet, stirring to combine.\n",
      "4. Flake the cooked salmon and add it to the skillet, along with tamari, stirring gently to heat through.\n",
      "5. Serve the stir-fry hot and enjoy your macrobiotic meal!\n"
     ]
    }
   ],
   "source": [
    "recipe = get_llm_response(prompt)\n",
    "# Print the output\n",
    "print(recipe)"
   ]
  },
  {
   "cell_type": "markdown",
   "id": "89f59985",
   "metadata": {},
   "source": [
    "- Exercise 2"
   ]
  },
  {
   "cell_type": "code",
   "execution_count": 35,
   "id": "e22eb004-6a9c-4274-9ae3-c9ee106689fb",
   "metadata": {},
   "outputs": [
    {
     "name": "stdout",
     "output_type": "stream",
     "text": [
      "____________________________________________________________________________________________________\n",
      "Try making a delicious Tofu and Olive Stir-Fry. This vegetarian recipe combines crispy tofu, briny olives, and a flavorful stir-fry sauce with a maximum spice level of 6 out of 10, making it a satisfying and flavorful dish for intermediate cooks.\n",
      "____________________________________________________________________________________________________\n",
      "\n",
      "\n"
     ]
    }
   ],
   "source": [
    "# Modify the following prompt, \n",
    "# without adding more than two sentences,\n",
    "# so that the provided recipe includes detailed instructions.\n",
    "\n",
    "### EDIT THE FOLLOWING CODE ###\n",
    "#Hint: look at the last sentence in this prompt\n",
    "prompt = f\"\"\"Please suggest a recipe that tries to include \n",
    "the following ingredients: \n",
    "{food_preferences_tommy[\"favorite_ingredients\"]}.\n",
    "The recipe should adhere to the following dietary restrictions:\n",
    "{food_preferences_tommy[\"dietary_restrictions\"]}.\n",
    "The difficulty of the recipe should be: \n",
    "{food_preferences_tommy[\"experience_level\"]}\n",
    "The maximum spice level on a scale of 10 should be: \n",
    "{food_preferences_tommy[\"maximum_spice_level\"]} \n",
    "Provide a two sentence description.\n",
    "\"\"\"\n",
    "### --------------- ###\n",
    "\n",
    "print_llm_response(prompt)"
   ]
  },
  {
   "cell_type": "markdown",
   "id": "6ec95463",
   "metadata": {},
   "source": [
    "Let's modify the prompt as it has been required"
   ]
  },
  {
   "cell_type": "code",
   "execution_count": 36,
   "id": "166445e9",
   "metadata": {},
   "outputs": [
    {
     "name": "stdout",
     "output_type": "stream",
     "text": [
      "____________________________________________________________________________________________________\n",
      "Try making a delicious Tofu and Olive Stir-Fry. In a wok, stir-fry cubed tofu with sliced olives, bell peppers, and onions in a savory soy sauce-based sauce seasoned with garlic, ginger, and a touch of chili flakes. Serve over steamed rice for a satisfying vegetarian meal with a mild level of spiciness.\n",
      "____________________________________________________________________________________________________\n",
      "\n",
      "\n"
     ]
    }
   ],
   "source": [
    "# Modify the following prompt, \n",
    "# without adding more than two sentences,\n",
    "# so that the provided recipe includes detailed instructions.\n",
    "\n",
    "### EDIT THE FOLLOWING CODE ###\n",
    "#Hint: look at the last sentence in this prompt\n",
    "prompt = f\"\"\"Please suggest a recipe that tries to include \n",
    "the following ingredients: \n",
    "{food_preferences_tommy[\"favorite_ingredients\"]}.\n",
    "The recipe should adhere to the following dietary restrictions:\n",
    "{food_preferences_tommy[\"dietary_restrictions\"]}.\n",
    "The difficulty of the recipe should be: \n",
    "{food_preferences_tommy[\"experience_level\"]}\n",
    "The maximum spice level on a scale of 10 should be: \n",
    "{food_preferences_tommy[\"maximum_spice_level\"]} \n",
    "Provide only a two sentence description, including a detailed instructions of the recipe\n",
    "\"\"\"\n",
    "### --------------- ###\n",
    "\n",
    "print_llm_response(prompt)"
   ]
  },
  {
   "cell_type": "code",
   "execution_count": 37,
   "id": "48f50ecb",
   "metadata": {},
   "outputs": [
    {
     "name": "stdout",
     "output_type": "stream",
     "text": [
      "Try making a delicious Tofu and Olive Stir-Fry. Start by marinating cubed tofu in a mixture of soy sauce, garlic, and ginger, then stir-fry with olives, bell peppers, and broccoli until tender. Season with a moderate amount of chili flakes for a touch of heat, keeping the spice level under 6 out of 10. Serve over steamed rice for a satisfying vegetarian meal.\n"
     ]
    }
   ],
   "source": [
    "recipe = get_llm_response(prompt)\n",
    "print(recipe)"
   ]
  }
 ],
 "metadata": {
  "kernelspec": {
   "display_name": ".venv",
   "language": "python",
   "name": "python3"
  },
  "language_info": {
   "codemirror_mode": {
    "name": "ipython",
    "version": 3
   },
   "file_extension": ".py",
   "mimetype": "text/x-python",
   "name": "python",
   "nbconvert_exporter": "python",
   "pygments_lexer": "ipython3",
   "version": "3.12.2"
  }
 },
 "nbformat": 4,
 "nbformat_minor": 5
}
