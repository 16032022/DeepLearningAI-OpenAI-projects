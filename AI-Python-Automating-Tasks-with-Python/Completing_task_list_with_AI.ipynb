{
 "cells": [
  {
   "cell_type": "markdown",
   "id": "4bd8fbd2-de5c-47bd-bcd9-cbbe8cdc3104",
   "metadata": {},
   "source": [
    "# Completing a task list with AI 📈 "
   ]
  },
  {
   "cell_type": "markdown",
   "id": "b3bfccde",
   "metadata": {},
   "source": [
    "## Introduction \n",
    "This notebook is designed to help you learn how to `automate tasks using Python`. Automation using Python can significantly reduce the time and effort required for repetitive tasks. By leveraging `lists and functions`, you can perform repetitive tasks and `make decisions` programmatically. This hands-on guide will walk you through the basics of lists, including creating, accessing, modifying, and using lists within prompts for language learning models (LLMs)."
   ]
  },
  {
   "cell_type": "markdown",
   "id": "ca022b43",
   "metadata": {},
   "source": [
    "### Importing specific functions from the helper_functions module.\n",
    "\n",
    "- The _print_llm_response_ function is likely used to print responses from a language learning model.\n",
    "- The _get_llm_response_ function is likely used to get responses from a language learning model."
   ]
  },
  {
   "cell_type": "code",
   "execution_count": 1,
   "id": "41ef33ad-2b5c-40db-a1ab-9f3c689edd55",
   "metadata": {},
   "outputs": [],
   "source": [
    "# Import necessary functions from the helper_functions module\n",
    "from helper_functions import print_llm_response, get_llm_response"
   ]
  },
  {
   "cell_type": "markdown",
   "id": "f156dba3",
   "metadata": {},
   "source": [
    "### What are lists?\n",
    "\n",
    "- Lists are a fundamental data structure that allows you to manage and manipulate collections of data efficiently.\n",
    "\n",
    "- _Creating a List Section_\n",
    "Lists are useful when you need to manage multiple related items. For instance, you can store names of friends, tasks in a to-do list, or numerical data for analysis."
   ]
  },
  {
   "cell_type": "code",
   "execution_count": 2,
   "id": "73758fc8",
   "metadata": {},
   "outputs": [],
   "source": [
    "# Example of creating a list\n",
    "name = \"Tommy\""
   ]
  },
  {
   "cell_type": "code",
   "execution_count": 3,
   "id": "30a8e543",
   "metadata": {},
   "outputs": [
    {
     "name": "stdout",
     "output_type": "stream",
     "text": [
      "____________________________________________________________________________________________________\n",
      "Talented and true, Tommy shines bright,\n",
      "On this special day, his joy takes flight.\n",
      "Memories made, laughter in sight,\n",
      "May happiness surround him, day and night.\n",
      "____________________________________________________________________________________________________\n",
      "\n",
      "\n"
     ]
    }
   ],
   "source": [
    "# Example of use of a list\n",
    "prompt = f\"\"\"\n",
    "Write a four line birthday poem for my friend {name}. \n",
    "The poem should be inspired by the first letter of my friend's name.\n",
    "\"\"\"\n",
    "print_llm_response(prompt)"
   ]
  },
  {
   "cell_type": "markdown",
   "id": "cb48382c",
   "metadata": {},
   "source": [
    "Changing the value held by a variable, such as Isabel instead tof Tommy, requires lots of updates to the variables. A better way to handle this is by using a list. "
   ]
  },
  {
   "cell_type": "markdown",
   "id": "5d36fc84-7238-478c-a70b-8b4988dae5b9",
   "metadata": {},
   "source": [
    "## Creating  a list\n",
    "`Lists` are a data type in Python that can hold multiple pieces of data. This reduces the need for repetitive variable assignments since you can include all the pieces of data together.\n",
    "\n",
    "Below, you will create a list that holds the names `\"Tommy\"`, `\"Isabel\"` and `\"Daniel\"`."
   ]
  },
  {
   "cell_type": "markdown",
   "id": "1385fa2f",
   "metadata": {},
   "source": [
    "**Accessing Individual Elements of a List**\n",
    "   - Include a brief explanation of zero-based indexing.\n",
    "   - Example: \"In Python, lists are zero-indexed, meaning the first element is accessed with index 0, the second with index 1, and so on.\""
   ]
  },
  {
   "cell_type": "code",
   "execution_count": 4,
   "id": "b2cdf52d-f8be-4eb9-870b-19b0ed83fc25",
   "metadata": {},
   "outputs": [
    {
     "name": "stdout",
     "output_type": "stream",
     "text": [
      "The friends of Andrew are ['Tommy', 'Isabel', 'Daniel']\n"
     ]
    }
   ],
   "source": [
    "friends_list = [\"Tommy\", \"Isabel\", \"Daniel\"]\n",
    "# Print the friends_list\n",
    "#print(friends_list)\n",
    "print(f\"The friends of Andrew are {friends_list}\")"
   ]
  },
  {
   "cell_type": "markdown",
   "id": "10fe72bf",
   "metadata": {},
   "source": [
    "`friends_list` is a single variable of type `list` that holds multiple values."
   ]
  },
  {
   "cell_type": "code",
   "execution_count": 5,
   "id": "bfae06d5",
   "metadata": {},
   "outputs": [
    {
     "data": {
      "text/plain": [
       "list"
      ]
     },
     "execution_count": 5,
     "metadata": {},
     "output_type": "execute_result"
    }
   ],
   "source": [
    "type(friends_list)"
   ]
  },
  {
   "cell_type": "markdown",
   "id": "7df5e778",
   "metadata": {},
   "source": [
    "You can check how many values are stored in the list by using `len()`:"
   ]
  },
  {
   "cell_type": "code",
   "execution_count": 6,
   "id": "c675bd49",
   "metadata": {},
   "outputs": [
    {
     "data": {
      "text/plain": [
       "3"
      ]
     },
     "execution_count": 6,
     "metadata": {},
     "output_type": "execute_result"
    }
   ],
   "source": [
    "len(friends_list)"
   ]
  },
  {
   "cell_type": "markdown",
   "id": "54e11255",
   "metadata": {},
   "source": [
    "So this list has three elements."
   ]
  },
  {
   "cell_type": "markdown",
   "id": "5ae55d3c",
   "metadata": {},
   "source": [
    "You can use lists as you used variables before within LLM prompts. Below, you are including the `friends_list` in the prompt to write four-line birthday poems for `'Tommy'`, `'Isabel'` and `'Daniel'`."
   ]
  },
  {
   "cell_type": "code",
   "execution_count": 7,
   "id": "e0b59524",
   "metadata": {},
   "outputs": [
    {
     "name": "stdout",
     "output_type": "stream",
     "text": [
      "\n",
      "Write a set of four line birthday poems for my friends ['Tommy', 'Isabel', 'Daniel']. \n",
      "The poems should be insipred by the first letter of each friend's name.\n",
      "\n"
     ]
    }
   ],
   "source": [
    "prompt = f\"\"\"\n",
    "Write a set of four line birthday poems for my friends {friends_list}. \n",
    "The poems should be insipred by the first letter of each friend's name.\n",
    "\"\"\"\n",
    "print(prompt)"
   ]
  },
  {
   "cell_type": "markdown",
   "id": "2cf56776",
   "metadata": {},
   "source": [
    "Now, you can use that `prompt with the LLM`:"
   ]
  },
  {
   "cell_type": "code",
   "execution_count": 8,
   "id": "ac8ed4b1",
   "metadata": {},
   "outputs": [
    {
     "name": "stdout",
     "output_type": "stream",
     "text": [
      "____________________________________________________________________________________________________\n",
      "1. Tommy, a friend so true and kind,\n",
      "On your birthday, joy and laughter you'll find.\n",
      "May your day be filled with love and cheer,\n",
      "Wishing you a fantastic year!\n",
      "\n",
      "2. Isabel, with a heart so pure,\n",
      "On your special day, may happiness endure.\n",
      "May your dreams take flight and soar,\n",
      "Bringing you joy forevermore.\n",
      "\n",
      "3. Daniel, a friend so dear,\n",
      "On your birthday, let's raise a cheer.\n",
      "May your day be filled with love and fun,\n",
      "Wishing you happiness in the long run.\n",
      "____________________________________________________________________________________________________\n",
      "\n",
      "\n"
     ]
    }
   ],
   "source": [
    "print_llm_response(prompt)"
   ]
  },
  {
   "cell_type": "markdown",
   "id": "2d0a44bf",
   "metadata": {},
   "source": [
    "## Accessing individual elements of a list"
   ]
  },
  {
   "cell_type": "markdown",
   "id": "07786199",
   "metadata": {},
   "source": [
    "You can access individual elements from a list. In Python, lists are zero-indexed, meaning the first element is accessed with index 0, the second with index 1, and so on."
   ]
  },
  {
   "cell_type": "markdown",
   "id": "d7de8ba8",
   "metadata": {},
   "source": [
    "Let's ask the chatbot how to do that."
   ]
  },
  {
   "cell_type": "markdown",
   "id": "82fe4e72",
   "metadata": {},
   "source": [
    "<p style=\"background-color:#F5C780; padding:15px\"> 🤖 <b>Use the Chatbot</b>: How do I access a specific element of this list:\n",
    "friends_list = [\"Tommy\", \"Isabel\", \"Daniel\"]\n",
    "</p>"
   ]
  },
  {
   "cell_type": "markdown",
   "id": "d4cefc1f",
   "metadata": {},
   "source": [
    "**Response Chatbot** : To access a specific element of the friends_list, you can use its index. In Python, lists are zero-indexed, meaning the first element is at index 0, the second element is at index 1, and so on.\n",
    "\n",
    "Here's how you can access elements from the friends_list:"
   ]
  },
  {
   "cell_type": "code",
   "execution_count": 9,
   "id": "db3b8120",
   "metadata": {},
   "outputs": [
    {
     "name": "stdout",
     "output_type": "stream",
     "text": [
      "The name of the first friend is Tommy\n"
     ]
    }
   ],
   "source": [
    "# First Element:\n",
    "first_friend = friends_list[0]\n",
    "#print(first_friend)  # Output: Tommy\n",
    "print(f\"The name of the first friend is {first_friend}\")  # Output: Tommy"
   ]
  },
  {
   "cell_type": "code",
   "execution_count": 10,
   "id": "ef6ddceb",
   "metadata": {},
   "outputs": [
    {
     "name": "stdout",
     "output_type": "stream",
     "text": [
      "The name of the second friend is Isabel\n"
     ]
    }
   ],
   "source": [
    "# Access to the Second Element of the given list \n",
    "#print(friends_list[1]) # Output: Isabel\n",
    "print(f\"The name of the second friend is {friends_list[1]}\")"
   ]
  },
  {
   "cell_type": "code",
   "execution_count": 11,
   "id": "e2477d09",
   "metadata": {},
   "outputs": [
    {
     "name": "stdout",
     "output_type": "stream",
     "text": [
      "The name of the Third friend is Isabel\n"
     ]
    }
   ],
   "source": [
    "# Third-to-Last Element:\n",
    "#print(friends_list[2]) \n",
    "print(f\"The name of the Third friend is {friends_list[1]}\")"
   ]
  },
  {
   "cell_type": "markdown",
   "id": "bb5ff85c",
   "metadata": {},
   "source": [
    "### *Handling Errors*\n",
    "Handling errors is crucial for writing robust code. Common list errors include `IndexError` when accessing an out-of-range index. Always validate the index before accessing list elements."
   ]
  },
  {
   "cell_type": "markdown",
   "id": "49bec5c7",
   "metadata": {},
   "source": [
    "Make sure the index you use is within the range of the list. If you try to access an index outside the range (e.g., friends_list[3] in this case), Python will raise an IndexError."
   ]
  },
  {
   "cell_type": "markdown",
   "id": "59eed6c3",
   "metadata": {},
   "source": [
    "So, if you do the following, you'll get an error."
   ]
  },
  {
   "cell_type": "code",
   "execution_count": 12,
   "id": "c19112dc",
   "metadata": {},
   "outputs": [
    {
     "ename": "IndexError",
     "evalue": "list index out of range",
     "output_type": "error",
     "traceback": [
      "\u001b[1;31m---------------------------------------------------------------------------\u001b[0m",
      "\u001b[1;31mIndexError\u001b[0m                                Traceback (most recent call last)",
      "Cell \u001b[1;32mIn[12], line 1\u001b[0m\n\u001b[1;32m----> 1\u001b[0m \u001b[38;5;28mprint\u001b[39m(\u001b[43mfriends_list\u001b[49m\u001b[43m[\u001b[49m\u001b[38;5;241;43m3\u001b[39;49m\u001b[43m]\u001b[49m) \u001b[38;5;66;03m# Gives an error\u001b[39;00m\n",
      "\u001b[1;31mIndexError\u001b[0m: list index out of range"
     ]
    }
   ],
   "source": [
    "\n",
    "print(friends_list[3]) # Gives an error"
   ]
  },
  {
   "cell_type": "markdown",
   "id": "1f4555e2",
   "metadata": {},
   "source": [
    "<p style=\"background-color:#F5C780; padding:15px\"> 🤖 <b>Use the Chatbot</b>: IndexError: list index out of range\" what does this mean?\n",
    "</p>"
   ]
  },
  {
   "cell_type": "markdown",
   "id": "48eb8f66",
   "metadata": {},
   "source": [
    "**Response Chatbot**: The error message you provided indicates an `IndexError`, which occurs when you're trying to access an index in a list that doesn't exist (i.e., you're going out of the bounds of the list)."
   ]
  },
  {
   "cell_type": "markdown",
   "id": "aeffc30a",
   "metadata": {},
   "source": [
    "Here’s an example of code that could produce an IndexError:"
   ]
  },
  {
   "cell_type": "code",
   "execution_count": 13,
   "id": "d9a4e673",
   "metadata": {},
   "outputs": [
    {
     "ename": "IndexError",
     "evalue": "list index out of range",
     "output_type": "error",
     "traceback": [
      "\u001b[1;31m---------------------------------------------------------------------------\u001b[0m",
      "\u001b[1;31mIndexError\u001b[0m                                Traceback (most recent call last)",
      "Cell \u001b[1;32mIn[13], line 2\u001b[0m\n\u001b[0;32m      1\u001b[0m my_list \u001b[38;5;241m=\u001b[39m [\u001b[38;5;241m1\u001b[39m, \u001b[38;5;241m2\u001b[39m, \u001b[38;5;241m3\u001b[39m]\n\u001b[1;32m----> 2\u001b[0m \u001b[38;5;28mprint\u001b[39m(\u001b[43mmy_list\u001b[49m\u001b[43m[\u001b[49m\u001b[38;5;241;43m3\u001b[39;49m\u001b[43m]\u001b[49m)  \u001b[38;5;66;03m# This will raise IndexError because valid indices are 0, 1, and 2.\u001b[39;00m\n",
      "\u001b[1;31mIndexError\u001b[0m: list index out of range"
     ]
    }
   ],
   "source": [
    "my_list = [1, 2, 3]\n",
    "print(my_list[3])  # This will raise IndexError because valid indices are 0, 1, and 2.\n"
   ]
  },
  {
   "cell_type": "code",
   "execution_count": 14,
   "id": "271b5b69",
   "metadata": {},
   "outputs": [
    {
     "name": "stdout",
     "output_type": "stream",
     "text": [
      "Index 3 is out of range.\n"
     ]
    }
   ],
   "source": [
    "#Fix:\n",
    "my_list = [1, 2, 3]\n",
    "\n",
    "# A safer approach:\n",
    "index = 3\n",
    "if index < len(my_list):\n",
    "    print(my_list[index])\n",
    "else:\n",
    "    print(f\"Index {index} is out of range.\")\n"
   ]
  },
  {
   "cell_type": "markdown",
   "id": "73cabe3b",
   "metadata": {},
   "source": [
    "But, if you run the following code, you will be able to access the last element from that list. "
   ]
  },
  {
   "cell_type": "code",
   "execution_count": 15,
   "id": "408eff97",
   "metadata": {},
   "outputs": [
    {
     "name": "stdout",
     "output_type": "stream",
     "text": [
      "The last name of the list of Andrew is Daniel\n"
     ]
    }
   ],
   "source": [
    "#print(friends_list[2])\n",
    "print(f\"The last name of the list of Andrew is {friends_list[2]}\")"
   ]
  },
  {
   "cell_type": "markdown",
   "id": "6251a403",
   "metadata": {},
   "source": [
    "### Modifying Lists\n",
    "In addition to appending elements, you can insert elements at specific positions using `insert()`, extend lists with another list using `extend()`, and remove elements by index using `pop()`.\""
   ]
  },
  {
   "cell_type": "markdown",
   "id": "88cef078",
   "metadata": {},
   "source": [
    "#### Adding another element to the list"
   ]
  },
  {
   "cell_type": "code",
   "execution_count": 16,
   "id": "d9db5ca0",
   "metadata": {},
   "outputs": [
    {
     "name": "stdout",
     "output_type": "stream",
     "text": [
      "The original list does enclose the following names ['Tommy', 'Isabel', 'Daniel']\n"
     ]
    }
   ],
   "source": [
    "print(f\"The original list does enclose the following names {friends_list}\")"
   ]
  },
  {
   "cell_type": "markdown",
   "id": "6a9f875a-5fc9-4bde-be57-3ba9b0d4f1d5",
   "metadata": {},
   "source": [
    "If you want to add some data to an list, you will use `list.append(new_data)`. So, to add `\"Otto\"` to your `friends_list`, you can run the following code:"
   ]
  },
  {
   "cell_type": "code",
   "execution_count": 17,
   "id": "c2c816b9-f7c7-4f0b-a3e2-8fdf3d2e31f7",
   "metadata": {},
   "outputs": [],
   "source": [
    "# add single element to list\n",
    "friends_list.append(\"Otto\")"
   ]
  },
  {
   "cell_type": "code",
   "execution_count": 18,
   "id": "c96cd18b",
   "metadata": {},
   "outputs": [
    {
     "name": "stdout",
     "output_type": "stream",
     "text": [
      "After adding a new friend, the final list is ['Tommy', 'Isabel', 'Daniel', 'Otto']\n"
     ]
    }
   ],
   "source": [
    "print(f\"After adding a new friend, the final list is {friends_list}\")"
   ]
  },
  {
   "cell_type": "markdown",
   "id": "b6c04751",
   "metadata": {},
   "source": [
    "Let's modify code to add another friend, or yourself"
   ]
  },
  {
   "cell_type": "code",
   "execution_count": 19,
   "id": "ed18d3a1",
   "metadata": {},
   "outputs": [
    {
     "ename": "TypeError",
     "evalue": "list.append() takes exactly one argument (0 given)",
     "output_type": "error",
     "traceback": [
      "\u001b[1;31m---------------------------------------------------------------------------\u001b[0m",
      "\u001b[1;31mTypeError\u001b[0m                                 Traceback (most recent call last)",
      "Cell \u001b[1;32mIn[19], line 2\u001b[0m\n\u001b[0;32m      1\u001b[0m \u001b[38;5;66;03m# Modify the code below to add another friend:\u001b[39;00m\n\u001b[1;32m----> 2\u001b[0m \u001b[43mfriends_list\u001b[49m\u001b[38;5;241;43m.\u001b[39;49m\u001b[43mappend\u001b[49m\u001b[43m(\u001b[49m\u001b[43m)\u001b[49m\n",
      "\u001b[1;31mTypeError\u001b[0m: list.append() takes exactly one argument (0 given)"
     ]
    }
   ],
   "source": [
    "# Modify the code below to add another friend:\n",
    "friends_list.append()"
   ]
  },
  {
   "cell_type": "code",
   "execution_count": 20,
   "id": "3531dda5",
   "metadata": {},
   "outputs": [],
   "source": [
    "friends_list.append(\"PincoPalla\")"
   ]
  },
  {
   "cell_type": "code",
   "execution_count": 21,
   "id": "d00f4591",
   "metadata": {},
   "outputs": [
    {
     "name": "stdout",
     "output_type": "stream",
     "text": [
      "After adding a new friend, the final list is ['Tommy', 'Isabel', 'Daniel', 'Otto', 'PincoPalla']\n"
     ]
    }
   ],
   "source": [
    "print(f\"After adding a new friend, the final list is {friends_list}\")"
   ]
  },
  {
   "cell_type": "markdown",
   "id": "1b22945c-42b3-4ed5-aa1c-bc64c6845897",
   "metadata": {},
   "source": [
    "#### Deleting elements"
   ]
  },
  {
   "cell_type": "markdown",
   "id": "91c62ca8",
   "metadata": {},
   "source": [
    "Tommy moved to Bora Bora, so we can't be friends anymore. Let's remove Tommy from `friends_list` by using `.remove()`:"
   ]
  },
  {
   "cell_type": "code",
   "execution_count": 22,
   "id": "999f5ce1-a7d0-4f17-a3de-b09eb524b130",
   "metadata": {},
   "outputs": [
    {
     "name": "stdout",
     "output_type": "stream",
     "text": [
      "['Isabel', 'Daniel', 'Otto', 'PincoPalla']\n",
      "After removing Tommy, the list of Andrew contains the following ['Isabel', 'Daniel', 'Otto', 'PincoPalla'] friends\n"
     ]
    }
   ],
   "source": [
    "#using remove\n",
    "friends_list.remove(\"Tommy\")\n",
    "print(friends_list)\n",
    "print(f\"After removing Tommy, the list of Andrew contains the following {friends_list} friends\")"
   ]
  },
  {
   "cell_type": "markdown",
   "id": "e8eca359-4e2d-4f2e-8a3e-29a706cd5097",
   "metadata": {},
   "source": [
    "## Lists with other data types\n",
    "\n",
    "Lists can hold any type of data, such as list of numbers, list of tasks and so on."
   ]
  },
  {
   "cell_type": "markdown",
   "id": "d0538165",
   "metadata": {},
   "source": [
    "- List of numbers"
   ]
  },
  {
   "cell_type": "code",
   "execution_count": 23,
   "id": "8b884de4",
   "metadata": {},
   "outputs": [
    {
     "name": "stdout",
     "output_type": "stream",
     "text": [
      "This is an example of list that contains the following integers [42, 28, 30]\n"
     ]
    }
   ],
   "source": [
    "list_ages = [42, 28, 30]\n",
    "#print(list_ages)\n",
    "print(f\"This is an example of list that contains the following integers {list_ages}\")"
   ]
  },
  {
   "cell_type": "markdown",
   "id": "3fe09e1c",
   "metadata": {},
   "source": [
    "- Lists can also hold long strings. Here's a list of tasks that might make up a todo list"
   ]
  },
  {
   "cell_type": "code",
   "execution_count": 24,
   "id": "b3eded47-a74d-4f79-938b-f1580753a706",
   "metadata": {},
   "outputs": [],
   "source": [
    "#list of tasks in priority order. Multi-line lists are allowed in python!\n",
    "list_of_tasks = [\n",
    "    \"Compose a brief email to my boss explaining that I will be late for tomorrow's meeting.\",\n",
    "    \"Write a birthday poem for Otto, celebrating his 28th birthday.\",\n",
    "    \"Write a 300-word review of the movie 'The Arrival'.\"\n",
    "]"
   ]
  },
  {
   "cell_type": "markdown",
   "id": "4050115c",
   "metadata": {},
   "source": [
    "### Using Lists with LLMs"
   ]
  },
  {
   "cell_type": "markdown",
   "id": "6b66d3f7",
   "metadata": {},
   "source": [
    "Lists can be dynamically included in LLM prompts to automate text generation tasks. This allows you to create personalized outputs for multiple inputs efficiently."
   ]
  },
  {
   "cell_type": "markdown",
   "id": "62c4c86c",
   "metadata": {},
   "source": [
    "**Note** If you were wondering how to use lists with AI, take this example. Each element in the previous list is a string that you can pass to `print_llm_response()`. If you want an LLM to do each of these tasks for you, here's what you would do:\n",
    "\n",
    "  - Set a variable called `task` to each element in the list in turn, then pass it to `print_llm_response()`."
   ]
  },
  {
   "cell_type": "code",
   "execution_count": 25,
   "id": "642ab497-32dd-45b9-996b-e06861b2b7dc",
   "metadata": {},
   "outputs": [
    {
     "name": "stdout",
     "output_type": "stream",
     "text": [
      "____________________________________________________________________________________________________\n",
      "Subject: Running Late for Tomorrow's Meeting\n",
      "\n",
      "Hi [Boss's Name],\n",
      "\n",
      "I wanted to let you know that I will be running late for tomorrow's meeting. I apologize for any inconvenience this may cause. I will do my best to join as soon as possible.\n",
      "\n",
      "Thank you for your understanding.\n",
      "\n",
      "Best regards,\n",
      "[Your Name]\n",
      "____________________________________________________________________________________________________\n",
      "\n",
      "\n"
     ]
    }
   ],
   "source": [
    "# Access to the First Task of thre given list \n",
    "task = list_of_tasks[0]\n",
    "print_llm_response(task)"
   ]
  },
  {
   "cell_type": "code",
   "execution_count": 26,
   "id": "d5040f08-d01a-4b7f-acd0-70a9bfffe805",
   "metadata": {},
   "outputs": [
    {
     "name": "stdout",
     "output_type": "stream",
     "text": [
      "____________________________________________________________________________________________________\n",
      "Happy 28th birthday, Otto dear,\n",
      "Another year to hold so near.\n",
      "May joy and laughter fill your day,\n",
      "And blessings come in every way.\n",
      "\n",
      "With each year that passes by,\n",
      "May your dreams reach for the sky.\n",
      "Celebrate this special date,\n",
      "And let happiness be your fate.\n",
      "\n",
      "So blow out the candles, make a wish,\n",
      "For a year ahead filled with bliss.\n",
      "Happy birthday, Otto, may it be great,\n",
      "Enjoy every moment, celebrate!\n",
      "____________________________________________________________________________________________________\n",
      "\n",
      "\n"
     ]
    }
   ],
   "source": [
    "# Access to the Second Task of thre given list \n",
    "task = list_of_tasks[1]\n",
    "print_llm_response(task)"
   ]
  },
  {
   "cell_type": "code",
   "execution_count": 27,
   "id": "2085c168-21ee-4675-b10e-082945b80af4",
   "metadata": {},
   "outputs": [
    {
     "name": "stdout",
     "output_type": "stream",
     "text": [
      "____________________________________________________________________________________________________\n",
      "\"The Arrival\" is a captivating science fiction film that delves into the complexities of communication and the consequences of human actions. Directed by Denis Villeneuve, the movie follows linguistics professor Louise Banks, played brilliantly by Amy Adams, as she is recruited by the military to help decipher the language of mysterious extraterrestrial visitors.\n",
      "\n",
      "The film's slow-burning tension and thought-provoking narrative keep viewers on the edge of their seats as Louise races against time to prevent a global catastrophe. Villeneuve's masterful direction creates a sense of unease and wonder, drawing audiences into the enigmatic world of the aliens and the high-stakes diplomatic efforts to understand their intentions.\n",
      "\n",
      "Amy Adams delivers a powerful and nuanced performance, anchoring the film with her emotional depth and intelligence. Her character's journey of self-discovery and empathy adds a poignant layer to the film's exploration of communication and understanding.\n",
      "\n",
      "The visual effects in \"The Arrival\" are stunning, creating a sense of awe and otherworldliness that enhances the film's immersive experience. The alien spacecraft and their intricate language system are beautifully rendered, adding to the film's sense of mystery and wonder.\n",
      "\n",
      "The film's twist ending is both unexpected and deeply moving, challenging viewers to reconsider their assumptions and beliefs about time, language, and the nature of humanity. \"The Arrival\" is a thought-provoking and visually stunning sci-fi masterpiece that will leave audiences pondering its themes long after the credits roll.\n",
      "\n",
      "In conclusion, \"The Arrival\" is a must-see film for fans of intelligent science fiction and thought-provoking storytelling. With its stellar performances, masterful direction, and mind-bending narrative, this film is a standout in the genre and a testament to the power of cinema to provoke thought and inspire wonder.\n",
      "____________________________________________________________________________________________________\n",
      "\n",
      "\n"
     ]
    }
   ],
   "source": [
    "# Access to the Third Task of thre given list \n",
    "task = list_of_tasks[2]\n",
    "print_llm_response(task)"
   ]
  },
  {
   "cell_type": "markdown",
   "id": "dcac3fe6",
   "metadata": {},
   "source": [
    "You worked through all the elements in the list, but there is still a lot of repetition here. You had to specify each element separately. There is actually a much better way to do this using something called a for `loop`. \n"
   ]
  },
  {
   "cell_type": "markdown",
   "id": "1041cb0d",
   "metadata": {},
   "source": [
    "## Conclusion \n",
    "By the end of this notebook, you will be able to create lists, access individual elements, modify lists, and use lists within LLM prompts to automate various tasks.   \n",
    "By completing this notebook, you have learned how to create and manipulate lists in Python, handle common list errors, and use lists within LLM prompts to automate tasks. These skills are essential for efficient programming and automation, enabling you to handle repetitive tasks and make data-driven decisions programmatically. Continue practicing and exploring the versatility of lists to enhance your Python programming capabilities."
   ]
  },
  {
   "cell_type": "markdown",
   "id": "ba8d2d3b-8745-4d96-b175-08cffdc856a4",
   "metadata": {},
   "source": [
    "## Extra practice"
   ]
  },
  {
   "cell_type": "markdown",
   "id": "558ae3a6-972f-45a2-bfc3-7dbbda7f1c7b",
   "metadata": {},
   "source": [
    "Please go through the exercises in the cells below if you want some extra practice for the topics you covered in this lesson."
   ]
  },
  {
   "cell_type": "markdown",
   "id": "a3eaf2f2",
   "metadata": {},
   "source": [
    "- EXAMPLE 1"
   ]
  },
  {
   "cell_type": "code",
   "execution_count": null,
   "id": "a52ac3fe-7e72-44c4-9556-8f872ec6bf73",
   "metadata": {},
   "outputs": [],
   "source": [
    "# Create a list with the titles \n",
    "# of five of your favorite movies\n",
    "\n",
    "### WRITE CODE HERE ###\n",
    "movie_list = \n",
    "### --------------- ###"
   ]
  },
  {
   "cell_type": "markdown",
   "id": "57ff1447",
   "metadata": {},
   "source": [
    "Creation of list of titles of five of my favorite movies-related data! "
   ]
  },
  {
   "cell_type": "code",
   "execution_count": 28,
   "id": "7d9a8111",
   "metadata": {},
   "outputs": [],
   "source": [
    "movie_list  = [\"The Shawshank Redemption\", \"Inception\", \"The Matrix\", \"The Dark Knight\", \"Forrest Gump\"]\n"
   ]
  },
  {
   "cell_type": "code",
   "execution_count": 29,
   "id": "af0bf6d8",
   "metadata": {},
   "outputs": [
    {
     "name": "stdout",
     "output_type": "stream",
     "text": [
      "My favorite movies are: The Shawshank Redemption, Inception, The Matrix, The Dark Knight, Forrest Gump\n"
     ]
    }
   ],
   "source": [
    "#print(f\"My favourite movies are the following {movie_list}\")\n",
    "# Print in a custom format\n",
    "print(\"My favorite movies are: {}\".format(\", \".join(movie_list)))\n"
   ]
  },
  {
   "cell_type": "markdown",
   "id": "12e9776f",
   "metadata": {},
   "source": [
    "- EXAMPLE 2"
   ]
  },
  {
   "cell_type": "code",
   "execution_count": null,
   "id": "a2f8afeb-ee8e-46f9-ad39-751a1ab9fdf3",
   "metadata": {},
   "outputs": [],
   "source": [
    "# Display the fourth element of \n",
    "# the following list using print()\n",
    "\n",
    "prime_numbers = [2, 3, 5, 7, 11]\n",
    "\n",
    "### WRITE CODE HERE ###\n",
    "\n",
    "### --------------- ###"
   ]
  },
  {
   "cell_type": "code",
   "execution_count": 30,
   "id": "82a372ff",
   "metadata": {},
   "outputs": [],
   "source": [
    "prime_numbers = [2, 3, 5, 7, 11]"
   ]
  },
  {
   "cell_type": "code",
   "execution_count": 31,
   "id": "c86e0a43",
   "metadata": {},
   "outputs": [
    {
     "name": "stdout",
     "output_type": "stream",
     "text": [
      "[2, 3, 5, 7, 11]\n"
     ]
    }
   ],
   "source": [
    "print(prime_numbers)"
   ]
  },
  {
   "cell_type": "markdown",
   "id": "63d338f8",
   "metadata": {},
   "source": [
    "<p style=\"background-color:#F5C780; padding:15px\"> 🤖 <b>Use the Chatbot</b>: How can the fourth element in the abovr list diplayed?\n",
    "</p>"
   ]
  },
  {
   "cell_type": "markdown",
   "id": "2cc3707b",
   "metadata": {},
   "source": [
    "**Response Chatbot**: To display the fourth element in the list prime_numbers = [2, 3, 5, 7, 11], you can use indexing. In Python, list indices are zero-based, so the fourth element has an index of 3."
   ]
  },
  {
   "cell_type": "code",
   "execution_count": 32,
   "id": "9e126243",
   "metadata": {},
   "outputs": [
    {
     "name": "stdout",
     "output_type": "stream",
     "text": [
      "7\n",
      "The fourth element in the given list is 7\n"
     ]
    }
   ],
   "source": [
    "# Display the fourth element\n",
    "print(prime_numbers[3])\n",
    "# Print in a custom format\n",
    "print(f\"The fourth element in the given list is {prime_numbers[3]}\")"
   ]
  },
  {
   "cell_type": "code",
   "execution_count": null,
   "id": "ca358297-651e-4ad7-912f-921af007ef01",
   "metadata": {},
   "outputs": [],
   "source": [
    "# Fix the bug in the following code\n",
    "\n",
    "prime_numbers = [2, 3, 5, 7, 11]\n",
    "\n",
    "### FIX THIS CODE ###\n",
    "print(prime_numbers(3)) #access and print() the fourth element\n",
    "### --------------- ###"
   ]
  },
  {
   "cell_type": "markdown",
   "id": "ab693ebc",
   "metadata": {},
   "source": [
    "Let's get first a quick look at the items of the given list "
   ]
  },
  {
   "cell_type": "code",
   "execution_count": 33,
   "id": "20c3c313",
   "metadata": {},
   "outputs": [],
   "source": [
    "prime_numbers = [2, 3, 5, 7, 11]"
   ]
  },
  {
   "cell_type": "code",
   "execution_count": null,
   "id": "f7b343d3",
   "metadata": {},
   "outputs": [],
   "source": [
    "### FIX THIS CODE ###\n",
    "print(prime_numbers(3)) #access and print() the fourth element\n",
    "### --------------- ###"
   ]
  },
  {
   "cell_type": "markdown",
   "id": "eee3370f",
   "metadata": {},
   "source": [
    "<p style=\"background-color:#F5C780; padding:15px\"> 🤖 <b>Use the Chatbot</b>: How can I fix the TypeError: 'list' object is not callable\n",
    "</p>"
   ]
  },
  {
   "cell_type": "markdown",
   "id": "6cdc6999",
   "metadata": {},
   "source": [
    "**Response Chatbot**: 1. Mistaken Use of Parentheses Instead of Square Brackets\n",
    "A very common cause of this error is accidentally using parentheses () instead of square brackets [] when trying to access an element of a list."
   ]
  },
  {
   "cell_type": "code",
   "execution_count": 34,
   "id": "79dc4770",
   "metadata": {},
   "outputs": [
    {
     "name": "stdout",
     "output_type": "stream",
     "text": [
      "7\n"
     ]
    }
   ],
   "source": [
    "# Fix the error\n",
    "print(prime_numbers[3])"
   ]
  },
  {
   "cell_type": "code",
   "execution_count": 35,
   "id": "6db4a347",
   "metadata": {},
   "outputs": [
    {
     "name": "stdout",
     "output_type": "stream",
     "text": [
      "The fourth number of the given list is 7\n"
     ]
    }
   ],
   "source": [
    "print(f\"The fourth number of the given list is {prime_numbers[3]}\")"
   ]
  },
  {
   "cell_type": "markdown",
   "id": "356faf04",
   "metadata": {},
   "source": [
    "- EXAMPLE 3"
   ]
  },
  {
   "cell_type": "code",
   "execution_count": null,
   "id": "a823e76b-18b1-45d9-a678-1aa481d17496",
   "metadata": {},
   "outputs": [],
   "source": [
    "#Add one name to friends_list using append\n",
    "\n",
    "friends_list = [\"Tommy\", \"Isabel\", \"Daniel\", \"Otto\"]\n",
    "\n",
    "### WRITE CODE HERE ###\n",
    "\n",
    "### --------------- ###\n",
    "\n",
    "print(friends_list)"
   ]
  },
  {
   "cell_type": "code",
   "execution_count": 36,
   "id": "225273f0",
   "metadata": {},
   "outputs": [
    {
     "name": "stdout",
     "output_type": "stream",
     "text": [
      "['Tommy', 'Isabel', 'Daniel', 'Otto']\n"
     ]
    }
   ],
   "source": [
    "# Print the items that are enclosed in the given list\n",
    "friends_list = [\"Tommy\", \"Isabel\", \"Daniel\", \"Otto\"]\n",
    "print(friends_list)"
   ]
  },
  {
   "cell_type": "code",
   "execution_count": 37,
   "id": "29d8e201",
   "metadata": {},
   "outputs": [
    {
     "name": "stdout",
     "output_type": "stream",
     "text": [
      "['Tommy', 'Isabel', 'Daniel', 'Otto', 'PincoPalla']\n"
     ]
    }
   ],
   "source": [
    "#Add one name to friends_list using append\n",
    "friends_list.append(\"PincoPalla\")\n",
    "print(friends_list)"
   ]
  },
  {
   "cell_type": "markdown",
   "id": "78925e4c",
   "metadata": {},
   "source": [
    "<p style=\"background-color:#F5C780; padding:15px\"> 🤖 <b>Use the Chatbot</b>: How can I append a new item in position 1 of the above list?\n",
    "</p>"
   ]
  },
  {
   "cell_type": "markdown",
   "id": "dbf846c7",
   "metadata": {},
   "source": [
    "**Response Chatbot** The append() method always adds an item to the end of a list, so it cannot be used to directly insert an item in a specific position (like at index 1). However, you can still achieve the same result using a combination of append() and other list operations.\n",
    "\n",
    "Here’s how you can do it:\n",
    "\n",
    "Approach:\n",
    "- Append the new item to the end of the list.\n",
    "- Use list slicing or pop() to move the item to the desired position."
   ]
  },
  {
   "cell_type": "code",
   "execution_count": 38,
   "id": "650cd8f4",
   "metadata": {},
   "outputs": [
    {
     "name": "stdout",
     "output_type": "stream",
     "text": [
      "['Tommy', 'PincoPalla', 'Isabel', 'Daniel', 'Otto']\n"
     ]
    }
   ],
   "source": [
    "# Move \"PincoPalla\" to the desired position (index 1)\n",
    "friends_list.insert(1, friends_list.pop())\n",
    "\n",
    "print(friends_list)"
   ]
  },
  {
   "cell_type": "markdown",
   "id": "bbdefce2",
   "metadata": {},
   "source": [
    "- EXAMPLE 4"
   ]
  },
  {
   "cell_type": "code",
   "execution_count": 45,
   "id": "bae37d2d-3736-410b-983b-2e40fe5b1302",
   "metadata": {},
   "outputs": [],
   "source": [
    "# In the following code, remove the country \n",
    "# that is not in South America\n",
    "\n",
    "countries_in_south_america = [\"Colombia\", \"Peru\", \n",
    "                              \"Brasil\", \"Japan\",\n",
    "                              \"Argentina\"]\n",
    "\n",
    "### WRITE CODE HERE ###\n",
    "\n",
    "## --------------- ###"
   ]
  },
  {
   "cell_type": "markdown",
   "id": "c81b793f",
   "metadata": {},
   "source": [
    "Let's get a view of the items that are enclosed in the list "
   ]
  },
  {
   "cell_type": "code",
   "execution_count": 40,
   "id": "23af6c43",
   "metadata": {},
   "outputs": [],
   "source": [
    "countries_in_south_america = [\"Colombia\", \"Peru\", \n",
    "                              \"Brasil\", \"Japan\",\n",
    "                              \"Argentina\"]"
   ]
  },
  {
   "cell_type": "code",
   "execution_count": 41,
   "id": "cf8b545c",
   "metadata": {},
   "outputs": [
    {
     "name": "stdout",
     "output_type": "stream",
     "text": [
      "['Colombia', 'Peru', 'Brasil', 'Japan', 'Argentina']\n"
     ]
    }
   ],
   "source": [
    "print(countries_in_south_america)"
   ]
  },
  {
   "cell_type": "markdown",
   "id": "98a488a3",
   "metadata": {},
   "source": [
    "<p style=\"background-color:#F5C780; padding:15px\"> 🤖 <b>Use the Chatbot</b>:  Which country is not in South America?\n",
    "</p>"
   ]
  },
  {
   "cell_type": "markdown",
   "id": "f5ecf4be",
   "metadata": {},
   "source": [
    "**Response Chatbot** The country that is not in South America is Japan."
   ]
  },
  {
   "cell_type": "code",
   "execution_count": 42,
   "id": "88e99dfe",
   "metadata": {},
   "outputs": [
    {
     "name": "stdout",
     "output_type": "stream",
     "text": [
      "['Colombia', 'Peru', 'Brasil', 'Argentina']\n"
     ]
    }
   ],
   "source": [
    "#using remove\n",
    "countries_in_south_america.remove(\"Japan\")\n",
    "print(countries_in_south_america)"
   ]
  }
 ],
 "metadata": {
  "kernelspec": {
   "display_name": ".venv",
   "language": "python",
   "name": "python3"
  },
  "language_info": {
   "codemirror_mode": {
    "name": "ipython",
    "version": 3
   },
   "file_extension": ".py",
   "mimetype": "text/x-python",
   "name": "python",
   "nbconvert_exporter": "python",
   "pygments_lexer": "ipython3",
   "version": "3.12.2"
  }
 },
 "nbformat": 4,
 "nbformat_minor": 5
}
