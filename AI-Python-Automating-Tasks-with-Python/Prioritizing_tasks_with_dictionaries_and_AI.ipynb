{
 "cells": [
  {
   "cell_type": "markdown",
   "id": "f6bf49f7-21f0-47bc-9a3e-7fd325a0b9bf",
   "metadata": {},
   "source": [
    "# Prioritizing tasks with dictionaries and AI 📊 "
   ]
  },
  {
   "cell_type": "markdown",
   "id": "8ab78425-c090-450a-a810-1ff6d8f4aefb",
   "metadata": {},
   "source": [
    "## Introduction\n",
    "This notebook aims to give you an insight how to use dictionaries in Python to store and manage key-value pairs efficiently. By leveraging `dictionaries`, you can prioritize tasks and automate them using AI. This guide will walk you through the basics of dictionaries, including creating, accessing, updating, and using dictionaries within prompts for language learning models (LLMs)`. To sum up, you will get a deep understanding  how to create, access, update, and use dictionaries to prioritize tasks and automate them using Python.\n",
    "\n",
    "\n",
    "**Note** The main difference between a dictionary and a list, is that dictionaries assign a key to each values instead of an index. Let's start by importing some functions."
   ]
  },
  {
   "cell_type": "markdown",
   "id": "98d8e08b",
   "metadata": {},
   "source": [
    "### Importing specific functions from the helper_functions module.\n",
    "\n",
    "- The _print_llm_response_ function is likely used to print responses from a language learning model.\n",
    "- The _get_llm_response_ function is likely used to get responses from a language learning model."
   ]
  },
  {
   "cell_type": "code",
   "execution_count": 1,
   "id": "0669df5d-5013-466b-90c8-679364ff80a1",
   "metadata": {},
   "outputs": [],
   "source": [
    "# Importing specific functions\n",
    "from helper_functions import print_llm_response, get_llm_response"
   ]
  },
  {
   "cell_type": "markdown",
   "id": "25969c7c",
   "metadata": {},
   "source": [
    "If you wanted to store ice cream flavor descriptions using lists, you would have something like this:"
   ]
  },
  {
   "cell_type": "code",
   "execution_count": 2,
   "id": "ca5a2042",
   "metadata": {},
   "outputs": [],
   "source": [
    "ice_cream_flavors = [\n",
    "    \"Vanilla: Classic and creamy with a rich, smooth flavor from real vanilla beans.\",\n",
    "    \"Chocolate: Deep and indulgent, made with rich cocoa for a satisfying chocolate experience.\",\n",
    "    \"Strawberry: Sweet and fruity, bursting with the fresh taste of ripe strawberries.\",\n",
    "    \"Mint Chocolate Chip: Refreshing mint ice cream studded with decadent chocolate chips.\",\n",
    "    \"Cookie Dough: Vanilla ice cream loaded with chunks of chocolate chip cookie dough.\",\n",
    "    \"Salted Caramel: Sweet and salty with a smooth caramel swirl and a hint of sea salt.\",\n",
    "    \"Pistachio: Nutty and creamy, featuring the distinct taste of real pistachios.\",\n",
    "    \"Cookies and Cream: Vanilla ice cream packed with chunks of chocolate sandwich cookies.\",\n",
    "    \"Mango: Tropical and tangy, made with juicy mangoes for a refreshing treat.\",\n",
    "    \"Rocky Road: Chocolate ice cream mixed with marshmallows, nuts, and chocolate chunks.\"\n",
    "]"
   ]
  },
  {
   "cell_type": "markdown",
   "id": "1eeea849-9f55-4f3c-884a-9181814c55fc",
   "metadata": {},
   "source": [
    "If you wanted to look up the description for a particular flavor, you would have to memorize its index."
   ]
  },
  {
   "cell_type": "markdown",
   "id": "36e7364c-e8ac-4f32-80dc-955883ce072a",
   "metadata": {},
   "source": [
    "## Building intuition and definitions\n",
    "\n",
    "`Dictionaries` in Python are very similar to the dictionaries you would find in a library. Each value in a dictionary is associated with a key, just as you will find definitions associated to words in a hardcover dictionary. Let's take as an example the following dictionary with ice cream flavors."
   ]
  },
  {
   "cell_type": "markdown",
   "id": "76ed4e38",
   "metadata": {},
   "source": [
    "Dictionaries in Python are essential for storing and managing data efficiently. They allow you to associate keys with values, making data retrieval more intuitive compared to lists.\""
   ]
  },
  {
   "cell_type": "code",
   "execution_count": 3,
   "id": "7e725e5e-4fa2-4a09-95e9-a67c34f96e46",
   "metadata": {},
   "outputs": [],
   "source": [
    "# Define a list of ice cream flavors with their descriptions\n",
    "ice_cream_flavors = {\n",
    "    \"Mint Chocolate Chip\": \"Refreshing mint ice cream studded with decadent chocolate chips.\",\n",
    "    \"Cookie Dough\": \"Vanilla ice cream loaded with chunks of chocolate chip cookie dough.\",\n",
    "    \"Salted Caramel\": \"Sweet and salty with a smooth caramel swirl and a hint of sea salt.\"\n",
    "}   "
   ]
  },
  {
   "cell_type": "markdown",
   "id": "ec17ee22",
   "metadata": {},
   "source": [
    "The `ice_cream_flavors` dictionary has _keys_:"
   ]
  },
  {
   "cell_type": "code",
   "execution_count": 4,
   "id": "f798f6bf-7fa9-4eb3-b576-77fa101e24b2",
   "metadata": {},
   "outputs": [
    {
     "name": "stdout",
     "output_type": "stream",
     "text": [
      "dict_keys(['Mint Chocolate Chip', 'Cookie Dough', 'Salted Caramel'])\n"
     ]
    }
   ],
   "source": [
    "print(ice_cream_flavors.keys())"
   ]
  },
  {
   "cell_type": "markdown",
   "id": "2fb5e9c3",
   "metadata": {},
   "source": [
    "and _values_:"
   ]
  },
  {
   "cell_type": "code",
   "execution_count": 5,
   "id": "91a35e3b-f437-4832-8610-0960ac9705b5",
   "metadata": {},
   "outputs": [
    {
     "name": "stdout",
     "output_type": "stream",
     "text": [
      "dict_values(['Refreshing mint ice cream studded with decadent chocolate chips.', 'Vanilla ice cream loaded with chunks of chocolate chip cookie dough.', 'Sweet and salty with a smooth caramel swirl and a hint of sea salt.'])\n"
     ]
    }
   ],
   "source": [
    "print(ice_cream_flavors.values())"
   ]
  },
  {
   "cell_type": "markdown",
   "id": "e5700c35-4814-4e92-8435-eb614da9bce0",
   "metadata": {},
   "source": [
    "## Accessing elements"
   ]
  },
  {
   "cell_type": "markdown",
   "id": "358ac279",
   "metadata": {},
   "source": [
    "In Python, dictionaries are used to store data in key-value pairs. This allows you to access data using a unique key, making data retrieval more efficient."
   ]
  },
  {
   "cell_type": "markdown",
   "id": "cb11e3ff",
   "metadata": {},
   "source": [
    "Dictionaries don't index their elements as list do, so you cannot access values in the way you would using lists. If you run the cell below, you will get an error message since the index 0 is not a key in the `ice_cream_flavors` dictionary. "
   ]
  },
  {
   "cell_type": "code",
   "execution_count": 6,
   "id": "c20fbfe7-e0fd-45e9-8fbb-071bf5a64ecb",
   "metadata": {},
   "outputs": [
    {
     "ename": "KeyError",
     "evalue": "0",
     "output_type": "error",
     "traceback": [
      "\u001b[1;31m---------------------------------------------------------------------------\u001b[0m",
      "\u001b[1;31mKeyError\u001b[0m                                  Traceback (most recent call last)",
      "Cell \u001b[1;32mIn[6], line 2\u001b[0m\n\u001b[0;32m      1\u001b[0m \u001b[38;5;66;03m#Wrong way of accessing elements (treating dict as a list)\u001b[39;00m\n\u001b[1;32m----> 2\u001b[0m \u001b[38;5;28mprint\u001b[39m(\u001b[43mice_cream_flavors\u001b[49m\u001b[43m[\u001b[49m\u001b[38;5;241;43m0\u001b[39;49m\u001b[43m]\u001b[49m)\n",
      "\u001b[1;31mKeyError\u001b[0m: 0"
     ]
    }
   ],
   "source": [
    "#Wrong way of accessing elements (treating dict as a list)\n",
    "print(ice_cream_flavors[0])"
   ]
  },
  {
   "cell_type": "markdown",
   "id": "5f0d780a",
   "metadata": {},
   "source": [
    "Let's ask the chatbot how to access items in this dictionary.\n",
    "\n",
    "<p style=\"background-color:#F5C780; padding:15px\"> 🤖 <b>Use the Chatbot</b>: How do I access a single item in this dictionary? <br>\n",
    "ice_cream_flavors = {<br>\n",
    "    \"Mint Chocolate Chip\": \"Refreshing mint ice cream studded with decadent chocolate chips.\",<br>\n",
    "    \"Cookie Dough\": \"Vanilla ice cream loaded with chunks of chocolate chip cookie dough.\",<br>\n",
    "    \"Salted Caramel\": \"Sweet and salty with a smooth caramel swirl and a hint of sea salt.\"<br>\n",
    "} <br>\n",
    "</p> "
   ]
  },
  {
   "cell_type": "markdown",
   "id": "594bb137",
   "metadata": {},
   "source": [
    "**Respnse Chatbot**: You can retrieve values from the dictionary using the `key`. For instance, for `Cookie Dough`, you can run the following code (as shown in the below print statements):"
   ]
  },
  {
   "cell_type": "code",
   "execution_count": 7,
   "id": "529b68a1-57fe-4ebb-ad6a-db08c3c3f38a",
   "metadata": {},
   "outputs": [
    {
     "name": "stdout",
     "output_type": "stream",
     "text": [
      "Vanilla ice cream loaded with chunks of chocolate chip cookie dough.\n"
     ]
    }
   ],
   "source": [
    "# Correctly indented dictionary definition\n",
    "cookie_dough_description = ice_cream_flavors[\"Cookie Dough\"]\n",
    "print(cookie_dough_description)"
   ]
  },
  {
   "cell_type": "markdown",
   "id": "ca9255b5",
   "metadata": {},
   "source": [
    "<p style=\"background-color:#F5C780; padding:15px\"> 🤖 <b>Use the Chatbot</b>: How can access to the keys of the dictionary? <br>"
   ]
  },
  {
   "cell_type": "markdown",
   "id": "786d24fe",
   "metadata": {},
   "source": [
    "**Response Chatbot**: You can access the keys of a dictionary in Python using the .keys() method. This method returns a view object that displays a list of all the keys in the dictionary."
   ]
  },
  {
   "cell_type": "code",
   "execution_count": 8,
   "id": "5799dab3",
   "metadata": {},
   "outputs": [],
   "source": [
    "# Accession keys \n",
    "keys = ice_cream_flavors.keys()"
   ]
  },
  {
   "cell_type": "code",
   "execution_count": 9,
   "id": "0f7177d0",
   "metadata": {},
   "outputs": [
    {
     "name": "stdout",
     "output_type": "stream",
     "text": [
      "dict_keys(['Mint Chocolate Chip', 'Cookie Dough', 'Salted Caramel'])\n"
     ]
    }
   ],
   "source": [
    "print(keys)"
   ]
  },
  {
   "cell_type": "markdown",
   "id": "0bdeb85d",
   "metadata": {},
   "source": [
    "**Additional suggestion from Chatbot**: You can also loop through the keys like this:"
   ]
  },
  {
   "cell_type": "code",
   "execution_count": 10,
   "id": "8670f0f4",
   "metadata": {},
   "outputs": [
    {
     "name": "stdout",
     "output_type": "stream",
     "text": [
      "Mint Chocolate Chip\n",
      "Cookie Dough\n",
      "Salted Caramel\n"
     ]
    }
   ],
   "source": [
    "#Loop through the dictionary keys:\n",
    "for key in ice_cream_flavors.keys():\n",
    "    print(key)"
   ]
  },
  {
   "cell_type": "markdown",
   "id": "58d11da3",
   "metadata": {},
   "source": [
    "<p style=\"background-color:#F5C780; padding:15px\"> 🤖 <b>Use the Chatbot</b>: What about to get only one key of the dictionary? <br>"
   ]
  },
  {
   "cell_type": "markdown",
   "id": "45dca7c0",
   "metadata": {},
   "source": [
    "**Response Chatbot** : To access the value associated with a specific key, such as \"age\", you can use the key directly inside square brackets ([]) or use the .get() method. Here's how you can do that:\n",
    "\n",
    "- Method 1: _Using Square Brackets_"
   ]
  },
  {
   "cell_type": "code",
   "execution_count": 12,
   "id": "0bbf0340",
   "metadata": {},
   "outputs": [
    {
     "name": "stdout",
     "output_type": "stream",
     "text": [
      "Refreshing mint ice cream studded with decadent chocolate chips.\n"
     ]
    }
   ],
   "source": [
    "# Accessing the value of 'age' using square brackets\n",
    "Mind_Chocolate_Chip = ice_cream_flavors[\"Mint Chocolate Chip\"]\n",
    "print(Mind_Chocolate_Chip)  \n"
   ]
  },
  {
   "cell_type": "markdown",
   "id": "c272486b",
   "metadata": {},
   "source": [
    "- Method 2: _Using .get()_"
   ]
  },
  {
   "cell_type": "code",
   "execution_count": 13,
   "id": "89de671b",
   "metadata": {},
   "outputs": [
    {
     "name": "stdout",
     "output_type": "stream",
     "text": [
      "Refreshing mint ice cream studded with decadent chocolate chips.\n"
     ]
    }
   ],
   "source": [
    "Mind_Chocolate_Chip= ice_cream_flavors.get(\"Mint Chocolate Chip\")\n",
    "print(Mind_Chocolate_Chip)"
   ]
  },
  {
   "cell_type": "markdown",
   "id": "0c72ec6c-54c3-4452-aeb6-7ca4c11365f8",
   "metadata": {},
   "source": [
    "## Adding and updating elements in a dictionary"
   ]
  },
  {
   "cell_type": "markdown",
   "id": "525a82e3-8815-4e38-8c05-0d17b8e29e8b",
   "metadata": {},
   "source": [
    "Let's take another look at the `ice_cream_flavors` dictionary"
   ]
  },
  {
   "cell_type": "code",
   "execution_count": 14,
   "id": "85b77c6b-f3a9-4c43-a88b-8b21a8ea3b14",
   "metadata": {},
   "outputs": [
    {
     "name": "stdout",
     "output_type": "stream",
     "text": [
      "{'Mint Chocolate Chip': 'Refreshing mint ice cream studded with decadent chocolate chips.', 'Cookie Dough': 'Vanilla ice cream loaded with chunks of chocolate chip cookie dough.', 'Salted Caramel': 'Sweet and salty with a smooth caramel swirl and a hint of sea salt.'}\n"
     ]
    }
   ],
   "source": [
    "print(ice_cream_flavors)"
   ]
  },
  {
   "cell_type": "markdown",
   "id": "c4f538b4",
   "metadata": {},
   "source": [
    "Now, to add a new item for the `\"Rocky Road\"` flavor, you will need to assign its definition to `ice_cream_flavors[\"Rocky Road\"]` as follows:"
   ]
  },
  {
   "cell_type": "code",
   "execution_count": 15,
   "id": "f443cc67-2008-4e6a-93e9-b5ce7955dda2",
   "metadata": {},
   "outputs": [],
   "source": [
    "ice_cream_flavors[\"Rocky Road\"] = \"Chocolate ice cream mixd witother ngredients.\""
   ]
  },
  {
   "cell_type": "markdown",
   "id": "97ed0ed1",
   "metadata": {},
   "source": [
    "Note that you are using the same syntax that selects a single item, but this time use a key that didn't exist before and assign it a value. Let's check the dictionary after this update:"
   ]
  },
  {
   "cell_type": "code",
   "execution_count": 16,
   "id": "6547f5e5",
   "metadata": {},
   "outputs": [
    {
     "name": "stdout",
     "output_type": "stream",
     "text": [
      "{'Mint Chocolate Chip': 'Refreshing mint ice cream studded with decadent chocolate chips.', 'Cookie Dough': 'Vanilla ice cream loaded with chunks of chocolate chip cookie dough.', 'Salted Caramel': 'Sweet and salty with a smooth caramel swirl and a hint of sea salt.', 'Rocky Road': 'Chocolate ice cream mixd witother ngredients.'}\n"
     ]
    }
   ],
   "source": [
    "print(ice_cream_flavors)"
   ]
  },
  {
   "cell_type": "markdown",
   "id": "e1e0cce4",
   "metadata": {},
   "source": [
    "You can update existing dictionary items in a similar way. Let's fix the typos from the `\"Rocky Road\"` description."
   ]
  },
  {
   "cell_type": "code",
   "execution_count": 17,
   "id": "37d150d3",
   "metadata": {},
   "outputs": [],
   "source": [
    "ice_cream_flavors[\"Rocky Road\"] = \"Chocolate ice cream mixed with other ingredients.\""
   ]
  },
  {
   "cell_type": "code",
   "execution_count": 18,
   "id": "2a411986-59a5-4553-9192-65a3b54a8410",
   "metadata": {},
   "outputs": [
    {
     "name": "stdout",
     "output_type": "stream",
     "text": [
      "{'Mint Chocolate Chip': 'Refreshing mint ice cream studded with decadent chocolate chips.', 'Cookie Dough': 'Vanilla ice cream loaded with chunks of chocolate chip cookie dough.', 'Salted Caramel': 'Sweet and salty with a smooth caramel swirl and a hint of sea salt.', 'Rocky Road': 'Chocolate ice cream mixed with other ingredients.'}\n"
     ]
    }
   ],
   "source": [
    "print(ice_cream_flavors)"
   ]
  },
  {
   "cell_type": "markdown",
   "id": "00ada507-22fe-468e-b3b4-5af0994a0cce",
   "metadata": {},
   "source": [
    "## Different types of elements"
   ]
  },
  {
   "cell_type": "markdown",
   "id": "84da9a17-038e-4d95-9dab-ec9471b48bd3",
   "metadata": {},
   "source": [
    "Let's say that you store data about your friends. For Isabel you have the following dictionary."
   ]
  },
  {
   "cell_type": "code",
   "execution_count": 19,
   "id": "a021ebf7-25c6-45b5-913b-b159c73a54b6",
   "metadata": {},
   "outputs": [
    {
     "name": "stdout",
     "output_type": "stream",
     "text": [
      "{'age': 28, 'Favorite color': 'red'}\n"
     ]
    }
   ],
   "source": [
    "isabel_facts = {\n",
    "    \"age\": 28,\n",
    "    \"Favorite color\": \"red\"\n",
    "}\n",
    "print(isabel_facts)"
   ]
  },
  {
   "cell_type": "markdown",
   "id": "71c84574-6b83-4586-83a2-1a12e6bc0878",
   "metadata": {},
   "source": [
    "You can store information within that dictionary using lists. For instance, the names for each of her cats."
   ]
  },
  {
   "cell_type": "code",
   "execution_count": 20,
   "id": "b1e47c85-fd16-404a-a866-a01a9410b7f1",
   "metadata": {},
   "outputs": [],
   "source": [
    "isabel_facts[\"Cat names\"] = [\"Charlie\", \"Smokey\", \"Tabitha\"]"
   ]
  },
  {
   "cell_type": "code",
   "execution_count": 21,
   "id": "5596580c-7715-4b6e-92df-ca0f92134ddb",
   "metadata": {},
   "outputs": [
    {
     "name": "stdout",
     "output_type": "stream",
     "text": [
      "{'age': 28, 'Favorite color': 'red', 'Cat names': ['Charlie', 'Smokey', 'Tabitha']}\n"
     ]
    }
   ],
   "source": [
    "print(isabel_facts)"
   ]
  },
  {
   "cell_type": "markdown",
   "id": "414c3b49-112a-48b2-b1ba-9bde195dcc44",
   "metadata": {},
   "source": [
    "Or her favorite snacks:"
   ]
  },
  {
   "cell_type": "code",
   "execution_count": 22,
   "id": "db4c72de-08b1-4960-9b1a-d9d6b7a8c867",
   "metadata": {},
   "outputs": [],
   "source": [
    "isabel_facts[\"Favorite Snacks\"] = [\"pineapple cake\",\"candy\"]"
   ]
  },
  {
   "cell_type": "code",
   "execution_count": 23,
   "id": "2f9d168e-793b-42a5-bce3-c4d5573f7b45",
   "metadata": {},
   "outputs": [
    {
     "name": "stdout",
     "output_type": "stream",
     "text": [
      "{'age': 28, 'Favorite color': 'red', 'Cat names': ['Charlie', 'Smokey', 'Tabitha'], 'Favorite Snacks': ['pineapple cake', 'candy']}\n"
     ]
    }
   ],
   "source": [
    "print(isabel_facts)"
   ]
  },
  {
   "cell_type": "markdown",
   "id": "51d24fd6",
   "metadata": {},
   "source": [
    "Let's try to add a new item to the given list, using the explained method (\"Sqare Brackets\")\n"
   ]
  },
  {
   "cell_type": "code",
   "execution_count": 44,
   "id": "199d9c64",
   "metadata": {},
   "outputs": [
    {
     "name": "stdout",
     "output_type": "stream",
     "text": [
      "{'age': 28, 'Favorite color': 'red', 'Cat names': ['Charlie', 'Smokey', 'Tabitha'], 'Favorite Snacks': ['pineapple cake', 'candy'], 'favorite city': ['New York']}\n"
     ]
    }
   ],
   "source": [
    "isabel_facts[\"favorite city\"] = [\"New York\"] \n",
    "print(isabel_facts)"
   ]
  },
  {
   "cell_type": "markdown",
   "id": "5a42f3f2",
   "metadata": {},
   "source": [
    "<p style=\"background-color:#F5C780; padding:15px\"> 🤖 <b>Use the Chatbot</b>: How can I delete an item from a Python dictionary? <br>"
   ]
  },
  {
   "cell_type": "markdown",
   "id": "acd2ea97",
   "metadata": {},
   "source": [
    "**Response Chatbot**: You can delete an item from a Python dictionary, using the `del`statement. The `del` statement removes the key and its associated value from the dictionary "
   ]
  },
  {
   "cell_type": "code",
   "execution_count": 25,
   "id": "5d04531f",
   "metadata": {},
   "outputs": [
    {
     "name": "stdout",
     "output_type": "stream",
     "text": [
      "{'age': 28, 'Favorite color': 'red', 'Cat names': ['Charlie', 'Smokey', 'Tabitha'], 'Favorite Snacks': ['pineapple cake', 'candy']}\n"
     ]
    }
   ],
   "source": [
    "del isabel_facts[\"Favorite city\"]\n",
    "print(isabel_facts)"
   ]
  },
  {
   "cell_type": "markdown",
   "id": "dca7e8ac-9a22-4298-a09a-05325bbd00bd",
   "metadata": {},
   "source": [
    "## Using dictionaries to complete high priority tasks using AI"
   ]
  },
  {
   "cell_type": "markdown",
   "id": "d30606dd",
   "metadata": {},
   "source": [
    "You can use dictionaries to store various data types, such as lists, tuples, and other dictionaries. This flexibility makes dictionaries a powerful tool for managing complex data.\n",
    "In the previous lessons you completed the tasks from a list --like the one below-- using AI."
   ]
  },
  {
   "cell_type": "code",
   "execution_count": 26,
   "id": "1c7e996d-2cc1-48e5-9c8f-51b1403cfcb8",
   "metadata": {},
   "outputs": [],
   "source": [
    "#task example, large list not ordered by priority. Want to prioritize\n",
    "list_of_tasks = [\n",
    "    \"Compose a brief email to my boss explaining that I will be late for tomorrow's meeting.\",\n",
    "    \"Write a birthday poem for Otto, celebrating his 28th birthday.\",\n",
    "    \"Write a 300-word review of the movie 'The Arrival'.\",\n",
    "    \"Draft a thank-you note for my neighbor Dapinder who helped water my plants while I was on vacation.\",\n",
    "    \"Create an outline for a presentation on the benefits of remote work.\"\n",
    "]"
   ]
  },
  {
   "cell_type": "markdown",
   "id": "6bbfc589",
   "metadata": {},
   "source": [
    "In reality, not all tasks would have the `same priority`. In fact, for this example, you have tasks with high, medium and low priorities as defined by the following lists:"
   ]
  },
  {
   "cell_type": "code",
   "execution_count": 27,
   "id": "24fe42ec-0cbf-46e8-af15-6cc2eeff98a9",
   "metadata": {},
   "outputs": [],
   "source": [
    "#instead of that unorganized large list, divide tasks by priority\n",
    "high_priority_tasks = [\n",
    "    \"Compose a brief email to my boss explaining that I will be late for tomorrow's meeting.\",\n",
    "    \"Create an outline for a presentation on the benefits of remote work.\"\n",
    "]\n",
    "\n",
    "medium_priority_tasks = [\n",
    "    \"Write a birthday poem for Otto, celebrating his 28th birthday.\",\n",
    "    \"Draft a thank-you note for my neighbor Dapinder who helped water my plants while I was on vacation.\"\n",
    "]\n",
    "\n",
    "low_priority_tasks = [\n",
    "    \"Write a 300-word review of the movie 'The Arrival'.\"\n",
    "]"
   ]
  },
  {
   "cell_type": "markdown",
   "id": "f5732409",
   "metadata": {},
   "source": [
    "You can use dictionaries to store all the tasks with their priorities in a single data object. Run the following cell to create that dictionary and display its contents:"
   ]
  },
  {
   "cell_type": "code",
   "execution_count": 28,
   "id": "9db13c1e-3c7a-49c2-aaf7-96ba2f5c129d",
   "metadata": {},
   "outputs": [],
   "source": [
    "#create dictionary with all tasks\n",
    "#dictionaries can contain lists!\n",
    "prioritized_tasks = {\n",
    "    \"high_priority\": high_priority_tasks,\n",
    "    \"medium_priority\": medium_priority_tasks,\n",
    "    \"low_priority\": low_priority_tasks\n",
    "}"
   ]
  },
  {
   "cell_type": "code",
   "execution_count": 29,
   "id": "0b5a6caf-ac2b-42de-bfed-34f65e7af533",
   "metadata": {},
   "outputs": [
    {
     "name": "stdout",
     "output_type": "stream",
     "text": [
      "{'high_priority': [\"Compose a brief email to my boss explaining that I will be late for tomorrow's meeting.\", 'Create an outline for a presentation on the benefits of remote work.'], 'medium_priority': ['Write a birthday poem for Otto, celebrating his 28th birthday.', 'Draft a thank-you note for my neighbor Dapinder who helped water my plants while I was on vacation.'], 'low_priority': [\"Write a 300-word review of the movie 'The Arrival'.\"]}\n"
     ]
    }
   ],
   "source": [
    "print(prioritized_tasks)"
   ]
  },
  {
   "cell_type": "markdown",
   "id": "b9133811",
   "metadata": {},
   "source": [
    "With this data structure, it is easy for you to focus only on the high priority tasks and complete them using a for loop and LLMs:"
   ]
  },
  {
   "cell_type": "code",
   "execution_count": 30,
   "id": "a5983ba4-e53c-4e43-b00b-a405ed95cba4",
   "metadata": {},
   "outputs": [
    {
     "name": "stdout",
     "output_type": "stream",
     "text": [
      "[\"Compose a brief email to my boss explaining that I will be late for tomorrow's meeting.\", 'Create an outline for a presentation on the benefits of remote work.']\n"
     ]
    }
   ],
   "source": [
    "print(prioritized_tasks[\"high_priority\"])"
   ]
  },
  {
   "cell_type": "code",
   "execution_count": 31,
   "id": "497c5938-347d-4551-a291-2eb8d5c137f9",
   "metadata": {},
   "outputs": [
    {
     "name": "stdout",
     "output_type": "stream",
     "text": [
      "____________________________________________________________________________________________________\n",
      "Subject: Running Late for Tomorrow's Meeting\n",
      "\n",
      "Hi [Boss's Name],\n",
      "\n",
      "I wanted to let you know that I will be running a few minutes late for tomorrow's meeting due to an unexpected appointment. I apologize for any inconvenience this may cause and will join the meeting as soon as I can.\n",
      "\n",
      "Thank you for your understanding.\n",
      "\n",
      "Best regards,\n",
      "[Your Name]\n",
      "____________________________________________________________________________________________________\n",
      "\n",
      "\n",
      "____________________________________________________________________________________________________\n",
      "I. Introduction\n",
      "    A. Definition of remote work\n",
      "    B. Overview of remote work trends\n",
      "\n",
      "II. Benefits of Remote Work\n",
      "    A. Increased flexibility and work-life balance\n",
      "    B. Cost savings for both employees and employers\n",
      "    C. Access to a larger talent pool\n",
      "    D. Improved productivity and job satisfaction\n",
      "    E. Positive impact on the environment\n",
      "\n",
      "III. Challenges of Remote Work\n",
      "    A. Communication and collaboration\n",
      "    B. Maintaining work-life boundaries\n",
      "    C. Potential feelings of isolation\n",
      "\n",
      "IV. Best Practices for Remote Work\n",
      "    A. Establishing a dedicated workspace\n",
      "    B. Setting clear expectations and boundaries\n",
      "    C. Utilizing technology for effective communication\n",
      "    D. Prioritizing work-life balance\n",
      "\n",
      "V. Conclusion\n",
      "    A. Recap of benefits and challenges of remote work\n",
      "    B. Encouragement for embracing remote work opportunities\n",
      "____________________________________________________________________________________________________\n",
      "\n",
      "\n"
     ]
    }
   ],
   "source": [
    "#complete high priority tasks \n",
    "for task in prioritized_tasks[\"high_priority\"]:\n",
    "    print_llm_response(task)"
   ]
  },
  {
   "cell_type": "markdown",
   "id": "0252164f-5855-4c65-a631-bd71fd3b0586",
   "metadata": {},
   "source": [
    "In the next lesson we will continue exploring dictionaries. You will see how to use values to create prompts to use with LLMs."
   ]
  },
  {
   "cell_type": "markdown",
   "id": "e6297047",
   "metadata": {},
   "source": [
    "## Conclusion \n",
    "In this lesson, you learned how to use dictionaries to store and manage data efficiently. Mastering dictionaries is a fundamental step in becoming proficient in Python programming. Keep practicing to reinforce your understanding and enhance your coding skills.  \n",
    "By completing this notebook, you have gained a solid understanding of dictionaries and their applications in Python. You learned how to create, access, update, and use dictionaries to prioritize tasks and automate them using AI. These skills are essential for efficient programming and will serve as a foundation for more advanced topics. Continue practicing and exploring different ways to use dictionaries to solve problems and streamline your code."
   ]
  },
  {
   "cell_type": "markdown",
   "id": "0b3b2ee6-0afb-4b3b-afc0-9d4906333edc",
   "metadata": {},
   "source": [
    "## Extra practice"
   ]
  },
  {
   "cell_type": "markdown",
   "id": "39e1f950-58a2-43bb-a586-4e9f14155b32",
   "metadata": {},
   "source": [
    "Please go through the exercises in the cells below if you want some extra practice for the topics you covered in this lesson."
   ]
  },
  {
   "cell_type": "markdown",
   "id": "95f478bc",
   "metadata": {},
   "source": [
    "- Example 1 : Update the description for the Rocky Road flavor using get_llm_response()"
   ]
  },
  {
   "cell_type": "code",
   "execution_count": null,
   "id": "84928944-5d07-4475-8dda-07bb54823e32",
   "metadata": {},
   "outputs": [],
   "source": [
    "# Update the description for the \n",
    "# Rocky Road flavor using get_llm_response()\n",
    "\n",
    "flavor = \"Rocky Road\" \n",
    "prompt = f\"Provide a brief description for the {flavor} ice cream flavor\"\n",
    "\n",
    "### EDIT THE FOLLOWING CODE ###\n",
    "ice_cream_flavors[\"Rocky Road\"] = \n",
    "### --------------- ###"
   ]
  },
  {
   "cell_type": "code",
   "execution_count": null,
   "id": "bf2a4038",
   "metadata": {},
   "outputs": [],
   "source": [
    "flavor = \"Rocky Road\" \n",
    "prompt = f\"Provide a brief description for the {flavor} ice cream flavor\"\n",
    "\n",
    "### EDIT THE FOLLOWING CODE ###\n",
    "ice_cream_flavors[\"Rocky Road\"] = get_llm_response(prompt)\n",
    "print(get_llm_response(prompt))"
   ]
  },
  {
   "cell_type": "markdown",
   "id": "0050681f",
   "metadata": {},
   "source": [
    "Let's keep another flavor and get a short description of this using get_llm_response"
   ]
  },
  {
   "cell_type": "code",
   "execution_count": 34,
   "id": "3cc9f6d6",
   "metadata": {},
   "outputs": [
    {
     "name": "stdout",
     "output_type": "stream",
     "text": [
      "Cookie Dough ice cream is a classic flavor that features vanilla ice cream with chunks of cookie dough mixed in.\n"
     ]
    }
   ],
   "source": [
    "flavor = \"Cookie Dough\" \n",
    "prompt = f\"Provide a brief description for the {flavor} ice cream flavor\"\n",
    "\n",
    "### EDIT THE FOLLOWING CODE ###\n",
    "ice_cream_flavors[\"Cookie Dough\"] = get_llm_response(prompt)\n",
    "print(get_llm_response(prompt))"
   ]
  },
  {
   "cell_type": "markdown",
   "id": "eda4f924",
   "metadata": {},
   "source": [
    "Let's get the description of another flavor (\"Rocky Road\") using get_llm_respnse"
   ]
  },
  {
   "cell_type": "code",
   "execution_count": 35,
   "id": "a9c1c672",
   "metadata": {},
   "outputs": [
    {
     "name": "stdout",
     "output_type": "stream",
     "text": [
      "Rocky Road ice cream is a classic flavor that typically consists of chocolate ice cream with marshmallows and nuts, usually almonds.\n"
     ]
    }
   ],
   "source": [
    "flavor = \"Rocky Road\" \n",
    "prompt = f\"Provide a brief description for the {flavor} ice cream flavor\"\n",
    "\n",
    "### EDIT THE FOLLOWING CODE ###\n",
    "ice_cream_flavors[\"Rocky Road\"] = get_llm_response(prompt)\n",
    "print(get_llm_response(prompt))"
   ]
  },
  {
   "cell_type": "markdown",
   "id": "508ac2b9",
   "metadata": {},
   "source": [
    "Now, let's enclose these two flavors in a dictionary \"my_favorite_flavors\""
   ]
  },
  {
   "cell_type": "code",
   "execution_count": 36,
   "id": "ff8b317e",
   "metadata": {},
   "outputs": [
    {
     "ename": "NameError",
     "evalue": "name 'my_favorite_flavor' is not defined",
     "output_type": "error",
     "traceback": [
      "\u001b[1;31m---------------------------------------------------------------------------\u001b[0m",
      "\u001b[1;31mNameError\u001b[0m                                 Traceback (most recent call last)",
      "Cell \u001b[1;32mIn[36], line 1\u001b[0m\n\u001b[1;32m----> 1\u001b[0m \u001b[43mmy_favorite_flavor\u001b[49m[\u001b[38;5;124m\"\u001b[39m\u001b[38;5;124mflavor\u001b[39m\u001b[38;5;124m\"\u001b[39m] \u001b[38;5;241m=\u001b[39m \u001b[38;5;124m\"\u001b[39m\u001b[38;5;124mCookie Dough\u001b[39m\u001b[38;5;124m\"\u001b[39m\n\u001b[0;32m      2\u001b[0m \u001b[38;5;28mprint\u001b[39m(my_favorite_flavor)\n",
      "\u001b[1;31mNameError\u001b[0m: name 'my_favorite_flavor' is not defined"
     ]
    }
   ],
   "source": [
    "my_favorite_flavor[\"flavor\"] = \"Cookie Dough\"\n",
    "print(my_favorite_flavor)"
   ]
  },
  {
   "cell_type": "markdown",
   "id": "77210310",
   "metadata": {},
   "source": [
    "**Response Chatbot**: It looks like you're trying to add an item to a dictionary named my_favorite_flavor and then print the dictionary. However, based on the code snippet, it seems that my_favorite_flavor has not been defined yet. Before adding an item, you'll need to first define the dictionary."
   ]
  },
  {
   "cell_type": "code",
   "execution_count": 45,
   "id": "6d1f7848",
   "metadata": {},
   "outputs": [
    {
     "name": "stdout",
     "output_type": "stream",
     "text": [
      "{'flavor': ['Cookie Dough', 'Rocky Road']}\n"
     ]
    }
   ],
   "source": [
    "my_favorite_flavor = {}  #define the dictionary\n",
    "my_favorite_flavor[\"flavor\"] = [\"Cookie Dough\", \"Rocky Road\"]\n",
    "print(my_favorite_flavor)"
   ]
  },
  {
   "cell_type": "code",
   "execution_count": null,
   "id": "2bb222c9-9f01-4f29-9abc-d7c189e5d2d5",
   "metadata": {},
   "outputs": [],
   "source": [
    "# Complete the medium priority tasks\n",
    "# by modifying the following code\n",
    "\n",
    "### EDIT THE FOLLOWING CODE ###\n",
    "for task in prioritized_tasks[\"high_priority\"]:\n",
    "    print_llm_response(task)\n",
    "### --------------- ###"
   ]
  },
  {
   "cell_type": "code",
   "execution_count": 49,
   "id": "b1ef659f",
   "metadata": {},
   "outputs": [
    {
     "name": "stdout",
     "output_type": "stream",
     "text": [
      "['Write a birthday poem for Otto, celebrating his 28th birthday.', 'Draft a thank-you note for my neighbor Dapinder who helped water my plants while I was on vacation.']\n"
     ]
    }
   ],
   "source": [
    "# Let's view what constist to do for the tasks of medium priority\n",
    "print(prioritized_tasks[\"medium_priority\"])"
   ]
  },
  {
   "cell_type": "markdown",
   "id": "5971f580",
   "metadata": {},
   "source": [
    "- EXAMPLE 2: Edit the below code"
   ]
  },
  {
   "cell_type": "code",
   "execution_count": 48,
   "id": "215f4e31",
   "metadata": {},
   "outputs": [
    {
     "name": "stdout",
     "output_type": "stream",
     "text": [
      "____________________________________________________________________________________________________\n",
      "Happy 28th birthday, Otto dear,\n",
      "Another year older, another year near.\n",
      "May your day be filled with joy and cheer,\n",
      "And may this year be your best year.\n",
      "\n",
      "Wishing you happiness, health, and success,\n",
      "May all your dreams come true, no less.\n",
      "Enjoy your special day, have lots of fun,\n",
      "Happy birthday, Otto, you're second to none!\n",
      "____________________________________________________________________________________________________\n",
      "\n",
      "\n",
      "____________________________________________________________________________________________________\n",
      "Dear Dapinder,\n",
      "\n",
      "Thank you for watering my plants while I was away. Your kindness and thoughtfulness are truly appreciated.\n",
      "\n",
      "Sincerely,\n",
      "[Your Name]\n",
      "____________________________________________________________________________________________________\n",
      "\n",
      "\n"
     ]
    }
   ],
   "source": [
    "### EDIT THE FOLLOWING CODE ###\n",
    "for task in prioritized_tasks[\"medium_priority\"]:\n",
    "    print_llm_response(task)\n",
    "### --------------- ###"
   ]
  }
 ],
 "metadata": {
  "kernelspec": {
   "display_name": "Python 3 (ipykernel)",
   "language": "python",
   "name": "python3"
  },
  "language_info": {
   "codemirror_mode": {
    "name": "ipython",
    "version": 3
   },
   "file_extension": ".py",
   "mimetype": "text/x-python",
   "name": "python",
   "nbconvert_exporter": "python",
   "pygments_lexer": "ipython3",
   "version": "3.12.2"
  }
 },
 "nbformat": 4,
 "nbformat_minor": 5
}
