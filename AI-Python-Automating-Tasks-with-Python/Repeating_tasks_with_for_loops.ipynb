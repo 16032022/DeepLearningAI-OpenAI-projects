{
 "cells": [
  {
   "cell_type": "markdown",
   "id": "4bd8fbd2-de5c-47bd-bcd9-cbbe8cdc3104",
   "metadata": {},
   "source": [
    "# Repeating tasks with for loops 🔄"
   ]
  },
  {
   "cell_type": "markdown",
   "id": "90b9d472",
   "metadata": {},
   "source": [
    "## Introduction \n",
    "This notebook aims to introduce the concept of `for` loops in Python, a fundamental programming construct that allows you to repeatedly perform actions on a set of items. By the end of this notebook, you will learn how to use `for` loops to iterate through lists, perform tasks iteratively, and enhance your automation capabilities."
   ]
  },
  {
   "cell_type": "markdown",
   "id": "e270cc1f",
   "metadata": {},
   "source": [
    "A `for` loop is a special code pattern found in many languages that allows you to repeatedly perform actions on all the items in a list in an automated way. "
   ]
  },
  {
   "cell_type": "markdown",
   "id": "c8f6c635",
   "metadata": {},
   "source": [
    "### Importing specific functions from the helper_functions module.\n",
    "\n",
    "- The _print_llm_response_ function is likely used to print responses from a language learning model.\n",
    "- The _get_llm_response_ function is likely used to get responses from a language learning model."
   ]
  },
  {
   "cell_type": "code",
   "execution_count": 1,
   "id": "41ef33ad-2b5c-40db-a1ab-9f3c689edd55",
   "metadata": {},
   "outputs": [],
   "source": [
    "# Import necessary functions from the helper_functions module\n",
    "from helper_functions import print_llm_response, get_llm_response"
   ]
  },
  {
   "cell_type": "markdown",
   "id": "db2a457b",
   "metadata": {},
   "source": [
    "###  Example of list of tasks\n",
    "See Notebook _Completing a task list with AI_"
   ]
  },
  {
   "cell_type": "code",
   "execution_count": 2,
   "id": "c2f3989f",
   "metadata": {},
   "outputs": [
    {
     "name": "stdout",
     "output_type": "stream",
     "text": [
      "[\"Compose a brief email to my boss explaining that I will be late for tomorrow's meeting.\", 'Write a birthday poem for Otto, celebrating his 28th birthday.', \"Write a 300-word review of the movie 'The Arrival'.\"]\n"
     ]
    }
   ],
   "source": [
    "# Define a list of tasks\n",
    "list_of_tasks = [\n",
    "    \"Compose a brief email to my boss explaining that I will be late for tomorrow's meeting.\",\n",
    "    \"Write a birthday poem for Otto, celebrating his 28th birthday.\",\n",
    "    \"Write a 300-word review of the movie 'The Arrival'.\"\n",
    "]\n",
    "print(list_of_tasks)"
   ]
  },
  {
   "cell_type": "markdown",
   "id": "e5bae794",
   "metadata": {},
   "source": [
    "You passed them one by one to the LLM, repeatedly updated the task variable, then re-executed the function call with this code:"
   ]
  },
  {
   "cell_type": "code",
   "execution_count": 3,
   "id": "9f426b72",
   "metadata": {},
   "outputs": [
    {
     "name": "stdout",
     "output_type": "stream",
     "text": [
      "____________________________________________________________________________________________________\n",
      "Subject: Running Late for Tomorrow's Meeting\n",
      "\n",
      "Hi [Boss's Name],\n",
      "\n",
      "I wanted to let you know that I will be running late for tomorrow's meeting. I apologize for any inconvenience this may cause.\n",
      "\n",
      "Thank you for your understanding.\n",
      "\n",
      "Best,\n",
      "[Your Name]\n",
      "____________________________________________________________________________________________________\n",
      "\n",
      "\n"
     ]
    }
   ],
   "source": [
    "task = list_of_tasks[0]\n",
    "print_llm_response(task)"
   ]
  },
  {
   "cell_type": "markdown",
   "id": "c46ed944-05e1-4ae0-a238-f172413b1771",
   "metadata": {},
   "source": [
    "If you wanted to complete all the tasks in your list, you would have to re-write the same code multiple times. Alternatively, you can use a `for` loop."
   ]
  },
  {
   "cell_type": "markdown",
   "id": "b40551bc",
   "metadata": {},
   "source": [
    "## Iterating through task lists with AI"
   ]
  },
  {
   "cell_type": "markdown",
   "id": "58985454-e28e-49c8-9fe9-3b9057bafd08",
   "metadata": {},
   "source": [
    "When you run the cell below you will see how the for loop iterates through the elements in `list_of_tasks`."
   ]
  },
  {
   "cell_type": "markdown",
   "id": "e82c484b",
   "metadata": {},
   "source": [
    "**Indentation and Syntax Errors**\n",
    "   - Ensure proper indentation and fix syntax errors."
   ]
  },
  {
   "cell_type": "code",
   "execution_count": 4,
   "id": "0c05dc28-4833-46ae-aad1-3607fab9cd67",
   "metadata": {},
   "outputs": [
    {
     "name": "stdout",
     "output_type": "stream",
     "text": [
      "Compose a brief email to my boss explaining that I will be late for tomorrow's meeting.\n",
      "Write a birthday poem for Otto, celebrating his 28th birthday.\n",
      "Write a 300-word review of the movie 'The Arrival'.\n"
     ]
    }
   ],
   "source": [
    "\n",
    "for task in list_of_tasks:\n",
    "    print(task)"
   ]
  },
  {
   "cell_type": "markdown",
   "id": "e7dedcb5",
   "metadata": {},
   "source": [
    "Here's the code that automatically passes all items in list to `print_llm_response`"
   ]
  },
  {
   "cell_type": "code",
   "execution_count": 5,
   "id": "721136bd",
   "metadata": {},
   "outputs": [
    {
     "name": "stdout",
     "output_type": "stream",
     "text": [
      "____________________________________________________________________________________________________\n",
      "Subject: Running Late for Tomorrow's Meeting\n",
      "\n",
      "Hi [Boss's Name],\n",
      "\n",
      "I wanted to let you know that I will be running a few minutes late for tomorrow's meeting. I apologize for any inconvenience this may cause.\n",
      "\n",
      "Thank you for your understanding.\n",
      "\n",
      "Best regards,\n",
      "[Your Name]\n",
      "____________________________________________________________________________________________________\n",
      "\n",
      "\n",
      "____________________________________________________________________________________________________\n",
      "Happy 28th birthday, Otto dear,\n",
      "Another year to hold so near.\n",
      "May joy and laughter fill your day,\n",
      "And blessings come in every way.\n",
      "\n",
      "With each new year that passes by,\n",
      "May dreams come true and spirits fly.\n",
      "Celebrate this special date,\n",
      "With love and happiness, your fate.\n",
      "\n",
      "So blow out candles, make a wish,\n",
      "For 28 is quite a dish.\n",
      "Enjoy your day, have lots of fun,\n",
      "Happy birthday, Otto, you're second to none!\n",
      "____________________________________________________________________________________________________\n",
      "\n",
      "\n",
      "____________________________________________________________________________________________________\n",
      "\"The Arrival\" is a captivating science fiction film that delves into the complexities of communication and the consequences of human actions. Directed by Denis Villeneuve, the movie follows linguist Louise Banks, played brilliantly by Amy Adams, as she is tasked with deciphering the language of extraterrestrial visitors who have arrived on Earth.\n",
      "\n",
      "The film's slow-burning tension and thought-provoking narrative keep viewers engaged from start to finish. Villeneuve's masterful direction creates a sense of unease and wonder, drawing audiences into the mysterious world of the aliens and the high-stakes diplomatic efforts to understand their intentions.\n",
      "\n",
      "Amy Adams delivers a standout performance as Louise Banks, capturing the character's intelligence, vulnerability, and determination with nuance and depth. Her emotional journey as she grapples with personal loss and the weight of her monumental task adds a poignant layer to the film.\n",
      "\n",
      "The visual effects in \"The Arrival\" are stunning, creating a sense of awe and otherworldliness that enhances the story's sense of wonder and mystery. The design of the alien spacecraft and the intricate alien language are particularly impressive, adding to the film's immersive atmosphere.\n",
      "\n",
      "The film's exploration of themes such as communication, time, and the nature of humanity elevates it beyond typical sci-fi fare, offering a thought-provoking and emotionally resonant experience for audiences. The twist ending adds an extra layer of complexity and leaves viewers pondering the implications long after the credits roll.\n",
      "\n",
      "Overall, \"The Arrival\" is a masterfully crafted sci-fi film that combines intelligent storytelling, strong performances, and stunning visuals to create a truly memorable cinematic experience. Denis Villeneuve's direction, Amy Adams' performance, and the film's thematic depth make it a must-see for fans of the genre and anyone looking for a thought-provoking and visually stunning film.\n",
      "____________________________________________________________________________________________________\n",
      "\n",
      "\n"
     ]
    }
   ],
   "source": [
    "# Correctly indented for loop\n",
    "for task in list_of_tasks:\n",
    "    print_llm_response(task)"
   ]
  },
  {
   "cell_type": "markdown",
   "id": "f9a7a927",
   "metadata": {},
   "source": [
    "Let's break this down.\n",
    "\n",
    "The `for task in list` pattern works as follows:\n",
    "\n",
    "- `task` is assigned the first item in the list. In this case, it's the string `\"Compose a brief email to my boss explaining that I will be late for tomorrow's meeting.\"`\n",
    "- The next indented line is called a block and contains an action to carry out on `task`. In this example, the string gets passed to the LLM, and the result appears on the screen.\n",
    "- Then the loop starts again. Now, `task` is assigned the string \"Write a birthday poem for Otto, celebrating his 28th birthday.\" It's the same variable, but with a different value.\n",
    "- `get_llm_response` runs again, and so on.\n",
    "\n",
    "Be sure to call out the `:` at the end of the line. Indentation is crucial; if it’s not correct, you'll get an error.\n",
    "\n",
    "**Indentation and Syntax Errors**\n",
    "   - Ensure proper indentation and fix syntax errors."
   ]
  },
  {
   "cell_type": "code",
   "execution_count": 6,
   "id": "8516a3dc",
   "metadata": {},
   "outputs": [
    {
     "ename": "IndentationError",
     "evalue": "expected an indented block after 'for' statement on line 1 (2524768439.py, line 2)",
     "output_type": "error",
     "traceback": [
      "\u001b[1;36m  Cell \u001b[1;32mIn[6], line 2\u001b[1;36m\u001b[0m\n\u001b[1;33m    print_llm_response(task)\u001b[0m\n\u001b[1;37m    ^\u001b[0m\n\u001b[1;31mIndentationError\u001b[0m\u001b[1;31m:\u001b[0m expected an indented block after 'for' statement on line 1\n"
     ]
    }
   ],
   "source": [
    "for task in list_of_tasks:\n",
    "print_llm_response(task)"
   ]
  },
  {
   "cell_type": "markdown",
   "id": "2d8e58be",
   "metadata": {},
   "source": [
    "<p style=\"background-color:#F5C780; padding:15px\"> 🤖 <b>Use the Chatbot</b>: Explain indentation error and help me fix it in this for loop: <br>\n",
    "for task in list_of_tasks:<br>\n",
    "print_llm_response(task)\n",
    "</p>"
   ]
  },
  {
   "cell_type": "markdown",
   "id": "5f0260e7",
   "metadata": {},
   "source": [
    "**Response Chatbot** : It looks like you want to iterate over list_of_tasks and call the function print_llm_response for each task. The indentation of the print_llm_response(task) line seems to be incorrect since it’s not indented under the loop, which would cause a SyntaxError in Python. The correct syntax should look like this:\n"
   ]
  },
  {
   "cell_type": "code",
   "execution_count": 7,
   "id": "831be16e",
   "metadata": {},
   "outputs": [
    {
     "name": "stdout",
     "output_type": "stream",
     "text": [
      "____________________________________________________________________________________________________\n",
      "Subject: Running Late for Tomorrow's Meeting\n",
      "\n",
      "Hi [Boss's Name],\n",
      "\n",
      "I wanted to let you know that I will be running late for tomorrow's meeting. I apologize for any inconvenience this may cause. I will do my best to join as soon as possible.\n",
      "\n",
      "Thank you for your understanding.\n",
      "\n",
      "Best regards,\n",
      "[Your Name]\n",
      "____________________________________________________________________________________________________\n",
      "\n",
      "\n",
      "____________________________________________________________________________________________________\n",
      "Happy 28th birthday, Otto dear,\n",
      "Another year older, another year near.\n",
      "May your day be filled with joy and cheer,\n",
      "And may this year be your best year.\n",
      "\n",
      "Wishing you happiness, health, and success,\n",
      "May all your dreams come true, no less.\n",
      "Enjoy your special day, have lots of fun,\n",
      "Happy birthday, Otto, you're second to none!\n",
      "____________________________________________________________________________________________________\n",
      "\n",
      "\n",
      "____________________________________________________________________________________________________\n",
      "\"The Arrival\" is a captivating science fiction film that follows the story of a linguistics professor, Louise Banks, played by Amy Adams, who is tasked with communicating with extraterrestrial beings that have arrived on Earth. The movie explores themes of communication, time, and the complexities of human emotions in the face of the unknown.\n",
      "\n",
      "Amy Adams delivers a powerful and nuanced performance as Louise Banks, portraying her character's intelligence, vulnerability, and determination with depth and authenticity. The film's cinematography is stunning, with breathtaking visuals that capture the otherworldly nature of the alien spacecraft and the vastness of space.\n",
      "\n",
      "Director Denis Villeneuve masterfully builds tension throughout the film, keeping viewers on the edge of their seats as the mystery of the aliens' arrival unfolds. The screenplay is intelligent and thought-provoking, delving into the intricacies of language and the ways in which it shapes our understanding of the world.\n",
      "\n",
      "One of the standout aspects of \"The Arrival\" is its unique take on the science fiction genre, focusing more on the emotional and philosophical implications of first contact rather than relying on action-packed sequences. The film's slow-burn approach allows for a deeper exploration of its themes and characters, making it a truly immersive and thought-provoking viewing experience.\n",
      "\n",
      "Overall, \"The Arrival\" is a masterfully crafted film that challenges viewers to think about the nature of communication, time, and humanity's place in the universe. With its stellar performances, stunning visuals, and thought-provoking storyline, it is a must-see for fans of intelligent science fiction cinema.\n",
      "____________________________________________________________________________________________________\n",
      "\n",
      "\n"
     ]
    }
   ],
   "source": [
    "# Correctly indented for loop\n",
    "for task in list_of_tasks:\n",
    "    print_llm_response(task)\n"
   ]
  },
  {
   "cell_type": "markdown",
   "id": "8fdafdba-1a33-4bbd-9061-6950bd8bc488",
   "metadata": {},
   "source": [
    "## Iteratively updating AI prompts using lists"
   ]
  },
  {
   "cell_type": "markdown",
   "id": "09cf3e07",
   "metadata": {},
   "source": [
    "You can even use lists with for loops to iteratively update more complex prompts with the list items. For instance, let's say that you have a list of ice-cream flavors:"
   ]
  },
  {
   "cell_type": "markdown",
   "id": "17c6b7f2",
   "metadata": {},
   "source": [
    "- Example 2 "
   ]
  },
  {
   "cell_type": "code",
   "execution_count": 8,
   "id": "385f6ec5",
   "metadata": {},
   "outputs": [],
   "source": [
    "#ice cream flavor example\n",
    "ice_cream_flavors = [\n",
    "    \"Vanilla\",\n",
    "    \"Chocolate\",\n",
    "    \"Strawberry\",\n",
    "    \"Mint Chocolate Chip\"\n",
    "]"
   ]
  },
  {
   "cell_type": "markdown",
   "id": "bf5219ea",
   "metadata": {},
   "source": [
    "You can use a for loop to iterate through the flavors and create a captivating description for each of them."
   ]
  },
  {
   "cell_type": "code",
   "execution_count": 9,
   "id": "d732762f",
   "metadata": {},
   "outputs": [
    {
     "name": "stdout",
     "output_type": "stream",
     "text": [
      "____________________________________________________________________________________________________\n",
      "Indulge in the timeless classic of creamy Vanilla ice cream. Its rich and smooth flavor will transport your taste buds to a place of pure delight. Taste the simplicity of perfection with every spoonful.\n",
      "____________________________________________________________________________________________________\n",
      "\n",
      "\n",
      "____________________________________________________________________________________________________\n",
      "Indulge in the rich and velvety decadence of our classic Chocolate ice cream. Each spoonful is a luxurious experience that will satisfy your sweet cravings and leave you wanting more. Treat yourself to the timeless delight of pure chocolate bliss.\n",
      "____________________________________________________________________________________________________\n",
      "\n",
      "\n",
      "____________________________________________________________________________________________________\n",
      "Indulge in the sweet and refreshing taste of our Strawberry ice cream. Made with ripe, juicy strawberries, this creamy treat is bursting with fruity flavor that will leave your taste buds craving more. Treat yourself to a scoop of summer in every bite!\n",
      "____________________________________________________________________________________________________\n",
      "\n",
      "\n",
      "____________________________________________________________________________________________________\n",
      "Indulge in the refreshing coolness of mint perfectly balanced with rich, decadent chocolate chips. Our Mint Chocolate Chip ice cream is a delightful treat that will tantalize your taste buds with every creamy spoonful.\n",
      "____________________________________________________________________________________________________\n",
      "\n",
      "\n"
     ]
    }
   ],
   "source": [
    "for flavor in ice_cream_flavors:\n",
    "    prompt = f\"\"\"For the ice cream flavor listed below, \n",
    "    provide a captivating description that could be used for promotional purposes.\n",
    "\n",
    "    Flavor: {flavor}\n",
    "\n",
    "    \"\"\"\n",
    "    print_llm_response(prompt)"
   ]
  },
  {
   "cell_type": "markdown",
   "id": "d3f3ead6",
   "metadata": {},
   "source": [
    "Now that you know how to use lists, you can even save the promortional descriptions to another list using `.append()`:"
   ]
  },
  {
   "cell_type": "code",
   "execution_count": 10,
   "id": "db66a442",
   "metadata": {},
   "outputs": [],
   "source": [
    "#saving results to a list\n",
    "promotional_descriptions = []\n",
    "for flavor in ice_cream_flavors:\n",
    "    prompt = f\"\"\"For the ice cream flavor listed below, \n",
    "    provide a captivating description that could be used for promotional purposes.\n",
    "\n",
    "    Flavor: {flavor}\n",
    "\n",
    "    \"\"\"\n",
    "    description = get_llm_response(prompt)\n",
    "    promotional_descriptions.append(description)"
   ]
  },
  {
   "cell_type": "markdown",
   "id": "ebdbcfa5",
   "metadata": {},
   "source": [
    "After you run that code, you should be able to access the promotional descriptions for each of your ice-cream flavors."
   ]
  },
  {
   "cell_type": "code",
   "execution_count": 11,
   "id": "cad94172",
   "metadata": {},
   "outputs": [
    {
     "name": "stdout",
     "output_type": "stream",
     "text": [
      "['Indulge in the timeless classic of creamy vanilla ice cream, a luscious treat that captivates with its rich and smooth flavor. Perfect on its own or as a versatile base for any topping or mix-in, this beloved favorite is sure to satisfy your sweet cravings. Taste the simple perfection of vanilla and experience pure dessert bliss.', 'Indulge in the rich and velvety decadence of our classic Chocolate ice cream. Each spoonful is a luxurious experience that will satisfy your sweet cravings and leave you wanting more. Treat yourself to the timeless delight of pure chocolate bliss.', 'Indulge in the sweet and refreshing taste of our Strawberry ice cream. Made with ripe, juicy strawberries, this creamy treat is bursting with fruity flavor that will leave your taste buds craving more. Treat yourself to a scoop of summer in every bite!', 'Indulge in the refreshing coolness of mint perfectly balanced with rich, decadent chocolate chips. Our Mint Chocolate Chip ice cream is a delightful treat that will tantalize your taste buds with every creamy spoonful.']\n"
     ]
    }
   ],
   "source": [
    "print(promotional_descriptions)"
   ]
  },
  {
   "cell_type": "markdown",
   "id": "02085f7c",
   "metadata": {},
   "source": [
    "## Conclusion \n",
    "In this lesson, you learned how to use `for` loops to iterate over lists and automate tasks. Mastering loops is a fundamental step in becoming proficient in Python programming. Keep practicing to reinforce your understanding and enhance your coding skills.\n",
    "By completing this notebook, you have gained a solid understanding of `for` loops and their applications in Python. You learned how to iterate over lists, perform repetitive tasks, and use loops to enhance your automation capabilities. These skills are essential for efficient programming and will serve as a foundation for more advanced topics. Continue practicing and exploring different ways to use loops to solve problems and streamline your code."
   ]
  },
  {
   "cell_type": "markdown",
   "id": "7135f13d-0f36-4de4-9365-bdadb8e6d611",
   "metadata": {},
   "source": [
    "## Extra practice"
   ]
  },
  {
   "cell_type": "markdown",
   "id": "c01cc56d-92c7-4632-8cf9-aef3f9f9e3c7",
   "metadata": {},
   "source": [
    "Please go through the exercises in the cells below if you want some extra practice for the topics you covered in this lesson."
   ]
  },
  {
   "cell_type": "markdown",
   "id": "edf3f783",
   "metadata": {},
   "source": [
    "- Example :  Fix the following code, that should print the flavors in ice_cream_flavors one by one."
   ]
  },
  {
   "cell_type": "code",
   "execution_count": 12,
   "id": "f5a19e85-cd80-4e02-a5e1-762284bd27b6",
   "metadata": {},
   "outputs": [
    {
     "ename": "SyntaxError",
     "evalue": "invalid syntax (128476209.py, line 8)",
     "output_type": "error",
     "traceback": [
      "\u001b[1;36m  Cell \u001b[1;32mIn[12], line 8\u001b[1;36m\u001b[0m\n\u001b[1;33m    for flavor in ice_cream_flavors;\u001b[0m\n\u001b[1;37m                                   ^\u001b[0m\n\u001b[1;31mSyntaxError\u001b[0m\u001b[1;31m:\u001b[0m invalid syntax\n"
     ]
    }
   ],
   "source": [
    "# Fix the following code.\n",
    "# It should print the flavors in\n",
    "# ice_cream_flavors one by one.\n",
    "\n",
    "ice_cream_flavors = [\"Chocolate\", \"Mint Chocolate Chip\"]\n",
    "\n",
    "### EDIT THE FOLLOWING CODE ###\n",
    "for flavor in ice_cream_flavors;\n",
    "    print(ice_cream_flavors)\n",
    "### --------------- ###"
   ]
  },
  {
   "cell_type": "markdown",
   "id": "47fb21b9",
   "metadata": {},
   "source": [
    "**Explanation output** It seems there is a `synthax error`. Let's fix the error in order print the flavors in ice_cream_flavors one by one."
   ]
  },
  {
   "cell_type": "code",
   "execution_count": 12,
   "id": "064647d5",
   "metadata": {},
   "outputs": [
    {
     "name": "stdout",
     "output_type": "stream",
     "text": [
      "['Chocolate', 'Mint Chocolate Chip']\n",
      "['Chocolate', 'Mint Chocolate Chip']\n"
     ]
    }
   ],
   "source": [
    "ice_cream_flavors = [\"Chocolate\", \"Mint Chocolate Chip\"]\n",
    "\n",
    "# Correctly indented for loop\n",
    "for flavor in ice_cream_flavors:\n",
    "    print(ice_cream_flavors)"
   ]
  },
  {
   "cell_type": "markdown",
   "id": "05ad0ae1",
   "metadata": {},
   "source": [
    "- Example: Translate the flavors in ice_cream_flavors to Spanish"
   ]
  },
  {
   "cell_type": "code",
   "execution_count": 15,
   "id": "7b7480c4-ae67-42bd-8cac-189f1f087053",
   "metadata": {},
   "outputs": [
    {
     "name": "stdout",
     "output_type": "stream",
     "text": [
      "____________________________________________________________________________________________________\n",
      "Classic choice!\n",
      "____________________________________________________________________________________________________\n",
      "\n",
      "\n",
      "____________________________________________________________________________________________________\n",
      "Strawberry ice cream is a popular flavor enjoyed by many.\n",
      "____________________________________________________________________________________________________\n",
      "\n",
      "\n"
     ]
    }
   ],
   "source": [
    "# Translate the flavors in ice_cream_flavors to Spanish\n",
    "ice_cream_flavors = [\"Vanilla\", \"Strawberry\"]\n",
    "\n",
    "for flavor in ice_cream_flavors:\n",
    "    ### EDIT THE FOLLOWING CODE ###\n",
    "    #Hint: you only need to add one or two sentences to the prompt\n",
    "    prompt = f\"\"\"For the ice cream flavor listed below,\n",
    "\n",
    "    Flavor: {flavor}\n",
    "    \n",
    "    \"\"\"\n",
    "    ### --------------- ###\n",
    "    print_llm_response(prompt)"
   ]
  },
  {
   "cell_type": "markdown",
   "id": "80778d3c",
   "metadata": {},
   "source": [
    "**Explanation output** Let's fix the above code, writing a short promt that could be able to translate from Engl1sh to Spanish"
   ]
  },
  {
   "cell_type": "code",
   "execution_count": 13,
   "id": "134732c9",
   "metadata": {},
   "outputs": [
    {
     "name": "stdout",
     "output_type": "stream",
     "text": [
      "____________________________________________________________________________________________________\n",
      "Sabor: Vainilla\n",
      "____________________________________________________________________________________________________\n",
      "\n",
      "\n",
      "____________________________________________________________________________________________________\n",
      "Sabor: Fresa\n",
      "____________________________________________________________________________________________________\n",
      "\n",
      "\n"
     ]
    }
   ],
   "source": [
    "# Translate the flavors in ice_cream_flavors to Spanish\n",
    "ice_cream_flavors = [\"Vanilla\", \"Strawberry\"]\n",
    "\n",
    "for flavor in ice_cream_flavors:\n",
    "    ### EDIT THE FOLLOWING CODE ###\n",
    "    #Hint: you only need to add one or two sentences to the prompt\n",
    "    prompt = f\"\"\"For the ice cream flavor listed below, translate to Spanish \n",
    "    \n",
    "    Flavor: {flavor}\n",
    "\n",
    "    \"\"\"\n",
    "    ### --------------- ###\n",
    "    print_llm_response(prompt)"
   ]
  },
  {
   "cell_type": "markdown",
   "id": "e995c422",
   "metadata": {},
   "source": [
    "- Example : Write code to get a list with words without typos"
   ]
  },
  {
   "cell_type": "code",
   "execution_count": 14,
   "id": "6394bb74-a839-4732-8dbf-1b96bd8e97f9",
   "metadata": {},
   "outputs": [
    {
     "name": "stdout",
     "output_type": "stream",
     "text": [
      "['Apple', 'Weather', 'Newspaper']\n"
     ]
    }
   ],
   "source": [
    "# Write code to get a list with \n",
    "# words without typos\n",
    "\n",
    "words_with_typos = [\"Aple\", \"Wether\", \"Newpaper\"]\n",
    "words_without_typos = []\n",
    "\n",
    "for word in words_with_typos:\n",
    "    prompt = f\"\"\"Fix the spelling mistake in the following word: {word}\n",
    "    Provide only the word.\n",
    "    \"\"\"\n",
    "    correct_word = get_llm_response(prompt)\n",
    "    ### WRITE CODE HERE  ###\n",
    "    #Hint: Append the correct_word to the words_without_typos list \n",
    "    ### --------------- ###\n",
    "    words_without_typos.append(correct_word)\n",
    "\n",
    "print(words_without_typos)"
   ]
  },
  {
   "cell_type": "markdown",
   "id": "22a2d345",
   "metadata": {},
   "source": [
    "**Explanation output** As it can been seee from the output, there are not mistakes  in the items enclosed in the list.  "
   ]
  },
  {
   "cell_type": "markdown",
   "id": "efb23da3",
   "metadata": {},
   "source": [
    "You can use `for` loops to iterate over strings, tuples, and dictionaries, as well as perform operations like summing numbers or filtering elements.\""
   ]
  }
 ],
 "metadata": {
  "kernelspec": {
   "display_name": ".venv",
   "language": "python",
   "name": "python3"
  },
  "language_info": {
   "codemirror_mode": {
    "name": "ipython",
    "version": 3
   },
   "file_extension": ".py",
   "mimetype": "text/x-python",
   "name": "python",
   "nbconvert_exporter": "python",
   "pygments_lexer": "ipython3",
   "version": "3.12.2"
  }
 },
 "nbformat": 4,
 "nbformat_minor": 5
}
