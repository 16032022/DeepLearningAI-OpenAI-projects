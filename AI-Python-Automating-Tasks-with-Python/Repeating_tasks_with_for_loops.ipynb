{
 "cells": [
  {
   "cell_type": "markdown",
   "id": "4bd8fbd2-de5c-47bd-bcd9-cbbe8cdc3104",
   "metadata": {},
   "source": [
    "# Repeating tasks with for loops 🔄"
   ]
  },
  {
   "cell_type": "markdown",
   "id": "90b9d472",
   "metadata": {},
   "source": [
    "## Introduction \n"
   ]
  },
  {
   "cell_type": "markdown",
   "id": "e270cc1f",
   "metadata": {},
   "source": [
    "**Objectives** Introduce a very important concept in programming: the `for` loop. A `for` loop is a special code pattern found in many languages that allows you to repeatedly perform actions on all the items in a list in an automated way. "
   ]
  },
  {
   "cell_type": "markdown",
   "id": "c8f6c635",
   "metadata": {},
   "source": [
    "### Importing specific functions from the helper_functions module.\n",
    "\n",
    "- The _print_llm_response_ function is likely used to print responses from a language learning model.\n",
    "- The _get_llm_response_ function is likely used to get responses from a language learning model."
   ]
  },
  {
   "cell_type": "code",
   "execution_count": 1,
   "id": "41ef33ad-2b5c-40db-a1ab-9f3c689edd55",
   "metadata": {},
   "outputs": [],
   "source": [
    "# Importing specific functions\n",
    "from helper_functions import print_llm_response, get_llm_response"
   ]
  },
  {
   "cell_type": "markdown",
   "id": "db2a457b",
   "metadata": {},
   "source": [
    "## From previous lesson\n",
    "\n",
    "Let's consider an example of list of tasks"
   ]
  },
  {
   "cell_type": "code",
   "execution_count": 2,
   "id": "c2f3989f",
   "metadata": {},
   "outputs": [
    {
     "name": "stdout",
     "output_type": "stream",
     "text": [
      "[\"Compose a brief email to my boss explaining that I will be late for tomorrow's meeting.\", 'Write a birthday poem for Otto, celebrating his 28th birthday.', \"Write a 300-word review of the movie 'The Arrival'.\"]\n"
     ]
    }
   ],
   "source": [
    "#from previous lesson:\n",
    "list_of_tasks = [\n",
    "    \"Compose a brief email to my boss explaining that I will be late for tomorrow's meeting.\",\n",
    "    \"Write a birthday poem for Otto, celebrating his 28th birthday.\",\n",
    "    \"Write a 300-word review of the movie 'The Arrival'.\"\n",
    "]\n",
    "print(list_of_tasks)"
   ]
  },
  {
   "cell_type": "markdown",
   "id": "e5bae794",
   "metadata": {},
   "source": [
    "You passed them one by one to the LLM, repeatedly updated the task variable, then re-executed the function call with this code:"
   ]
  },
  {
   "cell_type": "code",
   "execution_count": 3,
   "id": "9f426b72",
   "metadata": {},
   "outputs": [
    {
     "name": "stdout",
     "output_type": "stream",
     "text": [
      "____________________________________________________________________________________________________\n",
      "Subject: Running Late for Tomorrow's Meeting\n",
      "\n",
      "Hi [Boss's Name],\n",
      "\n",
      "I wanted to let you know that I will be running late for tomorrow's meeting. I apologize for any inconvenience this may cause. I will do my best to join as soon as possible.\n",
      "\n",
      "Thank you for your understanding.\n",
      "\n",
      "Best regards,\n",
      "[Your Name]\n",
      "____________________________________________________________________________________________________\n",
      "\n",
      "\n"
     ]
    }
   ],
   "source": [
    "task = list_of_tasks[0]\n",
    "print_llm_response(task)"
   ]
  },
  {
   "cell_type": "markdown",
   "id": "c46ed944-05e1-4ae0-a238-f172413b1771",
   "metadata": {},
   "source": [
    "If you wanted to complete all the tasks in your list, you would have to re-write the same code multiple times. Alternatively, you can use a `for` loop."
   ]
  },
  {
   "cell_type": "markdown",
   "id": "b40551bc",
   "metadata": {},
   "source": [
    "## Iterating through task lists with AI"
   ]
  },
  {
   "cell_type": "markdown",
   "id": "58985454-e28e-49c8-9fe9-3b9057bafd08",
   "metadata": {},
   "source": [
    "When you run the cell below you will see how the for loop iterates through the elements in `list_of_tasks`."
   ]
  },
  {
   "cell_type": "code",
   "execution_count": 4,
   "id": "0c05dc28-4833-46ae-aad1-3607fab9cd67",
   "metadata": {},
   "outputs": [
    {
     "name": "stdout",
     "output_type": "stream",
     "text": [
      "Compose a brief email to my boss explaining that I will be late for tomorrow's meeting.\n",
      "Write a birthday poem for Otto, celebrating his 28th birthday.\n",
      "Write a 300-word review of the movie 'The Arrival'.\n"
     ]
    }
   ],
   "source": [
    "for task in list_of_tasks:\n",
    "    print(task)"
   ]
  },
  {
   "cell_type": "markdown",
   "id": "e7dedcb5",
   "metadata": {},
   "source": [
    "Here's the code that automatically passes all items in list to `print_llm_response`"
   ]
  },
  {
   "cell_type": "code",
   "execution_count": 5,
   "id": "721136bd",
   "metadata": {},
   "outputs": [
    {
     "name": "stdout",
     "output_type": "stream",
     "text": [
      "____________________________________________________________________________________________________\n",
      "Subject: Running Late for Tomorrow's Meeting\n",
      "\n",
      "Hi [Boss's Name],\n",
      "\n",
      "I wanted to let you know that I will be running a few minutes late for tomorrow's meeting due to an unexpected appointment. I apologize for any inconvenience this may cause and will join the meeting as soon as I can.\n",
      "\n",
      "Thank you for your understanding.\n",
      "\n",
      "Best regards,\n",
      "[Your Name]\n",
      "____________________________________________________________________________________________________\n",
      "\n",
      "\n",
      "____________________________________________________________________________________________________\n",
      "Happy 28th birthday, Otto dear,\n",
      "Another year to hold so near.\n",
      "May joy and laughter fill your day,\n",
      "And blessings come in every way.\n",
      "\n",
      "With each year that passes by,\n",
      "May your dreams reach for the sky.\n",
      "Celebrate this special date,\n",
      "With love, happiness, and fate.\n",
      "\n",
      "Cheers to you, Otto, on this day,\n",
      "May your year be bright in every way.\n",
      "Happy birthday, may it be grand,\n",
      "With love and joy at your command.\n",
      "____________________________________________________________________________________________________\n",
      "\n",
      "\n",
      "____________________________________________________________________________________________________\n",
      "\"The Arrival\" is a captivating science fiction film that follows the story of a linguistics professor, Louise Banks, played by Amy Adams, who is tasked with communicating with extraterrestrial beings that have arrived on Earth. The movie explores themes of language, communication, and the complexities of human interaction with beings from another world.\n",
      "\n",
      "Amy Adams delivers a powerful and nuanced performance as Louise Banks, capturing the character's intelligence, vulnerability, and determination as she navigates the challenges of deciphering the alien language. The film's visual effects are stunning, creating a sense of awe and wonder as the audience is introduced to the alien spacecraft and its inhabitants.\n",
      "\n",
      "Director Denis Villeneuve masterfully builds tension throughout the film, keeping viewers on the edge of their seats as the mystery of the aliens' arrival unfolds. The pacing is deliberate and methodical, allowing the audience to fully immerse themselves in the world of the film and the high-stakes mission facing Louise Banks and her team.\n",
      "\n",
      "The Arrival's thought-provoking narrative raises questions about the nature of communication, the importance of understanding others, and the potential consequences of misinterpretation. The film's twist ending adds an extra layer of complexity and leaves viewers contemplating the implications of the story long after the credits roll.\n",
      "\n",
      "Overall, \"The Arrival\" is a thought-provoking and visually stunning sci-fi film that will appeal to fans of the genre and anyone interested in exploring themes of language, communication, and the unknown. Amy Adams' standout performance, combined with Villeneuve's masterful direction, make this a must-see movie for anyone looking for a cerebral and engaging cinematic experience.\n",
      "____________________________________________________________________________________________________\n",
      "\n",
      "\n"
     ]
    }
   ],
   "source": [
    "for task in list_of_tasks:\n",
    "    print_llm_response(task)"
   ]
  },
  {
   "cell_type": "markdown",
   "id": "f9a7a927",
   "metadata": {},
   "source": [
    "Let's break this down.\n",
    "\n",
    "The `for task in list` pattern works as follows:\n",
    "\n",
    "- `task` is assigned the first item in the list. In this case, it's the string `\"Compose a brief email to my boss explaining that I will be late for tomorrow's meeting.\"`\n",
    "- The next indented line is called a block and contains an action to carry out on `task`. In this example, the string gets passed to the LLM, and the result appears on the screen.\n",
    "- Then the loop starts again. Now, `task` is assigned the string \"Write a birthday poem for Otto, celebrating his 28th birthday.\" It's the same variable, but with a different value.\n",
    "- `get_llm_response` runs again, and so on.\n",
    "\n",
    "Be sure to call out the `:` at the end of the line. Indentation is crucial; if it’s not correct, you'll get an error."
   ]
  },
  {
   "cell_type": "code",
   "execution_count": 6,
   "id": "8516a3dc",
   "metadata": {},
   "outputs": [
    {
     "ename": "IndentationError",
     "evalue": "expected an indented block after 'for' statement on line 1 (2524768439.py, line 2)",
     "output_type": "error",
     "traceback": [
      "\u001b[1;36m  Cell \u001b[1;32mIn[6], line 2\u001b[1;36m\u001b[0m\n\u001b[1;33m    print_llm_response(task)\u001b[0m\n\u001b[1;37m    ^\u001b[0m\n\u001b[1;31mIndentationError\u001b[0m\u001b[1;31m:\u001b[0m expected an indented block after 'for' statement on line 1\n"
     ]
    }
   ],
   "source": [
    "for task in list_of_tasks:\n",
    "print_llm_response(task)"
   ]
  },
  {
   "cell_type": "markdown",
   "id": "2d8e58be",
   "metadata": {},
   "source": [
    "<p style=\"background-color:#F5C780; padding:15px\"> 🤖 <b>Use the Chatbot</b>: Explain indentation error and help me fix it in this for loop: <br>\n",
    "for task in list_of_tasks:<br>\n",
    "print_llm_response(task)\n",
    "</p>"
   ]
  },
  {
   "cell_type": "markdown",
   "id": "5f0260e7",
   "metadata": {},
   "source": [
    "**Response Chatbot** : How can I fix the following code : for task in list_of_tasks:\n",
    "print_llm_response(task)\n",
    "CHATBOT RESPONSE : It looks like you want to iterate over list_of_tasks and call the function print_llm_response for each task. The indentation of the print_llm_response(task) line seems to be incorrect since it’s not indented under the loop, which would cause a SyntaxError in Python. The correct syntax should look like this:\n"
   ]
  },
  {
   "cell_type": "code",
   "execution_count": 7,
   "id": "831be16e",
   "metadata": {},
   "outputs": [
    {
     "name": "stdout",
     "output_type": "stream",
     "text": [
      "____________________________________________________________________________________________________\n",
      "Subject: Running Late for Tomorrow's Meeting\n",
      "\n",
      "Hi [Boss's Name],\n",
      "\n",
      "I wanted to let you know that I will be running late for tomorrow's meeting. I apologize for any inconvenience this may cause. I will do my best to join as soon as I can.\n",
      "\n",
      "Thank you for your understanding.\n",
      "\n",
      "Best,\n",
      "[Your Name]\n",
      "____________________________________________________________________________________________________\n",
      "\n",
      "\n",
      "____________________________________________________________________________________________________\n",
      "Happy 28th birthday, Otto dear,\n",
      "Another year to hold so near.\n",
      "May joy and laughter fill your day,\n",
      "And blessings come in every way.\n",
      "\n",
      "With each new year, you grow so strong,\n",
      "Your journey ahead, bright and long.\n",
      "Celebrate today with cheer and glee,\n",
      "For you deserve all the happiness, you see.\n",
      "\n",
      "So blow out the candles, make a wish,\n",
      "Embrace the love, enjoy the dish.\n",
      "Happy birthday, Otto, may your year be great,\n",
      "With memories to cherish, and dreams to create.\n",
      "____________________________________________________________________________________________________\n",
      "\n",
      "\n",
      "____________________________________________________________________________________________________\n",
      "\"The Arrival\" is a captivating science fiction film that delves into the complexities of communication and the consequences of human actions. Directed by Denis Villeneuve, the movie follows linguistics professor Louise Banks, played brilliantly by Amy Adams, as she is recruited by the military to help decipher the language of mysterious extraterrestrial visitors.\n",
      "\n",
      "The film's slow-burning tension and thought-provoking narrative keep viewers on the edge of their seats as Banks races against time to prevent a global catastrophe. Villeneuve's masterful direction creates a sense of unease and wonder, drawing audiences into the enigmatic world of the aliens and the high-stakes diplomatic efforts to understand their intentions.\n",
      "\n",
      "Amy Adams delivers a powerful and nuanced performance, anchoring the film with her emotional depth and intelligence. Her character's journey of self-discovery and empathy adds a poignant layer to the film's exploration of communication and connection.\n",
      "\n",
      "The visual effects in \"The Arrival\" are stunning, creating a sense of awe and otherworldliness that enhances the film's immersive experience. The alien spacecraft and their intricate language are beautifully rendered, adding to the film's sense of mystery and wonder.\n",
      "\n",
      "The film's twist ending is both unexpected and deeply moving, challenging viewers to reconsider their assumptions and beliefs about time, memory, and the nature of reality. \"The Arrival\" is a thought-provoking and visually stunning film that will leave audiences pondering its themes long after the credits roll.\n",
      "\n",
      "In conclusion, \"The Arrival\" is a must-see for fans of intelligent science fiction and thought-provoking storytelling. With its stellar performances, masterful direction, and mind-bending narrative, the film is a standout in the genre and a testament to the power of cinema to provoke thought and inspire wonder.\n",
      "____________________________________________________________________________________________________\n",
      "\n",
      "\n"
     ]
    }
   ],
   "source": [
    "for task in list_of_tasks:\n",
    "    print_llm_response(task)\n"
   ]
  },
  {
   "cell_type": "markdown",
   "id": "8fdafdba-1a33-4bbd-9061-6950bd8bc488",
   "metadata": {},
   "source": [
    "## Iteratively updating AI prompts using lists"
   ]
  },
  {
   "cell_type": "markdown",
   "id": "09cf3e07",
   "metadata": {},
   "source": [
    "You can even use lists with for loops to iteratively update more complex prompts with the list items. For instance, let's say that you have a list of ice-cream flavors:"
   ]
  },
  {
   "cell_type": "code",
   "execution_count": 8,
   "id": "385f6ec5",
   "metadata": {},
   "outputs": [],
   "source": [
    "#ice cream flavor example\n",
    "ice_cream_flavors = [\n",
    "    \"Vanilla\",\n",
    "    \"Chocolate\",\n",
    "    \"Strawberry\",\n",
    "    \"Mint Chocolate Chip\"\n",
    "]"
   ]
  },
  {
   "cell_type": "markdown",
   "id": "bf5219ea",
   "metadata": {},
   "source": [
    "You can use a for loop to iterate through the flavors and create a captivating description for each of them."
   ]
  },
  {
   "cell_type": "code",
   "execution_count": 9,
   "id": "d732762f",
   "metadata": {},
   "outputs": [
    {
     "name": "stdout",
     "output_type": "stream",
     "text": [
      "____________________________________________________________________________________________________\n",
      "Indulge in the timeless classic of creamy Vanilla ice cream. Its rich and velvety texture will transport your taste buds to a realm of pure delight. Experience the pure essence of vanilla in every luscious spoonful.\n",
      "____________________________________________________________________________________________________\n",
      "\n",
      "\n",
      "____________________________________________________________________________________________________\n",
      "Indulge in the rich and velvety decadence of our classic Chocolate ice cream. Each creamy spoonful is a symphony of deep, luscious cocoa flavors that will transport your taste buds to pure bliss. Satisfy your cravings with every bite of this timeless favorite.\n",
      "____________________________________________________________________________________________________\n",
      "\n",
      "\n",
      "____________________________________________________________________________________________________\n",
      "Indulge in the sweet and refreshing taste of our Strawberry ice cream. Made with ripe, juicy strawberries, this creamy treat is bursting with fruity flavor that will transport your taste buds to a summer paradise. Satisfy your cravings with every spoonful of our luscious Strawberry ice cream.\n",
      "____________________________________________________________________________________________________\n",
      "\n",
      "\n",
      "____________________________________________________________________________________________________\n",
      "Indulge in the refreshing coolness of mint perfectly balanced with rich, decadent chocolate chips. Our Mint Chocolate Chip ice cream is a delightful treat that will tantalize your taste buds with every creamy spoonful.\n",
      "____________________________________________________________________________________________________\n",
      "\n",
      "\n"
     ]
    }
   ],
   "source": [
    "for flavor in ice_cream_flavors:\n",
    "    prompt = f\"\"\"For the ice cream flavor listed below, \n",
    "    provide a captivating description that could be used for promotional purposes.\n",
    "\n",
    "    Flavor: {flavor}\n",
    "\n",
    "    \"\"\"\n",
    "    print_llm_response(prompt)"
   ]
  },
  {
   "cell_type": "markdown",
   "id": "d3f3ead6",
   "metadata": {},
   "source": [
    "Now that you know how to use lists, you can even save the promortional descriptions to another list using `.append()`:"
   ]
  },
  {
   "cell_type": "code",
   "execution_count": 10,
   "id": "db66a442",
   "metadata": {},
   "outputs": [],
   "source": [
    "#saving results to a list\n",
    "promotional_descriptions = []\n",
    "for flavor in ice_cream_flavors:\n",
    "    prompt = f\"\"\"For the ice cream flavor listed below, \n",
    "    provide a captivating description that could be used for promotional purposes.\n",
    "\n",
    "    Flavor: {flavor}\n",
    "\n",
    "    \"\"\"\n",
    "    description = get_llm_response(prompt)\n",
    "    promotional_descriptions.append(description)"
   ]
  },
  {
   "cell_type": "markdown",
   "id": "ebdbcfa5",
   "metadata": {},
   "source": [
    "After you run that code, you should be able to access the promotional descriptions for each of your ice-cream flavors."
   ]
  },
  {
   "cell_type": "code",
   "execution_count": 11,
   "id": "cad94172",
   "metadata": {},
   "outputs": [
    {
     "name": "stdout",
     "output_type": "stream",
     "text": [
      "['Indulge in the timeless classic of creamy vanilla ice cream. Its rich and velvety texture will transport your taste buds to a realm of pure delight. Experience the pure essence of vanilla in every luscious spoonful.', 'Indulge in the rich and velvety decadence of our classic Chocolate ice cream. Each spoonful is a luxurious experience that will satisfy your sweet cravings and leave you wanting more. Treat yourself to the timeless delight of pure chocolate bliss.', 'Indulge in the sweet and refreshing taste of our Strawberry ice cream. Made with ripe, juicy strawberries, this creamy treat is bursting with fruity flavor that will leave your taste buds craving more. Perfect for a sunny day or any time you need a delicious pick-me-up.', 'Indulge in the refreshing coolness of mint perfectly balanced with rich, decadent chocolate chips. Our Mint Chocolate Chip ice cream is a delightful treat that will leave your taste buds tingling for more.']\n"
     ]
    }
   ],
   "source": [
    "print(promotional_descriptions)"
   ]
  },
  {
   "cell_type": "markdown",
   "id": "7135f13d-0f36-4de4-9365-bdadb8e6d611",
   "metadata": {},
   "source": [
    "## Extra practice"
   ]
  },
  {
   "cell_type": "markdown",
   "id": "c01cc56d-92c7-4632-8cf9-aef3f9f9e3c7",
   "metadata": {},
   "source": [
    "Please go through the exercises in the cells below if you want some extra practice for the topics you covered in this lesson."
   ]
  },
  {
   "cell_type": "code",
   "execution_count": 12,
   "id": "f5a19e85-cd80-4e02-a5e1-762284bd27b6",
   "metadata": {},
   "outputs": [
    {
     "ename": "SyntaxError",
     "evalue": "invalid syntax (128476209.py, line 8)",
     "output_type": "error",
     "traceback": [
      "\u001b[1;36m  Cell \u001b[1;32mIn[12], line 8\u001b[1;36m\u001b[0m\n\u001b[1;33m    for flavor in ice_cream_flavors;\u001b[0m\n\u001b[1;37m                                   ^\u001b[0m\n\u001b[1;31mSyntaxError\u001b[0m\u001b[1;31m:\u001b[0m invalid syntax\n"
     ]
    }
   ],
   "source": [
    "# Fix the following code.\n",
    "# It should print the flavors in\n",
    "# ice_cream_flavors one by one.\n",
    "\n",
    "ice_cream_flavors = [\"Chocolate\", \"Mint Chocolate Chip\"]\n",
    "\n",
    "### EDIT THE FOLLOWING CODE ###\n",
    "for flavor in ice_cream_flavors;\n",
    "    print(ice_cream_flavors)\n",
    "### --------------- ###"
   ]
  },
  {
   "cell_type": "markdown",
   "id": "47fb21b9",
   "metadata": {},
   "source": [
    "It does seem there is a synthax error. Let's fix this to print the flavors in ice_cream_flavors one by one."
   ]
  },
  {
   "cell_type": "code",
   "execution_count": 13,
   "id": "064647d5",
   "metadata": {},
   "outputs": [
    {
     "name": "stdout",
     "output_type": "stream",
     "text": [
      "['Chocolate', 'Mint Chocolate Chip']\n",
      "['Chocolate', 'Mint Chocolate Chip']\n"
     ]
    }
   ],
   "source": [
    "ice_cream_flavors = [\"Chocolate\", \"Mint Chocolate Chip\"]\n",
    "\n",
    "### EDIT THE FOLLOWING CODE ###\n",
    "for flavor in ice_cream_flavors:\n",
    "    print(ice_cream_flavors)\n",
    "### --------------- ###"
   ]
  },
  {
   "cell_type": "code",
   "execution_count": 15,
   "id": "7b7480c4-ae67-42bd-8cac-189f1f087053",
   "metadata": {},
   "outputs": [
    {
     "name": "stdout",
     "output_type": "stream",
     "text": [
      "____________________________________________________________________________________________________\n",
      "Classic choice!\n",
      "____________________________________________________________________________________________________\n",
      "\n",
      "\n",
      "____________________________________________________________________________________________________\n",
      "Strawberry ice cream is a popular flavor enjoyed by many.\n",
      "____________________________________________________________________________________________________\n",
      "\n",
      "\n"
     ]
    }
   ],
   "source": [
    "# Translate the flavors in ice_cream_flavors to Spanish\n",
    "ice_cream_flavors = [\"Vanilla\", \"Strawberry\"]\n",
    "\n",
    "for flavor in ice_cream_flavors:\n",
    "    ### EDIT THE FOLLOWING CODE ###\n",
    "    #Hint: you only need to add one or two sentences to the prompt\n",
    "    prompt = f\"\"\"For the ice cream flavor listed below,\n",
    "\n",
    "    Flavor: {flavor}\n",
    "    \n",
    "    \"\"\"\n",
    "    ### --------------- ###\n",
    "    print_llm_response(prompt)"
   ]
  },
  {
   "cell_type": "markdown",
   "id": "80778d3c",
   "metadata": {},
   "source": [
    "Let's fix the above code, writing a short promt that could be able to translate from Englosh to Spanish"
   ]
  },
  {
   "cell_type": "code",
   "execution_count": 16,
   "id": "134732c9",
   "metadata": {},
   "outputs": [
    {
     "name": "stdout",
     "output_type": "stream",
     "text": [
      "____________________________________________________________________________________________________\n",
      "Sabor: Vainilla\n",
      "____________________________________________________________________________________________________\n",
      "\n",
      "\n",
      "____________________________________________________________________________________________________\n",
      "Sabor: Fresa\n",
      "____________________________________________________________________________________________________\n",
      "\n",
      "\n"
     ]
    }
   ],
   "source": [
    "# Translate the flavors in ice_cream_flavors to Spanish\n",
    "ice_cream_flavors = [\"Vanilla\", \"Strawberry\"]\n",
    "\n",
    "for flavor in ice_cream_flavors:\n",
    "    ### EDIT THE FOLLOWING CODE ###\n",
    "    #Hint: you only need to add one or two sentences to the prompt\n",
    "    prompt = f\"\"\"For the ice cream flavor listed below, translate to Spanish \n",
    "    \n",
    "    Flavor: {flavor}\n",
    "\n",
    "    \"\"\"\n",
    "    ### --------------- ###\n",
    "    print_llm_response(prompt)"
   ]
  },
  {
   "cell_type": "code",
   "execution_count": 18,
   "id": "6394bb74-a839-4732-8dbf-1b96bd8e97f9",
   "metadata": {},
   "outputs": [
    {
     "name": "stdout",
     "output_type": "stream",
     "text": [
      "['Apple', 'Weather', 'Newspaper']\n"
     ]
    }
   ],
   "source": [
    "# Write code to get a list with \n",
    "# words without typos\n",
    "\n",
    "words_with_typos = [\"Aple\", \"Wether\", \"Newpaper\"]\n",
    "words_without_typos = []\n",
    "\n",
    "for word in words_with_typos:\n",
    "    prompt = f\"\"\"Fix the spelling mistake in the following word: {word}\n",
    "    Provide only the word.\n",
    "    \"\"\"\n",
    "    correct_word = get_llm_response(prompt)\n",
    "    ### WRITE CODE HERE  ###\n",
    "    #Hint: Append the correct_word to the words_without_typos list \n",
    "    ### --------------- ###\n",
    "    words_without_typos.append(correct_word)\n",
    "\n",
    "print(words_without_typos)"
   ]
  }
 ],
 "metadata": {
  "kernelspec": {
   "display_name": "Python 3 (ipykernel)",
   "language": "python",
   "name": "python3"
  },
  "language_info": {
   "codemirror_mode": {
    "name": "ipython",
    "version": 3
   },
   "file_extension": ".py",
   "mimetype": "text/x-python",
   "name": "python",
   "nbconvert_exporter": "python",
   "pygments_lexer": "ipython3",
   "version": "3.12.2"
  }
 },
 "nbformat": 4,
 "nbformat_minor": 5
}
