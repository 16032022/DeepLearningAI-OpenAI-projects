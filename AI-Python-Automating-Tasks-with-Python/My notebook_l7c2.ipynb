{
 "cells": [
  {
   "cell_type": "markdown",
   "id": "f6bf49f7-21f0-47bc-9a3e-7fd325a0b9bf",
   "metadata": {},
   "source": [
    "# Lesson 7 - Next course preview: working with files"
   ]
  },
  {
   "cell_type": "markdown",
   "id": "3b995ca7-0cb5-493f-bd27-72af8b13e7bb",
   "metadata": {},
   "source": [
    "In the next course, you will work with files in Python, exploring some fun applications. This lesson is a quick teaser of the topics you will cover next."
   ]
  },
  {
   "cell_type": "code",
   "execution_count": 9,
   "id": "96cd66e4-95b9-4ec3-ac05-e792a8675759",
   "metadata": {},
   "outputs": [],
   "source": [
    "from helper_functions import *"
   ]
  },
  {
   "cell_type": "markdown",
   "id": "2bcd475f-2f4a-48e4-a0c1-610e622bb1c2",
   "metadata": {},
   "source": [
    "In the next cell, you load text from a file that contains a journal entry with descriptions of restaurants and their specialties."
   ]
  },
  {
   "cell_type": "markdown",
   "id": "59e0c7d0",
   "metadata": {},
   "source": [
    "To be remember that in this case the selected text file is called : \"cape_town\". However in the folder \"Journals_entries\" there are other seven text files, useful to make soma extra practice later. They are the following: \n",
    "-gibberish\n",
    "-instabul\n",
    "-new_york\n",
    "-paris\n",
    "-rio_de_janiero\n",
    "-sydney\n",
    "-tokyo"
   ]
  },
  {
   "cell_type": "markdown",
   "id": "fec224a6-51f8-4dcf-819f-ccceeef75d48",
   "metadata": {},
   "source": [
    "journal = read_journal(\"journal_entries/cape_town.txt\") \n",
    "print(journal)"
   ]
  },
  {
   "cell_type": "markdown",
   "id": "fe6f1689",
   "metadata": {},
   "source": [
    "The above code does work only in the original Notebook in the deeplearninig ai platform. However, in my VSC, to get read the file text I should use the following path:"
   ]
  },
  {
   "cell_type": "code",
   "execution_count": 10,
   "id": "aa01d626",
   "metadata": {},
   "outputs": [
    {
     "name": "stdout",
     "output_type": "stream",
     "text": [
      "C:/Users/Michela/L1c2/journals_entries/cape_town.txt\n"
     ]
    }
   ],
   "source": [
    "journal=\"C:/Users/Michela/L1c2/journals_entries/cape_town.txt\"\n",
    "print(journal)"
   ]
  },
  {
   "cell_type": "markdown",
   "id": "18321eb1",
   "metadata": {},
   "source": [
    "journal = read_journal(\"C:/Users/Michela/L1c2/journals_entries/cape_town.txt\") \n",
    "print(journal)"
   ]
  },
  {
   "cell_type": "code",
   "execution_count": 11,
   "id": "18fc1e90",
   "metadata": {},
   "outputs": [
    {
     "name": "stdout",
     "output_type": "stream",
     "text": [
      "Embarking on a gastronomic journey through Cape Town revealed a city brimming with culinary treasures. Each stop was a testament to the rich flavors and unique dishes that define this vibrant city's food scene.\n",
      "\n",
      "My first destination was The Test Kitchen, a restaurant that has earned its place among the world's best. Situated in the trendy Woodstock area, this dining spot is celebrated for its innovative dishes. I was particularly taken by their signature dish, the \"Pickled Fish Tacos.\" The tangy, flavorful fish wrapped in a soft taco, paired with a zesty salsa, was a delightful start to my culinary adventure. The industrial-chic ambiance added a modern edge to the dining experience.\n",
      "\n",
      "Next, I made my way to La Colombe, perched on the slopes of Constantia. Known for its refined and artistic approach to cuisine, La Colombe's \"Tuna La Colombe\" is a must-try. This dish features perfectly seared tuna, complemented by a delicate ponzu dressing and bursts of citrus. The presentation was as exquisite as the flavors, making it a memorable highlight of the day.\n",
      "\n",
      "For a taste of traditional South African fare, I headed to Gold Restaurant. Located in Green Point, this vibrant eatery offers a culinary tour of the continent. The \"Bobotie,\" a classic Cape Malay dish, stood out with its spiced minced meat topped with a savory custard. The rich, aromatic flavors, combined with the lively African drumming and dance performances, created an immersive cultural experience.\n",
      "\n",
      "At the bustling V&A Waterfront, I visited Harbour House for some of the freshest seafood in town. The \"Grilled Kingklip\" was a revelation. The succulent, flaky fish, grilled to perfection and served with a side of roasted vegetables, highlighted the ocean's bounty. The stunning views of the harbor added to the meal's appeal.\n",
      "\n",
      "Finally, my journey concluded at The Pot Luck Club, another gem in Woodstock. This trendy spot is known for its small plates, perfect for sharing. The standout dish was the \"Beef Tataki.\" Thinly sliced, seared beef with a tangy soy dressing and a hint of wasabi provided a burst of umami and heat. The eclectic, artistic vibe of the restaurant made for a fitting end to my culinary tour.\n",
      "\n"
     ]
    }
   ],
   "source": [
    "# Open and read the contents of a text file\n",
    "file_path = 'journals_entries/cape_town.txt'  # Replace with the actual file path\n",
    "\n",
    "with open(file_path, 'r') as file:  # Open and read the contents of the file\n",
    "    journal = file.read()\n",
    "\n",
    "print(journal) # Print the contents of the journal\n"
   ]
  },
  {
   "cell_type": "markdown",
   "id": "0c817471-c24e-4e0b-a274-b09271e06004",
   "metadata": {},
   "source": [
    "As you can see, there is a lot of text, and finding the important information can take some time. You can use LLMs to highlight the important information for you. For instance, the restaurants and their specialties."
   ]
  },
  {
   "cell_type": "code",
   "execution_count": 12,
   "id": "12fad143-833a-44db-a5cc-1f7791e8705e",
   "metadata": {},
   "outputs": [
    {
     "ename": "NameError",
     "evalue": "name 'display_html' is not defined",
     "output_type": "error",
     "traceback": [
      "\u001b[1;31m---------------------------------------------------------------------------\u001b[0m",
      "\u001b[1;31mNameError\u001b[0m                                 Traceback (most recent call last)",
      "Cell \u001b[1;32mIn[12], line 11\u001b[0m\n\u001b[0;32m      9\u001b[0m html_response \u001b[38;5;241m=\u001b[39m get_llm_response(prompt)\n\u001b[0;32m     10\u001b[0m \u001b[38;5;66;03m#print(html_response)\u001b[39;00m\n\u001b[1;32m---> 11\u001b[0m \u001b[43mdisplay_html\u001b[49m(html_response)\n",
      "\u001b[1;31mNameError\u001b[0m: name 'display_html' is not defined"
     ]
    }
   ],
   "source": [
    "prompt = f\"\"\"\n",
    "Given the following journal entry from a food critic, identify the restaurants and their specialties.\n",
    "For each restaurant, highlight its name and specialties in bold and use different colors for each.\n",
    "Provide the output as HTML suitable for display in a Jupyter notebook.\n",
    "\n",
    "Journal entry:\n",
    "{journal}\n",
    "\"\"\"\n",
    "html_response = get_llm_response(prompt)\n",
    "#print(html_response)\n",
    "display_html(html_response)"
   ]
  },
  {
   "cell_type": "markdown",
   "id": "d3f1b075",
   "metadata": {},
   "source": [
    "Following NameError of the above output, it does seem that 'display_html' is not defined. Therefore, let's ask some suggestion to the CHATBOT \n",
    "RESPONSE CHATBOT: To display HTML content in a Python environment, such as in Jupyter notebooks or similar interfaces, you can use the IPython.display module's display and HTML functions. These allow you to render HTML directly.\n",
    "\n",
    "Here’s how you can do it:\n",
    "from IPython.display import display, HTML\n",
    "\n",
    "# Example HTML content\n",
    "html_content = \"\"\"\n",
    "    <h1>My Journal Entry</h1>\n",
    "    <p>This is a sample journal entry from Cape Town.</p>\n",
    "    <ul>\n",
    "        <li>Beautiful weather</li>\n",
    "        <li>Visited Table Mountain</li>\n",
    "        <li>Great food</li>\n",
    "    </ul>\n",
    "\"\"\"\n",
    "\n",
    "# Display the HTML content\n",
    "display(HTML(html_content))\n"
   ]
  },
  {
   "cell_type": "markdown",
   "id": "4f4131ed",
   "metadata": {},
   "source": [
    "Following suggestion of CHATBOT, let's import display and HTML from the IPython and then convert the text file into html file "
   ]
  },
  {
   "cell_type": "code",
   "execution_count": 13,
   "id": "e7707031",
   "metadata": {},
   "outputs": [
    {
     "data": {
      "text/html": [
       "```html\n",
       "<p>Embarking on a gastronomic journey through Cape Town revealed a city brimming with culinary treasures. Each stop was a testament to the rich flavors and unique dishes that define this vibrant city's food scene.</p>\n",
       "\n",
       "<p>My first destination was <span style=\"color:blue\"><strong>The Test Kitchen</strong></span>, a restaurant that has earned its place among the world's best. Situated in the trendy Woodstock area, this dining spot is celebrated for its innovative dishes. I was particularly taken by their signature dish, the \"<span style=\"color:blue\">Pickled Fish Tacos</span>.\" The tangy, flavorful fish wrapped in a soft taco, paired with a zesty salsa, was a delightful start to my culinary adventure. The industrial-chic ambiance added a modern edge to the dining experience.</p>\n",
       "\n",
       "<p>Next, I made my way to <span style=\"color:red\"><strong>La Colombe</strong></span>, perched on the slopes of Constantia. Known for its refined and artistic approach to cuisine, <span style=\"color:red\">La Colombe's \"Tuna La Colombe\"</span> is a must-try. This dish features perfectly seared tuna, complemented by a delicate ponzu dressing and bursts of citrus. The presentation was as exquisite as the flavors, making it a memorable highlight of the day.</p>\n",
       "\n",
       "<p>For a taste of traditional South African fare, I headed to <span style=\"color:green\"><strong>Gold Restaurant</strong></span>. Located in Green Point, this vibrant eatery offers a culinary tour of the continent. The \"<span style=\"color:green\">Bobotie</span>,\" a classic Cape Malay dish, stood out with its spiced minced meat topped with a savory custard. The rich, aromatic flavors, combined with the lively African drumming and dance performances, created an immersive cultural experience.</p>\n",
       "\n",
       "<p>At the bustling V&A Waterfront, I visited <span style=\"color:purple\"><strong>Harbour House</strong></span> for some of the freshest seafood in town. The \"<span style=\"color:purple\">Grilled Kingklip</span>\" was a revelation. The succulent, flaky fish, grilled to perfection and served with a side of roasted vegetables, highlighted the ocean's bounty. The stunning views of the harbor added to the meal's appeal.</p>\n",
       "\n",
       "<p>Finally, my journey concluded at <span style=\"color:orange\"><strong>The Pot Luck Club</strong></span>, another gem in Woodstock. This trendy spot is known for its small plates, perfect for sharing. The standout dish was the \"<span style=\"color:orange\">Beef Tataki</span>.\" Thinly sliced, seared beef with a tangy soy dressing and a hint of wasabi provided a burst of umami and heat. The eclectic, artistic vibe of the restaurant made for a fitting end to my culinary tour.</p>\n",
       "```"
      ],
      "text/plain": [
       "<IPython.core.display.HTML object>"
      ]
     },
     "metadata": {},
     "output_type": "display_data"
    }
   ],
   "source": [
    "from IPython.display import display, HTML\n",
    "prompt = f\"\"\"\n",
    "Given the following journal entry from a food critic, identify the restaurants and their specialties.\n",
    "For each restaurant, highlight its name and specialties in bold and use different colors for each.\n",
    "Provide the output as HTML suitable for display in a Jupyter notebook.\n",
    "\n",
    "Journal entry:\n",
    "{journal}\n",
    "\"\"\"\n",
    "html_response = get_llm_response(prompt)\n",
    "#print(html_response)\n",
    "#display_html(html_response)\n",
    "\n",
    "# Display the HTML content\n",
    "display(HTML(html_response))\n"
   ]
  },
  {
   "cell_type": "markdown",
   "id": "0731b9c5",
   "metadata": {},
   "source": [
    "## Extra practice"
   ]
  },
  {
   "cell_type": "markdown",
   "id": "e73fd1ff",
   "metadata": {},
   "source": [
    "Let's consider another text file that is available in the folder journals_entries. \n",
    "For instance : tokyo.txt "
   ]
  },
  {
   "cell_type": "code",
   "execution_count": 14,
   "id": "f5f53f11",
   "metadata": {},
   "outputs": [
    {
     "name": "stdout",
     "output_type": "stream",
     "text": [
      "Tokyo's culinary landscape is nothing short of extraordinary. Each spot offers a unique taste of the city's diverse food culture. Here's a quick guide to some must-try places and dishes.\n",
      "\n",
      "    Sukiyabashi Jiro\n",
      "        Location: Ginza\n",
      "        Dish: Omakase sushi\n",
      "        Highlight: Impeccably crafted sushi made by the legendary Jiro Ono. Each piece is a masterclass in balance and flavor.\n",
      "\n",
      "    Ichiran Ramen\n",
      "        Location: Shibuya\n",
      "        Dish: Tonkotsu ramen\n",
      "        Highlight: A personal ramen booth for focused, uninterrupted enjoyment. Rich, creamy broth with perfectly cooked noodles.\n",
      "\n",
      "    Tempura Kondo\n",
      "        Location: Ginza\n",
      "        Dish: Seasonal vegetable and seafood tempura\n",
      "        Highlight: Light, crispy tempura showcasing the freshest ingredients. An elevated take on a classic Japanese dish.\n",
      "\n",
      "    Tsukiji Outer Market\n",
      "        Location: Tsukiji\n",
      "        Dish: Fresh sashimi and street food\n",
      "        Highlight: Vibrant market atmosphere. Indulge in ultra-fresh sashimi, grilled seafood, and other Japanese street food delights.\n",
      "\n",
      "    Narisawa\n",
      "        Location: Minato\n",
      "        Dish: Innovative tasting menu\n",
      "        Highlight: A fusion of French and Japanese techniques. Creative dishes with an emphasis on sustainability and local ingredients.\n",
      "\n",
      "    Ginza Kojyu\n",
      "        Location: Ginza\n",
      "        Dish: Kaiseki (traditional multi-course meal)\n",
      "        Highlight: Exquisite presentation and meticulous preparation. A journey through seasonal Japanese flavors.\n",
      "\n",
      "    Kyubey\n",
      "        Location: Ginza\n",
      "        Dish: Sushi\n",
      "        Highlight: Personalized sushi experience at the counter. Fresh, high-quality fish prepared with precision.\n",
      "\n",
      "    Afuri\n",
      "        Location: Ebisu\n",
      "        Dish: Yuzu shio ramen\n",
      "        Highlight: Light, citrusy broth that's refreshingly different. A unique twist on traditional ramen.\n",
      "\n",
      "    Den\n",
      "        Location: Jingumae\n",
      "        Dish: Creative Japanese cuisine\n",
      "        Highlight: Playful and inventive dishes that surprise and delight. A modern approach to Japanese flavors.\n",
      "\n",
      "    Akasaka Kikunoi\n",
      "        Location: Akasaka\n",
      "        Dish: Kaiseki\n",
      "        Highlight: Elegant and serene setting. Seasonal ingredients transformed into artful, delicious courses.\n",
      "\n",
      "Tokyo's food scene is a blend of tradition and innovation, offering something for every palate. From Michelin-starred restaurants to bustling markets, these spots are essential stops for any food lover exploring the city.\n",
      "\n"
     ]
    }
   ],
   "source": [
    "# Open and read the contents of a text file\n",
    "file_path = 'journals_entries/tokyo.txt'  # Replace with the actual file path\n",
    "\n",
    "with open(file_path, 'r') as file:  # Open and read the contents of the file\n",
    "    journal_tokyo = file.read()\n",
    "\n",
    "print(journal_tokyo) # Print the contents of the journal\n"
   ]
  },
  {
   "cell_type": "code",
   "execution_count": 15,
   "id": "fce9d561",
   "metadata": {},
   "outputs": [
    {
     "data": {
      "text/html": [
       "```html\n",
       "<p>\n",
       "    <span style=\"color: blue;\"><strong>Sukiyabashi Jiro</strong></span><br>\n",
       "    <strong>Specialty:</strong> Omakase sushi<br>\n",
       "    <strong>Location:</strong> Ginza<br>\n",
       "    <strong>Highlight:</strong> Impeccably crafted sushi made by the legendary Jiro Ono. Each piece is a masterclass in balance and flavor.\n",
       "</p>\n",
       "\n",
       "<p>\n",
       "    <span style=\"color: red;\"><strong>Ichiran Ramen</strong></span><br>\n",
       "    <strong>Specialty:</strong> Tonkotsu ramen<br>\n",
       "    <strong>Location:</strong> Shibuya<br>\n",
       "    <strong>Highlight:</strong> A personal ramen booth for focused, uninterrupted enjoyment. Rich, creamy broth with perfectly cooked noodles.\n",
       "</p>\n",
       "\n",
       "<p>\n",
       "    <span style=\"color: green;\"><strong>Tempura Kondo</strong></span><br>\n",
       "    <strong>Specialty:</strong> Seasonal vegetable and seafood tempura<br>\n",
       "    <strong>Location:</strong> Ginza<br>\n",
       "    <strong>Highlight:</strong> Light, crispy tempura showcasing the freshest ingredients. An elevated take on a classic Japanese dish.\n",
       "</p>\n",
       "\n",
       "<p>\n",
       "    <span style=\"color: purple;\"><strong>Tsukiji Outer Market</strong></span><br>\n",
       "    <strong>Specialty:</strong> Fresh sashimi and street food<br>\n",
       "    <strong>Location:</strong> Tsukiji<br>\n",
       "    <strong>Highlight:</strong> Vibrant market atmosphere. Indulge in ultra-fresh sashimi, grilled seafood, and other Japanese street food delights.\n",
       "</p>\n",
       "\n",
       "<p>\n",
       "    <span style=\"color: orange;\"><strong>Narisawa</strong></span><br>\n",
       "    <strong>Specialty:</strong> Innovative tasting menu<br>\n",
       "    <strong>Location:</strong> Minato<br>\n",
       "    <strong>Highlight:</strong> A fusion of French and Japanese techniques. Creative dishes with an emphasis on sustainability and local ingredients.\n",
       "</p>\n",
       "\n",
       "<p>\n",
       "    <span style=\"color: brown;\"><strong>Ginza Kojyu</strong></span><br>\n",
       "    <strong>Specialty:</strong> Kaiseki (traditional multi-course meal)<br>\n",
       "    <strong>Location:</strong> Ginza<br>\n",
       "    <strong>Highlight:</strong> Exquisite presentation and meticulous preparation. A journey through seasonal Japanese flavors.\n",
       "</p>\n",
       "\n",
       "<p>\n",
       "    <span style=\"color: teal;\"><strong>Kyubey</strong></span><br>\n",
       "    <strong>Specialty:</strong> Sushi<br>\n",
       "    <strong>Location:</strong> Ginza<br>\n",
       "    <strong>Highlight:</strong> Personalized sushi experience at the counter. Fresh, high-quality fish prepared with precision.\n",
       "</p>\n",
       "\n",
       "<p>\n",
       "    <span style=\"color: pink;\"><strong>Afuri</strong></span><br>\n",
       "    <strong>Specialty:</strong> Yuzu shio ramen<br>\n",
       "    <strong>Location:</strong> Ebisu<br>\n",
       "    <strong>Highlight:</strong> Light, citrusy broth that's refreshingly different. A unique twist on traditional ramen.\n",
       "</p>\n",
       "\n",
       "<p>\n",
       "    <span style=\"color: gray;\"><strong>Den</strong></span><br>\n",
       "    <strong>Specialty:</strong> Creative Japanese cuisine<br>\n",
       "    <strong>Location:</strong> Jingumae<br>\n",
       "    <strong>Highlight:</strong> Playful and inventive dishes that surprise and delight. A modern approach to Japanese flavors.\n",
       "</p>\n",
       "\n",
       "<p>\n",
       "    <span style=\"color: magenta;\"><strong>Akasaka Kikunoi</strong></span><br>\n",
       "    <strong>Specialty:</strong> Kaiseki<br>\n",
       "    <strong>Location:</strong> Akasaka<br>\n",
       "    <strong>Highlight:</strong> Elegant and serene setting. Seasonal ingredients transformed into artful, delicious courses.\n",
       "</p>\n",
       "```"
      ],
      "text/plain": [
       "<IPython.core.display.HTML object>"
      ]
     },
     "metadata": {},
     "output_type": "display_data"
    }
   ],
   "source": [
    "from IPython.display import display, HTML\n",
    "prompt = f\"\"\"\n",
    "Given the following journal entry from a food critic, identify the restaurants and their specialties.\n",
    "For each restaurant, highlight its name and specialties in bold and use different colors for each.\n",
    "Provide the output as HTML suitable for display in a Jupyter notebook.\n",
    "\n",
    "Journal entry:\n",
    "{journal_tokyo}\n",
    "\"\"\"\n",
    "html_response_tokyo = get_llm_response(prompt)\n",
    "#print(html_response)\n",
    "#display_html(html_response)\n",
    "\n",
    "# Display the HTML content\n",
    "display(HTML(html_response_tokyo))\n"
   ]
  },
  {
   "cell_type": "markdown",
   "id": "228458f3",
   "metadata": {},
   "source": [
    "Let's consider another text file that is available in the folder journals_entries. \n",
    "For instance : sydney.txt "
   ]
  },
  {
   "cell_type": "code",
   "execution_count": 16,
   "id": "729a1058",
   "metadata": {},
   "outputs": [
    {
     "name": "stdout",
     "output_type": "stream",
     "text": [
      "Sydney's culinary landscape is rich with local flavors and regional specialties, reflecting Australia's bountiful produce and diverse heritage. As someone new to the world of food criticism, I was eager to delve into the heart of Sydney's local cuisine and share my experiences.\n",
      "\n",
      "My culinary adventure began at Saint Peter, a renowned seafood restaurant in Paddington. This place is a temple to Australian seafood, and the \"Murray Cod\" was a revelation. The fish, sourced from the Murray River, was perfectly cooked, with a crispy skin and tender, flaky flesh. It was served with a simple yet flavorful accompaniment of seasonal vegetables, allowing the quality of the fish to shine. The restaurant's dedication to sustainability and nose-to-tail seafood cooking added an educational aspect to the delicious meal.\n",
      "\n",
      "Next, I visited Billy Kwong in Potts Point, where celebrated chef Kylie Kwong puts a unique spin on modern Australian cuisine using native ingredients. The standout dish here was the \"Crispy Skin Duck with Davidsonâ€™s Plum Sauce.\" The duck was cooked to perfection, with a rich, flavorful meat and delightfully crispy skin, complemented by the tart and slightly sweet Davidsonâ€™s plum sauce. This dish was a perfect example of how traditional recipes can be elevated with local, indigenous ingredients, creating something both familiar and new.\n",
      "\n",
      "In search of a true Australian pub experience, I headed to The Lord Nelson Brewery Hotel in The Rocks. This historic pub serves up hearty, classic Australian fare, and the \"Roast Lamb\" was exactly what I was craving. The lamb, roasted to tender perfection, was served with a medley of root vegetables and a rich gravy, making for a comforting and satisfying meal. Paired with one of their house-brewed ales, it was a quintessential Aussie pub experience that I would highly recommend.\n",
      "\n",
      "For a taste of Sydneyâ€™s vibrant market culture, I spent a morning at the Carriageworks Farmers Market. Here, I indulged in a \"Kangaroo Pie\" from one of the local vendors. The pie featured lean, flavorful kangaroo meat encased in a golden, flaky pastry. The savory filling, spiced and seasoned perfectly, offered a unique and distinctly Australian taste. The lively atmosphere of the market, with its array of fresh produce and artisanal products, made it a wonderful place to explore and sample local flavors.\n",
      "\n",
      "I couldn't miss out on trying some of the famous Australian barbecue, so I headed to Vic's Meat Market at the Sydney Fish Market. The \"BBQ Beef Brisket\" was a highlight, slow-cooked to achieve a melt-in-the-mouth texture, and served with a tangy barbecue sauce. The smoky, rich flavor of the brisket was enhanced by the vibrant, outdoor setting of the market, where the aroma of grilling meat filled the air.\n",
      "\n",
      "To round off my exploration of local cuisine, I visited Bennelong, located within the iconic Sydney Opera House. This fine dining restaurant celebrates Australian produce in every dish. The \"Sydney Rock Oysters\" were an exquisite start to the meal, served with a delicate vinaigrette that highlighted their briny freshness. The oysters, sourced from local waters, were plump and succulent, offering a pure taste of the sea.\n",
      "\n",
      "Each of these experiences highlighted the diversity and richness of Sydney's local cuisine. From innovative uses of native ingredients to classic pub fare and fresh market finds, the city's food scene is a testament to the quality and variety of Australian produce. My journey through Sydney's culinary offerings has been nothing short of delightful, and I look forward to discovering more of what this vibrant city has to offer.\n",
      "\n"
     ]
    }
   ],
   "source": [
    "# Open and read the contents of a text file\n",
    "file_path = 'journals_entries/sydney.txt'  # Replace with the actual file path\n",
    "\n",
    "with open(file_path, 'r') as file:  # Open and read the contents of the file\n",
    "    journal_sydney = file.read()\n",
    "\n",
    "print(journal_sydney) # Print the contents of the journal\n"
   ]
  },
  {
   "cell_type": "code",
   "execution_count": 17,
   "id": "369666e0",
   "metadata": {},
   "outputs": [
    {
     "data": {
      "text/html": [
       "```html\n",
       "<p>Sydney's culinary landscape is rich with local flavors and regional specialties, reflecting Australia's bountiful produce and diverse heritage. As someone new to the world of food criticism, I was eager to delve into the heart of Sydney's local cuisine and share my experiences.</p>\n",
       "\n",
       "<p>My culinary adventure began at <span style=\"color:blue\"><strong>Saint Peter</strong></span>, a renowned seafood restaurant in Paddington. This place is a temple to Australian seafood, and the \"<span style=\"color:blue\">Murray Cod</span>\" was a revelation. The fish, sourced from the Murray River, was perfectly cooked, with a crispy skin and tender, flaky flesh. It was served with a simple yet flavorful accompaniment of seasonal vegetables, allowing the quality of the fish to shine. The restaurant's dedication to sustainability and nose-to-tail seafood cooking added an educational aspect to the delicious meal.</p>\n",
       "\n",
       "<p>Next, I visited <span style=\"color:green\"><strong>Billy Kwong</strong></span> in Potts Point, where celebrated chef Kylie Kwong puts a unique spin on modern Australian cuisine using native ingredients. The standout dish here was the \"<span style=\"color:green\">Crispy Skin Duck with Davidson’s Plum Sauce</span>.\" The duck was cooked to perfection, with a rich, flavorful meat and delightfully crispy skin, complemented by the tart and slightly sweet Davidson’s plum sauce. This dish was a perfect example of how traditional recipes can be elevated with local, indigenous ingredients, creating something both familiar and new.</p>\n",
       "\n",
       "<p>In search of a true Australian pub experience, I headed to <span style=\"color:red\"><strong>The Lord Nelson Brewery Hotel</strong></span> in The Rocks. This historic pub serves up hearty, classic Australian fare, and the \"<span style=\"color:red\">Roast Lamb</span>\" was exactly what I was craving. The lamb, roasted to tender perfection, was served with a medley of root vegetables and a rich gravy, making for a comforting and satisfying meal. Paired with one of their house-brewed ales, it was a quintessential Aussie pub experience that I would highly recommend.</p>\n",
       "\n",
       "<p>For a taste of Sydney’s vibrant market culture, I spent a morning at the Carriageworks Farmers Market. Here, I indulged in a \"<span style=\"color:purple\">Kangaroo Pie</span>\" from one of the local vendors. The pie featured lean, flavorful kangaroo meat encased in a golden, flaky pastry. The savory filling, spiced and seasoned perfectly, offered a unique and distinctly Australian taste. The lively atmosphere of the market, with its array of fresh produce and artisanal products, made it a wonderful place to explore and sample local flavors.</p>\n",
       "\n",
       "<p>I couldn't miss out on trying some of the famous Australian barbecue, so I headed to <span style=\"color:orange\"><strong>Vic's Meat Market</strong></span> at the Sydney Fish Market. The \"<span style=\"color:orange\">BBQ Beef Brisket</span>\" was a highlight, slow-cooked to achieve a melt-in-the-mouth texture, and served with a tangy barbecue sauce. The smoky, rich flavor of the brisket was enhanced by the vibrant, outdoor setting of the market, where the aroma of grilling meat filled the air.</p>\n",
       "\n",
       "<p>To round off my exploration of local cuisine, I visited <span style=\"color:brown\"><strong>Bennelong</strong></span>, located within the iconic Sydney Opera House. This fine dining restaurant celebrates Australian produce in every dish. The \"<span style=\"color:brown\">Sydney Rock Oysters</span>\" were an exquisite start to the meal, served with a delicate vinaigrette that highlighted their briny freshness. The oysters, sourced from local waters, were plump and succulent, offering a pure taste of the sea.</p>\n",
       "\n",
       "<p>Each of these experiences highlighted the diversity and richness of Sydney's local cuisine. From innovative uses of native ingredients to classic pub fare and fresh market finds, the city's food scene is a testament to the quality and variety of Australian produce. My journey through Sydney's culinary offerings has been nothing short of delightful, and I look forward to discovering more of what this vibrant city has to offer.</p>\n",
       "```"
      ],
      "text/plain": [
       "<IPython.core.display.HTML object>"
      ]
     },
     "metadata": {},
     "output_type": "display_data"
    }
   ],
   "source": [
    "#from IPython.display import display, HTML  # display and HTML are already imported\n",
    "prompt = f\"\"\"\n",
    "Given the following journal entry from a food critic, identify the restaurants and their specialties.\n",
    "For each restaurant, highlight its name and specialties in bold and use different colors for each.\n",
    "Provide the output as HTML suitable for display in a Jupyter notebook.\n",
    "\n",
    "Journal entry:\n",
    "{journal_sydney}\n",
    "\"\"\"\n",
    "html_response_sydney = get_llm_response(prompt)\n",
    "#print(html_response)\n",
    "#display_html(html_response)\n",
    "\n",
    "# Display the HTML content\n",
    "display(HTML(html_response_sydney))"
   ]
  },
  {
   "cell_type": "markdown",
   "id": "c2c5e40e",
   "metadata": {},
   "source": [
    "Let's consider another text file that is available in the folder journals_entries. \n",
    "For instance : rio_de_janeiro.txt "
   ]
  },
  {
   "cell_type": "code",
   "execution_count": 18,
   "id": "1e2bf5c6",
   "metadata": {},
   "outputs": [
    {
     "name": "stdout",
     "output_type": "stream",
     "text": [
      "Today, I set off on a wonderful culinary adventure in Rio de Janeiro, exploring some of the city's top dining spots. Each restaurant offered a unique specialty, making the experience truly memorable.\n",
      "\n",
      "First up was Confeitaria Colombo, a legendary and picturesque cafÃ© in central Rio. Known for its pastel de nata (custard tart), Colombo serves a delightful treat that is hard to beat. The crispy, flaky pastry filled with creamy, sweet custard was an excellent start to the day. The cafÃ©'s historic Belle Ã‰poque ambiance added an extra layer of charm.\n",
      "\n",
      "Next, I visited Fogo de ChÃ£o, a quintessential Brazilian steakhouse in Botafogo. Famous for its picanha (top sirloin), this churrascaria impressed with its perfectly grilled meat. The picanha was juicy, tender, and bursting with flavor, showcasing the high quality of Brazilian beef. The endless array of grilled meats served tableside made for a hearty and satisfying meal.\n",
      "\n",
      "For a more modern dining experience, I headed to Olympe in Lagoa. This Michelin-starred restaurant specializes in contemporary Brazilian cuisine. The highlight was their moqueca de caju (cashew nut stew). This rich and creamy stew, made from cashew nuts and complemented by fresh seafood and vegetables, was an exquisite dish in an elegant and refined setting.\n",
      "\n",
      "A visit to Feira de SÃ£o CristÃ³vÃ£o, a bustling market celebrating Northeastern Brazilian culture and cuisine, was an essential part of the journey. Among the many culinary delights, the acarajÃ© stood out. These crispy, deep-fried balls of black-eyed pea dough, filled with spicy shrimp and vatapÃ¡ (a creamy, spicy paste), offered an authentic taste of Bahia in the vibrant market atmosphere.\n",
      "\n",
      "Finally, I concluded my culinary tour at AprazÃ­vel, renowned for its breathtaking views and farm-to-table approach. Their signature dish, galinhada (Brazilian chicken and rice), was outstanding. The tender and flavorful chicken, cooked with a mix of rice, vegetables, and spices, and served with farofa (toasted cassava flour), perfectly highlighted the fresh, locally sourced ingredients. The lush, garden-like setting of the restaurant provided a serene end to the culinary adventure.\n",
      "\n"
     ]
    }
   ],
   "source": [
    "# Open and read the contents of a text file\n",
    "file_path = 'journals_entries/rio_de_janeiro.txt'  # Replace with the actual file path\n",
    "\n",
    "with open(file_path, 'r') as file:  # Open and read the contents of the file\n",
    "    journal_janeiro = file.read()\n",
    "\n",
    "print(journal_janeiro) # Print the contents of the journal"
   ]
  },
  {
   "cell_type": "code",
   "execution_count": 19,
   "id": "41824e5e",
   "metadata": {},
   "outputs": [
    {
     "data": {
      "text/html": [
       "```html\n",
       "<p>Today, I set off on a wonderful culinary adventure in Rio de Janeiro, exploring some of the city's top dining spots. Each restaurant offered a unique specialty, making the experience truly memorable.</p>\n",
       "\n",
       "<p><span style=\"color: blue;\"><strong>Confeitaria Colombo</strong></span>, a legendary and picturesque café in central Rio. Known for its <em>pastel de nata (custard tart)</em>, Colombo serves a delightful treat that is hard to beat. The crispy, flaky pastry filled with creamy, sweet custard was an excellent start to the day. The café's historic Belle Époque ambiance added an extra layer of charm.</p>\n",
       "\n",
       "<p><span style=\"color: green;\"><strong>Fogo de Chão</strong></span>, a quintessential Brazilian steakhouse in Botafogo. Famous for its <em>picanha (top sirloin)</em>, this churrascaria impressed with its perfectly grilled meat. The picanha was juicy, tender, and bursting with flavor, showcasing the high quality of Brazilian beef. The endless array of grilled meats served tableside made for a hearty and satisfying meal.</p>\n",
       "\n",
       "<p><span style=\"color: purple;\"><strong>Olympe</strong></span> in Lagoa. This Michelin-starred restaurant specializes in contemporary Brazilian cuisine. The highlight was their <em>moqueca de caju (cashew nut stew)</em>. This rich and creamy stew, made from cashew nuts and complemented by fresh seafood and vegetables, was an exquisite dish in an elegant and refined setting.</p>\n",
       "\n",
       "<p>Feira de São Cristóvão, a bustling market celebrating Northeastern Brazilian culture and cuisine, was an essential part of the journey. Among the many culinary delights, the <em>acarajé</em> stood out. These crispy, deep-fried balls of black-eyed pea dough, filled with spicy shrimp and vatapá (a creamy, spicy paste), offered an authentic taste of Bahia in the vibrant market atmosphere.</p>\n",
       "\n",
       "<p><span style=\"color: red;\"><strong>Aprazível</strong></span>, renowned for its breathtaking views and farm-to-table approach. Their signature dish, <em>galinhada (Brazilian chicken and rice)</em>, was outstanding. The tender and flavorful chicken, cooked with a mix of rice, vegetables, and spices, and served with farofa (toasted cassava flour), perfectly highlighted the fresh, locally sourced ingredients. The lush, garden-like setting of the restaurant provided a serene end to the culinary adventure.</p>\n",
       "```"
      ],
      "text/plain": [
       "<IPython.core.display.HTML object>"
      ]
     },
     "metadata": {},
     "output_type": "display_data"
    }
   ],
   "source": [
    "#from IPython.display import display, HTML  # display and HTML are already imported\n",
    "prompt = f\"\"\"\n",
    "Given the following journal entry from a food critic, identify the restaurants and their specialties.\n",
    "For each restaurant, highlight its name and specialties in bold and use different colors for each.\n",
    "Provide the output as HTML suitable for display in a Jupyter notebook.\n",
    "\n",
    "Journal entry:\n",
    "{journal_janeiro}\n",
    "\"\"\"\n",
    "html_response_janeiro = get_llm_response(prompt)\n",
    "#print(html_response)\n",
    "#display_html(html_response)\n",
    "\n",
    "# Display the HTML content\n",
    "display(HTML(html_response_janeiro))"
   ]
  },
  {
   "cell_type": "markdown",
   "id": "748dab65",
   "metadata": {},
   "source": [
    "Interesting to note here that the speciality food is not underlined. Why? Is this due to an issue of formatting text? "
   ]
  },
  {
   "cell_type": "markdown",
   "id": "16458208",
   "metadata": {},
   "source": [
    "The issue has been submitted to the DeepLearning AI platform and further it has been solved changing the prompt. Highlight and bold each restaurant (in orange) and best dish (in blue)"
   ]
  },
  {
   "cell_type": "code",
   "execution_count": 20,
   "id": "26e59e9a",
   "metadata": {},
   "outputs": [
    {
     "data": {
      "text/html": [
       "```html\n",
       "<p>Today, I set off on a wonderful culinary adventure in Rio de Janeiro, exploring some of the city's top dining spots. Each restaurant offered a unique specialty, making the experience truly memorable.</p>\n",
       "\n",
       "<p>First up was <span style=\"color:orange\"><strong>Confeitaria Colombo</strong></span>, a legendary and picturesque café in central Rio. Known for its <span style=\"color:blue\">pastel de nata (custard tart)</span>, Colombo serves a delightful treat that is hard to beat. The crispy, flaky pastry filled with creamy, sweet custard was an excellent start to the day. The café's historic Belle Époque ambiance added an extra layer of charm.</p>\n",
       "\n",
       "<p>Next, I visited <span style=\"color:orange\"><strong>Fogo de Chão</strong></span>, a quintessential Brazilian steakhouse in Botafogo. Famous for its <span style=\"color:blue\">picanha (top sirloin)</span>, this churrascaria impressed with its perfectly grilled meat. The picanha was juicy, tender, and bursting with flavor, showcasing the high quality of Brazilian beef. The endless array of grilled meats served tableside made for a hearty and satisfying meal.</p>\n",
       "\n",
       "<p>For a more modern dining experience, I headed to <span style=\"color:orange\"><strong>Olympe</strong></span> in Lagoa. This Michelin-starred restaurant specializes in contemporary Brazilian cuisine. The highlight was their <span style=\"color:blue\">moqueca de caju (cashew nut stew)</span>. This rich and creamy stew, made from cashew nuts and complemented by fresh seafood and vegetables, was an exquisite dish in an elegant and refined setting.</p>\n",
       "\n",
       "<p>A visit to <span style=\"color:orange\"><strong>Feira de São Cristóvão</strong></span>, a bustling market celebrating Northeastern Brazilian culture and cuisine, was an essential part of the journey. Among the many culinary delights, the <span style=\"color:blue\">acarajé</span> stood out. These crispy, deep-fried balls of black-eyed pea dough, filled with spicy shrimp and vatapá (a creamy, spicy paste), offered an authentic taste of Bahia in the vibrant market atmosphere.</p>\n",
       "\n",
       "<p>Finally, I concluded my culinary tour at <span style=\"color:orange\"><strong>Aprazível</strong></span>, renowned for its breathtaking views and farm-to-table approach. Their signature dish, <span style=\"color:blue\">galinhada (Brazilian chicken and rice)</span>, was outstanding. The tender and flavorful chicken, cooked with a mix of rice, vegetables, and spices, and served with farofa (toasted cassava flour), perfectly highlighted the fresh, locally sourced ingredients. The lush, garden-like setting of the restaurant provided a serene end to the culinary adventure.</p>\n",
       "```"
      ],
      "text/plain": [
       "<IPython.core.display.HTML object>"
      ]
     },
     "metadata": {},
     "output_type": "display_data"
    }
   ],
   "source": [
    "#from IPython.display import display, HTML  # display and HTML are already imported\n",
    "prompt = f\"\"\"\n",
    "Given the following journal entry from a food critic, identify the restaurants and their specialties.\n",
    "Highlight in bold each restaurant (in orange) and best dish (in blue)\n",
    "Provide the output as HTML suitable for display in a Jupyter notebook.\n",
    "\n",
    "Journal entry:\n",
    "{journal_janeiro}\n",
    "\"\"\"\n",
    "html_response_janeiro = get_llm_response(prompt)\n",
    "#print(html_response)\n",
    "#display_html(html_response)\n",
    "\n",
    "# Display the HTML content\n",
    "display(HTML(html_response_janeiro))"
   ]
  },
  {
   "cell_type": "markdown",
   "id": "8877bb79",
   "metadata": {},
   "source": [
    "Interesting to note here that the speciality food is not underlined. Why? Is this due to an issue of formatting text? "
   ]
  },
  {
   "cell_type": "markdown",
   "id": "6185d5b8",
   "metadata": {},
   "source": [
    "Let's consider another text file that is available in the folder journals_entries. \n",
    "For instance : paris.txt "
   ]
  },
  {
   "cell_type": "code",
   "execution_count": 21,
   "id": "50b503a4",
   "metadata": {},
   "outputs": [
    {
     "name": "stdout",
     "output_type": "stream",
     "text": [
      "Exploring Paris through its food is an experience thatâ€™s both enchanting and utterly satisfying. The cityâ€™s culinary scene is as iconic as its landmarks, and each meal is a celebration of French gastronomy.\n",
      "\n",
      "My first stop was the legendary Le Comptoir du Relais in the heart of Saint-Germain-des-PrÃ©s. Known for its bistro classics, I opted for the \"Coq au Vin.\" This traditional dish, featuring chicken braised in red wine with mushrooms and onions, was the epitome of comfort food. The rich, flavorful sauce and tender chicken were perfection on a plate. The cozy, bustling atmosphere of the bistro added to the experience, making it feel authentically Parisian.\n",
      "\n",
      "Next, I ventured to Le Jules Verne, located in the Eiffel Tower. Dining here is as much about the view as it is about the food. I was treated to \"Filet de Boeuf,\" a beautifully cooked beef fillet served with a delicate truffle sauce. The meat was succulent and flavorful, and the elegant presentation was matched only by the breathtaking panorama of Paris below. It was a dining experience that combined culinary excellence with visual splendor.\n",
      "\n",
      "For a more casual bite, I headed to Lâ€™As du Fallafel in the Marais district. This famous spot is known for its falafel sandwiches, and it did not disappoint. The crispy, golden falafel balls were stuffed into a warm pita with fresh vegetables and drizzled with a tangy tahini sauce. It was a perfect street food delight, bursting with flavor and texture, enjoyed amidst the vibrant energy of the Marais.\n",
      "\n",
      "Seeking something sweet, I made my way to Pierre HermÃ©, a patisserie revered for its exquisite pastries. I indulged in a \"Ispahan,\" a delicate macaron filled with rose, lychee, and raspberry. Each bite was a harmonious blend of sweetness and floral notes, showcasing the artistry of French patisserie. The elegant, minimalist setting of the boutique allowed the pastries to shine as the true stars.\n",
      "\n",
      "To cap off my culinary journey, I visited L'Ambroisie in Place des Vosges. This three-Michelin-starred restaurant is the pinnacle of fine dining. I savored the \"Turbot with Artichokes and Truffle,\" a dish that was as luxurious as it sounds. The fish was perfectly cooked, and the combination of flavors was both sophisticated and sublime. Dining at L'Ambroisie was an unforgettable experience, with impeccable service and an ambiance of timeless elegance.\n",
      "\n",
      "Paris, with its rich culinary heritage, offers a feast for the senses. Each restaurant and dish told a story, making my gastronomic adventure through the city truly remarkable.\n",
      "\n"
     ]
    }
   ],
   "source": [
    "# Open and read the contents of a text file\n",
    "file_path = 'journals_entries/paris.txt'  # Replace with the actual file path\n",
    "\n",
    "with open(file_path, 'r') as file:  # Open and read the contents of the file\n",
    "    journal_paris = file.read()\n",
    "\n",
    "print(journal_paris) # Print the contents of the journal"
   ]
  },
  {
   "cell_type": "code",
   "execution_count": 22,
   "id": "bdd0bcce",
   "metadata": {},
   "outputs": [
    {
     "data": {
      "text/html": [
       "```html\n",
       "<p>Exploring Paris through its food is an experience that’s both enchanting and utterly satisfying. The city’s culinary scene is as iconic as its landmarks, and each meal is a celebration of French gastronomy.</p>\n",
       "\n",
       "<p>My first stop was the legendary <span style=\"color:blue\"><strong>Le Comptoir du Relais</strong></span> in the heart of Saint-Germain-des-Prés. Known for its bistro classics, I opted for the \"<span style=\"color:blue\">Coq au Vin</span>.\" This traditional dish, featuring chicken braised in red wine with mushrooms and onions, was the epitome of comfort food. The rich, flavorful sauce and tender chicken were perfection on a plate. The cozy, bustling atmosphere of the bistro added to the experience, making it feel authentically Parisian.</p>\n",
       "\n",
       "<p>Next, I ventured to <span style=\"color:green\"><strong>Le Jules Verne</strong></span>, located in the Eiffel Tower. Dining here is as much about the view as it is about the food. I was treated to \"<span style=\"color:green\">Filet de Boeuf</span>,\" a beautifully cooked beef fillet served with a delicate truffle sauce. The meat was succulent and flavorful, and the elegant presentation was matched only by the breathtaking panorama of Paris below. It was a dining experience that combined culinary excellence with visual splendor.</p>\n",
       "\n",
       "<p>For a more casual bite, I headed to <span style=\"color:orange\"><strong>L’As du Fallafel</strong></span> in the Marais district. This famous spot is known for its falafel sandwiches, and it did not disappoint. The crispy, golden falafel balls were stuffed into a warm pita with fresh vegetables and drizzled with a tangy tahini sauce. It was a perfect street food delight, bursting with flavor and texture, enjoyed amidst the vibrant energy of the Marais.</p>\n",
       "\n",
       "<p>Seeking something sweet, I made my way to <span style=\"color:red\"><strong>Pierre Hermé</strong></span>, a patisserie revered for its exquisite pastries. I indulged in a \"<span style=\"color:red\">Ispahan</span>,\" a delicate macaron filled with rose, lychee, and raspberry. Each bite was a harmonious blend of sweetness and floral notes, showcasing the artistry of French patisserie. The elegant, minimalist setting of the boutique allowed the pastries to shine as the true stars.</p>\n",
       "\n",
       "<p>To cap off my culinary journey, I visited <span style=\"color:purple\"><strong>L'Ambroisie</strong></span> in Place des Vosges. This three-Michelin-starred restaurant is the pinnacle of fine dining. I savored the \"<span style=\"color:purple\">Turbot with Artichokes and Truffle</span>,\" a dish that was as luxurious as it sounds. The fish was perfectly cooked, and the combination of flavors was both sophisticated and sublime. Dining at L'Ambroisie was an unforgettable experience, with impeccable service and an ambiance of timeless elegance.</p>\n",
       "\n",
       "<p>Paris, with its rich culinary heritage, offers a feast for the senses. Each restaurant and dish told a story, making my gastronomic adventure through the city truly remarkable.</p>\n",
       "```"
      ],
      "text/plain": [
       "<IPython.core.display.HTML object>"
      ]
     },
     "metadata": {},
     "output_type": "display_data"
    }
   ],
   "source": [
    "#from IPython.display import display, HTML  # display and HTML are already imported\n",
    "prompt = f\"\"\"\n",
    "Given the following journal entry from a food critic, identify the restaurants and their specialties.\n",
    "For each restaurant, highlight its name and specialties in bold and use different colors for each.\n",
    "Provide the output as HTML suitable for display in a Jupyter notebook.\n",
    "\n",
    "Journal entry:\n",
    "{journal_paris}\n",
    "\"\"\"\n",
    "html_response_paris = get_llm_response(prompt)\n",
    "#print(html_response)\n",
    "#display_html(html_response)\n",
    "\n",
    "# Display the HTML content\n",
    "display(HTML(html_response_paris))"
   ]
  },
  {
   "cell_type": "markdown",
   "id": "57d66093",
   "metadata": {},
   "source": [
    "Interesting to note here that in this case only one speciality food is not underlined. Why? Is this due to an issue of formatting text? Highlight and bold each restaurant\n",
    "(in orange) and best dish (in blue)"
   ]
  },
  {
   "cell_type": "markdown",
   "id": "c946c37c",
   "metadata": {},
   "source": [
    "Let's consider another text file that is available in the folder journals_entries. \n",
    "For instance : new_york.txt "
   ]
  },
  {
   "cell_type": "code",
   "execution_count": 23,
   "id": "0dba11fc",
   "metadata": {},
   "outputs": [
    {
     "name": "stdout",
     "output_type": "stream",
     "text": [
      "Today I embarked on a delightful culinary journey through New York City, sampling some of the city's best dining spots. Each restaurant offered a unique specialty that made the experience unforgettable.\n",
      "\n",
      "First on my list was Katz's Delicatessen, renowned as one of the oldest and most iconic delis in the city. Located on the Lower East Side, Katz's is famous for its pastrami on rye. The thick, juicy slices of pastrami, seasoned to perfection and served on fresh rye bread with a smear of mustard, made for a delectable start to my culinary adventure. The bustling, old-school ambiance added to the charm.\n",
      "\n",
      "Next, I visited Peter Luger Steak House in Williamsburg, Brooklyn. This classic New York steakhouse is best known for its porterhouse steak. The perfectly cooked steak, with its crispy sear and tender, flavorful interior, showcased the quality of the meat and the expertise of the chefs. The simple, no-frills presentation allowed the flavors to shine, creating a rich and satisfying dining experience.\n",
      "\n",
      "For a more modern twist, I headed to Eleven Madison Park in the Flatiron District. This Michelin-starred restaurant offers a unique dining experience with a focus on innovative, plant-based cuisine. Their specialty is the sunflower seed risotto. The creamy, rich risotto, made from sunflower seeds and complemented by a medley of seasonal vegetables, was a standout dish in a sophisticated, elegant setting.\n",
      "\n",
      "Another must-visit was Chelsea Market, a vibrant food hall in the Meatpacking District. Here, I sampled lobster rolls from the Lobster Place. The fresh, succulent lobster meat, lightly dressed with mayo and served in a buttery, toasted bun, offered a taste of New England right in the heart of New York City. The bustling market atmosphere added to the enjoyment of the meal.\n",
      "\n",
      "Finally, I concluded my dining tour at Gramercy Tavern, known for its farm-to-table approach. Their specialty is roasted chicken with seasonal vegetables. The chicken was tender and juicy, with a crispy, flavorful skin, and paired perfectly with the fresh, locally sourced vegetables. The warm, inviting atmosphere of the tavern made for a delightful end to my culinary journey.\n",
      "\n"
     ]
    }
   ],
   "source": [
    "# Open and read the contents of a text file\n",
    "file_path = 'journals_entries/new_york.txt'  # Replace with the actual file path\n",
    "\n",
    "with open(file_path, 'r') as file:  # Open and read the contents of the file\n",
    "    journal_ny = file.read()\n",
    "\n",
    "print(journal_ny) # Print the contents of the journal"
   ]
  },
  {
   "cell_type": "code",
   "execution_count": 24,
   "id": "b455c6ad",
   "metadata": {},
   "outputs": [
    {
     "data": {
      "text/html": [
       "```html\n",
       "<p>Today I embarked on a delightful culinary journey through New York City, sampling some of the city's best dining spots. Each restaurant offered a unique specialty that made the experience unforgettable.</p>\n",
       "\n",
       "<p><span style=\"color:blue;\"><strong>Katz's Delicatessen</strong></span>, renowned as one of the oldest and most iconic delis in the city. Located on the Lower East Side, Katz's is famous for its <span style=\"color:blue;\">pastrami on rye</span>. The thick, juicy slices of pastrami, seasoned to perfection and served on fresh rye bread with a smear of mustard, made for a delectable start to my culinary adventure. The bustling, old-school ambiance added to the charm.</p>\n",
       "\n",
       "<p><span style=\"color:green;\"><strong>Peter Luger Steak House</strong></span> in Williamsburg, Brooklyn. This classic New York steakhouse is best known for its <span style=\"color:green;\">porterhouse steak</span>. The perfectly cooked steak, with its crispy sear and tender, flavorful interior, showcased the quality of the meat and the expertise of the chefs. The simple, no-frills presentation allowed the flavors to shine, creating a rich and satisfying dining experience.</p>\n",
       "\n",
       "<p><span style=\"color:red;\"><strong>Eleven Madison Park</strong></span> in the Flatiron District. This Michelin-starred restaurant offers a unique dining experience with a focus on innovative, plant-based cuisine. Their specialty is the <span style=\"color:red;\">sunflower seed risotto</span>. The creamy, rich risotto, made from sunflower seeds and complemented by a medley of seasonal vegetables, was a standout dish in a sophisticated, elegant setting.</p>\n",
       "\n",
       "<p>Another must-visit was <span style=\"color:purple;\"><strong>Chelsea Market</strong></span>, a vibrant food hall in the Meatpacking District. Here, I sampled lobster rolls from the Lobster Place. The fresh, succulent lobster meat, lightly dressed with mayo and served in a buttery, toasted bun, offered a taste of New England right in the heart of New York City. The bustling market atmosphere added to the enjoyment of the meal.</p>\n",
       "\n",
       "<p><span style=\"color:orange;\"><strong>Gramercy Tavern</strong></span>, known for its farm-to-table approach. Their specialty is <span style=\"color:orange;\">roasted chicken with seasonal vegetables</span>. The chicken was tender and juicy, with a crispy, flavorful skin, and paired perfectly with the fresh, locally sourced vegetables. The warm, inviting atmosphere of the tavern made for a delightful end to my culinary journey.</p>\n",
       "```"
      ],
      "text/plain": [
       "<IPython.core.display.HTML object>"
      ]
     },
     "metadata": {},
     "output_type": "display_data"
    }
   ],
   "source": [
    "#from IPython.display import display, HTML  # display and HTML are already imported\n",
    "prompt = f\"\"\"\n",
    "Given the following journal entry from a food critic, identify the restaurants and their specialties.\n",
    "For each restaurant, highlight its name and specialties in bold and use different colors for each.\n",
    "Provide the output as HTML suitable for display in a Jupyter notebook.\n",
    "\n",
    "Journal entry:\n",
    "{journal_ny}\n",
    "\"\"\"\n",
    "html_response_ny = get_llm_response(prompt)\n",
    "#print(html_response)\n",
    "#display_html(html_response)\n",
    "\n",
    "# Display the HTML content\n",
    "display(HTML(html_response_ny))"
   ]
  },
  {
   "cell_type": "markdown",
   "id": "a499f750",
   "metadata": {},
   "source": [
    "Let's consider another text file that is available in the folder journals_entries. \n",
    "For instance : instabul.txt "
   ]
  },
  {
   "cell_type": "code",
   "execution_count": 25,
   "id": "324656cb",
   "metadata": {},
   "outputs": [
    {
     "name": "stdout",
     "output_type": "stream",
     "text": [
      "Istanbul is a city where every meal tells a story, and today, I set out to taste some of its best chapters. The culinary scene here is as rich and varied as its history, and I was eager to explore.\n",
      "\n",
      "My journey began in the heart of KadÄ±kÃ¶y at Ã‡iya SofrasÄ±. This gem is a haven for those seeking authentic Anatolian flavors. I dove straight into the \"Kuzu Tandir,\" a lamb dish that was a revelation. Slow-cooked until impossibly tender, the meat was infused with a blend of spices that transported me to another time. The restaurant, with its unpretentious charm and bustling energy, felt like a warm embrace from Istanbul itself.\n",
      "\n",
      "Next, I crossed the Galata Bridge to KarakÃ¶y LokantasÄ±, a restaurant that masterfully blends tradition with a modern twist. The \"Midye Dolma,\" or stuffed mussels, was a symphony of flavors. Plump mussels stuffed with a fragrant mix of rice, pine nuts, and currants, each bite was a delightful surprise. The sleek, turquoise-tiled interior was as pleasing to the eye as the food was to the palate.\n",
      "\n",
      "For a taste of the imperial, I made my way to Asitane in EdirnekapÄ±. This restaurant specializes in Ottoman cuisine, and the \"Mutancana\" was a standout. This historic dish, featuring tender lamb cooked with prunes, apricots, and almonds, offered a sweet and savory experience that was both unique and deeply satisfying. Dining here felt like a journey through time, surrounded by the echoes of the past.\n",
      "\n",
      "A visit to Istanbul wouldn't be complete without experiencing its vibrant street food. At the famous Istiklal Street, I indulged in \"Simit,\" a sesame-crusted bread that's a staple for locals. Crispy on the outside and soft on the inside, it was the perfect snack as I strolled through the bustling street, soaking in the city's energy.\n",
      "\n",
      "Finally, I ended my day at Mikla, perched atop the Marmara Pera Hotel. This modern restaurant offers panoramic views of the city, and its cuisine is a blend of Scandinavian and Turkish influences. The \"Lamb Rump\" dish, cooked to perfection and served with a medley of local vegetables, was a fitting finale to my culinary adventure. The view of Istanbul's skyline at sunset was a breathtaking backdrop to a memorable meal.\n",
      "\n",
      "Istanbul's culinary landscape is as diverse and vibrant as the city itself. Each dish I tasted was a testament to the rich cultural tapestry that makes this city a must-visit for any food lover.\n",
      "\n"
     ]
    }
   ],
   "source": [
    "# Open and read the contents of a text file\n",
    "file_path = 'journals_entries/istanbul.txt'  # Replace with the actual file path\n",
    "\n",
    "with open(file_path, 'r') as file:  # Open and read the contents of the file\n",
    "    journal_istanbul = file.read()\n",
    "\n",
    "print(journal_istanbul) # Print the contents of the journal"
   ]
  },
  {
   "cell_type": "code",
   "execution_count": 26,
   "id": "5022aa32",
   "metadata": {},
   "outputs": [
    {
     "data": {
      "text/html": [
       "```html\n",
       "<p>Istanbul is a city where every meal tells a story, and today, I set out to taste some of its best chapters. The culinary scene here is as rich and varied as its history, and I was eager to explore.</p>\n",
       "\n",
       "<p>My journey began in the heart of Kadıköy at <span style=\"color:blue\"><strong>Çiya Sofrası</strong></span>. This gem is a haven for those seeking authentic Anatolian flavors. I dove straight into the \"<span style=\"color:blue\">Kuzu Tandir</span>,\" a lamb dish that was a revelation. Slow-cooked until impossibly tender, the meat was infused with a blend of spices that transported me to another time. The restaurant, with its unpretentious charm and bustling energy, felt like a warm embrace from Istanbul itself.</p>\n",
       "\n",
       "<p>Next, I crossed the Galata Bridge to <span style=\"color:green\"><strong>Karaköy Lokantası</strong></span>, a restaurant that masterfully blends tradition with a modern twist. The \"<span style=\"color:green\">Midye Dolma</span>,\" or stuffed mussels, was a symphony of flavors. Plump mussels stuffed with a fragrant mix of rice, pine nuts, and currants, each bite was a delightful surprise. The sleek, turquoise-tiled interior was as pleasing to the eye as the food was to the palate.</p>\n",
       "\n",
       "<p>For a taste of the imperial, I made my way to <span style=\"color:red\"><strong>Asitane</strong></span> in Edirnekapı. This restaurant specializes in Ottoman cuisine, and the \"<span style=\"color:red\">Mutancana</span>\" was a standout. This historic dish, featuring tender lamb cooked with prunes, apricots, and almonds, offered a sweet and savory experience that was both unique and deeply satisfying. Dining here felt like a journey through time, surrounded by the echoes of the past.</p>\n",
       "\n",
       "<p>A visit to Istanbul wouldn't be complete without experiencing its vibrant street food. At the famous Istiklal Street, I indulged in \"<span style=\"color:purple\">Simit</span>,\" a sesame-crusted bread that's a staple for locals. Crispy on the outside and soft on the inside, it was the perfect snack as I strolled through the bustling street, soaking in the city's energy.</p>\n",
       "\n",
       "<p>Finally, I ended my day at <span style=\"color:orange\"><strong>Mikla</strong></span>, perched atop the Marmara Pera Hotel. This modern restaurant offers panoramic views of the city, and its cuisine is a blend of Scandinavian and Turkish influences. The \"<span style=\"color:orange\">Lamb Rump</span>\" dish, cooked to perfection and served with a medley of local vegetables, was a fitting finale to my culinary adventure. The view of Istanbul's skyline at sunset was a breathtaking backdrop to a memorable meal.</p>\n",
       "\n",
       "<p>Istanbul's culinary landscape is as diverse and vibrant as the city itself. Each dish I tasted was a testament to the rich cultural tapestry that makes this city a must-visit for any food lover.</p>\n",
       "```"
      ],
      "text/plain": [
       "<IPython.core.display.HTML object>"
      ]
     },
     "metadata": {},
     "output_type": "display_data"
    }
   ],
   "source": [
    "#from IPython.display import display, HTML  # display and HTML are already imported\n",
    "prompt = f\"\"\"\n",
    "Given the following journal entry from a food critic, identify the restaurants and their specialties.\n",
    "For each restaurant, highlight its name and specialties in bold and use different colors for each.\n",
    "Provide the output as HTML suitable for display in a Jupyter notebook.\n",
    "\n",
    "Journal entry:\n",
    "{journal_istanbul}\n",
    "\"\"\"\n",
    "html_response_istanbul = get_llm_response(prompt)\n",
    "#print(html_response)\n",
    "#display_html(html_response)\n",
    "\n",
    "# Display the HTML content\n",
    "display(HTML(html_response_istanbul))"
   ]
  },
  {
   "cell_type": "markdown",
   "id": "4c202062",
   "metadata": {},
   "source": [
    "Let's consider another text file that is available in the folder journals_entries. \n",
    "For instance : gibberish.txt "
   ]
  },
  {
   "cell_type": "code",
   "execution_count": 27,
   "id": "2463374e",
   "metadata": {},
   "outputs": [
    {
     "name": "stdout",
     "output_type": "stream",
     "text": [
      "Blorfingly, the zimpazomp quortled in the flombustulous mizzlefratz, where gribber-grabber mingles with the wozzle-wuzzles. Splangdorff, the yibbly-yabbly jorkins fribbled under the quamble tree, its bramble-like fronds winking in the snizzle.\n",
      "\n",
      "A wibbly-wobbly sound emanated from the blortch, sending the zibble-zabble fleebs into a tizzy. They flobbled and flambled, their flimsy flobberwocks snazzzily flinging flivvers of flotsam. In the midst of this flumptious farrago, a wobberly-wimble fribbled forth, chirping a snizzle-snozz song.\n",
      "\n",
      "Glorfting to the mizzleplop, the zuzzle-zwangles fribbled and dribbled, leaving a trail of fizzy-fuzzy wubbles. The swizzle-snoz of the blamber-flinks joined in, creating a rizzler of snizzle-snozzle harmony. This glorfindulous melody reverberated through the flample-zamps, making the gribble-grabble snizz woggle.\n",
      "\n",
      "In the farflung fringes, a zorkle of blamble-plopsters gathered. Their blobby bodies glistening in the snizzle-mist, they embarked on a wimble-wamble journey. Each blumble blorf carried a flangle-flump, swaying gently to the fribble-snoz rhythm.\n",
      "\n",
      "The zippity-zorple, a creature of flibbly-fleeble renown, fliggled into view. Its blorpy appendages fluttered as it snizzled a high-pitched wamble-wozzle. The flizzle-flazzle responded with a frizzle, snorping in sync with the zorkle's blamble-plopsters.\n",
      "\n",
      "Gribbing and grobbing, the flamble-wobbers joined the blamble-plopsters. Their friggly-wiggles and snorty-snozzles created a melange of snizzle-snozzle sounds. The flumptious air quizzled with the snorping and snuzzling, creating a frabbly-fribber zorp of snizzle-snozzle glee.\n",
      "\n"
     ]
    }
   ],
   "source": [
    "# Open and read the contents of a text file\n",
    "file_path = 'journals_entries/gibberish.txt'  # Replace with the actual file path\n",
    "\n",
    "with open(file_path, 'r') as file:  # Open and read the contents of the file\n",
    "    journal_gibberish = file.read()\n",
    "\n",
    "print(journal_gibberish) # Print the contents of the journal"
   ]
  },
  {
   "cell_type": "code",
   "execution_count": 28,
   "id": "e082a86e",
   "metadata": {},
   "outputs": [
    {
     "data": {
      "text/html": [
       "```html\n",
       "<p><span style=\"color:blue\"><strong>Flombustulous Mizzlefratz</strong></span>: Specialties include gribber-grabber and wozzle-wuzzles.</p>\n",
       "<p><span style=\"color:red\"><strong>Quamble Tree</strong></span>: Specialties include yibbly-yabbly jorkins and bramble-like fronds.</p>\n",
       "<p><span style=\"color:green\"><strong>Blortch</strong></span>: Specialties include zibble-zabble fleebs and flobberwocks.</p>\n",
       "<p><span style=\"color:purple\"><strong>Mizzleplop</strong></span>: Specialties include zuzzle-zwangles and fizzy-fuzzy wubbles.</p>\n",
       "<p><span style=\"color:orange\"><strong>Blamble-Plopsters</strong></span>: Specialties include blobby bodies and wimble-wamble journey.</p>\n",
       "<p><span style=\"color:brown\"><strong>Zippity-Zorple</strong></span>: Specialties include flibbly-fleeble and blorpy appendages.</p>\n",
       "```"
      ],
      "text/plain": [
       "<IPython.core.display.HTML object>"
      ]
     },
     "metadata": {},
     "output_type": "display_data"
    }
   ],
   "source": [
    "#from IPython.display import display, HTML  # display and HTML are already imported\n",
    "prompt = f\"\"\"\n",
    "Given the following journal entry from a food critic, identify the restaurants and their specialties.\n",
    "For each restaurant, highlight its name and specialties in bold and use different colors for each.\n",
    "Provide the output as HTML suitable for display in a Jupyter notebook.\n",
    "\n",
    "Journal entry:\n",
    "{journal_gibberish}\n",
    "\"\"\"\n",
    "html_response_gibberish = get_llm_response(prompt)\n",
    "#print(html_response)\n",
    "#display_html(html_response)\n",
    "\n",
    "# Display the HTML content\n",
    "display(HTML(html_response_gibberish))"
   ]
  },
  {
   "cell_type": "markdown",
   "id": "580a69ac-4b3c-49e2-a397-4ff033370fe5",
   "metadata": {},
   "source": [
    "You have achieved a fantastic feat! 🎉🎉🎉 You completed this course and are ready to tackle new programming challenges. You have already seen how to work with lists, dictionaries, and booleans, and are familiar with how to use all of them with LLMs. I hope to see you in the next course so that you continue to explore cool examples like the one in this lesson! 🚀👏"
   ]
  }
 ],
 "metadata": {
  "kernelspec": {
   "display_name": "Python 3 (ipykernel)",
   "language": "python",
   "name": "python3"
  },
  "language_info": {
   "codemirror_mode": {
    "name": "ipython",
    "version": 3
   },
   "file_extension": ".py",
   "mimetype": "text/x-python",
   "name": "python",
   "nbconvert_exporter": "python",
   "pygments_lexer": "ipython3",
   "version": "3.12.2"
  }
 },
 "nbformat": 4,
 "nbformat_minor": 5
}
