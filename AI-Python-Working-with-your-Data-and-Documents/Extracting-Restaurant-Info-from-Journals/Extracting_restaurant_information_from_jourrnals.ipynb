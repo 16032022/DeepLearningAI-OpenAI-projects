{
 "cells": [
  {
   "cell_type": "markdown",
   "metadata": {},
   "source": [
    "# Extracting restaurant information from journal entries 📝\n",
    "\n",
    "## Introduction \n",
    "In this notebook, we will explore `how to use AI to extract specific information from journal entries written by food critics`. By utilizing a Language Learning Model (LLM), we can automatically identify and highlight important details such as restaurant names and their signature dishes. This approach helps in efficiently organizing and analyzing unstructured text data, making it easier to gain insights from large volumes of text. We will also demonstrate how to extract this information in various formats, such as highlighting within the text and listing it in a CSV format."
   ]
  },
  {
   "cell_type": "markdown",
   "metadata": {},
   "source": [
    "### Importing required functions "
   ]
  },
  {
   "cell_type": "markdown",
   "metadata": {},
   "source": [
    "- Importing specific functions from the _helper_functions_ module:  \n",
    "  - The _print_llm_response_ function is likely used to print responses from a language learning model.  \n",
    "  - The _get_llm_response_ function is likely used to get responses from a language learning model.  \n",
    "\n",
    "- Importing specific functions from the _IPython.diplay_ module:  \n",
    "  -  _display_ is a function that allows you to display rich representations of Python objects directly in Jupyter Notebook cells, such as HTML, images, or Markdown text.  \n",
    "  -  _HTML_ is a class that wraps raw HTML code into a displayable object. It lets you render HTML content directly in a Jupyter Notebook cell. "
   ]
  },
  {
   "cell_type": "code",
   "execution_count": 1,
   "metadata": {},
   "outputs": [],
   "source": [
    "# Importing specific functions from the _helper_functions_ module\n",
    "from helper_functions import *\n",
    "\n",
    "# Importing specific functions from the _IPython.diplay_ module\n",
    "from IPython.display import display, HTML"
   ]
  },
  {
   "cell_type": "markdown",
   "metadata": {},
   "source": [
    "### Using AI to highlight important information"
   ]
  },
  {
   "cell_type": "markdown",
   "metadata": {},
   "source": [
    "First, load the journal entry for Rio de Janeiro, stored in the `rio_de_janeiro.txt` file. You'll use a new helper function called `read_journal`. "
   ]
  },
  {
   "cell_type": "code",
   "execution_count": 2,
   "metadata": {},
   "outputs": [],
   "source": [
    "# Load the journal entry for Rio de Janeiro\n",
    "journal_rio_de_janeiro = read_journal(\"rio_de_janeiro.txt\")"
   ]
  },
  {
   "cell_type": "markdown",
   "metadata": {},
   "source": [
    "Next, write and print out a prompt that asks the LLM to highlight the restaurants and their best dishes in the journal entry:"
   ]
  },
  {
   "cell_type": "code",
   "execution_count": 4,
   "metadata": {},
   "outputs": [
    {
     "name": "stdout",
     "output_type": "stream",
     "text": [
      "\n",
      "Given the following journal entry from a food critic, identify the restaurants and their best dishes.\n",
      "Highlight and bold each restaurant (in orange) and best dish (in blue) within the original text. \n",
      "\n",
      "Provide the output as HTML suitable for display in a Jupyter notebook. \n",
      "\n",
      "Journal entry:\n",
      "First up was Confeitaria Colombo, a legendary and picturesque cafÃ© in central Rio. Known for its pastel de nata (custard tart), Colombo serves a delightful treat that is hard to beat. The crispy, flaky pastry filled with creamy, sweet custard was an excellent start to the day. The cafÃ©'s historic Belle Ã‰poque ambiance added an extra layer of charm.\n",
      "\n",
      "Next, I visited Fogo de ChÃ£o, a quintessential Brazilian steakhouse in Botafogo. Famous for its picanha (top sirloin), this churrascaria impressed with its perfectly grilled meat. The picanha was juicy, tender, and bursting with flavor, showcasing the high quality of Brazilian beef. The endless array of grilled meats served tableside made for a hearty and satisfying meal.\n",
      "\n",
      "For a more modern dining experience, I headed to Olympe in Lagoa. This Michelin-starred restaurant specializes in contemporary Brazilian cuisine. The highlight was their moqueca de caju (cashew nut stew). This rich and creamy stew, made from cashew nuts and complemented by fresh seafood and vegetables, was an exquisite dish in an elegant and refined setting.\n",
      "\n",
      "Finally, I concluded my culinary tour at AprazÃ­vel, renowned for its breathtaking views and farm-to-table approach. Their signature dish, galinhada (Brazilian chicken and rice), was outstanding. The tender and flavorful chicken, cooked with a mix of rice, vegetables, and spices, and served with farofa (toasted cassava flour), perfectly highlighted the fresh, locally sourced ingredients. The lush, garden-like setting of the restaurant provided a serene end to the culinary adventure.\n",
      "\n",
      "\n"
     ]
    }
   ],
   "source": [
    "prompt = f\"\"\"\n",
    "Given the following journal entry from a food critic, identify the restaurants and their best dishes.\n",
    "Highlight and bold each restaurant (in orange) and best dish (in blue) within the original text. \n",
    "\n",
    "Provide the output as HTML suitable for display in a Jupyter notebook. \n",
    "\n",
    "Journal entry:\n",
    "{journal_rio_de_janeiro}\n",
    "\"\"\"\n",
    "\n",
    "print(prompt)"
   ]
  },
  {
   "cell_type": "markdown",
   "metadata": {},
   "source": [
    "Pass this prompt to an LLM and store the response in a variable called _html_response_. Then print the result:"
   ]
  },
  {
   "cell_type": "code",
   "execution_count": 5,
   "metadata": {},
   "outputs": [
    {
     "name": "stdout",
     "output_type": "stream",
     "text": [
      "```html\n",
      "<p>First up was <span style=\"color: orange; font-weight: bold;\">Confeitaria Colombo</span>, a legendary and picturesque café in central Rio. Known for its <span style=\"color: blue; font-weight: bold;\">pastel de nata</span> (custard tart), Colombo serves a delightful treat that is hard to beat. The crispy, flaky pastry filled with creamy, sweet custard was an excellent start to the day. The café's historic Belle Époque ambiance added an extra layer of charm.</p>\n",
      "\n",
      "<p>Next, I visited <span style=\"color: orange; font-weight: bold;\">Fogo de Chão</span>, a quintessential Brazilian steakhouse in Botafogo. Famous for its <span style=\"color: blue; font-weight: bold;\">picanha</span> (top sirloin), this churrascaria impressed with its perfectly grilled meat. The picanha was juicy, tender, and bursting with flavor, showcasing the high quality of Brazilian beef. The endless array of grilled meats served tableside made for a hearty and satisfying meal.</p>\n",
      "\n",
      "<p>For a more modern dining experience, I headed to <span style=\"color: orange; font-weight: bold;\">Olympe</span> in Lagoa. This Michelin-starred restaurant specializes in contemporary Brazilian cuisine. The highlight was their <span style=\"color: blue; font-weight: bold;\">moqueca de caju</span> (cashew nut stew). This rich and creamy stew, made from cashew nuts and complemented by fresh seafood and vegetables, was an exquisite dish in an elegant and refined setting.</p>\n",
      "\n",
      "<p>Finally, I concluded my culinary tour at <span style=\"color: orange; font-weight: bold;\">Aprazível</span>, renowned for its breathtaking views and farm-to-table approach. Their signature dish, <span style=\"color: blue; font-weight: bold;\">galinhada</span> (Brazilian chicken and rice), was outstanding. The tender and flavorful chicken, cooked with a mix of rice, vegetables, and spices, and served with farofa (toasted cassava flour), perfectly highlighted the fresh, locally sourced ingredients. The lush, garden-like setting of the restaurant provided a serene end to the culinary adventure.</p>\n",
      "```\n"
     ]
    }
   ],
   "source": [
    "# Print the LLM response\n",
    "html_response = get_llm_response(prompt)\n",
    "\n",
    "print(html_response)"
   ]
  },
  {
   "cell_type": "markdown",
   "metadata": {},
   "source": [
    "The 'print' function here displays the raw text - including all of the HTML tags that a web browser uses to display the text with proper formatting. "
   ]
  },
  {
   "cell_type": "code",
   "execution_count": 6,
   "metadata": {},
   "outputs": [
    {
     "data": {
      "text/html": [
       "```html\n",
       "<p>First up was <span style=\"color: orange; font-weight: bold;\">Confeitaria Colombo</span>, a legendary and picturesque café in central Rio. Known for its <span style=\"color: blue; font-weight: bold;\">pastel de nata</span> (custard tart), Colombo serves a delightful treat that is hard to beat. The crispy, flaky pastry filled with creamy, sweet custard was an excellent start to the day. The café's historic Belle Époque ambiance added an extra layer of charm.</p>\n",
       "\n",
       "<p>Next, I visited <span style=\"color: orange; font-weight: bold;\">Fogo de Chão</span>, a quintessential Brazilian steakhouse in Botafogo. Famous for its <span style=\"color: blue; font-weight: bold;\">picanha</span> (top sirloin), this churrascaria impressed with its perfectly grilled meat. The picanha was juicy, tender, and bursting with flavor, showcasing the high quality of Brazilian beef. The endless array of grilled meats served tableside made for a hearty and satisfying meal.</p>\n",
       "\n",
       "<p>For a more modern dining experience, I headed to <span style=\"color: orange; font-weight: bold;\">Olympe</span> in Lagoa. This Michelin-starred restaurant specializes in contemporary Brazilian cuisine. The highlight was their <span style=\"color: blue; font-weight: bold;\">moqueca de caju</span> (cashew nut stew). This rich and creamy stew, made from cashew nuts and complemented by fresh seafood and vegetables, was an exquisite dish in an elegant and refined setting.</p>\n",
       "\n",
       "<p>Finally, I concluded my culinary tour at <span style=\"color: orange; font-weight: bold;\">Aprazível</span>, renowned for its breathtaking views and farm-to-table approach. Their signature dish, <span style=\"color: blue; font-weight: bold;\">galinhada</span> (Brazilian chicken and rice), was outstanding. The tender and flavorful chicken, cooked with a mix of rice, vegetables, and spices, and served with farofa (toasted cassava flour), perfectly highlighted the fresh, locally sourced ingredients. The lush, garden-like setting of the restaurant provided a serene end to the culinary adventure.</p>\n",
       "```"
      ],
      "text/plain": [
       "<IPython.core.display.HTML object>"
      ]
     },
     "metadata": {},
     "output_type": "display_data"
    }
   ],
   "source": [
    "# Display the HTML formatted output properly\n",
    "display(HTML(html_response))"
   ]
  },
  {
   "cell_type": "markdown",
   "metadata": {},
   "source": [
    "Now, let's load the journal entry for Tokyo, stored in the `tokyo.txt` and use AI to highlight important information."
   ]
  },
  {
   "cell_type": "code",
   "execution_count": 7,
   "metadata": {},
   "outputs": [
    {
     "data": {
      "text/html": [
       "```html\n",
       "<!DOCTYPE html>\n",
       "<html lang=\"en\">\n",
       "<head>\n",
       "    <meta charset=\"UTF-8\">\n",
       "    <meta name=\"viewport\" content=\"width=device-width, initial-scale=1.0\">\n",
       "    <title>Food Critic Journal Entry</title>\n",
       "    <style>\n",
       "        .restaurant { color: orange; font-weight: bold; }\n",
       "        .dish { color: blue; font-weight: bold; }\n",
       "    </style>\n",
       "</head>\n",
       "<body>\n",
       "    <h1>Food Critic Journal Entry</h1>\n",
       "    <p>\n",
       "        Tokyo's culinary landscape is nothing short of extraordinary. Each spot offers a unique taste of the city's diverse food culture. Here's a quick guide to some must-try places and dishes.\n",
       "    </p>\n",
       "    <ul>\n",
       "        <li>\n",
       "            <span class=\"restaurant\">Sukiyabashi Jiro</span><br>\n",
       "            Location: Ginza<br>\n",
       "            Dish: <span class=\"dish\">Omakase sushi</span><br>\n",
       "            Highlight: Impeccably crafted sushi made by the legendary Jiro Ono. Each piece is a masterclass in balance and flavor.\n",
       "        </li>\n",
       "        <li>\n",
       "            <span class=\"restaurant\">Ichiran Ramen</span><br>\n",
       "            Location: Shibuya<br>\n",
       "            Dish: <span class=\"dish\">Tonkotsu ramen</span><br>\n",
       "            Highlight: A personal ramen booth for focused, uninterrupted enjoyment. Rich, creamy broth with perfectly cooked noodles.\n",
       "        </li>\n",
       "        <li>\n",
       "            <span class=\"restaurant\">Tsukiji Outer Market</span><br>\n",
       "            Location: Tsukiji<br>\n",
       "            Dish: <span class=\"dish\">Fresh sashimi and street food</span><br>\n",
       "            Highlight: Vibrant market atmosphere. Indulge in ultra-fresh sashimi, grilled seafood, and other Japanese street food delights.\n",
       "        </li>\n",
       "        <li>\n",
       "            <span class=\"restaurant\">Narisawa</span><br>\n",
       "            Location: Minato<br>\n",
       "            Dish: <span class=\"dish\">Innovative tasting menu</span><br>\n",
       "            Highlight: A fusion of French and Japanese techniques. Creative dishes with an emphasis on sustainability and local ingredients.\n",
       "        </li>\n",
       "        <li>\n",
       "            <span class=\"restaurant\">Ginza Kojyu</span><br>\n",
       "            Location: Ginza<br>\n",
       "            Dish: <span class=\"dish\">Kaiseki (traditional multi-course meal)</span><br>\n",
       "            Highlight: Exquisite presentation and meticulous preparation. A journey through seasonal Japanese flavors.\n",
       "        </li>\n",
       "        <li>\n",
       "            <span class=\"restaurant\">Akasaka Kikunoi</span><br>\n",
       "            Location: Akasaka<br>\n",
       "            Dish: <span class=\"dish\">Kaiseki</span><br>\n",
       "            Highlight: Elegant and serene setting. Seasonal ingredients transformed into artful, delicious courses.\n",
       "        </li>\n",
       "    </ul>\n",
       "</body>\n",
       "</html>\n",
       "```"
      ],
      "text/plain": [
       "<IPython.core.display.HTML object>"
      ]
     },
     "metadata": {},
     "output_type": "display_data"
    }
   ],
   "source": [
    "# Load Tokyo journal entry\n",
    "journal_tokyo = read_journal(\"tokyo.txt\") \n",
    "\n",
    "prompt = f\"\"\"\n",
    "Given the following journal entry from a food critic, identify the restaurants and their best dishes.\n",
    "Highlight and bold each restaurant (in orange) and best dish (in blue) within the original text. \n",
    "\n",
    "Provide the output as HTML suitable for display in a Jupyter notebook. \n",
    "\n",
    "Journal entry:\n",
    "{journal_tokyo}\n",
    "\"\"\"\n",
    "\n",
    "html_response = get_llm_response(prompt)\n",
    "# Display the HTML formatted output properly\n",
    "display(HTML(html_response))"
   ]
  },
  {
   "cell_type": "markdown",
   "metadata": {},
   "source": [
    "**Note** Notice that even though the structure of this text is very different from the previous one, the LLM is able to identify and highlight the correct items."
   ]
  },
  {
   "cell_type": "markdown",
   "metadata": {},
   "source": [
    "Now, let's load the journal entry for New York, stored in the `new_york.txt` and use AI to highlight important information."
   ]
  },
  {
   "cell_type": "code",
   "execution_count": 8,
   "metadata": {},
   "outputs": [
    {
     "data": {
      "text/html": [
       "```html\n",
       "<p>\n",
       "    First on my list was <span style=\"color: orange; font-weight: bold;\">Katz's Delicatessen</span>, renowned as one of the oldest and most iconic delis in the city. Located on the Lower East Side, Katz's is famous for its <span style=\"color: blue; font-weight: bold;\">pastrami on rye</span>. The thick, juicy slices of pastrami, seasoned to perfection and served on fresh rye bread with a smear of mustard, made for a delectable start to my culinary adventure. The bustling, old-school ambiance added to the charm.\n",
       "</p>\n",
       "<p>\n",
       "    Next, I visited <span style=\"color: orange; font-weight: bold;\">Peter Luger Steak House</span> in Williamsburg, Brooklyn. This classic New York steakhouse is best known for its <span style=\"color: blue; font-weight: bold;\">porterhouse steak</span>. The perfectly cooked steak, with its crispy sear and tender, flavorful interior, showcased the quality of the meat and the expertise of the chefs. The simple, no-frills presentation allowed the flavors to shine, creating a rich and satisfying dining experience.\n",
       "</p>\n",
       "<p>\n",
       "    Another must-visit was <span style=\"color: orange; font-weight: bold;\">Chelsea Market</span>, a vibrant food hall in the Meatpacking District. Here, I sampled <span style=\"color: blue; font-weight: bold;\">lobster rolls</span> from the Lobster Place. The fresh, succulent lobster meat, lightly dressed with mayo and served in a buttery, toasted bun, offered a taste of New England right in the heart of New York City. The bustling market atmosphere added to the enjoyment of the meal.\n",
       "</p>\n",
       "<p>\n",
       "    Finally, I concluded my dining tour at <span style=\"color: orange; font-weight: bold;\">Gramercy Tavern</span>, known for its farm-to-table approach. Their specialty is <span style=\"color: blue; font-weight: bold;\">roasted chicken with seasonal vegetables</span>. The chicken was tender and juicy, with a crispy, flavorful skin, and paired perfectly with the fresh, locally sourced vegetables. The warm, inviting atmosphere of the tavern made for a delightful end to my culinary journey.\n",
       "</p>\n",
       "```"
      ],
      "text/plain": [
       "<IPython.core.display.HTML object>"
      ]
     },
     "metadata": {},
     "output_type": "display_data"
    }
   ],
   "source": [
    "# Load New York journal entry\n",
    "journal_newyork = read_journal(\"new_york.txt\") \n",
    "\n",
    "prompt = f\"\"\"\n",
    "Given the following journal entry from a food critic, identify the restaurants and their best dishes.\n",
    "Highlight and bold each restaurant (in orange) and best dish (in blue) within the original text. \n",
    "\n",
    "Provide the output as HTML suitable for display in a Jupyter notebook. \n",
    "\n",
    "Journal entry:\n",
    "{journal_newyork}\n",
    "\"\"\"\n",
    "\n",
    "html_response = get_llm_response(prompt)\n",
    "\n",
    "# Display the HTML formatted output properly\n",
    "display(HTML(html_response))"
   ]
  },
  {
   "cell_type": "markdown",
   "metadata": {},
   "source": [
    "### Try for yourself!\n",
    "\n",
    "If you like, pause the video here and try modifying the prompt above to do other things, for example:\n",
    "- Have the LLM highlight any desserts in green\n",
    "- Have the LLM add a relevant emoji beside any ingredients"
   ]
  },
  {
   "cell_type": "markdown",
   "metadata": {},
   "source": [
    "Have the LLM highlight any desserts in green. \n",
    "Just remind from the previous notebook that not the text files enclose the dessert! Therefore let's\n",
    "check which file does contain dessert "
   ]
  },
  {
   "cell_type": "code",
   "execution_count": 9,
   "metadata": {},
   "outputs": [
    {
     "name": "stdout",
     "output_type": "stream",
     "text": [
      "cape_town.txt -> No\n",
      "paris.txt -> Yes\n",
      "rio_de_janeiro.txt -> Yes\n",
      "sydney.txt -> No\n",
      "tokyo.txt -> No\n",
      "istanbul.txt -> No\n",
      "new_york.txt -> No\n"
     ]
    }
   ],
   "source": [
    "files = [\"cape_town.txt\", \"paris.txt\", \"rio_de_janeiro.txt\", \n",
    "         \"sydney.txt\", \"tokyo.txt\", \"istanbul.txt\", \"new_york.txt\"]\n",
    "\n",
    "for file in files:\n",
    "    # Read journal file for the city\n",
    "    f = open(file, \"r\")\n",
    "    journal = f.read()\n",
    "    f.close()\n",
    "\n",
    "    # TRY CHANGING THIS PROMPT TO ASK DIFFERENT QUESTIONS\n",
    "    prompt = f\"\"\"Respond with \"Yes\" or \"No\": \n",
    "    the journal mentions a dessert. \n",
    "\n",
    "    Journal:\n",
    "    {journal}\"\"\"\n",
    "\n",
    "    # Use LLM to determine if the journal entry is useful\n",
    "    print(f\"{file} -> {get_llm_response(prompt)}\")\n",
    "  \n",
    "    "
   ]
  },
  {
   "cell_type": "markdown",
   "metadata": {},
   "source": [
    "From the above output, we know that only two files contain dessert , paris and rio de janiero, respectively. Therefore, let's use both to have the LLM highlight any desserts in green. "
   ]
  },
  {
   "cell_type": "code",
   "execution_count": 10,
   "metadata": {},
   "outputs": [
    {
     "data": {
      "text/html": [
       "```html\n",
       "<p>First up was Confeitaria Colombo, a legendary and picturesque caf&eacute; in central Rio. Known for its <span style=\"color: blue;\">pastel de nata</span> (custard tart), Colombo serves a delightful treat that is hard to beat. The crispy, flaky pastry filled with creamy, sweet custard was an excellent start to the day. The caf&eacute;'s historic Belle &Eacute;poque ambiance added an extra layer of charm.</p>\n",
       "\n",
       "<p>Next, I visited Fogo de Ch&atilde;o, a quintessential Brazilian steakhouse in Botafogo. Famous for its picanha (top sirloin), this churrascaria impressed with its perfectly grilled meat. The picanha was juicy, tender, and bursting with flavor, showcasing the high quality of Brazilian beef. The endless array of grilled meats served tableside made for a hearty and satisfying meal.</p>\n",
       "\n",
       "<p>For a more modern dining experience, I headed to Olympe in Lagoa. This Michelin-starred restaurant specializes in contemporary Brazilian cuisine. The highlight was their moqueca de caju (cashew nut stew). This rich and creamy stew, made from cashew nuts and complemented by fresh seafood and vegetables, was an exquisite dish in an elegant and refined setting.</p>\n",
       "\n",
       "<p>Finally, I concluded my culinary tour at Apraz&iacute;vel, renowned for its breathtaking views and farm-to-table approach. Their signature dish, galinhada (Brazilian chicken and rice), was outstanding. The tender and flavorful chicken, cooked with a mix of rice, vegetables, and spices, and served with farofa (toasted cassava flour), perfectly highlighted the fresh, locally sourced ingredients. The lush, garden-like setting of the restaurant provided a serene end to the culinary adventure.</p>\n",
       "```"
      ],
      "text/plain": [
       "<IPython.core.display.HTML object>"
      ]
     },
     "metadata": {},
     "output_type": "display_data"
    }
   ],
   "source": [
    "# Load Rio de Janeiro journal entry\n",
    "journal_riodejaneiro = read_journal(\"rio_de_janeiro.txt\") \n",
    "\n",
    "prompt = f\"\"\"\n",
    "Given the following journal entry from a food critic, identify and Highlight dessert (in blue) within the original text. \n",
    "\n",
    "Provide the output as HTML suitable for display in a Jupyter notebook. \n",
    "\n",
    "Journal entry:\n",
    "{journal_riodejaneiro}\n",
    "\"\"\"\n",
    "\n",
    "html_response = get_llm_response(prompt)\n",
    "display(HTML(html_response))"
   ]
  },
  {
   "cell_type": "code",
   "execution_count": 11,
   "metadata": {},
   "outputs": [
    {
     "data": {
      "text/html": [
       "```html\n",
       "<p>\n",
       "My first stop was the legendary Le Comptoir du Relais in the heart of Saint-Germain-des-Prés. Known for its bistro classics, I opted for the \"Coq au Vin.\" This traditional dish, featuring chicken braised in red wine with mushrooms and onions, was the epitome of comfort food. The rich, flavorful sauce and tender chicken were perfection on a plate. The cozy, bustling atmosphere of the bistro added to the experience, making it feel authentically Parisian.\n",
       "</p>\n",
       "\n",
       "<p>\n",
       "Next, I ventured to Le Jules Verne, located in the Eiffel Tower. Dining here is as much about the view as it is about the food. I was treated to \"Filet de Boeuf,\" a beautifully cooked beef fillet served with a delicate truffle sauce. The meat was succulent and flavorful, and the elegant presentation was matched only by the breathtaking panorama of Paris below. It was a dining experience that combined culinary excellence with visual splendor.\n",
       "</p>\n",
       "\n",
       "<p>\n",
       "Seeking something sweet, I made my way to Pierre Hermé, a patisserie revered for its exquisite pastries. I indulged in a <span style=\"color: blue;\">\"Ispahan,\"</span> a delicate macaron filled with rose, lychee, and raspberry. Each bite was a harmonious blend of sweetness and floral notes, showcasing the artistry of French patisserie. The elegant, minimalist setting of the boutique allowed the pastries to shine as the true stars.\n",
       "</p>\n",
       "\n",
       "<p>\n",
       "To cap off my culinary journey, I visited L'Ambroisie in Place des Vosges. This three-Michelin-starred restaurant is the pinnacle of fine dining. I savored the \"Turbot with Artichokes and Truffle,\" a dish that was as luxurious as it sounds. The fish was perfectly cooked, and the combination of flavors was both sophisticated and sublime. Dining at L'Ambroisie was an unforgettable experience, with impeccable service and an ambiance of timeless elegance.\n",
       "</p>\n",
       "```"
      ],
      "text/plain": [
       "<IPython.core.display.HTML object>"
      ]
     },
     "metadata": {},
     "output_type": "display_data"
    }
   ],
   "source": [
    "# Load Paris journal entry\n",
    "journal_paris = read_journal(\"paris.txt\") \n",
    "\n",
    "prompt = f\"\"\"\n",
    "Given the following journal entry from a food critic, identify and Highlight dessert (in blue) within the original text. \n",
    "\n",
    "Provide the output as HTML suitable for display in a Jupyter notebook. \n",
    "\n",
    "Journal entry:\n",
    "{journal_paris}\n",
    "\"\"\"\n",
    "\n",
    "html_response = get_llm_response(prompt)\n",
    "display(HTML(html_response))"
   ]
  },
  {
   "cell_type": "markdown",
   "metadata": {},
   "source": [
    "Have the LLM add a relevant emoji beside any ingredients"
   ]
  },
  {
   "cell_type": "code",
   "execution_count": 12,
   "metadata": {},
   "outputs": [
    {
     "data": {
      "text/html": [
       "```html\n",
       "<p>My first stop was the legendary Le Comptoir du Relais in the heart of Saint-Germain-des-Prés. Known for its bistro classics, I opted for the \"Coq au Vin.\" This traditional dish, featuring <span>chicken 🍗</span> braised in <span>red wine 🍷</span> with <span>mushrooms 🍄</span> and <span>onions 🧅</span>, was the epitome of comfort food. The rich, flavorful sauce and tender <span>chicken 🍗</span> were perfection on a plate. The cozy, bustling atmosphere of the bistro added to the experience, making it feel authentically Parisian.</p>\n",
       "\n",
       "<p>Next, I ventured to Le Jules Verne, located in the Eiffel Tower. Dining here is as much about the view as it is about the food. I was treated to \"Filet de Boeuf,\" a beautifully cooked <span>beef 🥩</span> fillet served with a delicate <span>truffle 🍄</span> sauce. The <span>meat 🥩</span> was succulent and flavorful, and the elegant presentation was matched only by the breathtaking panorama of Paris below. It was a dining experience that combined culinary excellence with visual splendor.</p>\n",
       "\n",
       "<p>Seeking something sweet, I made my way to Pierre Hermé, a patisserie revered for its exquisite pastries. I indulged in a \"Ispahan,\" a delicate macaron filled with <span>rose 🌹</span>, <span>lychee 🍈</span>, and <span>raspberry 🍇</span>. Each bite was a harmonious blend of sweetness and floral notes, showcasing the artistry of French patisserie. The elegant, minimalist setting of the boutique allowed the pastries to shine as the true stars.</p>\n",
       "\n",
       "<p>To cap off my culinary journey, I visited L'Ambroisie in Place des Vosges. This three-Michelin-starred restaurant is the pinnacle of fine dining. I savored the \"Turbot with <span>Artichokes 🌿</span> and <span>Truffle 🍄</span>,\" a dish that was as luxurious as it sounds. The <span>fish 🐟</span> was perfectly cooked, and the combination of flavors was both sophisticated and sublime. Dining at L'Ambroisie was an unforgettable experience, with impeccable service and an ambiance of timeless elegance.</p>\n",
       "```"
      ],
      "text/plain": [
       "<IPython.core.display.HTML object>"
      ]
     },
     "metadata": {},
     "output_type": "display_data"
    }
   ],
   "source": [
    "# Read the Paris journal entry\n",
    "journal_paris = read_journal(\"paris.txt\") \n",
    "\n",
    "prompt = f\"\"\"\n",
    "Given the following journal entry from a food critic, add a relevant emoji beside any ingredients within the original text. \n",
    "\n",
    "Provide the output as HTML suitable for display in a Jupyter notebook. \n",
    "\n",
    "Journal entry:\n",
    "{journal_paris}\n",
    "\"\"\"\n",
    "\n",
    "html_response = get_llm_response(prompt)\n",
    "display(HTML(html_response))"
   ]
  },
  {
   "cell_type": "code",
   "execution_count": 13,
   "metadata": {},
   "outputs": [
    {
     "data": {
      "text/html": [
       "```html\n",
       "<p>First up was Confeitaria Colombo, a legendary and picturesque caf&eacute; in central Rio. Known for its <strong>pastel de nata 🥧</strong> (custard tart), Colombo serves a delightful treat that is hard to beat. The crispy, flaky pastry filled with creamy, sweet custard was an excellent start to the day. The caf&eacute;'s historic Belle &Eacute;poque ambiance added an extra layer of charm.</p>\n",
       "\n",
       "<p>Next, I visited Fogo de Ch&atilde;o, a quintessential Brazilian steakhouse in Botafogo. Famous for its <strong>picanha 🥩</strong> (top sirloin), this churrascaria impressed with its perfectly grilled meat. The picanha was juicy, tender, and bursting with flavor, showcasing the high quality of Brazilian beef. The endless array of grilled meats served tableside made for a hearty and satisfying meal.</p>\n",
       "\n",
       "<p>For a more modern dining experience, I headed to Olympe in Lagoa. This Michelin-starred restaurant specializes in contemporary Brazilian cuisine. The highlight was their <strong>moqueca de caju 🌰</strong> (cashew nut stew). This rich and creamy stew, made from cashew nuts and complemented by fresh seafood and vegetables, was an exquisite dish in an elegant and refined setting.</p>\n",
       "\n",
       "<p>Finally, I concluded my culinary tour at Apraz&iacute;vel, renowned for its breathtaking views and farm-to-table approach. Their signature dish, <strong>galinhada 🍗</strong> (Brazilian chicken and rice), was outstanding. The tender and flavorful chicken, cooked with a mix of rice, vegetables, and spices, and served with <strong>farofa 🌾</strong> (toasted cassava flour), perfectly highlighted the fresh, locally sourced ingredients. The lush, garden-like setting of the restaurant provided a serene end to the culinary adventure.</p>\n",
       "```"
      ],
      "text/plain": [
       "<IPython.core.display.HTML object>"
      ]
     },
     "metadata": {},
     "output_type": "display_data"
    }
   ],
   "source": [
    "journal_riodejaneiro = read_journal(\"rio_de_janeiro.txt\") \n",
    "\n",
    "prompt = f\"\"\"\n",
    "Given the following journal entry from a food critic, add a relevant emoji beside any ingredients within the original text. \n",
    "\n",
    "Provide the output as HTML suitable for display in a Jupyter notebook. \n",
    "\n",
    "Journal entry:\n",
    "{journal_riodejaneiro}\n",
    "\"\"\"\n",
    "\n",
    "html_response = get_llm_response(prompt)\n",
    "display(HTML(html_response))"
   ]
  },
  {
   "cell_type": "markdown",
   "metadata": {},
   "source": [
    "### Extracting restaurants and their best dishes"
   ]
  },
  {
   "cell_type": "markdown",
   "metadata": {},
   "source": [
    "Next, modify the prompt to extract the information from the text and list it out instead of highlighting it. Here is the modified prompt with the new instructions to save the data in **Comma Separated Value** (CSV) format:"
   ]
  },
  {
   "cell_type": "markdown",
   "metadata": {},
   "source": [
    "<p style=\"background-color:#F5C780; padding:15px\"> 🤖 <b>Use the Chatbot</b>:\n",
    "    <br><br>\n",
    "    What is the a CSV filet?\n",
    "</p>"
   ]
  },
  {
   "cell_type": "markdown",
   "metadata": {},
   "source": [
    "**Response Chatbot** : A `CSV (Comma-Separated Values) file` is a plain text file that contains data separated by commas. It's commonly used for storing tabular data (such as in a spreadsheet or database) in a simple text format. Each row in a CSV file represents a record, and each column represents a field in the record."
   ]
  },
  {
   "cell_type": "code",
   "execution_count": 14,
   "metadata": {},
   "outputs": [],
   "source": [
    "# Load the Rio de Janeiro journal entry\n",
    "journal_rio_de_janeiro = read_journal(\"rio_de_janeiro.txt\") "
   ]
  },
  {
   "cell_type": "code",
   "execution_count": 15,
   "metadata": {},
   "outputs": [
    {
     "name": "stdout",
     "output_type": "stream",
     "text": [
      "Restaurant,Dish  \n",
      "Confeitaria Colombo,pastel de nata  \n",
      "Fogo de Chão,picanha  \n",
      "Olympe,moqueca de caju  \n",
      "Aprazível,galinhada  \n"
     ]
    }
   ],
   "source": [
    "prompt = f\"\"\"Please extract a comprehensive list of the restaurants \n",
    "and their respective best dishes mentioned in the following journal entry. \n",
    "Ensure that each restaurant name is accurately identified and listed. \n",
    "\n",
    "Provide your answer in CSV format, ready to save. \n",
    "Exclude the \"```csv\" declaration, don't add spaces after the comma, include column headers.\n",
    "\n",
    "Format:\n",
    "Restaurant, Dish\n",
    "Res_1, Dsh_1\n",
    "...\n",
    "\n",
    "Journal entry:\n",
    "{journal_rio_de_janeiro}\n",
    "\"\"\"\n",
    "\n",
    "restaurants_csv_ready_string = get_llm_response(prompt)\n",
    "\n",
    "print(restaurants_csv_ready_string)"
   ]
  },
  {
   "cell_type": "markdown",
   "metadata": {},
   "source": [
    "**Explanation output** Notice how the output now only contains the restaurants and names of dishes. The first line indicates what information each row contains, in this case the name of the restaurant, then a comma, then the name of the dish."
   ]
  },
  {
   "cell_type": "markdown",
   "metadata": {},
   "source": [
    "### Looping through multiple journals"
   ]
  },
  {
   "cell_type": "markdown",
   "metadata": {},
   "source": [
    "In this section, you'll iterate through all the journal entries using a `for` loop and extract the restaurants and best dishes from each file:"
   ]
  },
  {
   "cell_type": "code",
   "execution_count": 16,
   "metadata": {},
   "outputs": [
    {
     "name": "stdout",
     "output_type": "stream",
     "text": [
      "cape_town.txt\n",
      "Restaurant, Dish  \n",
      "The Test Kitchen, Pickled Fish Tacos  \n",
      "La Colombe, Tuna La Colombe  \n",
      "Harbour House, Grilled Kingklip  \n",
      "The Pot Luck Club, Beef Tataki  \n",
      "\n",
      "istanbul.txt\n",
      "Restaurant,Dish\n",
      "Çiya Sofrası,Kuzu Tandir\n",
      "Karaköy Lokantası,Midye Dolma\n",
      "Asitane,Mutancana\n",
      "Mikla,Lamb Rump\n",
      "\n",
      "new_york.txt\n",
      "Restaurant, Dish  \n",
      "Katz's Delicatessen, pastrami on rye  \n",
      "Peter Luger Steak House, porterhouse steak  \n",
      "Lobster Place, lobster rolls  \n",
      "Gramercy Tavern, roasted chicken with seasonal vegetables  \n",
      "\n",
      "paris.txt\n",
      "Restaurant,Dish  \n",
      "Le Comptoir du Relais,Coq au Vin  \n",
      "Le Jules Verne,Filet de Boeuf  \n",
      "Pierre Hermé,Ispahan  \n",
      "L'Ambroisie,Turbot with Artichokes and Truffle  \n",
      "\n",
      "rio_de_janeiro.txt\n",
      "Restaurant, Dish\n",
      "Confeitaria Colombo, pastel de nata\n",
      "Fogo de Chão, picanha\n",
      "Olympe, moqueca de caju\n",
      "Aprazível, galinhada\n",
      "\n",
      "sydney.txt\n",
      "Restaurant, Dish\n",
      "Saint Peter, Murray Cod\n",
      "Billy Kwong, Crispy Skin Duck with Davidson’s Plum Sauce\n",
      "The Lord Nelson Brewery Hotel, Roast Lamb\n",
      "Vic's Meat Market, BBQ Beef Brisket\n",
      "Bennelong, Sydney Rock Oysters\n",
      "\n",
      "tokyo.txt\n",
      "Restaurant,Dish\n",
      "Sukiyabashi Jiro,Omakase sushi\n",
      "Ichiran Ramen,Tonkotsu ramen\n",
      "Tsukiji Outer Market,Fresh sashimi and street food\n",
      "Narisawa,Innovative tasting menu\n",
      "Ginza Kojyu,Kaiseki (traditional multi-course meal)\n",
      "Akasaka Kikunoi,Kaiseki\n",
      "\n"
     ]
    }
   ],
   "source": [
    "files = [\"cape_town.txt\", \"istanbul.txt\", \"new_york.txt\", \"paris.txt\", \n",
    "          \"rio_de_janeiro.txt\", \"sydney.txt\", \"tokyo.txt\"]\n",
    "\n",
    "for file in files:\n",
    "    #Open file and read contents\n",
    "    journal_entry = read_journal(file)\n",
    "\n",
    "    #Extract restaurants and display csv\n",
    "    prompt =  f\"\"\"Please extract a comprehensive list of the restaurants \n",
    "    and their respective best dishes mentioned in the following journal entry. \n",
    "    \n",
    "    Ensure that each restaurant name is accurately identified and listed. \n",
    "    Provide your answer in CSV format, ready to save.\n",
    "\n",
    "    Exclude the \"```csv\" declaration, don't add spaces after the \n",
    "    comma, include column headers.\n",
    "\n",
    "    Format:\n",
    "    Restaurant, Dish\n",
    "    Res_1, Dsh_1\n",
    "    ...\n",
    "\n",
    "    Journal entry:\n",
    "    {journal_entry}\n",
    "    \"\"\"\n",
    "    \n",
    "    print(file)\n",
    "    print_llm_response(prompt)\n",
    "    print(\"\") # Prints a blank line!"
   ]
  },
  {
   "cell_type": "markdown",
   "metadata": {},
   "source": [
    "**Explanation output**: TO BE DRAFTED"
   ]
  },
  {
   "cell_type": "markdown",
   "metadata": {},
   "source": [
    "### Try for yourself! \n",
    "Try modifying the prompt inside the `for` loop above to extract different information. For example\n",
    "* Extract the restaurant name and the neighborhood it is located in\n",
    "* Extract each dish and it's main ingredient"
   ]
  },
  {
   "cell_type": "markdown",
   "metadata": {},
   "source": [
    "- `Extract the restaurant name and the neighborhood it is located in`.\n"
   ]
  },
  {
   "cell_type": "code",
   "execution_count": 17,
   "metadata": {},
   "outputs": [
    {
     "name": "stdout",
     "output_type": "stream",
     "text": [
      "cape_town.txt\n",
      "Restaurant, Neib  \n",
      "The Test Kitchen, Woodstock  \n",
      "La Colombe, Constantia  \n",
      "Harbour House, V&A Waterfront  \n",
      "The Pot Luck Club, Woodstock  \n",
      "\n",
      "istanbul.txt\n",
      "Restaurant, Neib\n",
      "Çiya Sofrası, Kadıköy\n",
      "Karaköy Lokantası, Karaköy\n",
      "Asitane, Edirnekapı\n",
      "Mikla, Marmara Pera Hotel\n",
      "\n",
      "new_york.txt\n",
      "Restaurant, Neib  \n",
      "Katz's Delicatessen, Lower East Side  \n",
      "Peter Luger Steak House, Williamsburg  \n",
      "Lobster Place, Meatpacking District  \n",
      "Gramercy Tavern, Gramercy  \n",
      "\n",
      "paris.txt\n",
      "Restaurant,Neib  \n",
      "Le Comptoir du Relais,Saint-Germain-des-Prés  \n",
      "Le Jules Verne,Eiffel Tower  \n",
      "Pierre Hermé,Unknown  \n",
      "L'Ambroisie,Place des Vosges  \n",
      "\n",
      "rio_de_janeiro.txt\n",
      "Restaurant, Neib  \n",
      "Confeitaria Colombo, Central Rio  \n",
      "Fogo de Chão, Botafogo  \n",
      "Olympe, Lagoa  \n",
      "Aprazível, Not specified  \n",
      "\n",
      "sydney.txt\n",
      "Restaurant, Neib  \n",
      "Saint Peter, Paddington  \n",
      "Billy Kwong, Potts Point  \n",
      "The Lord Nelson Brewery Hotel, The Rocks  \n",
      "Vic's Meat Market, Sydney Fish Market  \n",
      "Bennelong, Sydney Opera House  \n",
      "\n",
      "tokyo.txt\n",
      "Restaurant, Neib\n",
      "Sukiyabashi Jiro, Ginza\n",
      "Ichiran Ramen, Shibuya\n",
      "Tsukiji Outer Market, Tsukiji\n",
      "Narisawa, Minato\n",
      "Ginza Kojyu, Ginza\n",
      "Akasaka Kikunoi, Akasaka\n",
      "\n"
     ]
    }
   ],
   "source": [
    "# Example: Extract restaurant name and neighborhood\n",
    "files = [\"cape_town.txt\", \"istanbul.txt\", \"new_york.txt\", \"paris.txt\", \n",
    "          \"rio_de_janeiro.txt\", \"sydney.txt\", \"tokyo.txt\"]\n",
    "\n",
    "for file in files:\n",
    "    # Open file and read contents\n",
    "    journal_entry = read_journal(file)\n",
    "\n",
    "    # Extract restaurants and and neighborhoods\n",
    "    prompt =  f\"\"\"Please extract a comprehensive list of the restaurants \n",
    "    and their respective neighborhood mentioned in the following journal entry. \n",
    "    \n",
    "    Ensure that each restaurant name is accurately identified and listed. \n",
    "    Provide your answer in CSV format, ready to save.\n",
    "\n",
    "    Exclude the \"```csv\" declaration, don't add spaces after the \n",
    "    comma, include column headers.\n",
    "\n",
    "    Format:\n",
    "    Restaurant, Neib\n",
    "    Res_1, Neib_1\n",
    "    ...\n",
    "\n",
    "    Journal entry:\n",
    "    {journal_entry}\n",
    "    \"\"\"\n",
    "    \n",
    "    print(file)\n",
    "    print_llm_response(prompt)\n",
    "    print(\"\") # Prints a blank line!"
   ]
  },
  {
   "cell_type": "markdown",
   "metadata": {},
   "source": [
    "**Explanation output** TO BE DRAFTED "
   ]
  },
  {
   "cell_type": "markdown",
   "metadata": {},
   "source": [
    "- `Extract each dish and it's main ingredient`"
   ]
  },
  {
   "cell_type": "code",
   "execution_count": 18,
   "metadata": {},
   "outputs": [
    {
     "name": "stdout",
     "output_type": "stream",
     "text": [
      "cape_town.txt\n",
      "Dish, Mingr  \n",
      "Pickled Fish Tacos, Fish  \n",
      "Tuna La Colombe, Tuna  \n",
      "Grilled Kingklip, Kingklip  \n",
      "Beef Tataki, Beef  \n",
      "\n",
      "istanbul.txt\n",
      "Dish, Mingr\n",
      "Kuzu Tandir, lamb\n",
      "Midye Dolma, mussels\n",
      "Mutancana, lamb\n",
      "Lamb Rump, lamb\n",
      "\n",
      "new_york.txt\n",
      "Dish, Mingr  \n",
      "pastrami on rye, pastrami  \n",
      "porterhouse steak, steak  \n",
      "lobster rolls, lobster  \n",
      "roasted chicken with seasonal vegetables, chicken  \n",
      "\n",
      "paris.txt\n",
      "Dish, Mingr  \n",
      "Coq au Vin, chicken  \n",
      "Filet de Boeuf, beef  \n",
      "Ispahan, macaron  \n",
      "Turbot with Artichokes and Truffle, turbot  \n",
      "\n",
      "rio_de_janeiro.txt\n",
      "Dish, Mingr\n",
      "pastel de nata, custard\n",
      "picanha, top sirloin\n",
      "moqueca de caju, cashew nut\n",
      "galinhada, chicken and rice\n",
      "\n",
      "sydney.txt\n",
      "Dish, Mingr\n",
      "Murray Cod, Fish\n",
      "Crispy Skin Duck with Davidson’s Plum Sauce, Duck\n",
      "Roast Lamb, Lamb\n",
      "BBQ Beef Brisket, Beef\n",
      "Sydney Rock Oysters, Oysters\n",
      "\n",
      "tokyo.txt\n",
      "Dish, Mingr\n",
      "Omakase sushi, sushi\n",
      "Tonkotsu ramen, ramen\n",
      "Fresh sashimi and street food, sashimi\n",
      "Innovative tasting menu, tasting menu\n",
      "Kaiseki (traditional multi-course meal), kaiseki\n",
      "Kaiseki, kaiseki\n",
      "\n"
     ]
    }
   ],
   "source": [
    "files = [\"cape_town.txt\", \"istanbul.txt\", \"new_york.txt\", \"paris.txt\", \n",
    "          \"rio_de_janeiro.txt\", \"sydney.txt\", \"tokyo.txt\"]\n",
    "\n",
    "for file in files:\n",
    "    #Open file and read contents\n",
    "    journal_entry = read_journal(file)\n",
    "\n",
    "    #Extract restaurants and display csv\n",
    "    prompt =  f\"\"\"Please extract a comprehensive list of the dishes \n",
    "    and their respective main ingredient mentioned in the following journal entry. \n",
    "    \n",
    "    Ensure that each restaurant name is accurately identified and listed. \n",
    "    Provide your answer in CSV format, ready to save.\n",
    "\n",
    "    Exclude the \"```csv\" declaration, don't add spaces after the \n",
    "    comma, include column headers.\n",
    "\n",
    "    Format:\n",
    "    Dish, Mingr\n",
    "    Dish_1, Mingr_1\n",
    "    ...\n",
    "\n",
    "    Journal entry:\n",
    "    {journal_entry}\n",
    "    \"\"\"\n",
    "    \n",
    "    print(file)\n",
    "    print_llm_response(prompt)\n",
    "    print(\"\") # Prints a blank line!"
   ]
  },
  {
   "cell_type": "markdown",
   "metadata": {},
   "source": [
    "**Explanation output** "
   ]
  },
  {
   "cell_type": "markdown",
   "metadata": {},
   "source": [
    "### Writing Files"
   ]
  },
  {
   "cell_type": "markdown",
   "metadata": {},
   "source": [
    "Here, you will learn how you can save files with the data you have created using Python and LLM."
   ]
  },
  {
   "cell_type": "code",
   "execution_count": 19,
   "metadata": {},
   "outputs": [
    {
     "data": {
      "text/html": [
       "```html\n",
       "<p>First up was Confeitaria Colombo, a legendary and picturesque caf&eacute; in central Rio. Known for its <strong>pastel de nata 🥧</strong> (custard tart), Colombo serves a delightful treat that is hard to beat. The crispy, flaky pastry filled with creamy, sweet custard was an excellent start to the day. The caf&eacute;'s historic Belle &Eacute;poque ambiance added an extra layer of charm.</p>\n",
       "\n",
       "<p>Next, I visited Fogo de Ch&atilde;o, a quintessential Brazilian steakhouse in Botafogo. Famous for its <strong>picanha 🥩</strong> (top sirloin), this churrascaria impressed with its perfectly grilled meat. The picanha was juicy, tender, and bursting with flavor, showcasing the high quality of Brazilian beef. The endless array of grilled meats served tableside made for a hearty and satisfying meal.</p>\n",
       "\n",
       "<p>For a more modern dining experience, I headed to Olympe in Lagoa. This Michelin-starred restaurant specializes in contemporary Brazilian cuisine. The highlight was their <strong>moqueca de caju 🌰</strong> (cashew nut stew). This rich and creamy stew, made from cashew nuts and complemented by fresh seafood and vegetables, was an exquisite dish in an elegant and refined setting.</p>\n",
       "\n",
       "<p>Finally, I concluded my culinary tour at Apraz&iacute;vel, renowned for its breathtaking views and farm-to-table approach. Their signature dish, <strong>galinhada 🍗</strong> (Brazilian chicken and rice), was outstanding. The tender and flavorful chicken, cooked with a mix of rice, vegetables, and spices, and served with <strong>farofa 🌾</strong> (toasted cassava flour), perfectly highlighted the fresh, locally sourced ingredients. The lush, garden-like setting of the restaurant provided a serene end to the culinary adventure.</p>\n",
       "```"
      ],
      "text/plain": [
       "<IPython.core.display.HTML object>"
      ]
     },
     "metadata": {},
     "output_type": "display_data"
    }
   ],
   "source": [
    "# Print the html_response variable to see it's contents\n",
    "display(HTML(html_response))"
   ]
  },
  {
   "cell_type": "markdown",
   "metadata": {},
   "source": [
    "Next, save the data in html_response to a file:"
   ]
  },
  {
   "cell_type": "markdown",
   "metadata": {},
   "source": [
    "f = open(\"highlighted_text.html\", 'w') \n",
    "f.write(html_response) \n",
    "f.close()"
   ]
  },
  {
   "cell_type": "markdown",
   "metadata": {},
   "source": [
    "Note that you use `'w'` instead of `'r'` and `f.write` instead of `f.read` here, in contrast to when you read in a file."
   ]
  },
  {
   "cell_type": "markdown",
   "metadata": {},
   "source": [
    "<p style=\"background-color:#F5C780; padding:15px\"> 🤖 <b>Use the Chatbot</b>:\n",
    "    <br><br>\n",
    "    Explain this code line by line:\n",
    "    <br><br>f = open(\"highlighted_text.html\", 'w')\n",
    "    <br>f.write(html_response)\n",
    "    <br>f.close()\n",
    "</p>"
   ]
  },
  {
   "cell_type": "markdown",
   "metadata": {},
   "source": [
    "**Response Chatbot**  This code snippet performs basic file operations in Python, specifically opening, writing to, and closing a file.To sum up,   \n",
    "_1 line_: The code opens (or creates) a file called highlighted_text.html in write mode.  \n",
    "_2 line_: It writes the contents of the variable html_response to the file.  \n",
    "_3 line_: Finally, it closes the file to ensure the changes are saved and resources are freed.  "
   ]
  },
  {
   "cell_type": "markdown",
   "metadata": {},
   "source": [
    "You can use the following button to download the file you just wrote above.\n",
    "* Make sure to provide the right file name: 'highlighted_text.html' when asked!"
   ]
  },
  {
   "cell_type": "markdown",
   "metadata": {},
   "source": [
    "download_file()"
   ]
  },
  {
   "cell_type": "markdown",
   "metadata": {},
   "source": [
    "IMP: Still to solve the issue about the dowload file "
   ]
  },
  {
   "cell_type": "markdown",
   "metadata": {},
   "source": [
    "## Conclusion \n",
    "In this notebook, we demonstrated how to `use an LLM to extract and highlight important information from journal entries about restaurants and their signature dishes`. By iterating over multiple journal entries, we could efficiently organize and extract relevant information. This approach can be extended to various other classification and extraction tasks, making it a `versatile tool for working with unstructured text data`."
   ]
  },
  {
   "cell_type": "markdown",
   "metadata": {},
   "source": [
    "### Extra practice\n",
    "\n",
    "### Exercise 1\n",
    "\n",
    "Modify the prompt below to create an HTML file that highlights all the **restaurant names in green** and the **neighborhoods in pink** in the Sydney journal entry."
   ]
  },
  {
   "cell_type": "code",
   "execution_count": 22,
   "metadata": {},
   "outputs": [
    {
     "data": {
      "text/html": [
       "```html\n",
       "<!DOCTYPE html>\n",
       "<html lang=\"en\">\n",
       "<head>\n",
       "    <meta charset=\"UTF-8\">\n",
       "    <meta name=\"viewport\" content=\"width=device-width, initial-scale=1.0\">\n",
       "    <title>Food Critic Journal Entry</title>\n",
       "    <style>\n",
       "        .restaurant { color: orange; font-weight: bold; }\n",
       "        .dish { color: blue; font-weight: bold; }\n",
       "    </style>\n",
       "</head>\n",
       "<body>\n",
       "    <h1>Food Critic Journal Entry</h1>\n",
       "    <p>\n",
       "        Tokyo's culinary landscape is nothing short of extraordinary. Each spot offers a unique taste of the city's diverse food culture. Here's a quick guide to some must-try places and dishes.\n",
       "    </p>\n",
       "    <ul>\n",
       "        <li>\n",
       "            <span class=\"restaurant\">Sukiyabashi Jiro</span><br>\n",
       "            Location: Ginza<br>\n",
       "            Dish: <span class=\"dish\">Omakase sushi</span><br>\n",
       "            Highlight: Impeccably crafted sushi made by the legendary Jiro Ono. Each piece is a masterclass in balance and flavor.\n",
       "        </li>\n",
       "        <li>\n",
       "            <span class=\"restaurant\">Ichiran Ramen</span><br>\n",
       "            Location: Shibuya<br>\n",
       "            Dish: <span class=\"dish\">Tonkotsu ramen</span><br>\n",
       "            Highlight: A personal ramen booth for focused, uninterrupted enjoyment. Rich, creamy broth with perfectly cooked noodles.\n",
       "        </li>\n",
       "        <li>\n",
       "            <span class=\"restaurant\">Tsukiji Outer Market</span><br>\n",
       "            Location: Tsukiji<br>\n",
       "            Dish: <span class=\"dish\">Fresh sashimi and street food</span><br>\n",
       "            Highlight: Vibrant market atmosphere. Indulge in ultra-fresh sashimi, grilled seafood, and other Japanese street food delights.\n",
       "        </li>\n",
       "        <li>\n",
       "            <span class=\"restaurant\">Narisawa</span><br>\n",
       "            Location: Minato<br>\n",
       "            Dish: <span class=\"dish\">Innovative tasting menu</span><br>\n",
       "            Highlight: A fusion of French and Japanese techniques. Creative dishes with an emphasis on sustainability and local ingredients.\n",
       "        </li>\n",
       "        <li>\n",
       "            <span class=\"restaurant\">Ginza Kojyu</span><br>\n",
       "            Location: Ginza<br>\n",
       "            Dish: <span class=\"dish\">Kaiseki (traditional multi-course meal)</span><br>\n",
       "            Highlight: Exquisite presentation and meticulous preparation. A journey through seasonal Japanese flavors.\n",
       "        </li>\n",
       "        <li>\n",
       "            <span class=\"restaurant\">Akasaka Kikunoi</span><br>\n",
       "            Location: Akasaka<br>\n",
       "            Dish: <span class=\"dish\">Kaiseki</span><br>\n",
       "            Highlight: Elegant and serene setting. Seasonal ingredients transformed into artful, delicious courses.\n",
       "        </li>\n",
       "    </ul>\n",
       "</body>\n",
       "</html>\n",
       "```"
      ],
      "text/plain": [
       "<IPython.core.display.HTML object>"
      ]
     },
     "metadata": {},
     "output_type": "display_data"
    }
   ],
   "source": [
    "journal_sydney = read_journal(\"sydney.txt\") \n",
    "\n",
    "# Modify the prompt below\n",
    "prompt = f\"\"\"\n",
    "Given the following journal entry from a food critic, identify the \n",
    "restaurants and their best dishes. Highlight and bold each restaurant \n",
    "(in orange) and best dish (in blue) within the original text. \n",
    "\n",
    "Provide the output as HTML suitable for display in a Jupyter notebook. \n",
    "\n",
    "Journal entry:\n",
    "{journal_tokyo}\n",
    "\"\"\"\n",
    "\n",
    "html_sydney = get_llm_response(prompt)\n",
    "display(HTML(html_sydney))"
   ]
  },
  {
   "cell_type": "markdown",
   "metadata": {},
   "source": [
    "Firstly, we should modify the prompt below to create an HTML file that highlights all the **restaurant names in green** and the **neighborhoods in pink** in the Sydney journal entry."
   ]
  },
  {
   "cell_type": "code",
   "execution_count": 23,
   "metadata": {},
   "outputs": [
    {
     "data": {
      "text/html": [
       "```html\n",
       "<!DOCTYPE html>\n",
       "<html lang=\"en\">\n",
       "<head>\n",
       "    <meta charset=\"UTF-8\">\n",
       "    <meta name=\"viewport\" content=\"width=device-width, initial-scale=1.0\">\n",
       "    <title>Food Critic Journal Entry</title>\n",
       "    <style>\n",
       "        .restaurant {\n",
       "            color: green;\n",
       "            font-weight: bold;\n",
       "        }\n",
       "        .dish {\n",
       "            color: pink;\n",
       "            font-weight: bold;\n",
       "        }\n",
       "    </style>\n",
       "</head>\n",
       "<body>\n",
       "    <p>\n",
       "        My culinary adventure began at <span class=\"restaurant\">Saint Peter</span>, a renowned seafood restaurant in Paddington. This place is a temple to Australian seafood, and the \"<span class=\"dish\">Murray Cod</span>\" was a revelation. The fish, sourced from the Murray River, was perfectly cooked, with a crispy skin and tender, flaky flesh. It was served with a simple yet flavorful accompaniment of seasonal vegetables, allowing the quality of the fish to shine. The restaurant's dedication to sustainability and nose-to-tail seafood cooking added an educational aspect to the delicious meal.\n",
       "    </p>\n",
       "    <p>\n",
       "        Next, I visited <span class=\"restaurant\">Billy Kwong</span> in Potts Point, where celebrated chef Kylie Kwong puts a unique spin on modern Australian cuisine using native ingredients. The standout dish here was the \"<span class=\"dish\">Crispy Skin Duck with Davidson’s Plum Sauce</span>.\" The duck was cooked to perfection, with a rich, flavorful meat and delightfully crispy skin, complemented by the tart and slightly sweet Davidson’s plum sauce. This dish was a perfect example of how traditional recipes can be elevated with local, indigenous ingredients, creating something both familiar and new.\n",
       "    </p>\n",
       "    <p>\n",
       "        In search of a true Australian pub experience, I headed to <span class=\"restaurant\">The Lord Nelson Brewery Hotel</span> in The Rocks. This historic pub serves up hearty, classic Australian fare, and the \"<span class=\"dish\">Roast Lamb</span>\" was exactly what I was craving. The lamb, roasted to tender perfection, was served with a medley of root vegetables and a rich gravy, making for a comforting and satisfying meal. Paired with one of their house-brewed ales, it was a quintessential Aussie pub experience that I would highly recommend.\n",
       "    </p>\n",
       "    <p>\n",
       "        I couldn't miss out on trying some of the famous Australian barbecue, so I headed to <span class=\"restaurant\">Vic's Meat Market</span> at the Sydney Fish Market. The \"<span class=\"dish\">BBQ Beef Brisket</span>\" was a highlight, slow-cooked to achieve a melt-in-the-mouth texture, and served with a tangy barbecue sauce. The smoky, rich flavor of the brisket was enhanced by the vibrant, outdoor setting of the market, where the aroma of grilling meat filled the air.\n",
       "    </p>\n",
       "    <p>\n",
       "        To round off my exploration of local cuisine, I visited <span class=\"restaurant\">Bennelong</span>, located within the iconic Sydney Opera House. This fine dining restaurant celebrates Australian produce in every dish. The \"<span class=\"dish\">Sydney Rock Oysters</span>\" were an exquisite start to the meal, served with a delicate vinaigrette that highlighted their briny freshness. The oysters, sourced from local waters, were plump and succulent, offering a pure taste of the sea.\n",
       "    </p>\n",
       "</body>\n",
       "</html>\n",
       "```"
      ],
      "text/plain": [
       "<IPython.core.display.HTML object>"
      ]
     },
     "metadata": {},
     "output_type": "display_data"
    }
   ],
   "source": [
    "journal_sydney = read_journal(\"sydney.txt\") \n",
    "\n",
    "# Modify the prompt below\n",
    "prompt = f\"\"\"\n",
    "Given the following journal entry from a food critic, identify the \n",
    "restaurants and their neighborhoods. Highlight and bold each restaurant \n",
    "(in green) and best dish (in pink) within the original text. \n",
    "\n",
    "Provide the output as HTML suitable for display in a Jupyter notebook. \n",
    "\n",
    "Journal entry:\n",
    "{journal_sydney}\n",
    "\"\"\"\n",
    "\n",
    "html_sydney = get_llm_response(prompt)\n",
    "display(HTML(html_sydney))"
   ]
  },
  {
   "cell_type": "markdown",
   "metadata": {},
   "source": [
    "### Exercise 2\n",
    "\n",
    "Modify the code below to save the output of the LLM to an HTML file. The file should be called `highlighted_sydney.html`."
   ]
  },
  {
   "cell_type": "code",
   "execution_count": null,
   "metadata": {},
   "outputs": [],
   "source": [
    "\n",
    "f = open() \n",
    "f.write() \n",
    "f.close()"
   ]
  },
  {
   "cell_type": "code",
   "execution_count": 27,
   "metadata": {},
   "outputs": [],
   "source": [
    "f = open(\"highlighted_sydney.html\", 'w') \n",
    "f.write(html_sydney) \n",
    "f.close()"
   ]
  },
  {
   "cell_type": "code",
   "execution_count": 28,
   "metadata": {},
   "outputs": [],
   "source": [
    "def download_file(filename, content):\n",
    "    with open(filename, 'w') as f:\n",
    "        f.write(content)\n"
   ]
  },
  {
   "cell_type": "code",
   "execution_count": 29,
   "metadata": {},
   "outputs": [],
   "source": [
    "download_file(\"highlighted_sydney.html\", html_sydney)\n"
   ]
  }
 ],
 "metadata": {
  "kernelspec": {
   "display_name": ".venv",
   "language": "python",
   "name": "python3"
  },
  "language_info": {
   "codemirror_mode": {
    "name": "ipython",
    "version": 3
   },
   "file_extension": ".py",
   "mimetype": "text/x-python",
   "name": "python",
   "nbconvert_exporter": "python",
   "pygments_lexer": "ipython3",
   "version": "3.12.2"
  }
 },
 "nbformat": 4,
 "nbformat_minor": 2
}
