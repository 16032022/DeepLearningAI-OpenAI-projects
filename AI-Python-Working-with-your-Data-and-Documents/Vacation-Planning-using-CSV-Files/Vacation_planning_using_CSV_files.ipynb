{
 "cells": [
  {
   "cell_type": "markdown",
   "metadata": {},
   "source": [
    "# Vacation planning using CSV files ✈️\n",
    "\n",
    "## Introduction\n",
    "In this notebook, we will explore how to read and work with data stored in CSV format. Data of this type looks like a table with rows and columns, and is referred to by programmers as **structured data**. You will learn how to load data from a CSV file, manipulate it, and `use AI to suggest activities for a vacation itinerary`. This approach helps in efficiently organizing and analyzing structured data, making it easier to plan and optimize travel plans. Through practical examples, you will gain hands-on experience in handling CSV files and leveraging AI for enhanced trip planning."
   ]
  },
  {
   "cell_type": "markdown",
   "metadata": {},
   "source": [
    "### Importing required functions \n",
    "\n",
    "- Importing specific functions from the _helper_functions_ module:  \n",
    "  - The _print_llm_response_ function is likely used to print responses from a language learning model.  \n",
    "  - The _get_llm_response_ function is likely used to get responses from a language learning model.\n",
    "  - The _diplay_table_ function displays data in a tabular format for clear visualization. \n",
    "\n",
    "- Importing specific functions from the _IPython.diplay_ module:  \n",
    "  -  _Markdown_  class from IPython.display is to render and display text as Markdown in Jupyter notebooks.\n",
    "\n",
    "- Importing the Comma-Separated Values (CSV) module to provide functionality to both read from and write to  \n",
    "  CSV files."
   ]
  },
  {
   "cell_type": "code",
   "execution_count": 1,
   "metadata": {},
   "outputs": [],
   "source": [
    "# Importing specific functions from the _helper_functions_ module\n",
    "from helper_functions import get_llm_response, print_llm_response, display_table\n",
    "\n",
    "# Importing specific functions from the _IPython.diplay_ module\n",
    "from IPython.display import Markdown\n",
    "\n",
    "# Importing the CSV module\n",
    "import csv"
   ]
  },
  {
   "cell_type": "markdown",
   "metadata": {},
   "source": [
    "### Loading data from a CSV file"
   ]
  },
  {
   "cell_type": "markdown",
   "metadata": {},
   "source": [
    "You'll use the file ```itinerary.csv```, which has information about arrival and departure dates for each destination in a trip around the world."
   ]
  },
  {
   "cell_type": "code",
   "execution_count": 2,
   "metadata": {},
   "outputs": [],
   "source": [
    "# Open the CSV file\n",
    "f = open(\"itinerary.csv\", 'r')"
   ]
  },
  {
   "cell_type": "code",
   "execution_count": 3,
   "metadata": {},
   "outputs": [
    {
     "name": "stdout",
     "output_type": "stream",
     "text": [
      "{'Arrival': 'July-01', 'Departure': 'July-08', 'City': 'New York', 'Country': 'USA'}\n",
      "{'Arrival': 'July-09', 'Departure': 'July-16', 'City': 'Rio de Janeiro', 'Country': 'Brazil'}\n",
      "{'Arrival': 'July-17', 'Departure': 'July-24', 'City': 'Cape Town', 'Country': 'South Africa'}\n",
      "{'Arrival': 'July-25', 'Departure': 'August-01', 'City': 'Istanbul', 'Country': 'Turkey'}\n",
      "{'Arrival': 'August-02', 'Departure': 'August-09', 'City': 'Paris', 'Country': 'France'}\n",
      "{'Arrival': 'August-10', 'Departure': 'August-17', 'City': 'Tokyo', 'Country': 'Japan'}\n",
      "{'Arrival': 'August-18', 'Departure': 'August-25', 'City': 'Sydney', 'Country': 'Australia'}\n"
     ]
    }
   ],
   "source": [
    "# Read the CSV file\n",
    "csv_reader = csv.DictReader(f)\n",
    "itinerary = []\n",
    "for row in csv_reader:\n",
    "    print(row)\n",
    "    itinerary.append(row)"
   ]
  },
  {
   "cell_type": "code",
   "execution_count": 4,
   "metadata": {},
   "outputs": [],
   "source": [
    "# Close the file\n",
    "f.close()"
   ]
  },
  {
   "cell_type": "markdown",
   "metadata": {},
   "source": [
    "You can print the itinerary to view it's content and use the `type` function to check the datatype:"
   ]
  },
  {
   "cell_type": "code",
   "execution_count": 5,
   "metadata": {},
   "outputs": [
    {
     "name": "stdout",
     "output_type": "stream",
     "text": [
      "[{'Arrival': 'July-01', 'Departure': 'July-08', 'City': 'New York', 'Country': 'USA'}, {'Arrival': 'July-09', 'Departure': 'July-16', 'City': 'Rio de Janeiro', 'Country': 'Brazil'}, {'Arrival': 'July-17', 'Departure': 'July-24', 'City': 'Cape Town', 'Country': 'South Africa'}, {'Arrival': 'July-25', 'Departure': 'August-01', 'City': 'Istanbul', 'Country': 'Turkey'}, {'Arrival': 'August-02', 'Departure': 'August-09', 'City': 'Paris', 'Country': 'France'}, {'Arrival': 'August-10', 'Departure': 'August-17', 'City': 'Tokyo', 'Country': 'Japan'}, {'Arrival': 'August-18', 'Departure': 'August-25', 'City': 'Sydney', 'Country': 'Australia'}]\n"
     ]
    },
    {
     "data": {
      "text/plain": [
       "list"
      ]
     },
     "execution_count": 5,
     "metadata": {},
     "output_type": "execute_result"
    }
   ],
   "source": [
    "# Print the itinerary and check its type\n",
    "print(itinerary)\n",
    "\n",
    "type(itinerary)"
   ]
  },
  {
   "cell_type": "markdown",
   "metadata": {},
   "source": [
    "**Explanation output** We can conclude that itinerary is a list of items."
   ]
  },
  {
   "cell_type": "markdown",
   "metadata": {},
   "source": [
    "- Exploring the Itinerary"
   ]
  },
  {
   "cell_type": "markdown",
   "metadata": {},
   "source": [
    "Now take a look at the first item"
   ]
  },
  {
   "cell_type": "code",
   "execution_count": 6,
   "metadata": {},
   "outputs": [
    {
     "name": "stdout",
     "output_type": "stream",
     "text": [
      "{'Arrival': 'July-01', 'Departure': 'July-08', 'City': 'New York', 'Country': 'USA'}\n"
     ]
    }
   ],
   "source": [
    "# Print the first item in the list (that has index 0)\n",
    "print(itinerary[0])"
   ]
  },
  {
   "cell_type": "markdown",
   "metadata": {},
   "source": [
    "This is a dictionary. You can access a particular value by passing in the key - let's look at the `Country` value in the first row of the itinerary:"
   ]
  },
  {
   "cell_type": "code",
   "execution_count": 7,
   "metadata": {},
   "outputs": [
    {
     "name": "stdout",
     "output_type": "stream",
     "text": [
      "USA\n"
     ]
    }
   ],
   "source": [
    "# Access the 'Country' value in the first row\n",
    "print(itinerary[0][\"Country\"])"
   ]
  },
  {
   "cell_type": "markdown",
   "metadata": {},
   "source": [
    "### Try for yourself!\n",
    "\n",
    "Let's explore other rows in the itinerary list, or individual items in any destination. "
   ]
  },
  {
   "cell_type": "code",
   "execution_count": 8,
   "metadata": {},
   "outputs": [
    {
     "name": "stdout",
     "output_type": "stream",
     "text": [
      "{'Arrival': 'July-01', 'Departure': 'July-08', 'City': 'New York', 'Country': 'USA'}\n",
      "USA\n"
     ]
    }
   ],
   "source": [
    "print(itinerary[0])\n",
    "print(itinerary[0][\"Country\"])"
   ]
  },
  {
   "cell_type": "markdown",
   "metadata": {},
   "source": [
    "Before exploring the individual items in any destination, let's see how many items are enclosed in the list:"
   ]
  },
  {
   "cell_type": "code",
   "execution_count": 9,
   "metadata": {},
   "outputs": [
    {
     "name": "stdout",
     "output_type": "stream",
     "text": [
      "The list contains 7 items.\n"
     ]
    }
   ],
   "source": [
    "# Count the number of items in the list\n",
    "number_of_items = len(itinerary)\n",
    "print(f'The list contains {number_of_items} items.')\n"
   ]
  },
  {
   "cell_type": "markdown",
   "metadata": {},
   "source": [
    "**Explanation output** As it can be seen from the output, the list contains 6 items -starting from 0. "
   ]
  },
  {
   "cell_type": "markdown",
   "metadata": {},
   "source": [
    "- Structured Data"
   ]
  },
  {
   "cell_type": "code",
   "execution_count": 10,
   "metadata": {},
   "outputs": [
    {
     "name": "stdout",
     "output_type": "stream",
     "text": [
      "{'Arrival': 'July-09', 'Departure': 'July-16', 'City': 'Rio de Janeiro', 'Country': 'Brazil'}\n",
      "Brazil\n"
     ]
    }
   ],
   "source": [
    "#Let's consider the second item and the related country \n",
    "print(itinerary[1])\n",
    "print(itinerary[1][\"Country\"])"
   ]
  },
  {
   "cell_type": "code",
   "execution_count": 11,
   "metadata": {},
   "outputs": [
    {
     "name": "stdout",
     "output_type": "stream",
     "text": [
      "{'Arrival': 'July-17', 'Departure': 'July-24', 'City': 'Cape Town', 'Country': 'South Africa'}\n",
      "South Africa\n"
     ]
    }
   ],
   "source": [
    "#Let's consider the third item and the related country \n",
    "print(itinerary[2])\n",
    "print(itinerary[2][\"Country\"])"
   ]
  },
  {
   "cell_type": "code",
   "execution_count": 12,
   "metadata": {},
   "outputs": [
    {
     "name": "stdout",
     "output_type": "stream",
     "text": [
      "{'Arrival': 'July-25', 'Departure': 'August-01', 'City': 'Istanbul', 'Country': 'Turkey'}\n",
      "Turkey\n"
     ]
    }
   ],
   "source": [
    "#Let's consider the fourth item and the related country \n",
    "print(itinerary[3])\n",
    "print(itinerary[3][\"Country\"])"
   ]
  },
  {
   "cell_type": "code",
   "execution_count": 13,
   "metadata": {},
   "outputs": [
    {
     "name": "stdout",
     "output_type": "stream",
     "text": [
      "{'Arrival': 'August-02', 'Departure': 'August-09', 'City': 'Paris', 'Country': 'France'}\n",
      "France\n"
     ]
    }
   ],
   "source": [
    "#Let's consider the five item and the related country \n",
    "print(itinerary[4])\n",
    "print(itinerary[4][\"Country\"])"
   ]
  },
  {
   "cell_type": "code",
   "execution_count": 14,
   "metadata": {},
   "outputs": [
    {
     "name": "stdout",
     "output_type": "stream",
     "text": [
      "{'Arrival': 'August-10', 'Departure': 'August-17', 'City': 'Tokyo', 'Country': 'Japan'}\n",
      "Japan\n"
     ]
    }
   ],
   "source": [
    "#Let's consider the six item and the related country \n",
    "print(itinerary[5])\n",
    "print(itinerary[5][\"Country\"])"
   ]
  },
  {
   "cell_type": "code",
   "execution_count": 15,
   "metadata": {},
   "outputs": [
    {
     "name": "stdout",
     "output_type": "stream",
     "text": [
      "{'Arrival': 'August-18', 'Departure': 'August-25', 'City': 'Sydney', 'Country': 'Australia'}\n",
      "Australia\n"
     ]
    }
   ],
   "source": [
    "#Let's consider the seven item and the related country \n",
    "print(itinerary[6])\n",
    "print(itinerary[6][\"Country\"])"
   ]
  },
  {
   "cell_type": "markdown",
   "metadata": {},
   "source": [
    "<p style=\"background-color:#F5C780; padding:15px\"> 🤖 <b>Use the Chatbot</b>:\n",
    "    <br><br>\n",
    "    Explain this code line by line:\n",
    "    <br><br>f = open(\"itinerary.csv\", 'r')\n",
    "    <br>csv_reader = csv.DictReader(f)\n",
    "    <br>itinerary = []\n",
    "    <br>for row in csv_reader:\n",
    "    <br>itinerary.append(row)\n",
    "    <br><br>f.close()\n",
    "</p>"
   ]
  },
  {
   "cell_type": "markdown",
   "metadata": {},
   "source": [
    "**Response Chatbot** : At the end of this code, itinerary will be a list of dictionaries, where each dictionary represents a row from the CSV file. Each key in the dictionary is a column header from the first row of the CSV file, and the values are the corresponding data entries from that row.  \n",
    "_1 line:_ Opens a CSV file named itinerary.csv in read mode.  \n",
    "_2 line:_ Uses csv.DictReader to read the file, where each row is converted to a dictionary with keys as the column headers.  \n",
    "_3 line:_ Initializes an empty list itinerary to store the rows.  \n",
    "_4 line:_ Loops through each row in the CSV file, appending each row (in dictionary form) to the itinerary list.  \n",
    "_5 line_: Closes the file after reading is done.  \n"
   ]
  },
  {
   "cell_type": "markdown",
   "metadata": {},
   "source": [
    "## Structured Data"
   ]
  },
  {
   "cell_type": "markdown",
   "metadata": {},
   "source": [
    "Let's visualize this itinerary in a more readable way.\n",
    "\n",
    "* Use the ```display_table``` helper function:"
   ]
  },
  {
   "cell_type": "code",
   "execution_count": 16,
   "metadata": {},
   "outputs": [
    {
     "data": {
      "text/html": [
       "<table border=\"1\" class=\"dataframe\">\n",
       "  <thead>\n",
       "    <tr style=\"text-align: right;\">\n",
       "      <th>Arrival</th>\n",
       "      <th>Departure</th>\n",
       "      <th>City</th>\n",
       "      <th>Country</th>\n",
       "    </tr>\n",
       "  </thead>\n",
       "  <tbody>\n",
       "    <tr>\n",
       "      <td>July-01</td>\n",
       "      <td>July-08</td>\n",
       "      <td>New York</td>\n",
       "      <td>USA</td>\n",
       "    </tr>\n",
       "    <tr>\n",
       "      <td>July-09</td>\n",
       "      <td>July-16</td>\n",
       "      <td>Rio de Janeiro</td>\n",
       "      <td>Brazil</td>\n",
       "    </tr>\n",
       "    <tr>\n",
       "      <td>July-17</td>\n",
       "      <td>July-24</td>\n",
       "      <td>Cape Town</td>\n",
       "      <td>South Africa</td>\n",
       "    </tr>\n",
       "    <tr>\n",
       "      <td>July-25</td>\n",
       "      <td>August-01</td>\n",
       "      <td>Istanbul</td>\n",
       "      <td>Turkey</td>\n",
       "    </tr>\n",
       "    <tr>\n",
       "      <td>August-02</td>\n",
       "      <td>August-09</td>\n",
       "      <td>Paris</td>\n",
       "      <td>France</td>\n",
       "    </tr>\n",
       "    <tr>\n",
       "      <td>August-10</td>\n",
       "      <td>August-17</td>\n",
       "      <td>Tokyo</td>\n",
       "      <td>Japan</td>\n",
       "    </tr>\n",
       "    <tr>\n",
       "      <td>August-18</td>\n",
       "      <td>August-25</td>\n",
       "      <td>Sydney</td>\n",
       "      <td>Australia</td>\n",
       "    </tr>\n",
       "  </tbody>\n",
       "</table>"
      ],
      "text/plain": [
       "<IPython.core.display.HTML object>"
      ]
     },
     "metadata": {},
     "output_type": "display_data"
    }
   ],
   "source": [
    "# Display the itinerary as a table\n",
    "display_table(itinerary)"
   ]
  },
  {
   "cell_type": "markdown",
   "metadata": {},
   "source": [
    "Next, write code to filter the table based on some criterion - in this case if the country is Japan - and then add the information for that stop to a new list called `filtered_data`:"
   ]
  },
  {
   "cell_type": "code",
   "execution_count": 17,
   "metadata": {},
   "outputs": [
    {
     "data": {
      "text/html": [
       "<table border=\"1\" class=\"dataframe\">\n",
       "  <thead>\n",
       "    <tr style=\"text-align: right;\">\n",
       "      <th>Arrival</th>\n",
       "      <th>Departure</th>\n",
       "      <th>City</th>\n",
       "      <th>Country</th>\n",
       "    </tr>\n",
       "  </thead>\n",
       "  <tbody>\n",
       "    <tr>\n",
       "      <td>August-10</td>\n",
       "      <td>August-17</td>\n",
       "      <td>Tokyo</td>\n",
       "      <td>Japan</td>\n",
       "    </tr>\n",
       "  </tbody>\n",
       "</table>"
      ],
      "text/plain": [
       "<IPython.core.display.HTML object>"
      ]
     },
     "metadata": {},
     "output_type": "display_data"
    }
   ],
   "source": [
    "# Create an empty list to store the filtered data\n",
    "filtered_data = []\n",
    "\n",
    "# Filter by country\n",
    "for trip_stop in itinerary:\n",
    "    # For example: get the destinations located in \"Japan\"\n",
    "    if trip_stop[\"Country\"] == \"Japan\":\n",
    "        filtered_data.append(trip_stop)\n",
    "\n",
    "# Display the filtered data\n",
    "display_table(filtered_data)"
   ]
  },
  {
   "cell_type": "markdown",
   "metadata": {},
   "source": [
    "**Note** : The `filtered_data` variable only contains one row."
   ]
  },
  {
   "cell_type": "markdown",
   "metadata": {},
   "source": [
    "### Using AI to suggest trip activities"
   ]
  },
  {
   "cell_type": "markdown",
   "metadata": {},
   "source": [
    "Retrieve the first destination and then `ask an LLM for suggestions of activities to do in that location during the dates of the visit`:"
   ]
  },
  {
   "cell_type": "code",
   "execution_count": 18,
   "metadata": {},
   "outputs": [
    {
     "name": "stdout",
     "output_type": "stream",
     "text": [
      "{'Arrival': 'July-01', 'Departure': 'July-08', 'City': 'New York', 'Country': 'USA'}\n"
     ]
    }
   ],
   "source": [
    "# Select the first destination from the itinerary list (Hint: index=0)\n",
    "trip_stop = itinerary[0]\n",
    "print(trip_stop)"
   ]
  },
  {
   "cell_type": "markdown",
   "metadata": {},
   "source": [
    "Create variables to store all the individual items from ```trip_stop```:"
   ]
  },
  {
   "cell_type": "code",
   "execution_count": 19,
   "metadata": {},
   "outputs": [],
   "source": [
    "# Store individual items from trip_stop\n",
    "city = trip_stop[\"City\"]\n",
    "country = trip_stop[\"Country\"]\n",
    "arrival = trip_stop[\"Arrival\"]\n",
    "departure = trip_stop[\"Departure\"]"
   ]
  },
  {
   "cell_type": "markdown",
   "metadata": {},
   "source": [
    "Write a prompt to get activity suggestions for your trip destination:"
   ]
  },
  {
   "cell_type": "code",
   "execution_count": 20,
   "metadata": {},
   "outputs": [
    {
     "name": "stdout",
     "output_type": "stream",
     "text": [
      "I will visit New York, USA, from July-01 to July-08. \n",
      "Please create a detailed daily itinerary.\n"
     ]
    }
   ],
   "source": [
    "# Write a prompt for the LLM\n",
    "prompt = f\"\"\"I will visit {city}, {country}, from {arrival} to {departure}. \n",
    "Please create a detailed daily itinerary.\"\"\"\n",
    "\n",
    "# Print prompt\n",
    "print(prompt)"
   ]
  },
  {
   "cell_type": "code",
   "execution_count": 21,
   "metadata": {},
   "outputs": [
    {
     "data": {
      "text/markdown": [
       "**New York City Itinerary: July 1 - July 8**\n",
       "\n",
       "**Day 1: July 1 (Saturday)**\n",
       "- **Morning:** Arrive in NYC, check into your hotel.\n",
       "- **Afternoon:** Explore Times Square; grab lunch at a nearby café.\n",
       "- **Evening:** Visit the Top of the Rock for sunset views; dinner at a restaurant in Midtown.\n",
       "\n",
       "**Day 2: July 2 (Sunday)**\n",
       "- **Morning:** Visit the Statue of Liberty and Ellis Island (book tickets in advance).\n",
       "- **Afternoon:** Explore Battery Park; lunch in the Financial District.\n",
       "- **Evening:** Walk across the Brooklyn Bridge; dinner in DUMBO with views of Manhattan.\n",
       "\n",
       "**Day 3: July 3 (Monday)**\n",
       "- **Morning:** Visit the 9/11 Memorial & Museum.\n",
       "- **Afternoon:** Explore Wall Street; lunch at a local deli.\n",
       "- **Evening:** Catch a Broadway show (book tickets in advance).\n",
       "\n",
       "**Day 4: July 4 (Tuesday)**\n",
       "- **Morning:** Visit Central Park; rent a bike or take a leisurely walk.\n",
       "- **Afternoon:** Explore the American Museum of Natural History.\n",
       "- **Evening:** Enjoy Independence Day fireworks (check location and time).\n",
       "\n",
       "**Day 5: July 5 (Wednesday)**\n",
       "- **Morning:** Visit the Metropolitan Museum of Art.\n",
       "- **Afternoon:** Stroll along Fifth Avenue; lunch at a nearby café.\n",
       "- **Evening:** Explore the Upper West Side; dinner at a local restaurant.\n",
       "\n",
       "**Day 6: July 6 (Thursday)**\n",
       "- **Morning:** Visit the High Line; walk through Chelsea Market.\n",
       "- **Afternoon:** Explore Greenwich Village; lunch at a local eatery.\n",
       "- **Evening:** Visit the Empire State Building for night views.\n",
       "\n",
       "**Day 7: July 7 (Friday)**\n",
       "- **Morning:** Visit the Museum of Modern Art (MoMA).\n",
       "- **Afternoon:** Explore SoHo for shopping; lunch in the area.\n",
       "- **Evening:** Dinner in Little Italy or Chinatown.\n",
       "\n",
       "**Day 8: July 8 (Saturday)**\n",
       "- **Morning:** Last-minute shopping or visit any missed attractions.\n",
       "- **Afternoon:** Check out of your hotel; head to the airport.\n",
       "\n",
       "**Tips:**\n",
       "- Use the subway for efficient travel.\n",
       "- Book tickets for popular attractions in advance.\n",
       "- Check for any special events or festivals during your visit."
      ],
      "text/plain": [
       "<IPython.core.display.Markdown object>"
      ]
     },
     "metadata": {},
     "output_type": "display_data"
    }
   ],
   "source": [
    "# Store the LLM response\n",
    "response = get_llm_response(prompt)\n",
    "\n",
    "# Print in Markdown format to display the LLM response nicely in the Jupyter notebook\n",
    "display(Markdown(response))"
   ]
  },
  {
   "cell_type": "markdown",
   "metadata": {},
   "source": [
    "## Conclusion\n",
    "\n",
    "In this notebook, we demonstrated how to read and work with CSV data for planning a vacation itinerary. We explored how to load data from a CSV file, filter it based on specific criteria, and use AI to suggest activities for different destinations. This approach helps in efficiently organizing and analyzing structured data, making it easier to plan and optimize travel plans."
   ]
  },
  {
   "cell_type": "markdown",
   "metadata": {},
   "source": [
    "### Extra Practice\n",
    "\n",
    "In these exercises, you'll create an itinerary for another stop on the trip! \n",
    "\n",
    "### Exercise 1\n",
    "\n",
    "First, create a filtered dataset for `Brazil`. You'll need to update the `if` statement to select the right country. "
   ]
  },
  {
   "cell_type": "code",
   "execution_count": null,
   "metadata": {},
   "outputs": [],
   "source": [
    "# Create an empty list to store the filtered data\n",
    "filtered_data = []\n",
    "\n",
    "# Filter by country\n",
    "for trip_stop in itinerary:\n",
    "    # For example: get the destinations located in \"Brazil\"\n",
    "    # Complete code on next line:\n",
    "    if trip_stop[\"Country\"] == \"\":\n",
    "        filtered_data.append(trip_stop)\n",
    "\n",
    "print(filtered_data)"
   ]
  },
  {
   "cell_type": "code",
   "execution_count": null,
   "metadata": {},
   "outputs": [],
   "source": [
    "#Let's modify the output in order to get the items for Brazil "
   ]
  },
  {
   "cell_type": "code",
   "execution_count": 22,
   "metadata": {},
   "outputs": [
    {
     "name": "stdout",
     "output_type": "stream",
     "text": [
      "[{'Arrival': 'July-09', 'Departure': 'July-16', 'City': 'Rio de Janeiro', 'Country': 'Brazil'}]\n"
     ]
    }
   ],
   "source": [
    "# Create an empty list to store the filtered data\n",
    "filtered_data = []\n",
    "\n",
    "# Filter by country\n",
    "for trip_stop in itinerary:\n",
    "    # For example: get the destinations located in \"Brazil\"\n",
    "    # Complete code on next line:\n",
    "    if trip_stop[\"Country\"] == \"Brazil\":\n",
    "        filtered_data.append(trip_stop)\n",
    "\n",
    "print(filtered_data)"
   ]
  },
  {
   "cell_type": "code",
   "execution_count": 23,
   "metadata": {},
   "outputs": [
    {
     "data": {
      "text/html": [
       "<table border=\"1\" class=\"dataframe\">\n",
       "  <thead>\n",
       "    <tr style=\"text-align: right;\">\n",
       "      <th>Arrival</th>\n",
       "      <th>Departure</th>\n",
       "      <th>City</th>\n",
       "      <th>Country</th>\n",
       "    </tr>\n",
       "  </thead>\n",
       "  <tbody>\n",
       "    <tr>\n",
       "      <td>July-09</td>\n",
       "      <td>July-16</td>\n",
       "      <td>Rio de Janeiro</td>\n",
       "      <td>Brazil</td>\n",
       "    </tr>\n",
       "  </tbody>\n",
       "</table>"
      ],
      "text/plain": [
       "<IPython.core.display.HTML object>"
      ]
     },
     "metadata": {},
     "output_type": "display_data"
    }
   ],
   "source": [
    "display_table(filtered_data)"
   ]
  },
  {
   "cell_type": "code",
   "execution_count": 24,
   "metadata": {},
   "outputs": [
    {
     "name": "stdout",
     "output_type": "stream",
     "text": [
      "{'Arrival': 'July-09', 'Departure': 'July-16', 'City': 'Rio de Janeiro', 'Country': 'Brazil'}\n"
     ]
    }
   ],
   "source": [
    "# Select the second destination from the itinerary list (Hint: index=1) \n",
    "trip_stop = itinerary[1]\n",
    "print(trip_stop)"
   ]
  },
  {
   "cell_type": "markdown",
   "metadata": {},
   "source": [
    "Create variables to store all the individual items from ```trip_stop```:"
   ]
  },
  {
   "cell_type": "code",
   "execution_count": 25,
   "metadata": {},
   "outputs": [],
   "source": [
    "city = trip_stop[\"City\"]\n",
    "country = trip_stop[\"Country\"]\n",
    "arrival = trip_stop[\"Arrival\"]\n",
    "departure = trip_stop[\"Departure\"]"
   ]
  },
  {
   "cell_type": "markdown",
   "metadata": {},
   "source": [
    "Write a prompt to get activity suggestions for your trip destination:"
   ]
  },
  {
   "cell_type": "code",
   "execution_count": 26,
   "metadata": {},
   "outputs": [
    {
     "name": "stdout",
     "output_type": "stream",
     "text": [
      "I will visit Rio de Janeiro, Brazil, from July-09 to July-16. \n",
      "Please create a detailed daily itinerary.\n"
     ]
    }
   ],
   "source": [
    "prompt = f\"\"\"I will visit {city}, {country}, from {arrival} to {departure}. \n",
    "Please create a detailed daily itinerary.\"\"\"\n",
    "\n",
    "print(prompt)"
   ]
  },
  {
   "cell_type": "code",
   "execution_count": 27,
   "metadata": {},
   "outputs": [
    {
     "data": {
      "text/markdown": [
       "**Rio de Janeiro Itinerary: July 9 - July 16**\n",
       "\n",
       "**Day 1: July 9 (Arrival)**\n",
       "- Arrive in Rio de Janeiro.\n",
       "- Check into your hotel.\n",
       "- Evening: Stroll along Copacabana Beach, enjoy dinner at a beachfront restaurant.\n",
       "\n",
       "**Day 2: July 10 (Christ the Redeemer & Santa Teresa)**\n",
       "- Morning: Visit Christ the Redeemer (early to avoid crowds).\n",
       "- Afternoon: Explore Santa Teresa neighborhood, visit the Selarón Steps.\n",
       "- Evening: Dinner in Santa Teresa, try local Brazilian cuisine.\n",
       "\n",
       "**Day 3: July 11 (Sugarloaf Mountain & Botafogo)**\n",
       "- Morning: Take the cable car to Sugarloaf Mountain.\n",
       "- Afternoon: Relax at Botafogo Beach, enjoy views of the mountain.\n",
       "- Evening: Dinner at a restaurant in Botafogo.\n",
       "\n",
       "**Day 4: July 12 (Tijuca National Park)**\n",
       "- Morning: Hike in Tijuca National Park (choose a trail based on fitness level).\n",
       "- Afternoon: Visit the Cascatinha Taunay waterfall.\n",
       "- Evening: Return to the city, dinner in Lapa, explore nightlife.\n",
       "\n",
       "**Day 5: July 13 (Ipanema & Leblon)**\n",
       "- Morning: Relax at Ipanema Beach.\n",
       "- Afternoon: Explore the shops and cafes in Ipanema and Leblon.\n",
       "- Evening: Sunset at Arpoador Rock, dinner at a local restaurant.\n",
       "\n",
       "**Day 6: July 14 (Cultural Day)**\n",
       "- Morning: Visit the Museum of Tomorrow and the MAR (Museum of Art of Rio).\n",
       "- Afternoon: Explore the historic downtown area (Cinelandia, Theatro Municipal).\n",
       "- Evening: Dinner in the downtown area, try a traditional feijoada.\n",
       "\n",
       "**Day 7: July 15 (Day Trip to Petropolis)**\n",
       "- Morning: Take a day trip to Petropolis (visit the Imperial Museum).\n",
       "- Afternoon: Explore the city, visit the Crystal Palace and gardens.\n",
       "- Evening: Return to Rio, dinner at a local churrascaria.\n",
       "\n",
       "**Day 8: July 16 (Departure)**\n",
       "- Morning: Last-minute shopping or beach time.\n",
       "- Afternoon: Check out of your hotel, head to the airport for departure.\n",
       "\n",
       "**Tips:**\n",
       "- Use public transport or rideshare apps for convenience.\n",
       "- Stay hydrated and use sunscreen.\n",
       "- Check local events or festivals during your visit."
      ],
      "text/plain": [
       "<IPython.core.display.Markdown object>"
      ]
     },
     "metadata": {},
     "output_type": "display_data"
    }
   ],
   "source": [
    "# Store the LLM response\n",
    "response = get_llm_response(prompt)\n",
    "\n",
    "# Print in Markdown format\n",
    "display(Markdown(response))"
   ]
  },
  {
   "cell_type": "markdown",
   "metadata": {},
   "source": [
    "### Exercise 2\n",
    "\n",
    "Next, update the variables to pass in the prompt to the LLM. You'll need to modify the code on the next line to select the first item from `filtered_data` rather than the whole `itinerary`."
   ]
  },
  {
   "cell_type": "code",
   "execution_count": 30,
   "metadata": {},
   "outputs": [
    {
     "name": "stdout",
     "output_type": "stream",
     "text": [
      " The city is: New York\n",
      " The country is: USA\n",
      " The arrival date is: July-01\n",
      " The departure date is: July-08\n"
     ]
    }
   ],
   "source": [
    "trip_stop = itinerary[0]\n",
    "\n",
    "city = trip_stop[\"City\"]\n",
    "country = trip_stop[\"Country\"]\n",
    "arrival = trip_stop[\"Arrival\"]\n",
    "departure = trip_stop[\"Departure\"]\n",
    "\n",
    "print(f\" The city is: {city}\")\n",
    "print(f\" The country is: {country}\")\n",
    "print(f\" The arrival date is: {arrival}\")\n",
    "print(f\" The departure date is: {departure}\")"
   ]
  },
  {
   "cell_type": "markdown",
   "metadata": {},
   "source": [
    "Now, you can run the prompt to get a new itinerary!"
   ]
  },
  {
   "cell_type": "code",
   "execution_count": 31,
   "metadata": {},
   "outputs": [
    {
     "name": "stdout",
     "output_type": "stream",
     "text": [
      "**New York City Itinerary: July 1 - July 8**\n",
      "\n",
      "**Day 1: July 1 (Saturday)**\n",
      "- **Morning:** Arrive in NYC, check into your hotel.\n",
      "- **Afternoon:** Explore Central Park (Bethesda Terrace, Bow Bridge).\n",
      "- **Evening:** Dinner in the Upper West Side (e.g., Jacob's Pickles).\n",
      "\n",
      "**Day 2: July 2 (Sunday)**\n",
      "- **Morning:** Visit the American Museum of Natural History.\n",
      "- **Afternoon:** Walk through the Upper West Side, visit Lincoln Center.\n",
      "- **Evening:** Broadway show (book tickets in advance).\n",
      "\n",
      "**Day 3: July 3 (Monday)**\n",
      "- **Morning:** Visit the Statue of Liberty and Ellis Island (ferry from Battery Park).\n",
      "- **Afternoon:** Explore Wall Street and the Financial District.\n",
      "- **Evening:** Dinner at Stone Street.\n",
      "\n",
      "**Day 4: July 4 (Tuesday) - Independence Day**\n",
      "- **Morning:** Visit the 9/11 Memorial & Museum.\n",
      "- **Afternoon:** Walk through Battery Park and visit the One World Observatory.\n",
      "- **Evening:** Watch the Macy's 4th of July Fireworks (best spots: Brooklyn Bridge Park or along the East River).\n",
      "\n",
      "**Day 5: July 5 (Wednesday)**\n",
      "- **Morning:** Explore the Metropolitan Museum of Art.\n",
      "- **Afternoon:** Stroll down Fifth Avenue (visit St. Patrick's Cathedral).\n",
      "- **Evening:** Dinner in Midtown (e.g., Times Square area).\n",
      "\n",
      "**Day 6: July 6 (Thursday)**\n",
      "- **Morning:** Visit the High Line and Chelsea Market.\n",
      "- **Afternoon:** Explore Greenwich Village (Washington Square Park).\n",
      "- **Evening:** Enjoy live music or comedy in the Village.\n",
      "\n",
      "**Day 7: July 7 (Friday)**\n",
      "- **Morning:** Visit the Museum of Modern Art (MoMA).\n",
      "- **Afternoon:** Explore SoHo and Little Italy.\n",
      "- **Evening:** Dinner in Chinatown.\n",
      "\n",
      "**Day 8: July 8 (Saturday)**\n",
      "- **Morning:** Last-minute shopping or visit any missed attractions.\n",
      "- **Afternoon:** Check out of your hotel, head to the airport.\n",
      "\n",
      "**Tips:**\n",
      "- Use the subway for efficient travel.\n",
      "- Book tickets for popular attractions in advance.\n",
      "- Stay hydrated and wear comfortable shoes.\n"
     ]
    }
   ],
   "source": [
    "prompt = f\"\"\"I will visit {city}, {country}, from {arrival} to {departure}. \n",
    "Please create a detailed daily itinerary.\"\"\"\n",
    "\n",
    "print_llm_response(prompt)"
   ]
  },
  {
   "cell_type": "markdown",
   "metadata": {},
   "source": [
    "#### Challenge exercise!\n",
    "\n",
    "Complete the code below so that it will **print out the country of every destination** in the `itinerary.csv` file. Ask the chatbot for help if you need it!"
   ]
  },
  {
   "cell_type": "code",
   "execution_count": null,
   "metadata": {},
   "outputs": [],
   "source": [
    "f = open(\"itinerary.csv\", \"r\")\n",
    "csv_reader = csv.DictReader(f)\n",
    "itinerary = []\n",
    "for row in csv_reader:\n",
    "    print(row)\n",
    "    itinerary.append(row)\n",
    "f.close()\n",
    "\n",
    "# Complete the next two lines to print the country:\n",
    "for trip_stop in :\n",
    "    print()"
   ]
  },
  {
   "cell_type": "markdown",
   "metadata": {},
   "source": [
    "Let's fix the above code "
   ]
  },
  {
   "cell_type": "code",
   "execution_count": 32,
   "metadata": {},
   "outputs": [
    {
     "name": "stdout",
     "output_type": "stream",
     "text": [
      "{'Arrival': 'July-01', 'Departure': 'July-08', 'City': 'New York', 'Country': 'USA'}\n",
      "{'Arrival': 'July-09', 'Departure': 'July-16', 'City': 'Rio de Janeiro', 'Country': 'Brazil'}\n",
      "{'Arrival': 'July-17', 'Departure': 'July-24', 'City': 'Cape Town', 'Country': 'South Africa'}\n",
      "{'Arrival': 'July-25', 'Departure': 'August-01', 'City': 'Istanbul', 'Country': 'Turkey'}\n",
      "{'Arrival': 'August-02', 'Departure': 'August-09', 'City': 'Paris', 'Country': 'France'}\n",
      "{'Arrival': 'August-10', 'Departure': 'August-17', 'City': 'Tokyo', 'Country': 'Japan'}\n",
      "{'Arrival': 'August-18', 'Departure': 'August-25', 'City': 'Sydney', 'Country': 'Australia'}\n",
      "[{'Arrival': 'July-09', 'Departure': 'July-16', 'City': 'Rio de Janeiro', 'Country': 'Brazil'}]\n",
      "[{'Arrival': 'July-09', 'Departure': 'July-16', 'City': 'Rio de Janeiro', 'Country': 'Brazil'}, {'Arrival': 'July-09', 'Departure': 'July-16', 'City': 'Rio de Janeiro', 'Country': 'Brazil'}]\n",
      "[{'Arrival': 'July-09', 'Departure': 'July-16', 'City': 'Rio de Janeiro', 'Country': 'Brazil'}, {'Arrival': 'July-09', 'Departure': 'July-16', 'City': 'Rio de Janeiro', 'Country': 'Brazil'}]\n",
      "[{'Arrival': 'July-09', 'Departure': 'July-16', 'City': 'Rio de Janeiro', 'Country': 'Brazil'}, {'Arrival': 'July-09', 'Departure': 'July-16', 'City': 'Rio de Janeiro', 'Country': 'Brazil'}]\n",
      "[{'Arrival': 'July-09', 'Departure': 'July-16', 'City': 'Rio de Janeiro', 'Country': 'Brazil'}, {'Arrival': 'July-09', 'Departure': 'July-16', 'City': 'Rio de Janeiro', 'Country': 'Brazil'}]\n",
      "[{'Arrival': 'July-09', 'Departure': 'July-16', 'City': 'Rio de Janeiro', 'Country': 'Brazil'}, {'Arrival': 'July-09', 'Departure': 'July-16', 'City': 'Rio de Janeiro', 'Country': 'Brazil'}]\n",
      "[{'Arrival': 'July-09', 'Departure': 'July-16', 'City': 'Rio de Janeiro', 'Country': 'Brazil'}, {'Arrival': 'July-09', 'Departure': 'July-16', 'City': 'Rio de Janeiro', 'Country': 'Brazil'}]\n"
     ]
    }
   ],
   "source": [
    "f = open(\"itinerary.csv\", \"r\")\n",
    "csv_reader = csv.DictReader(f)\n",
    "itinerary = []\n",
    "for row in csv_reader:\n",
    "    print(row)\n",
    "    itinerary.append(row)\n",
    "f.close()\n",
    "\n",
    "# Complete the next two lines to print the country:\n",
    "for trip_stop in itinerary:\n",
    "    if trip_stop[\"Country\"] == \"Brazil\":\n",
    "        filtered_data.append(trip_stop)\n",
    "    print(filtered_data)"
   ]
  }
 ],
 "metadata": {
  "kernelspec": {
   "display_name": ".venv",
   "language": "python",
   "name": "python3"
  },
  "language_info": {
   "codemirror_mode": {
    "name": "ipython",
    "version": 3
   },
   "file_extension": ".py",
   "mimetype": "text/x-python",
   "name": "python",
   "nbconvert_exporter": "python",
   "pygments_lexer": "ipython3",
   "version": "3.12.2"
  }
 },
 "nbformat": 4,
 "nbformat_minor": 2
}
