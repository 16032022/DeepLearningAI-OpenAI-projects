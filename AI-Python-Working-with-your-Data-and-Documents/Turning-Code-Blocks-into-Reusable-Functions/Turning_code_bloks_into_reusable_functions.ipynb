{
 "cells": [
  {
   "cell_type": "markdown",
   "metadata": {},
   "source": [
    "# Turning code blocks into reusable functions\n",
    "\n",
    "## Introduction \n",
    "In this notebook, we will learn how to create reusable functions in Python. `Functions` help avoid repetitive code and make our code more organized and efficient. Through practical examples, you will gain hands-on `experience in defining and using functions to perform various tasks`, making your Python programming more effective and streamlined."
   ]
  },
  {
   "cell_type": "markdown",
   "metadata": {},
   "source": [
    "### Importing required functions \n",
    "\n",
    "- Importing specific functions from the _helper_functions_ module:  \n",
    "  - The _print_llm_response_ function is likely used to print responses from a language learning model.  \n",
    "  - The _get_llm_response_ function is likely used to get responses from a language learning model. \n",
    "\n",
    "- Importing specific functions from the _IPython.diplay_ module:  \n",
    "  -  _Markdown_  class from IPython.display is to render and display text as Markdown in Jupyter notebooks.\n",
    "  - _display_\n",
    "\n",
    "- Importing the Comma-Separated Values (CSV) module to provide functionality to both read from and write to  \n",
    "  CSV files."
   ]
  },
  {
   "cell_type": "code",
   "execution_count": 1,
   "metadata": {},
   "outputs": [],
   "source": [
    "# Importing specific functions from the _helper_functions_ module\n",
    "from helper_functions import print_llm_response\n",
    "\n",
    "# Importing specific functions from the _IPython.diplay_ module  \n",
    "from IPython.display import Markdown, display"
   ]
  },
  {
   "cell_type": "markdown",
   "metadata": {},
   "source": [
    "<p style=\"background-color:#F5C780; padding:15px\"> 🤖 <b>Use the Chatbot</b>: <br><br> What are functions? </p>"
   ]
  },
  {
   "cell_type": "markdown",
   "metadata": {},
   "source": [
    "**Response Chatbot** : Functions are a key tool for writing clean, organized, and efficient code in Python.\n",
    "A function in Python  is a reusable block of code designed to perform a specific task. Functions are an essential part of programming because they help organize code, make it more readable, and allow for code reuse, reducing redundancy."
   ]
  },
  {
   "cell_type": "markdown",
   "metadata": {},
   "source": [
    "### Revisiting functions you've already used\n",
    "\n",
    "Here are some of the functions you've encountered so far in these courses.\n",
    "\n",
    "- The `print` function displays data to the screen:"
   ]
  },
  {
   "cell_type": "markdown",
   "metadata": {},
   "source": [
    "<p style=\"background-color:#F5C780; padding:15px\"> 🤖 <b>Use the Chatbot</b>: <br><br> What is the use of the print() function? </p>"
   ]
  },
  {
   "cell_type": "markdown",
   "metadata": {},
   "source": [
    "**Response Chatbot** : The `print() function` is a very flexible and powerful tool for displaying output in Python programs.The print() function in Python is one of the most commonly used built-in functions. Its primary purpose is to output text or data to the console (standard output). It can print strings, numbers, or any other object, and is essential for debugging and displaying information during the execution of a program."
   ]
  },
  {
   "cell_type": "code",
   "execution_count": 2,
   "metadata": {},
   "outputs": [
    {
     "name": "stdout",
     "output_type": "stream",
     "text": [
      "Hello World!\n"
     ]
    }
   ],
   "source": [
    "# Example of printing a Single Object:\n",
    "print(\"Hello World!\")"
   ]
  },
  {
   "cell_type": "markdown",
   "metadata": {},
   "source": [
    "- The `len` function returns the number of items, or elements, in a list:"
   ]
  },
  {
   "cell_type": "markdown",
   "metadata": {},
   "source": [
    "<p style=\"background-color:#F5C780; padding:15px\"> 🤖 <b>Use the Chatbot</b>: <br><br> What is the use of the len() function? </p>"
   ]
  },
  {
   "cell_type": "markdown",
   "metadata": {},
   "source": [
    "**Response Chatbot** : The `len() function` is a versatile function used across various Python data types to measure their size or length, making it a fundamental tool in everyday Python programming.\n",
    "The len() function in Python is a built-in function that returns the number of items in an object. It is widely used to determine the length of various data structures such as strings, lists, tuples, dictionaries, sets, and more.\n",
    "Basic Syntax\n",
    "len(object)\n"
   ]
  },
  {
   "cell_type": "code",
   "execution_count": 3,
   "metadata": {},
   "outputs": [
    {
     "data": {
      "text/plain": [
       "4"
      ]
     },
     "execution_count": 3,
     "metadata": {},
     "output_type": "execute_result"
    }
   ],
   "source": [
    "# Create a list of friends\n",
    "friends_list = [\"Tommy\", \"Isabel\", \"Daniel\", \"Otto\"]\n",
    "\n",
    "# Return the number of friends in the list\n",
    "len(friends_list)"
   ]
  },
  {
   "cell_type": "code",
   "execution_count": 4,
   "metadata": {},
   "outputs": [
    {
     "data": {
      "text/plain": [
       "12"
      ]
     },
     "execution_count": 4,
     "metadata": {},
     "output_type": "execute_result"
    }
   ],
   "source": [
    "#Create a object\n",
    "object = \"Hello World!\"\n",
    "\n",
    "#Return the number of characters of the object\n",
    "len(object)\n"
   ]
  },
  {
   "cell_type": "markdown",
   "metadata": {},
   "source": [
    "- And you've been using a special helper function called `print_llm_response` to pass prompts to an LLM and display the response to screen:"
   ]
  },
  {
   "cell_type": "markdown",
   "metadata": {},
   "source": [
    "<p style=\"background-color:#F5C780; padding:15px\"> 🤖 <b>Use the Chatbot</b>: <br><br> What is the use of the print_llm_response? </p>"
   ]
  },
  {
   "cell_type": "markdown",
   "metadata": {},
   "source": [
    "**Response chatbot**:   `print_llm_response function` is likely a custom function defined within a specific application or library, possibly related to working with large language models (LLMs) like GPT or other similar systems."
   ]
  },
  {
   "cell_type": "code",
   "execution_count": 5,
   "metadata": {},
   "outputs": [
    {
     "name": "stdout",
     "output_type": "stream",
     "text": [
      "The capital of France is Paris.\n"
     ]
    }
   ],
   "source": [
    "# The 'print_llm_response' function is in the helper_functions.py file\n",
    "print_llm_response(\"What is the capital of France\")"
   ]
  },
  {
   "cell_type": "markdown",
   "metadata": {},
   "source": [
    "### Defining your own functions"
   ]
  },
  {
   "cell_type": "markdown",
   "metadata": {},
   "source": [
    "Defining functions can help you avoid typing the same code over and over. \n",
    "\n",
    "- For example, to read in the text from different food journals, you'd need to repeat the following code:"
   ]
  },
  {
   "cell_type": "code",
   "execution_count": 6,
   "metadata": {},
   "outputs": [
    {
     "name": "stdout",
     "output_type": "stream",
     "text": [
      "My first destination was The Test Kitchen, a restaurant that has earned its place among the world's best. Situated in the trendy Woodstock area, this dining spot is celebrated for its innovative dishes. I was particularly taken by their signature dish, the \"Pickled Fish Tacos.\" The tangy, flavorful fish wrapped in a soft taco, paired with a zesty salsa, was a delightful start to my culinary adventure. The industrial-chic ambiance added a modern edge to the dining experience.\n",
      "\n",
      "Next, I made my way to La Colombe, perched on the slopes of Constantia. Known for its refined and artistic approach to cuisine, La Colombe's \"Tuna La Colombe\" is a must-try. This dish features perfectly seared tuna, complemented by a delicate ponzu dressing and bursts of citrus. The presentation was as exquisite as the flavors, making it a memorable highlight of the day.\n",
      "\n",
      "At the bustling V&A Waterfront, I visited Harbour House for some of the freshest seafood in town. The \"Grilled Kingklip\" was a revelation. The succulent, flaky fish, grilled to perfection and served with a side of roasted vegetables, highlighted the ocean's bounty. The stunning views of the harbor added to the meal's appeal.\n",
      "\n",
      "Finally, my journey concluded at The Pot Luck Club, another gem in Woodstock. This trendy spot is known for its small plates, perfect for sharing. The standout dish was the \"Beef Tataki.\" Thinly sliced, seared beef with a tangy soy dressing and a hint of wasabi provided a burst of umami and heat. The eclectic, artistic vibe of the restaurant made for a fitting end to my culinary tour.\n",
      "\n"
     ]
    }
   ],
   "source": [
    "# Read in the Cape Town journal\n",
    "f = open(\"cape_town.txt\", \"r\")\n",
    "journal_cape_town = f.read()\n",
    "f.close()\n",
    "print(journal_cape_town)"
   ]
  },
  {
   "cell_type": "code",
   "execution_count": 7,
   "metadata": {},
   "outputs": [
    {
     "name": "stdout",
     "output_type": "stream",
     "text": [
      "My first stop was the legendary Le Comptoir du Relais in the heart of Saint-Germain-des-PrÃ©s. Known for its bistro classics, I opted for the \"Coq au Vin.\" This traditional dish, featuring chicken braised in red wine with mushrooms and onions, was the epitome of comfort food. The rich, flavorful sauce and tender chicken were perfection on a plate. The cozy, bustling atmosphere of the bistro added to the experience, making it feel authentically Parisian.\n",
      "\n",
      "Next, I ventured to Le Jules Verne, located in the Eiffel Tower. Dining here is as much about the view as it is about the food. I was treated to \"Filet de Boeuf,\" a beautifully cooked beef fillet served with a delicate truffle sauce. The meat was succulent and flavorful, and the elegant presentation was matched only by the breathtaking panorama of Paris below. It was a dining experience that combined culinary excellence with visual splendor.\n",
      "\n",
      "Seeking something sweet, I made my way to Pierre HermÃ©, a patisserie revered for its exquisite pastries. I indulged in a \"Ispahan,\" a delicate macaron filled with rose, lychee, and raspberry. Each bite was a harmonious blend of sweetness and floral notes, showcasing the artistry of French patisserie. The elegant, minimalist setting of the boutique allowed the pastries to shine as the true stars.\n",
      "\n",
      "To cap off my culinary journey, I visited L'Ambroisie in Place des Vosges. This three-Michelin-starred restaurant is the pinnacle of fine dining. I savored the \"Turbot with Artichokes and Truffle,\" a dish that was as luxurious as it sounds. The fish was perfectly cooked, and the combination of flavors was both sophisticated and sublime. Dining at L'Ambroisie was an unforgettable experience, with impeccable service and an ambiance of timeless elegance.\n",
      "\n"
     ]
    }
   ],
   "source": [
    "# Read in the Paris journal\n",
    "f = open(\"paris.txt\", \"r\")\n",
    "journal_paris = f.read()\n",
    "f.close()\n",
    "print(journal_paris)"
   ]
  },
  {
   "cell_type": "markdown",
   "metadata": {},
   "source": [
    "If you need to load multiple files, you'll have to repeat these three lines for each file.\n",
    "\n",
    "- To avoid this, you can instead define a **function** to read in a file and store the contents to a variable:"
   ]
  },
  {
   "cell_type": "code",
   "execution_count": 8,
   "metadata": {},
   "outputs": [],
   "source": [
    "def print_journal(file):    \n",
    "    f = open(file, \"r\")  #Define a function to read and store the contents to a variable\n",
    "    journal = f.read()\n",
    "    f.close()\n",
    "    print(journal)"
   ]
  },
  {
   "cell_type": "markdown",
   "metadata": {},
   "source": [
    "Now that you have created this function, you `can reuse it to read in different files`:"
   ]
  },
  {
   "cell_type": "code",
   "execution_count": 9,
   "metadata": {},
   "outputs": [
    {
     "name": "stdout",
     "output_type": "stream",
     "text": [
      "My culinary adventure began at Saint Peter, a renowned seafood restaurant in Paddington. This place is a temple to Australian seafood, and the \"Murray Cod\" was a revelation. The fish, sourced from the Murray River, was perfectly cooked, with a crispy skin and tender, flaky flesh. It was served with a simple yet flavorful accompaniment of seasonal vegetables, allowing the quality of the fish to shine. The restaurant's dedication to sustainability and nose-to-tail seafood cooking added an educational aspect to the delicious meal.\n",
      "\n",
      "Next, I visited Billy Kwong in Potts Point, where celebrated chef Kylie Kwong puts a unique spin on modern Australian cuisine using native ingredients. The standout dish here was the \"Crispy Skin Duck with Davidsonâ€™s Plum Sauce.\" The duck was cooked to perfection, with a rich, flavorful meat and delightfully crispy skin, complemented by the tart and slightly sweet Davidsonâ€™s plum sauce. This dish was a perfect example of how traditional recipes can be elevated with local, indigenous ingredients, creating something both familiar and new.\n",
      "\n",
      "In search of a true Australian pub experience, I headed to The Lord Nelson Brewery Hotel in The Rocks. This historic pub serves up hearty, classic Australian fare, and the \"Roast Lamb\" was exactly what I was craving. The lamb, roasted to tender perfection, was served with a medley of root vegetables and a rich gravy, making for a comforting and satisfying meal. Paired with one of their house-brewed ales, it was a quintessential Aussie pub experience that I would highly recommend.\n",
      "\n",
      "I couldn't miss out on trying some of the famous Australian barbecue, so I headed to Vic's Meat Market at the Sydney Fish Market. The \"BBQ Beef Brisket\" was a highlight, slow-cooked to achieve a melt-in-the-mouth texture, and served with a tangy barbecue sauce. The smoky, rich flavor of the brisket was enhanced by the vibrant, outdoor setting of the market, where the aroma of grilling meat filled the air.\n",
      "\n",
      "To round off my exploration of local cuisine, I visited Bennelong, located within the iconic Sydney Opera House. This fine dining restaurant celebrates Australian produce in every dish. The \"Sydney Rock Oysters\" were an exquisite start to the meal, served with a delicate vinaigrette that highlighted their briny freshness. The oysters, sourced from local waters, were plump and succulent, offering a pure taste of the sea.\n",
      "\n",
      "\n"
     ]
    }
   ],
   "source": [
    "# Read in the Sydney journal\n",
    "print_journal(\"sydney.txt\")"
   ]
  },
  {
   "cell_type": "code",
   "execution_count": 10,
   "metadata": {},
   "outputs": [
    {
     "name": "stdout",
     "output_type": "stream",
     "text": [
      "My first stop was the legendary Le Comptoir du Relais in the heart of Saint-Germain-des-PrÃ©s. Known for its bistro classics, I opted for the \"Coq au Vin.\" This traditional dish, featuring chicken braised in red wine with mushrooms and onions, was the epitome of comfort food. The rich, flavorful sauce and tender chicken were perfection on a plate. The cozy, bustling atmosphere of the bistro added to the experience, making it feel authentically Parisian.\n",
      "\n",
      "Next, I ventured to Le Jules Verne, located in the Eiffel Tower. Dining here is as much about the view as it is about the food. I was treated to \"Filet de Boeuf,\" a beautifully cooked beef fillet served with a delicate truffle sauce. The meat was succulent and flavorful, and the elegant presentation was matched only by the breathtaking panorama of Paris below. It was a dining experience that combined culinary excellence with visual splendor.\n",
      "\n",
      "Seeking something sweet, I made my way to Pierre HermÃ©, a patisserie revered for its exquisite pastries. I indulged in a \"Ispahan,\" a delicate macaron filled with rose, lychee, and raspberry. Each bite was a harmonious blend of sweetness and floral notes, showcasing the artistry of French patisserie. The elegant, minimalist setting of the boutique allowed the pastries to shine as the true stars.\n",
      "\n",
      "To cap off my culinary journey, I visited L'Ambroisie in Place des Vosges. This three-Michelin-starred restaurant is the pinnacle of fine dining. I savored the \"Turbot with Artichokes and Truffle,\" a dish that was as luxurious as it sounds. The fish was perfectly cooked, and the combination of flavors was both sophisticated and sublime. Dining at L'Ambroisie was an unforgettable experience, with impeccable service and an ambiance of timeless elegance.\n",
      "\n"
     ]
    }
   ],
   "source": [
    "# Read in the Paris journal\n",
    "print_journal(\"paris.txt\")"
   ]
  },
  {
   "cell_type": "markdown",
   "metadata": {},
   "source": [
    "- You can define a function that **returns** a variable, rather than printing to screen:"
   ]
  },
  {
   "cell_type": "code",
   "execution_count": 11,
   "metadata": {},
   "outputs": [],
   "source": [
    "def read_journal(file):\n",
    "    f = open(file, \"r\")\n",
    "    journal = f.read() #Return a variable, rather than printing to screen\n",
    "    f.close()\n",
    "    # print(journal)\n",
    "    return journal "
   ]
  },
  {
   "cell_type": "markdown",
   "metadata": {},
   "source": [
    "- Use the `read_journal` function to store the contents of the Tokyo journal in a variable:"
   ]
  },
  {
   "cell_type": "code",
   "execution_count": 12,
   "metadata": {},
   "outputs": [],
   "source": [
    "journal_tokyo = read_journal(\"tokyo.txt\")"
   ]
  },
  {
   "cell_type": "code",
   "execution_count": 13,
   "metadata": {},
   "outputs": [
    {
     "name": "stdout",
     "output_type": "stream",
     "text": [
      "Tokyo's culinary landscape is nothing short of extraordinary. Each spot offers a unique taste of the city's diverse food culture. Here's a quick guide to some must-try places and dishes.\n",
      "\n",
      "    Sukiyabashi Jiro\n",
      "        Location: Ginza\n",
      "        Dish: Omakase sushi\n",
      "        Highlight: Impeccably crafted sushi made by the legendary Jiro Ono. Each piece is a masterclass in balance and flavor.\n",
      "\n",
      "    Ichiran Ramen\n",
      "        Location: Shibuya\n",
      "        Dish: Tonkotsu ramen\n",
      "        Highlight: A personal ramen booth for focused, uninterrupted enjoyment. Rich, creamy broth with perfectly cooked noodles.\n",
      "\n",
      "    Tsukiji Outer Market\n",
      "        Location: Tsukiji\n",
      "        Dish: Fresh sashimi and street food\n",
      "        Highlight: Vibrant market atmosphere. Indulge in ultra-fresh sashimi, grilled seafood, and other Japanese street food delights.\n",
      "\n",
      "    Narisawa\n",
      "        Location: Minato\n",
      "        Dish: Innovative tasting menu\n",
      "        Highlight: A fusion of French and Japanese techniques. Creative dishes with an emphasis on sustainability and local ingredients.\n",
      "\n",
      "    Ginza Kojyu\n",
      "        Location: Ginza\n",
      "        Dish: Kaiseki (traditional multi-course meal)\n",
      "        Highlight: Exquisite presentation and meticulous preparation. A journey through seasonal Japanese flavors.\n",
      "\n",
      "    Akasaka Kikunoi\n",
      "        Location: Akasaka\n",
      "        Dish: Kaiseki\n",
      "        Highlight: Elegant and serene setting. Seasonal ingredients transformed into artful, delicious courses.\n",
      "\n",
      "\n"
     ]
    }
   ],
   "source": [
    "# Print the Tokyo journal content\n",
    "print(journal_tokyo)"
   ]
  },
  {
   "cell_type": "markdown",
   "metadata": {},
   "source": [
    "- Print out the length of the journal - the value is the number of individual characters in the string variable `journal_tokyo`:"
   ]
  },
  {
   "cell_type": "code",
   "execution_count": 14,
   "metadata": {},
   "outputs": [
    {
     "name": "stdout",
     "output_type": "stream",
     "text": [
      "1430\n"
     ]
    }
   ],
   "source": [
    "print(len(journal_tokyo))"
   ]
  },
  {
   "cell_type": "markdown",
   "metadata": {},
   "source": [
    "### Parameters in functions"
   ]
  },
  {
   "cell_type": "markdown",
   "metadata": {},
   "source": [
    "Previously, you saw how to use Python to carry out calculations that convert degrees Fahrenheit to degrees Celsius:"
   ]
  },
  {
   "cell_type": "code",
   "execution_count": 15,
   "metadata": {},
   "outputs": [
    {
     "name": "stdout",
     "output_type": "stream",
     "text": [
      "72°F is equivalent to 22.22°C\n"
     ]
    }
   ],
   "source": [
    "# Value of temperature in Fahrenheit\n",
    "fahrenheit = 72\n",
    "# Calculation for getting the temperature in Celsius\n",
    "celsius = (fahrenheit - 32) * 5 / 9\n",
    "\n",
    "# Print the results\n",
    "print(f\"{fahrenheit}°F is equivalent to {celsius:.2f}°C\")"
   ]
  },
  {
   "cell_type": "markdown",
   "metadata": {},
   "source": [
    "If you want to convert another temperature, you have to write the code again, replacing the value for the ```fahrenheit``` variable with the new temperature to convert:"
   ]
  },
  {
   "cell_type": "code",
   "execution_count": 16,
   "metadata": {},
   "outputs": [
    {
     "name": "stdout",
     "output_type": "stream",
     "text": [
      "68°F is equivalent to 20.00°C\n"
     ]
    }
   ],
   "source": [
    "# Value of temperature in Fahrenheit\n",
    "fahrenheit = 68\n",
    "# Calculation for getting the temperature in Celsius\n",
    "celsius = (fahrenheit - 32) * 5 / 9\n",
    "\n",
    "# Print the results\n",
    "print(f\"{fahrenheit}°F is equivalent to {celsius:.2f}°C\")"
   ]
  },
  {
   "cell_type": "markdown",
   "metadata": {},
   "source": [
    "You can do this as many times as you need"
   ]
  },
  {
   "cell_type": "code",
   "execution_count": 17,
   "metadata": {},
   "outputs": [
    {
     "name": "stdout",
     "output_type": "stream",
     "text": [
      "76°F is equivalent to 24.44°C\n"
     ]
    }
   ],
   "source": [
    "# Value of temperature in Fahrenheit\n",
    "fahrenheit = 76\n",
    "# Calculation for getting the temperature in Celsius\n",
    "celsius = (fahrenheit - 32) * 5 / 9\n",
    "\n",
    "# Print the results\n",
    "print(f\"{fahrenheit}°F is equivalent to {celsius:.2f}°C\")"
   ]
  },
  {
   "cell_type": "markdown",
   "metadata": {},
   "source": [
    "Again, this is a lot of typing! You can avoid this by writing a function for converting Fahrenheit to Celsius. Here is the code:"
   ]
  },
  {
   "cell_type": "code",
   "execution_count": 18,
   "metadata": {},
   "outputs": [],
   "source": [
    "def fahrenheit_to_celsius(fahrenheit):\n",
    "     # Formula to get celsius from fahrenheit\n",
    "    celsius = (fahrenheit - 32) * 5 / 9\n",
    "    # Print the results\n",
    "    print(f\"{fahrenheit}°F is equivalent to {celsius:.2f}°C\")"
   ]
  },
  {
   "cell_type": "markdown",
   "metadata": {},
   "source": [
    "Now, instead of changing the value of the ```fahrenheit``` variable directly each time, you'll pass the desired value to the function as a ***parameter***. A parameter is a variable that is used in functions to pass in information to the function - in this case the temperature in Fahrenheit that you want to covert to Celsius."
   ]
  },
  {
   "cell_type": "markdown",
   "metadata": {},
   "source": [
    "Let's use the ```fahrenheit_to_celsius``` function and pass in a temperature as the input parameter!"
   ]
  },
  {
   "cell_type": "code",
   "execution_count": 19,
   "metadata": {},
   "outputs": [
    {
     "name": "stdout",
     "output_type": "stream",
     "text": [
      "71°F is equivalent to 21.67°C\n"
     ]
    }
   ],
   "source": [
    "fahrenheit_to_celsius(71)"
   ]
  },
  {
   "cell_type": "code",
   "execution_count": 20,
   "metadata": {},
   "outputs": [
    {
     "name": "stdout",
     "output_type": "stream",
     "text": [
      "70°F is equivalent to 21.11°C\n"
     ]
    }
   ],
   "source": [
    "fahrenheit_to_celsius(70)"
   ]
  },
  {
   "cell_type": "code",
   "execution_count": 21,
   "metadata": {},
   "outputs": [
    {
     "name": "stdout",
     "output_type": "stream",
     "text": [
      "212°F is equivalent to 100.00°C\n"
     ]
    }
   ],
   "source": [
    "fahrenheit_to_celsius(212)"
   ]
  },
  {
   "cell_type": "markdown",
   "metadata": {},
   "source": [
    "### Returning values"
   ]
  },
  {
   "cell_type": "markdown",
   "metadata": {},
   "source": [
    "To be able to save the result from the temperature conversion function, you need to include a ```return``` statement.\n",
    "\n",
    "Here is a modification of the `fahrenheit_to_celsius` function that returns the converted temperature as a variable:"
   ]
  },
  {
   "cell_type": "code",
   "execution_count": 22,
   "metadata": {},
   "outputs": [],
   "source": [
    "def fahrenheit_to_celsius(fahrenheit):\n",
    "    celsius = (fahrenheit - 32) * 5 / 9\n",
    "    # print(f\"{fahrenheit}°F is equivalent to {celsius:.2f}°C\")\n",
    "    \n",
    "    # Return the calculated value (not to print it, as before)\n",
    "    return celsius"
   ]
  },
  {
   "cell_type": "markdown",
   "metadata": {},
   "source": [
    "So when you run this function, the result is stored in a variable:"
   ]
  },
  {
   "cell_type": "code",
   "execution_count": 23,
   "metadata": {},
   "outputs": [],
   "source": [
    "# The value of temperature in Fahrenheit is 45\n",
    "fahrenheit = 45\n",
    "celsius = fahrenheit_to_celsius(fahrenheit)"
   ]
  },
  {
   "cell_type": "markdown",
   "metadata": {},
   "source": [
    "You can now print the result:"
   ]
  },
  {
   "cell_type": "code",
   "execution_count": 24,
   "metadata": {},
   "outputs": [
    {
     "name": "stdout",
     "output_type": "stream",
     "text": [
      "7.222222222222222\n"
     ]
    }
   ],
   "source": [
    "print(celsius)"
   ]
  },
  {
   "cell_type": "markdown",
   "metadata": {},
   "source": [
    "Note that this function returns a number, in this case a `float`:"
   ]
  },
  {
   "cell_type": "code",
   "execution_count": 25,
   "metadata": {},
   "outputs": [
    {
     "data": {
      "text/plain": [
       "float"
      ]
     },
     "execution_count": 25,
     "metadata": {},
     "output_type": "execute_result"
    }
   ],
   "source": [
    "type(celsius)"
   ]
  },
  {
   "cell_type": "markdown",
   "metadata": {},
   "source": [
    "## Conclusion\n",
    "In this notebook, we demonstrated how to create and use reusable functions in Python. By defining functions, we can avoid repetitive code, make our code more organized, and improve efficiency. We also practiced converting temperatures and lengths using functions and created a function to summarize text using an LLM. This approach helps in writing clean, maintainable, and efficient code."
   ]
  },
  {
   "cell_type": "markdown",
   "metadata": {},
   "source": [
    "## Extra practice\n",
    "\n",
    "Try the exercises below to practice what you have learned in this lesson!\n",
    "\n",
    "### Exercise 1\n",
    "\n",
    "Complete the code below to create a function that converts Celsius to Fahrenheit and displays the result to the screen.\n",
    "\n",
    "**Hint:** Use the code from Fahrenheit to Celsius to help you!\n"
   ]
  },
  {
   "cell_type": "code",
   "execution_count": null,
   "metadata": {},
   "outputs": [],
   "source": [
    "\n",
    "def celsius_to_fahrenheit():\n",
    "    # WRITE YOUR CODE HERE\n",
    "\n",
    "celsius_to_fahrenheit(0)   # Should print 32\n",
    "celsius_to_fahrenheit(100) # Should print 212\n",
    "celsius_to_fahrenheit(13)  # Should print 55.4"
   ]
  },
  {
   "cell_type": "markdown",
   "metadata": {},
   "source": [
    "<p style=\"background-color:#F5C780; padding:15px\"> 🤖 <b>Use the Chatbot</b>: <br><br> What is the formula to convert Celsius to Fahrenheit ? </p>"
   ]
  },
  {
   "cell_type": "markdown",
   "metadata": {},
   "source": [
    "**Response Chatbot**: The formula to convert Celsius to Fahrenheit is:  \n",
    "𝐹 = 32 + (9/5 * C)  \n",
    "Where:  \n",
    "F is the temperature in Fahrenheit.  \n",
    "C is the temperature in Celsius.  "
   ]
  },
  {
   "cell_type": "code",
   "execution_count": 27,
   "metadata": {},
   "outputs": [],
   "source": [
    "def celsius_to_fahrenheit(celsius):\n",
    "    #Formula to get the conversion of Celsius into Faherenheit\n",
    "    fahrenheit = ((9/5) * celsius) + 32\n",
    " # Print the results\n",
    "    print(f\"{celsius}°C is equivalent to {fahrenheit:.1f}°F\")\n"
   ]
  },
  {
   "cell_type": "markdown",
   "metadata": {},
   "source": [
    "Let's verify now the function with the given values of celsius"
   ]
  },
  {
   "cell_type": "code",
   "execution_count": 28,
   "metadata": {},
   "outputs": [
    {
     "name": "stdout",
     "output_type": "stream",
     "text": [
      "0°C is equivalent to 32.0°F\n"
     ]
    }
   ],
   "source": [
    "celsius_to_fahrenheit(0)   # Should print 32"
   ]
  },
  {
   "cell_type": "code",
   "execution_count": 29,
   "metadata": {},
   "outputs": [
    {
     "name": "stdout",
     "output_type": "stream",
     "text": [
      "100°C is equivalent to 212.0°F\n"
     ]
    }
   ],
   "source": [
    "celsius_to_fahrenheit(100) # Should print 212"
   ]
  },
  {
   "cell_type": "code",
   "execution_count": 30,
   "metadata": {},
   "outputs": [
    {
     "name": "stdout",
     "output_type": "stream",
     "text": [
      "13°C is equivalent to 55.4°F\n"
     ]
    }
   ],
   "source": [
    "celsius_to_fahrenheit(13)  # Should print 55.4"
   ]
  },
  {
   "cell_type": "markdown",
   "metadata": {},
   "source": [
    "### Exercise 2\n",
    "\n",
    "Write a function below that converts a length in **meters** to a length in **feet**, then returns the result."
   ]
  },
  {
   "cell_type": "markdown",
   "metadata": {},
   "source": [
    "<p style=\"background-color:#F5C780; padding:15px\"> 🤖 <b>Use the Chatbot</b>: <br><br> Write a function below that converts a length in meters to a length in feet, then returns the result? </p>"
   ]
  },
  {
   "cell_type": "markdown",
   "metadata": {},
   "source": [
    "**Response Chatbot** : The formula to convert meters to feet is:  \n",
    "feet = meters * 3.28084  \n",
    "To sum up 1 meter is equal approximately 3.28084 feet   \n",
    "meters = feed / 3.28084"
   ]
  },
  {
   "cell_type": "markdown",
   "metadata": {},
   "source": [
    "Let's modify the above function in order to convert meters in feed "
   ]
  },
  {
   "cell_type": "code",
   "execution_count": 32,
   "metadata": {},
   "outputs": [],
   "source": [
    "def meters_to_feet(meters):\n",
    "    # Formula to get the conversion of meters to feed \n",
    "    feet = meters * 3.28084\n",
    "    #Print the result\n",
    "    print(f\"{meters} m is equivalent to {feet} ft\")"
   ]
  },
  {
   "cell_type": "markdown",
   "metadata": {},
   "source": [
    "Let's verify the function using the given values "
   ]
  },
  {
   "cell_type": "code",
   "execution_count": 33,
   "metadata": {},
   "outputs": [
    {
     "name": "stdout",
     "output_type": "stream",
     "text": [
      "10 m is equivalent to 32.8084 ft\n",
      "None\n"
     ]
    }
   ],
   "source": [
    "print(meters_to_feet(10)) # Should print 32.8084"
   ]
  },
  {
   "cell_type": "code",
   "execution_count": 34,
   "metadata": {},
   "outputs": [
    {
     "name": "stdout",
     "output_type": "stream",
     "text": [
      "0.7 m is equivalent to 2.296588 ft\n",
      "None\n"
     ]
    }
   ],
   "source": [
    "print(meters_to_feet(0.7)) # Should print 2.29659"
   ]
  },
  {
   "cell_type": "markdown",
   "metadata": {},
   "source": [
    "### Challenge exercise!\n",
    "\n",
    "Write a function that takes in a **filename** as a parameter, uses an LLM to create a three bullet point summary, and returns the bullets as a string."
   ]
  },
  {
   "cell_type": "code",
   "execution_count": null,
   "metadata": {},
   "outputs": [],
   "source": [
    "\n",
    "\n",
    "def create_bullet_points(file):\n",
    "    # Complete code below to read in the file and store the contents as a string\n",
    "    f = open(file, \"r\")\n",
    "    file_contents = \n",
    "\n",
    "    # Write a prompt and pass to an LLM\n",
    "    prompt = f\"\"\"YOUR PROMPT HERE\n",
    "    \"\"\"\n",
    "    bullets = print_llm_response() # Don't forget to add your prompt!\n",
    "\n",
    "    # Return the bullet points\n",
    "    return bullets\n",
    "\n",
    "# This line of code runs your function for istanbul.txt\n",
    "create_bullet_points(\"istanbul.txt\")"
   ]
  },
  {
   "cell_type": "markdown",
   "metadata": {},
   "source": [
    "Let's split the exercise into different steps:      \n",
    "- STEP1:Define a **filename** as a parameter  \n",
    "- STEP2:Use of an LLM to create a three bullet point summary,  \n",
    "- STEP3:Return the bullets as a string.  "
   ]
  },
  {
   "cell_type": "markdown",
   "metadata": {},
   "source": [
    "- STEP1 file = paris.txt "
   ]
  },
  {
   "cell_type": "code",
   "execution_count": 18,
   "metadata": {},
   "outputs": [],
   "source": [
    "#from helper_functions import print_llm_response"
   ]
  },
  {
   "cell_type": "code",
   "execution_count": 35,
   "metadata": {},
   "outputs": [
    {
     "name": "stdout",
     "output_type": "stream",
     "text": [
      "Summarize the content into three key bullet points from the following text \n",
      "    \n",
      "    Text:\n",
      "       My first stop was the legendary Le Comptoir du Relais in the heart of Saint-Germain-des-PrÃ©s. Known for its bistro classics, I opted for the \"Coq au Vin.\" This traditional dish, featuring chicken braised in red wine with mushrooms and onions, was the epitome of comfort food. The rich, flavorful sauce and tender chicken were perfection on a plate. The cozy, bustling atmosphere of the bistro added to the experience, making it feel authentically Parisian.\n",
      "\n",
      "Next, I ventured to Le Jules Verne, located in the Eiffel Tower. Dining here is as much about the view as it is about the food. I was treated to \"Filet de Boeuf,\" a beautifully cooked beef fillet served with a delicate truffle sauce. The meat was succulent and flavorful, and the elegant presentation was matched only by the breathtaking panorama of Paris below. It was a dining experience that combined culinary excellence with visual splendor.\n",
      "\n",
      "Seeking something sweet, I made my way to Pierre HermÃ©, a patisserie revered for its exquisite pastries. I indulged in a \"Ispahan,\" a delicate macaron filled with rose, lychee, and raspberry. Each bite was a harmonious blend of sweetness and floral notes, showcasing the artistry of French patisserie. The elegant, minimalist setting of the boutique allowed the pastries to shine as the true stars.\n",
      "\n",
      "To cap off my culinary journey, I visited L'Ambroisie in Place des Vosges. This three-Michelin-starred restaurant is the pinnacle of fine dining. I savored the \"Turbot with Artichokes and Truffle,\" a dish that was as luxurious as it sounds. The fish was perfectly cooked, and the combination of flavors was both sophisticated and sublime. Dining at L'Ambroisie was an unforgettable experience, with impeccable service and an ambiance of timeless elegance.\n",
      " \n",
      "- **Le Comptoir du Relais**: Enjoyed traditional \"Coq au Vin\" in a cozy, bustling Parisian bistro, highlighting comfort food with rich flavors.\n",
      "- **Le Jules Verne**: Dined on \"Filet de Boeuf\" in the Eiffel Tower, combining exquisite food with stunning views of Paris.\n",
      "- **Pierre Hermé and L'Ambroisie**: Indulged in the delicate \"Ispahan\" macaron and experienced fine dining at L'Ambroisie with \"Turbot with Artichokes and Truffle,\" showcasing culinary excellence and elegance.\n"
     ]
    }
   ],
   "source": [
    "def create_bullet_points(file):\n",
    "    # Complete code below to read in the file and store the contents as a string\n",
    "    f = open(\"paris.txt\", \"r\")\n",
    "    file_contents = f.read()\n",
    "\n",
    "    # Write a prompt and pass to an LLM\n",
    "    prompt = f\"\"\"Summarize the content into three key bullet points from the following text \n",
    "    \n",
    "    Text:\n",
    "       {file_contents} \"\"\"\n",
    "    \n",
    "    #Print the prompt \n",
    "    print(prompt)\n",
    "\n",
    "    #Print out the response from the LLM\n",
    "    bullets = print_llm_response(prompt) # Don't forget to add your prompt!\n",
    "    \n",
    "    # Return the bullet points\n",
    "    return bullets\n",
    "\n",
    "\n",
    "# This line of code runs your function for istanbul.txt\n",
    "create_bullet_points(\"paris.txt\")"
   ]
  },
  {
   "cell_type": "markdown",
   "metadata": {},
   "source": [
    "- STEP1 file = istanbul.txt "
   ]
  },
  {
   "cell_type": "code",
   "execution_count": 36,
   "metadata": {},
   "outputs": [
    {
     "name": "stdout",
     "output_type": "stream",
     "text": [
      "Summarize the content into three key bullet points from the following text \n",
      "    \n",
      "    Text:\n",
      "       My journey began in the heart of KadÄ±kÃ¶y at Ã‡iya SofrasÄ±. This gem is a haven for those seeking authentic Anatolian flavors. I dove straight into the \"Kuzu Tandir,\" a lamb dish that was a revelation. Slow-cooked until impossibly tender, the meat was infused with a blend of spices that transported me to another time. The restaurant, with its unpretentious charm and bustling energy, felt like a warm embrace from Istanbul itself.\n",
      "\n",
      "Next, I crossed the Galata Bridge to KarakÃ¶y LokantasÄ±, a restaurant that masterfully blends tradition with a modern twist. The \"Midye Dolma,\" or stuffed mussels, was a symphony of flavors. Plump mussels stuffed with a fragrant mix of rice, pine nuts, and currants, each bite was a delightful surprise. The sleek, turquoise-tiled interior was as pleasing to the eye as the food was to the palate.\n",
      "\n",
      "For a taste of the imperial, I made my way to Asitane in EdirnekapÄ±. This restaurant specializes in Ottoman cuisine, and the \"Mutancana\" was a standout. This historic dish, featuring tender lamb cooked with prunes, apricots, and almonds, offered a sweet and savory experience that was both unique and deeply satisfying. Dining here felt like a journey through time, surrounded by the echoes of the past.\n",
      "\n",
      "Finally, I ended my day at Mikla, perched atop the Marmara Pera Hotel. This modern restaurant offers panoramic views of the city, and its cuisine is a blend of Scandinavian and Turkish influences. The \"Lamb Rump\" dish, cooked to perfection and served with a medley of local vegetables, was a fitting finale to my culinary adventure. The view of Istanbul's skyline at sunset was a breathtaking backdrop to a memorable meal.\n",
      "\n",
      " \n",
      "- **Authentic Anatolian Flavors**: The journey began at Çiya Sofrası in Kadıköy, featuring the tender \"Kuzu Tandir\" lamb dish, showcasing traditional spices and a warm atmosphere.  \n",
      "- **Modern Culinary Twists**: At Karaköy Lokantası, the \"Midye Dolma\" stuffed mussels combined traditional ingredients with a contemporary presentation, enhancing the dining experience.  \n",
      "- **Historical and Scenic Dining**: Asitane offered Ottoman cuisine with the \"Mutancana\" dish, while Mikla provided a modern blend of Turkish and Scandinavian flavors, complemented by stunning views of Istanbul.  \n"
     ]
    }
   ],
   "source": [
    "def create_bullet_points(file):\n",
    "    # Complete code below to read in the file and store the contents as a string\n",
    "    f = open(\"istanbul.txt\", \"r\")\n",
    "    file_contents = f.read()\n",
    "\n",
    "    # Write a prompt and pass to an LLM\n",
    "    prompt = f\"\"\"Summarize the content into three key bullet points from the following text \n",
    "    \n",
    "    Text:\n",
    "       {file_contents} \"\"\"\n",
    "    \n",
    "    #Print the prompt \n",
    "    print(prompt)\n",
    "\n",
    "    #Print out the response from the LLM\n",
    "    bullets = print_llm_response(prompt) # Don't forget to add your prompt!\n",
    "    \n",
    "    # Return the bullet points\n",
    "    return bullets\n",
    "\n",
    "\n",
    "# This line of code runs your function for istanbul.txt\n",
    "create_bullet_points(\"istanbul.txt\")"
   ]
  }
 ],
 "metadata": {
  "kernelspec": {
   "display_name": ".venv",
   "language": "python",
   "name": "python3"
  },
  "language_info": {
   "codemirror_mode": {
    "name": "ipython",
    "version": 3
   },
   "file_extension": ".py",
   "mimetype": "text/x-python",
   "name": "python",
   "nbconvert_exporter": "python",
   "pygments_lexer": "ipython3",
   "version": "3.12.2"
  }
 },
 "nbformat": 4,
 "nbformat_minor": 2
}
