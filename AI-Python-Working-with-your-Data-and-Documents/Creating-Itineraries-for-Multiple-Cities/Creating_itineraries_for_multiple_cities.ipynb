{
 "cells": [
  {
   "cell_type": "markdown",
   "metadata": {},
   "source": [
    "# Creating itineraries for multiple cities 🗺️ "
   ]
  },
  {
   "cell_type": "markdown",
   "metadata": {},
   "source": [
    "## Introduction\n",
    "In this notebook, we will `explore how to create detailed travel itineraries for multiple cities using Python`. By leveraging CSV data for travel plans and AI-generated responses for restaurant recommendations and activities, we will efficiently plan a comprehensive vacation itinerary. This approach demonstrates the power of combining data manipulation with AI to optimize and streamline travel planning."
   ]
  },
  {
   "cell_type": "markdown",
   "metadata": {},
   "source": [
    "### Importing required functions \n",
    "\n",
    "- Importing specific functions from the _helper_functions_ module:  \n",
    "  - The _print_llm_response_ function is likely used to print responses from a language learning model.  \n",
    "  - The _get_llm_response_ function is likely used to get responses from a language learning model.\n",
    "  - The _display_table_ function is used to display data in a table format.\n",
    "\n",
    "- Importing specific functions from the _IPython.diplay_ module:  \n",
    "  -  _Markdown_  class from IPython.display is to render and display text as Markdown in Jupyter notebooks.\n",
    "\n",
    "- Importing the Comma-Separated Values (CSV) module to provide functionality to both read from and write to  \n",
    "  CSV files.\n",
    "\n",
    "- Importing the pandas library and aliasing it as 'pd' for efficient data manipulation and analysis."
   ]
  },
  {
   "cell_type": "code",
   "execution_count": 1,
   "metadata": {},
   "outputs": [],
   "source": [
    "# Importing specific functions from the _helper_functions_ module\n",
    "from helper_functions import print_llm_response, get_llm_response, display_table\n",
    "\n",
    "# Importing specific functions from the _IPython.diplay_ module \n",
    "from IPython.display import Markdown\n",
    "\n",
    "# Importing csv module\n",
    "import csv\n",
    "\n",
    "# Importing pandas \n",
    "import pandas as pd"
   ]
  },
  {
   "cell_type": "markdown",
   "metadata": {},
   "source": [
    "### Reading travel itineraries from a CSV file"
   ]
  },
  {
   "cell_type": "markdown",
   "metadata": {},
   "source": [
    "##### Define a new function that reads data stored in a CSV file and returns it as a dictionary variable:"
   ]
  },
  {
   "cell_type": "code",
   "execution_count": 2,
   "metadata": {},
   "outputs": [],
   "source": [
    "# Define a  function that reads data stored in a CSV file and returns it as a dictionary variable\n",
    "def read_csv(file):\n",
    "    f = open(file, \"r\")\n",
    "    \n",
    "    csv_reader = csv.DictReader(f)\n",
    "    data = []\n",
    "    for row in csv_reader:\n",
    "        data.append(row)\n",
    "    f.close()\n",
    "    \n",
    "    return data"
   ]
  },
  {
   "cell_type": "markdown",
   "metadata": {},
   "source": [
    "##### Load and Display Itineraries"
   ]
  },
  {
   "cell_type": "markdown",
   "metadata": {},
   "source": [
    "Next, load itineraries from `itinerary.csv` using the function you just defined (notice how much less code this is!) and then display the table of itineraries:"
   ]
  },
  {
   "cell_type": "code",
   "execution_count": 3,
   "metadata": {},
   "outputs": [
    {
     "data": {
      "text/html": [
       "<table border=\"1\" class=\"dataframe\">\n",
       "  <thead>\n",
       "    <tr style=\"text-align: right;\">\n",
       "      <th>Arrival</th>\n",
       "      <th>Departure</th>\n",
       "      <th>City</th>\n",
       "      <th>Country</th>\n",
       "    </tr>\n",
       "  </thead>\n",
       "  <tbody>\n",
       "    <tr>\n",
       "      <td>July-01</td>\n",
       "      <td>July-08</td>\n",
       "      <td>New York</td>\n",
       "      <td>USA</td>\n",
       "    </tr>\n",
       "    <tr>\n",
       "      <td>July-09</td>\n",
       "      <td>July-16</td>\n",
       "      <td>Rio de Janeiro</td>\n",
       "      <td>Brazil</td>\n",
       "    </tr>\n",
       "    <tr>\n",
       "      <td>July-17</td>\n",
       "      <td>July-24</td>\n",
       "      <td>Cape Town</td>\n",
       "      <td>South Africa</td>\n",
       "    </tr>\n",
       "    <tr>\n",
       "      <td>July-25</td>\n",
       "      <td>August-01</td>\n",
       "      <td>Istanbul</td>\n",
       "      <td>Turkey</td>\n",
       "    </tr>\n",
       "    <tr>\n",
       "      <td>August-02</td>\n",
       "      <td>August-09</td>\n",
       "      <td>Paris</td>\n",
       "      <td>France</td>\n",
       "    </tr>\n",
       "    <tr>\n",
       "      <td>August-10</td>\n",
       "      <td>August-17</td>\n",
       "      <td>Tokyo</td>\n",
       "      <td>Japan</td>\n",
       "    </tr>\n",
       "    <tr>\n",
       "      <td>August-18</td>\n",
       "      <td>August-25</td>\n",
       "      <td>Sydney</td>\n",
       "      <td>Australia</td>\n",
       "    </tr>\n",
       "  </tbody>\n",
       "</table>"
      ],
      "text/plain": [
       "<IPython.core.display.HTML object>"
      ]
     },
     "metadata": {},
     "output_type": "display_data"
    }
   ],
   "source": [
    "# Read the itinerary.csv file\n",
    "itinerary = read_csv(\"itinerary.csv\")\n",
    "\n",
    "# Display the itinerary\n",
    "display_table(itinerary)"
   ]
  },
  {
   "cell_type": "markdown",
   "metadata": {},
   "source": [
    "##### Read and Display a Food Journal Entry"
   ]
  },
  {
   "cell_type": "markdown",
   "metadata": {},
   "source": [
    "- Now create a new function called `read_journal` that reads in the contents of a plain text file with '.txt' extension and stores it into a string variable:"
   ]
  },
  {
   "cell_type": "code",
   "execution_count": 4,
   "metadata": {},
   "outputs": [],
   "source": [
    "# The function called 'read_journal'\n",
    "def read_journal(journal_file):\n",
    "    f = open(journal_file, \"r\")\n",
    "    journal = f.read() \n",
    "    f.close()\n",
    "\n",
    "    # Return the journal content\n",
    "    return journal"
   ]
  },
  {
   "cell_type": "markdown",
   "metadata": {},
   "source": [
    "- You can now use the `read_journal` function to read in a food journal file - let's start with Sydney:"
   ]
  },
  {
   "cell_type": "code",
   "execution_count": 6,
   "metadata": {},
   "outputs": [
    {
     "data": {
      "text/markdown": [
       "My culinary adventure began at Saint Peter, a renowned seafood restaurant in Paddington. This place is a temple to Australian seafood, and the \"Murray Cod\" was a revelation. The fish, sourced from the Murray River, was perfectly cooked, with a crispy skin and tender, flaky flesh. It was served with a simple yet flavorful accompaniment of seasonal vegetables, allowing the quality of the fish to shine. The restaurant's dedication to sustainability and nose-to-tail seafood cooking added an educational aspect to the delicious meal.\n",
       "\n",
       "Next, I visited Billy Kwong in Potts Point, where celebrated chef Kylie Kwong puts a unique spin on modern Australian cuisine using native ingredients. The standout dish here was the \"Crispy Skin Duck with Davidsonâ€™s Plum Sauce.\" The duck was cooked to perfection, with a rich, flavorful meat and delightfully crispy skin, complemented by the tart and slightly sweet Davidsonâ€™s plum sauce. This dish was a perfect example of how traditional recipes can be elevated with local, indigenous ingredients, creating something both familiar and new.\n",
       "\n",
       "In search of a true Australian pub experience, I headed to The Lord Nelson Brewery Hotel in The Rocks. This historic pub serves up hearty, classic Australian fare, and the \"Roast Lamb\" was exactly what I was craving. The lamb, roasted to tender perfection, was served with a medley of root vegetables and a rich gravy, making for a comforting and satisfying meal. Paired with one of their house-brewed ales, it was a quintessential Aussie pub experience that I would highly recommend.\n",
       "\n",
       "I couldn't miss out on trying some of the famous Australian barbecue, so I headed to Vic's Meat Market at the Sydney Fish Market. The \"BBQ Beef Brisket\" was a highlight, slow-cooked to achieve a melt-in-the-mouth texture, and served with a tangy barbecue sauce. The smoky, rich flavor of the brisket was enhanced by the vibrant, outdoor setting of the market, where the aroma of grilling meat filled the air.\n",
       "\n",
       "To round off my exploration of local cuisine, I visited Bennelong, located within the iconic Sydney Opera House. This fine dining restaurant celebrates Australian produce in every dish. The \"Sydney Rock Oysters\" were an exquisite start to the meal, served with a delicate vinaigrette that highlighted their briny freshness. The oysters, sourced from local waters, were plump and succulent, offering a pure taste of the sea.\n",
       "\n"
      ],
      "text/plain": [
       "<IPython.core.display.Markdown object>"
      ]
     },
     "metadata": {},
     "output_type": "display_data"
    }
   ],
   "source": [
    "# Read the Sydney journal\n",
    "journal = read_journal(\"sydney.txt\")\n",
    "\n",
    "# Print the journal content\n",
    "# print(journal)\n",
    "\n",
    "# Display the journal in Markdown format\n",
    "display(Markdown(journal))"
   ]
  },
  {
   "cell_type": "markdown",
   "metadata": {},
   "source": [
    "##### Extracting Restaurant Information"
   ]
  },
  {
   "cell_type": "markdown",
   "metadata": {},
   "source": [
    "Write a Prompt to Extract Restaurant Information"
   ]
  },
  {
   "cell_type": "markdown",
   "metadata": {},
   "source": [
    "- Write a prompt that extracts restaurant and specialty dish information from the journal text and stores it in CSV format:"
   ]
  },
  {
   "cell_type": "code",
   "execution_count": 7,
   "metadata": {},
   "outputs": [
    {
     "name": "stdout",
     "output_type": "stream",
     "text": [
      "Restaurant,Specialty\n",
      "Saint Peter,Murray Cod\n",
      "Billy Kwong,Crispy Skin Duck with Davidson’s Plum Sauce\n",
      "The Lord Nelson Brewery Hotel,Roast Lamb\n",
      "Vic's Meat Market,BBQ Beef Brisket\n",
      "Bennelong,Sydney Rock Oysters\n"
     ]
    }
   ],
   "source": [
    "# Write the prompt\n",
    "prompt = f\"\"\"Please extract a comprehensive list of the restaurants \n",
    "and their respective specialties mentioned in the following journal entry. \n",
    "Ensure that each restaurant name is accurately identified and listed. \n",
    "Provide your answer in CSV format, ready to save. \n",
    "Exclude the \"```csv\" declaration, don't add spaces after the comma, include column headers.\n",
    "\n",
    "Format:\n",
    "Restaurant, Specialty\n",
    "Res_1, Sp_1\n",
    "...\n",
    "\n",
    "Journal entry:\n",
    "{journal}\n",
    "\"\"\"\n",
    "\n",
    "# Print the prompt\n",
    "print_llm_response(prompt)"
   ]
  },
  {
   "cell_type": "markdown",
   "metadata": {},
   "source": [
    "Read and Display Restaurant Information from CSV"
   ]
  },
  {
   "cell_type": "code",
   "execution_count": 8,
   "metadata": {},
   "outputs": [
    {
     "data": {
      "text/html": [
       "<table border=\"1\" class=\"dataframe\">\n",
       "  <thead>\n",
       "    <tr style=\"text-align: right;\">\n",
       "      <th>Restaurant</th>\n",
       "      <th>Specialty</th>\n",
       "    </tr>\n",
       "  </thead>\n",
       "  <tbody>\n",
       "    <tr>\n",
       "      <td>Saint Peter</td>\n",
       "      <td>Murray Cod</td>\n",
       "    </tr>\n",
       "    <tr>\n",
       "      <td>Billy Kwong</td>\n",
       "      <td>Crispy Skin Duck with Davidsonâ€™s Plum Sauce</td>\n",
       "    </tr>\n",
       "    <tr>\n",
       "      <td>The Lord Nelson Brewery Hotel</td>\n",
       "      <td>Roast Lamb</td>\n",
       "    </tr>\n",
       "    <tr>\n",
       "      <td>Carriageworks Farmers Market</td>\n",
       "      <td>Kangaroo Pie</td>\n",
       "    </tr>\n",
       "    <tr>\n",
       "      <td>Vic's Meat Market</td>\n",
       "      <td>BBQ Beef Brisket</td>\n",
       "    </tr>\n",
       "    <tr>\n",
       "      <td>Bennelong</td>\n",
       "      <td>Sydney Rock Oysters</td>\n",
       "    </tr>\n",
       "  </tbody>\n",
       "</table>"
      ],
      "text/plain": [
       "<IPython.core.display.HTML object>"
      ]
     },
     "metadata": {},
     "output_type": "display_data"
    }
   ],
   "source": [
    "# Use the read_csv function\n",
    "sydney_restaurants = read_csv(\"Sydney.csv\")\n",
    "\n",
    "display_table(sydney_restaurants)"
   ]
  },
  {
   "cell_type": "markdown",
   "metadata": {},
   "source": [
    "### Creating Detailed Itineraries with Restaurant Suggestions"
   ]
  },
  {
   "cell_type": "markdown",
   "metadata": {},
   "source": [
    "- Select Sydney's Data from the Itinerary"
   ]
  },
  {
   "cell_type": "markdown",
   "metadata": {},
   "source": [
    "In this section, you'll combine the data in the journal and the itinerary to create a detailed plan for your visit to Sydney. To access Sydney's data in the ```itinerary``` list, you have to use index '6' since Sydney is the seventh trip destination."
   ]
  },
  {
   "cell_type": "markdown",
   "metadata": {},
   "source": [
    "- Let's have a quick inside in the itinery list to confirm that Sydney has index 6 "
   ]
  },
  {
   "cell_type": "code",
   "execution_count": 9,
   "metadata": {},
   "outputs": [
    {
     "data": {
      "text/html": [
       "<table border=\"1\" class=\"dataframe\">\n",
       "  <thead>\n",
       "    <tr style=\"text-align: right;\">\n",
       "      <th>Arrival</th>\n",
       "      <th>Departure</th>\n",
       "      <th>City</th>\n",
       "      <th>Country</th>\n",
       "    </tr>\n",
       "  </thead>\n",
       "  <tbody>\n",
       "    <tr>\n",
       "      <td>July-01</td>\n",
       "      <td>July-08</td>\n",
       "      <td>New York</td>\n",
       "      <td>USA</td>\n",
       "    </tr>\n",
       "    <tr>\n",
       "      <td>July-09</td>\n",
       "      <td>July-16</td>\n",
       "      <td>Rio de Janeiro</td>\n",
       "      <td>Brazil</td>\n",
       "    </tr>\n",
       "    <tr>\n",
       "      <td>July-17</td>\n",
       "      <td>July-24</td>\n",
       "      <td>Cape Town</td>\n",
       "      <td>South Africa</td>\n",
       "    </tr>\n",
       "    <tr>\n",
       "      <td>July-25</td>\n",
       "      <td>August-01</td>\n",
       "      <td>Istanbul</td>\n",
       "      <td>Turkey</td>\n",
       "    </tr>\n",
       "    <tr>\n",
       "      <td>August-02</td>\n",
       "      <td>August-09</td>\n",
       "      <td>Paris</td>\n",
       "      <td>France</td>\n",
       "    </tr>\n",
       "    <tr>\n",
       "      <td>August-10</td>\n",
       "      <td>August-17</td>\n",
       "      <td>Tokyo</td>\n",
       "      <td>Japan</td>\n",
       "    </tr>\n",
       "    <tr>\n",
       "      <td>August-18</td>\n",
       "      <td>August-25</td>\n",
       "      <td>Sydney</td>\n",
       "      <td>Australia</td>\n",
       "    </tr>\n",
       "  </tbody>\n",
       "</table>"
      ],
      "text/plain": [
       "<IPython.core.display.HTML object>"
      ]
     },
     "metadata": {},
     "output_type": "display_data"
    }
   ],
   "source": [
    "# Read the itinerary.csv file\n",
    "itinerary = read_csv(\"itinerary.csv\")\n",
    "\n",
    "# Display the itinerary\n",
    "display_table(itinerary)"
   ]
  },
  {
   "cell_type": "code",
   "execution_count": 10,
   "metadata": {},
   "outputs": [
    {
     "name": "stdout",
     "output_type": "stream",
     "text": [
      "['New York', 'Rio de Janeiro', 'Cape Town', 'Istanbul', 'Paris', 'Tokyo', 'Sydney']\n"
     ]
    }
   ],
   "source": [
    "# Read the itinerary.csv file\n",
    "itinerary = pd.read_csv(\"itinerary.csv\")\n",
    "\n",
    "# Extract a list from a specific column, for example, the 'City' column\n",
    "items_list = itinerary[\"City\"].astype(str).tolist()\n",
    "\n",
    "# Print the list of items\n",
    "print(items_list)"
   ]
  },
  {
   "cell_type": "code",
   "execution_count": 11,
   "metadata": {},
   "outputs": [
    {
     "name": "stdout",
     "output_type": "stream",
     "text": [
      "[0, 1, 2, 3, 4, 5, 6]\n"
     ]
    }
   ],
   "source": [
    "# Generate a list of indices\n",
    "indices = list(range(len(items_list)))\n",
    "\n",
    "# Print the list of indices\n",
    "print(indices)\n"
   ]
  },
  {
   "cell_type": "markdown",
   "metadata": {},
   "source": [
    "**Explanation output** From the last two above outputs, we got the confermation that we need to use index '6' since Sydney is the seventh trip destination."
   ]
  },
  {
   "cell_type": "code",
   "execution_count": 12,
   "metadata": {},
   "outputs": [],
   "source": [
    "# Read the itinerary.csv file\n",
    "itinerary = read_csv(\"itinerary.csv\")"
   ]
  },
  {
   "cell_type": "markdown",
   "metadata": {},
   "source": [
    "- Select Sydney's Data from the Itinerary"
   ]
  },
  {
   "cell_type": "code",
   "execution_count": 13,
   "metadata": {},
   "outputs": [],
   "source": [
    "# Select Sydney from the 'itinerary' list\n",
    "trip_stop = itinerary[6]"
   ]
  },
  {
   "cell_type": "code",
   "execution_count": 14,
   "metadata": {},
   "outputs": [
    {
     "name": "stdout",
     "output_type": "stream",
     "text": [
      "{'Arrival': 'August-18', 'Departure': 'August-25', 'City': 'Sydney', 'Country': 'Australia'}\n"
     ]
    }
   ],
   "source": [
    "print(trip_stop)"
   ]
  },
  {
   "cell_type": "markdown",
   "metadata": {},
   "source": [
    "- Next, store all the information from that ```trip_stop```, as well as the restaurant information you read in above, in separate variables:"
   ]
  },
  {
   "cell_type": "markdown",
   "metadata": {},
   "source": [
    "- Store Information in Separate Variables"
   ]
  },
  {
   "cell_type": "code",
   "execution_count": 15,
   "metadata": {},
   "outputs": [],
   "source": [
    "city = trip_stop[\"City\"]\n",
    "country = trip_stop[\"Country\"]\n",
    "arrival = trip_stop[\"Arrival\"]\n",
    "departure = trip_stop[\"Departure\"]\n",
    "restaurants = sydney_restaurants"
   ]
  },
  {
   "cell_type": "code",
   "execution_count": 16,
   "metadata": {},
   "outputs": [
    {
     "name": "stdout",
     "output_type": "stream",
     "text": [
      "Sydney\n",
      "Australia\n",
      "August-18\n",
      "August-25\n",
      "[{'Restaurant': 'Saint Peter', 'Specialty': 'Murray Cod'}, {'Restaurant': 'Billy Kwong', 'Specialty': 'Crispy Skin Duck with Davidsonâ€™s Plum Sauce'}, {'Restaurant': 'The Lord Nelson Brewery Hotel', 'Specialty': 'Roast Lamb'}, {'Restaurant': 'Carriageworks Farmers Market', 'Specialty': 'Kangaroo Pie'}, {'Restaurant': \"Vic's Meat Market\", 'Specialty': 'BBQ Beef Brisket'}, {'Restaurant': 'Bennelong', 'Specialty': 'Sydney Rock Oysters'}]\n"
     ]
    }
   ],
   "source": [
    "# Print the stored variables\n",
    "print(city)\n",
    "print(country)\n",
    "print(arrival)\n",
    "print(departure)\n",
    "print(restaurants)"
   ]
  },
  {
   "cell_type": "markdown",
   "metadata": {},
   "source": [
    "- Create a Detailed Itinerary Using AI"
   ]
  },
  {
   "cell_type": "markdown",
   "metadata": {},
   "source": [
    "Pass all of this information in a detailed prompt to an LLM to create a detailed itinerary:"
   ]
  },
  {
   "cell_type": "code",
   "execution_count": 17,
   "metadata": {},
   "outputs": [
    {
     "data": {
      "text/markdown": [
       "### Sydney Itinerary: August 18 - August 25\n",
       "\n",
       "#### Day 1: August 18 (Saturday)\n",
       "- **Breakfast**: 8:00 AM - Local café (try a flat white)\n",
       "- **Morning Activity**: Explore the Sydney Opera House and take a guided tour.\n",
       "- **Lunch**: 12:30 PM - **Bennelong**  \n",
       "  - **Specialty**: Sydney Rock Oysters\n",
       "- **Afternoon Activity**: Stroll through the Royal Botanic Garden.\n",
       "- **Dinner**: 7:00 PM - Local seafood restaurant (try fish and chips)\n",
       "\n",
       "---\n",
       "\n",
       "#### Day 2: August 19 (Sunday)\n",
       "- **Breakfast**: 8:00 AM - Local café (try avocado toast)\n",
       "- **Morning Activity**: Visit the Art Gallery of New South Wales.\n",
       "- **Lunch**: 12:30 PM - **Billy Kwong**  \n",
       "  - **Specialty**: Crispy Skin Duck with Davidson’s Plum Sauce\n",
       "- **Afternoon Activity**: Explore the historic Rocks district.\n",
       "- **Dinner**: 7:00 PM - Local pub (try a meat pie)\n",
       "\n",
       "---\n",
       "\n",
       "#### Day 3: August 20 (Monday)\n",
       "- **Breakfast**: 8:00 AM - Local café (try a smoothie bowl)\n",
       "- **Morning Activity**: Take a ferry to Manly Beach.\n",
       "- **Lunch**: 12:30 PM - **Carriageworks Farmers Market**  \n",
       "  - **Specialty**: Kangaroo Pie\n",
       "- **Afternoon Activity**: Relax at Manly Beach.\n",
       "- **Dinner**: 7:00 PM - Local Italian restaurant (try pasta)\n",
       "\n",
       "---\n",
       "\n",
       "#### Day 4: August 21 (Tuesday)\n",
       "- **Breakfast**: 8:00 AM - Local café (try pancakes)\n",
       "- **Morning Activity**: Visit Taronga Zoo.\n",
       "- **Lunch**: 12:30 PM - **The Lord Nelson Brewery Hotel**  \n",
       "  - **Specialty**: Roast Lamb\n",
       "- **Afternoon Activity**: Walk around Darling Harbour.\n",
       "- **Dinner**: 7:00 PM - Local Asian restaurant (try dumplings)\n",
       "\n",
       "---\n",
       "\n",
       "#### Day 5: August 22 (Wednesday)\n",
       "- **Breakfast**: 8:00 AM - Local café (try a breakfast burrito)\n",
       "- **Morning Activity**: Explore the Sydney Tower Eye.\n",
       "- **Lunch**: 12:30 PM - **Vic's Meat Market**  \n",
       "  - **Specialty**: BBQ Beef Brisket\n",
       "- **Afternoon Activity**: Visit the Queen Victoria Building.\n",
       "- **Dinner**: 7:00 PM - Local steakhouse (try a ribeye)\n",
       "\n",
       "---\n",
       "\n",
       "#### Day 6: August 23 (Thursday)\n",
       "- **Breakfast**: 8:00 AM - Local café (try a chai latte)\n",
       "- **Morning Activity**: Visit Bondi Beach and walk the coastal path to Coogee.\n",
       "- **Lunch**: 12:30 PM - Beachside café (try fish tacos)\n",
       "- **Afternoon Activity**: Relax at Coogee Beach.\n",
       "- **Dinner**: 7:00 PM - Local Thai restaurant (try green curry)\n",
       "\n",
       "---\n",
       "\n",
       "#### Day 7: August 24 (Friday)\n",
       "- **Breakfast**: 8:00 AM - Local café (try a croissant)\n",
       "- **Morning Activity**: Visit the Australian Museum.\n",
       "- **Lunch**: 12:30 PM - Local café (try a gourmet sandwich)\n",
       "- **Afternoon Activity**: Explore the Sydney Fish Market.\n",
       "- **Dinner**: 7:00 PM - Local fusion restaurant (try a tasting menu)\n",
       "\n",
       "---\n",
       "\n",
       "#### Day 8: August 25 (Saturday)\n",
       "- **Breakfast**: 8:00 AM - Local café (try a breakfast bowl)\n",
       "- **Morning Activity**: Last-minute shopping at Pitt Street Mall.\n",
       "- **Lunch**: 12:30 PM - Local café (try a salad)\n",
       "- **Afternoon Activity**: Relax at a park or visit a local gallery.\n",
       "- **Dinner**: 6:00 PM - Farewell dinner at a nice restaurant (try a signature dish)\n",
       "\n",
       "---\n",
       "\n",
       "Enjoy your trip to Sydney!"
      ],
      "text/plain": [
       "<IPython.core.display.Markdown object>"
      ]
     },
     "metadata": {},
     "output_type": "display_data"
    }
   ],
   "source": [
    "# Write the prompt\n",
    "prompt = f\"\"\"I will visit {city}, {country} from {arrival} to {departure}. \n",
    "Create a daily itinerary with detailed activities. \n",
    "Designate times for breakfast, lunch, and dinner. \n",
    "\n",
    "I want to visit the restaurants listed in the restaurant dictionary \n",
    "without repeating any place. Make sure to mention the specialty\n",
    "that I should try at each of them.\n",
    "\n",
    "Restaurant dictionary:\n",
    "{restaurants}\n",
    "\n",
    "\"\"\"\n",
    "\n",
    "response = get_llm_response(prompt)\n",
    "\n",
    "# Print the LLM response in Markdown format\n",
    "display(Markdown(response))"
   ]
  },
  {
   "cell_type": "markdown",
   "metadata": {},
   "source": [
    "### Create detailed itineraries for all the cities in your trip"
   ]
  },
  {
   "cell_type": "markdown",
   "metadata": {},
   "source": [
    "#### Iterate Over All Cities in the Itinerary"
   ]
  },
  {
   "cell_type": "markdown",
   "metadata": {},
   "source": [
    "- You'll use a 'for' loop to iterate over all the cities in the ```itinerary``` list and create a detailed itinerary for each location:"
   ]
  },
  {
   "cell_type": "code",
   "execution_count": 18,
   "metadata": {},
   "outputs": [
    {
     "name": "stdout",
     "output_type": "stream",
     "text": [
      "Creating detailed itinerary for New York, USA.\n",
      "Creating detailed itinerary for Rio de Janeiro, Brazil.\n",
      "Creating detailed itinerary for Cape Town, South Africa.\n",
      "Creating detailed itinerary for Istanbul, Turkey.\n",
      "Creating detailed itinerary for Paris, France.\n",
      "Creating detailed itinerary for Tokyo, Japan.\n",
      "Creating detailed itinerary for Sydney, Australia.\n"
     ]
    }
   ],
   "source": [
    "# Create an empty dictionary to store the itinerary for each destination\n",
    "detailed_itinerary = {}\n",
    "\n",
    " # Use the 'for' loop over the 'itinerary' list   \n",
    "for trip_stop in itinerary:\n",
    "    city = trip_stop[\"City\"]\n",
    "    country = trip_stop[\"Country\"]\n",
    "    arrival = trip_stop[\"Arrival\"]\n",
    "    departure = trip_stop[\"Departure\"]\n",
    "\n",
    "    rest_dict = read_csv(f\"{city}.csv\")\n",
    "    \n",
    "    print(f\"Creating detailed itinerary for {city}, {country}.\")\n",
    "    \n",
    "    prompt = f\"\"\"I will visit {city}, {country} from {arrival} to {departure}. \n",
    "    Create a daily itinerary with detailed activities. \n",
    "    Designate times for breakfast, lunch, and dinner. \n",
    "\n",
    "    I want to visit the restaurants listed in the restaurant dictionary without repeating any place.\n",
    "    Make sure to mention the specialty that I should try at each of them.\n",
    "\n",
    "    Restaurant dictionary:\n",
    "    {rest_dict}\n",
    "\n",
    "    \"\"\"\n",
    "    # Store the detailed itinerary for the city to the dictionary\n",
    "    detailed_itinerary[city] = get_llm_response(prompt)"
   ]
  },
  {
   "cell_type": "markdown",
   "metadata": {},
   "source": [
    "#### Access Detailed Itinerary for a Specific City"
   ]
  },
  {
   "cell_type": "markdown",
   "metadata": {},
   "source": [
    "- You can now access the detailed itinerary for any city by passing in the city name as the key to the `detailed_itinerary` dictionary:"
   ]
  },
  {
   "cell_type": "code",
   "execution_count": 19,
   "metadata": {},
   "outputs": [
    {
     "data": {
      "text/markdown": [
       "### Tokyo Itinerary: August 10 - August 17\n",
       "\n",
       "#### Day 1: August 10 (Saturday)\n",
       "- **Breakfast**: 8:00 AM - Local café (try a Japanese breakfast set)\n",
       "- **Morning Activity**: Explore Asakusa and visit Senso-ji Temple\n",
       "- **Lunch**: 12:30 PM - **Tsukiji Outer Market**  \n",
       "  *Specialty*: Fresh sashimi and street food\n",
       "- **Afternoon Activity**: Stroll through Ueno Park and visit the Tokyo National Museum\n",
       "- **Dinner**: 7:00 PM - **Sukiyabashi Jiro**  \n",
       "  *Specialty*: Omakase sushi\n",
       "\n",
       "---\n",
       "\n",
       "#### Day 2: August 11 (Sunday)\n",
       "- **Breakfast**: 8:00 AM - Hotel breakfast\n",
       "- **Morning Activity**: Visit the Meiji Shrine and Harajuku\n",
       "- **Lunch**: 12:30 PM - **Afuri**  \n",
       "  *Specialty*: Yuzu shio ramen\n",
       "- **Afternoon Activity**: Explore Shibuya and see the famous Shibuya Crossing\n",
       "- **Dinner**: 7:00 PM - **Den**  \n",
       "  *Specialty*: Creative Japanese cuisine\n",
       "\n",
       "---\n",
       "\n",
       "#### Day 3: August 12 (Monday)\n",
       "- **Breakfast**: 8:00 AM - Local bakery (try melon bread)\n",
       "- **Morning Activity**: Visit the Tokyo Tower\n",
       "- **Lunch**: 12:30 PM - **Ichiran Ramen**  \n",
       "  *Specialty*: Tonkotsu ramen\n",
       "- **Afternoon Activity**: Explore Roppongi Hills and the Mori Art Museum\n",
       "- **Dinner**: 7:00 PM - **Ginza Kojyu**  \n",
       "  *Specialty*: Kaiseki (traditional multi-course meal)\n",
       "\n",
       "---\n",
       "\n",
       "#### Day 4: August 13 (Tuesday)\n",
       "- **Breakfast**: 8:00 AM - Traditional Japanese breakfast at a ryokan\n",
       "- **Morning Activity**: Day trip to Nikko (Toshogu Shrine)\n",
       "- **Lunch**: 12:30 PM - Local eatery in Nikko (try yuba)\n",
       "- **Afternoon Activity**: Continue exploring Nikko\n",
       "- **Dinner**: 7:00 PM - **Tempura Kondo**  \n",
       "  *Specialty*: Seasonal vegetable and seafood tempura\n",
       "\n",
       "---\n",
       "\n",
       "#### Day 5: August 14 (Wednesday)\n",
       "- **Breakfast**: 8:00 AM - Hotel breakfast\n",
       "- **Morning Activity**: Visit Akihabara for electronics and anime culture\n",
       "- **Lunch**: 12:30 PM - **Kyubey**  \n",
       "  *Specialty*: Sushi\n",
       "- **Afternoon Activity**: Explore the Imperial Palace and East Gardens\n",
       "- **Dinner**: 7:00 PM - **Akasaka Kikunoi**  \n",
       "  *Specialty*: Kaiseki\n",
       "\n",
       "---\n",
       "\n",
       "#### Day 6: August 15 (Thursday)\n",
       "- **Breakfast**: 8:00 AM - Local café (try Japanese pancakes)\n",
       "- **Morning Activity**: Visit Odaiba and teamLab Borderless\n",
       "- **Lunch**: 12:30 PM - Local restaurant in Odaiba (try okonomiyaki)\n",
       "- **Afternoon Activity**: Explore DiverCity Tokyo Plaza\n",
       "- **Dinner**: 7:00 PM - **Narisawa**  \n",
       "  *Specialty*: Innovative tasting menu\n",
       "\n",
       "---\n",
       "\n",
       "#### Day 7: August 16 (Friday)\n",
       "- **Breakfast**: 8:00 AM - Hotel breakfast\n",
       "- **Morning Activity**: Visit the National Museum of Nature and Science\n",
       "- **Lunch**: 12:30 PM - Local soba shop (try cold soba)\n",
       "- **Afternoon Activity**: Explore Yanaka district for traditional atmosphere\n",
       "- **Dinner**: 7:00 PM - **Den** (if you want to revisit) or choose a local izakaya for a casual meal\n",
       "\n",
       "---\n",
       "\n",
       "#### Day 8: August 17 (Saturday)\n",
       "- **Breakfast**: 8:00 AM - Local café\n",
       "- **Morning Activity**: Last-minute shopping in Shinjuku\n",
       "- **Lunch**: 12:30 PM - Local bento shop (try a bento box)\n",
       "- **Afternoon Activity**: Relax at Shinjuku Gyoen National Garden\n",
       "- **Departure**: Head to the airport\n",
       "\n",
       "Enjoy your trip to Tokyo!"
      ],
      "text/plain": [
       "<IPython.core.display.Markdown object>"
      ]
     },
     "metadata": {},
     "output_type": "display_data"
    }
   ],
   "source": [
    "# Print in Markdown format\n",
    "display(Markdown(detailed_itinerary[\"Tokyo\"]))"
   ]
  },
  {
   "cell_type": "markdown",
   "metadata": {},
   "source": [
    "## Conclusions\n",
    "In this notebook, we demonstrated how to create detailed travel itineraries for multiple cities using CSV data and AI-generated responses. By defining reusable functions and leveraging AI, we efficiently planned a comprehensive vacation itinerary. This approach can be applied to various data-driven tasks, making it a versatile tool for organizing and optimizing travel plans.\n",
    "```"
   ]
  },
  {
   "cell_type": "markdown",
   "metadata": {},
   "source": [
    "### Try it yourself! \n",
    "\n",
    "Update the code below to check out the itinerary for another city. \n",
    "\n",
    "**Options:**\n",
    "- Cape Town\n",
    "- Istanbul\n",
    "- New York\n",
    "- Paris\n",
    "- Rio de Janeiro\n",
    "- Sydney\n",
    "- Tokyo"
   ]
  },
  {
   "cell_type": "code",
   "execution_count": 20,
   "metadata": {},
   "outputs": [
    {
     "data": {
      "text/markdown": [
       "### Sydney Itinerary: August 18 - August 25\n",
       "\n",
       "#### Day 1: August 18 (Saturday)\n",
       "- **Breakfast**: 8:00 AM - Local café (try a flat white)\n",
       "- **Morning Activity**: Explore the Sydney Opera House and take a guided tour.\n",
       "- **Lunch**: 12:30 PM - **Bennelong**  \n",
       "  - **Specialty**: Sydney Rock Oysters\n",
       "- **Afternoon Activity**: Stroll through the Royal Botanic Garden.\n",
       "- **Dinner**: 7:00 PM - Local restaurant (try a seafood platter)\n",
       "\n",
       "---\n",
       "\n",
       "#### Day 2: August 19 (Sunday)\n",
       "- **Breakfast**: 8:00 AM - Local café (try avocado toast)\n",
       "- **Morning Activity**: Visit the Art Gallery of New South Wales.\n",
       "- **Lunch**: 12:30 PM - **Billy Kwong**  \n",
       "  - **Specialty**: Crispy Skin Duck with Davidson’s Plum Sauce\n",
       "- **Afternoon Activity**: Explore the historic Rocks district.\n",
       "- **Dinner**: 7:00 PM - Local restaurant (try a steak)\n",
       "\n",
       "---\n",
       "\n",
       "#### Day 3: August 20 (Monday)\n",
       "- **Breakfast**: 8:00 AM - Local café (try a smoothie bowl)\n",
       "- **Morning Activity**: Take a ferry to Manly Beach.\n",
       "- **Lunch**: 12:30 PM - Local beachside café (try fish and chips)\n",
       "- **Afternoon Activity**: Relax on Manly Beach and walk along the promenade.\n",
       "- **Dinner**: 7:00 PM - **The Lord Nelson Brewery Hotel**  \n",
       "  - **Specialty**: Roast Lamb\n",
       "\n",
       "---\n",
       "\n",
       "#### Day 4: August 21 (Tuesday)\n",
       "- **Breakfast**: 8:00 AM - Local café (try pancakes)\n",
       "- **Morning Activity**: Visit Taronga Zoo.\n",
       "- **Lunch**: 12:30 PM - Local café at the zoo (try a gourmet sandwich)\n",
       "- **Afternoon Activity**: Return to the city and visit Darling Harbour.\n",
       "- **Dinner**: 7:00 PM - **Saint Peter**  \n",
       "  - **Specialty**: Murray Cod\n",
       "\n",
       "---\n",
       "\n",
       "#### Day 5: August 22 (Wednesday)\n",
       "- **Breakfast**: 8:00 AM - Local café (try a breakfast burrito)\n",
       "- **Morning Activity**: Explore the Sydney Tower Eye for panoramic views.\n",
       "- **Lunch**: 12:30 PM - **Carriageworks Farmers Market**  \n",
       "  - **Specialty**: Kangaroo Pie\n",
       "- **Afternoon Activity**: Visit the Powerhouse Museum.\n",
       "- **Dinner**: 7:00 PM - Local restaurant (try a pasta dish)\n",
       "\n",
       "---\n",
       "\n",
       "#### Day 6: August 23 (Thursday)\n",
       "- **Breakfast**: 8:00 AM - Local café (try a chai latte)\n",
       "- **Morning Activity**: Walk across the Sydney Harbour Bridge.\n",
       "- **Lunch**: 12:30 PM - Local café in North Sydney (try a gourmet burger)\n",
       "- **Afternoon Activity**: Visit Luna Park for some fun rides.\n",
       "- **Dinner**: 7:00 PM - **Vic's Meat Market**  \n",
       "  - **Specialty**: BBQ Beef Brisket\n",
       "\n",
       "---\n",
       "\n",
       "#### Day 7: August 24 (Friday)\n",
       "- **Breakfast**: 8:00 AM - Local café (try a croissant)\n",
       "- **Morning Activity**: Visit Bondi Beach and take the coastal walk to Coogee.\n",
       "- **Lunch**: 12:30 PM - Local café in Coogee (try a poke bowl)\n",
       "- **Afternoon Activity**: Relax at Coogee Beach.\n",
       "- **Dinner**: 7:00 PM - Local restaurant (try a Thai curry)\n",
       "\n",
       "---\n",
       "\n",
       "#### Day 8: August 25 (Saturday)\n",
       "- **Breakfast**: 8:00 AM - Local café (try a breakfast smoothie)\n",
       "- **Morning Activity**: Last-minute shopping at Queen Victoria Building.\n",
       "- **Lunch**: 12:30 PM - Local café (try a gourmet salad)\n",
       "- **Afternoon Activity**: Visit the Sydney Fish Market for fresh seafood.\n",
       "- **Dinner**: 7:00 PM - Local restaurant (try a dessert)\n",
       "\n",
       "---\n",
       "\n",
       "Enjoy your trip to Sydney!"
      ],
      "text/plain": [
       "<IPython.core.display.Markdown object>"
      ]
     },
     "metadata": {},
     "output_type": "display_data"
    }
   ],
   "source": [
    "# Update the next line of code to view a different city\n",
    "display(Markdown(detailed_itinerary[\"Sydney\"]))"
   ]
  },
  {
   "cell_type": "code",
   "execution_count": 21,
   "metadata": {},
   "outputs": [
    {
     "data": {
      "text/markdown": [
       "### Paris Itinerary: August 2 - August 9\n",
       "\n",
       "#### Day 1: August 2 (Arrival)\n",
       "- **Morning:**\n",
       "  - Arrive in Paris, check into your hotel.\n",
       "- **Breakfast (9:00 AM):** Café nearby for a classic French breakfast (croissants, coffee).\n",
       "- **Afternoon:**\n",
       "  - Explore Montmartre, visit Sacré-Cœur Basilica.\n",
       "- **Lunch (1:00 PM):** Le Comptoir du Relais - Try the **Coq au Vin**.\n",
       "- **Evening:**\n",
       "  - Stroll through the streets of Montmartre.\n",
       "- **Dinner (7:00 PM):** Local bistro for traditional French cuisine.\n",
       "\n",
       "---\n",
       "\n",
       "#### Day 2: August 3\n",
       "- **Morning:**\n",
       "  - Visit the Louvre Museum.\n",
       "- **Breakfast (8:00 AM):** Café near the Louvre (pastries and coffee).\n",
       "- **Afternoon:**\n",
       "  - Walk through the Tuileries Garden.\n",
       "- **Lunch (12:30 PM):** L’As du Fallafel - Try the **Falafel sandwiches**.\n",
       "- **Evening:**\n",
       "  - Explore the Marais district.\n",
       "- **Dinner (7:30 PM):** Enjoy a casual dinner at a local brasserie.\n",
       "\n",
       "---\n",
       "\n",
       "#### Day 3: August 4\n",
       "- **Morning:**\n",
       "  - Visit the Eiffel Tower.\n",
       "- **Breakfast (8:00 AM):** Café near the Eiffel Tower (omelette and coffee).\n",
       "- **Afternoon:**\n",
       "  - Seine River cruise.\n",
       "- **Lunch (1:00 PM):** Picnic in Champ de Mars (grab baguette, cheese, and wine).\n",
       "- **Evening:**\n",
       "  - Visit the Arc de Triomphe.\n",
       "- **Dinner (8:00 PM):** Le Jules Verne - Try the **Filet de Boeuf**.\n",
       "\n",
       "---\n",
       "\n",
       "#### Day 4: August 5\n",
       "- **Morning:**\n",
       "  - Visit the Musée d'Orsay.\n",
       "- **Breakfast (8:30 AM):** Café near Musée d'Orsay (quiche and coffee).\n",
       "- **Afternoon:**\n",
       "  - Explore Saint-Germain-des-Prés.\n",
       "- **Lunch (1:00 PM):** Local café in Saint-Germain (salad and tart).\n",
       "- **Evening:**\n",
       "  - Visit Notre-Dame Cathedral.\n",
       "- **Dinner (7:00 PM):** L'Ambroisie - Try the **Turbot with Artichokes and Truffle**.\n",
       "\n",
       "---\n",
       "\n",
       "#### Day 5: August 6\n",
       "- **Morning:**\n",
       "  - Day trip to Versailles.\n",
       "- **Breakfast (7:30 AM):** Quick breakfast at the hotel (pastries and juice).\n",
       "- **Afternoon:**\n",
       "  - Explore the Palace and Gardens of Versailles.\n",
       "- **Lunch (12:30 PM):** Café in Versailles (French onion soup).\n",
       "- **Evening:**\n",
       "  - Return to Paris.\n",
       "- **Dinner (7:30 PM):** Casual dinner at a local pizzeria.\n",
       "\n",
       "---\n",
       "\n",
       "#### Day 6: August 7\n",
       "- **Morning:**\n",
       "  - Visit the Pompidou Center.\n",
       "- **Breakfast (8:00 AM):** Café nearby (croissant and espresso).\n",
       "- **Afternoon:**\n",
       "  - Explore the Latin Quarter.\n",
       "- **Lunch (1:00 PM):** Local bistro in the Latin Quarter (crepes).\n",
       "- **Evening:**\n",
       "  - Visit the Panthéon.\n",
       "- **Dinner (7:00 PM):** Pierre Hermé - Try the **Ispahan** for dessert.\n",
       "\n",
       "---\n",
       "\n",
       "#### Day 7: August 8\n",
       "- **Morning:**\n",
       "  - Visit the Catacombs of Paris.\n",
       "- **Breakfast (8:00 AM):** Bakery near the Catacombs (pain au chocolat).\n",
       "- **Afternoon:**\n",
       "  - Explore the Canal Saint-Martin area.\n",
       "- **Lunch (1:00 PM):** Café along the canal (sandwich and salad).\n",
       "- **Evening:**\n",
       "  - Shopping in Le Marais.\n",
       "- **Dinner (7:30 PM):** Enjoy a farewell dinner at a local French restaurant.\n",
       "\n",
       "---\n",
       "\n",
       "#### Day 8: August 9 (Departure)\n",
       "- **Morning:**\n",
       "  - Last-minute shopping or sightseeing.\n",
       "- **Breakfast (8:00 AM):** Café near your hotel (breakfast platter).\n",
       "- **Lunch (12:00 PM):** Quick lunch at a nearby café (baguette and cheese).\n",
       "- **Afternoon:**\n",
       "  - Check out and head to the airport.\n",
       "\n",
       "Enjoy your trip to Paris!"
      ],
      "text/plain": [
       "<IPython.core.display.Markdown object>"
      ]
     },
     "metadata": {},
     "output_type": "display_data"
    }
   ],
   "source": [
    "# Update the next line of code to view a different city\n",
    "display(Markdown(detailed_itinerary[\"Paris\"]))"
   ]
  },
  {
   "cell_type": "code",
   "execution_count": 22,
   "metadata": {},
   "outputs": [
    {
     "data": {
      "text/markdown": [
       "### Daily Itinerary for Rio de Janeiro (July 9 - July 16)\n",
       "\n",
       "#### Day 1: July 9 (Sunday)\n",
       "- **Breakfast**: 8:00 AM at **Confeitaria Colombo**  \n",
       "  *Try the Pastel de nata (custard tart).*\n",
       "- **Morning Activity**: Visit the **Christ the Redeemer** statue.\n",
       "- **Lunch**: 1:00 PM at **Fogo de Chão**  \n",
       "  *Try the Picanha (top sirloin).*\n",
       "- **Afternoon Activity**: Explore **Tijuca National Park**.\n",
       "- **Dinner**: 7:00 PM at **Olympe**  \n",
       "  *Try the Moqueca de caju (cashew nut stew).*\n",
       "\n",
       "---\n",
       "\n",
       "#### Day 2: July 10 (Monday)\n",
       "- **Breakfast**: 8:00 AM at the hotel or a local café.\n",
       "- **Morning Activity**: Visit **Sugarloaf Mountain**.\n",
       "- **Lunch**: 12:30 PM at **Feira de São Cristóvão**  \n",
       "  *Try the Acarajé.*\n",
       "- **Afternoon Activity**: Stroll through **Jardim Botânico**.\n",
       "- **Dinner**: 7:30 PM at **Aprazível**  \n",
       "  *Try the Galinhada (Brazilian chicken and rice).*\n",
       "\n",
       "---\n",
       "\n",
       "#### Day 3: July 11 (Tuesday)\n",
       "- **Breakfast**: 8:00 AM at a local bakery.\n",
       "- **Morning Activity**: Visit **Copacabana Beach**.\n",
       "- **Lunch**: 1:00 PM at a beachside restaurant (try local seafood).\n",
       "- **Afternoon Activity**: Relax at **Ipanema Beach**.\n",
       "- **Dinner**: 7:00 PM at a local steakhouse (try Brazilian barbecue).\n",
       "\n",
       "---\n",
       "\n",
       "#### Day 4: July 12 (Wednesday)\n",
       "- **Breakfast**: 8:00 AM at the hotel.\n",
       "- **Morning Activity**: Explore **Santa Teresa** neighborhood.\n",
       "- **Lunch**: 12:30 PM at a local café in Santa Teresa.\n",
       "- **Afternoon Activity**: Visit the **Selarón Steps**.\n",
       "- **Dinner**: 7:00 PM at a local Italian restaurant.\n",
       "\n",
       "---\n",
       "\n",
       "#### Day 5: July 13 (Thursday)\n",
       "- **Breakfast**: 8:00 AM at a local café.\n",
       "- **Morning Activity**: Visit the **Museum of Tomorrow**.\n",
       "- **Lunch**: 1:00 PM at a nearby restaurant (try local dishes).\n",
       "- **Afternoon Activity**: Explore **Maracanã Stadium**.\n",
       "- **Dinner**: 7:30 PM at a local seafood restaurant.\n",
       "\n",
       "---\n",
       "\n",
       "#### Day 6: July 14 (Friday)\n",
       "- **Breakfast**: 8:00 AM at the hotel.\n",
       "- **Morning Activity**: Take a day trip to **Petrópolis**.\n",
       "- **Lunch**: 12:30 PM at a restaurant in Petrópolis.\n",
       "- **Afternoon Activity**: Visit the **Imperial Museum**.\n",
       "- **Dinner**: 7:00 PM at a local Brazilian restaurant.\n",
       "\n",
       "---\n",
       "\n",
       "#### Day 7: July 15 (Saturday)\n",
       "- **Breakfast**: 8:00 AM at a local café.\n",
       "- **Morning Activity**: Visit **Lapa Arches** and **Selarón Steps**.\n",
       "- **Lunch**: 1:00 PM at a local street food market.\n",
       "- **Afternoon Activity**: Explore **Botafogo Beach**.\n",
       "- **Dinner**: 7:00 PM at a local fusion restaurant.\n",
       "\n",
       "---\n",
       "\n",
       "#### Day 8: July 16 (Sunday)\n",
       "- **Breakfast**: 8:00 AM at the hotel.\n",
       "- **Morning Activity**: Last-minute shopping at **Shopping Leblon**.\n",
       "- **Lunch**: 12:00 PM at a local café.\n",
       "- **Afternoon Activity**: Relax at **Praia do Leme**.\n",
       "- **Departure**: Head to the airport for your flight.\n",
       "\n",
       "---\n",
       "\n",
       "Enjoy your trip to Rio de Janeiro!"
      ],
      "text/plain": [
       "<IPython.core.display.Markdown object>"
      ]
     },
     "metadata": {},
     "output_type": "display_data"
    }
   ],
   "source": [
    "# Update the next line of code to view a different city\n",
    "display(Markdown(detailed_itinerary[\"Rio de Janeiro\"]))"
   ]
  },
  {
   "cell_type": "code",
   "execution_count": 23,
   "metadata": {},
   "outputs": [
    {
     "data": {
      "text/markdown": [
       "### New York Itinerary: July 1 - July 8\n",
       "\n",
       "#### Day 1: July 1 (Saturday)\n",
       "- **Breakfast (9:00 AM)**: **Katz's Delicatessen**  \n",
       "  *Try the Pastrami on rye.*\n",
       "- **Morning Activity (10:30 AM)**: Explore the Lower East Side and visit the Tenement Museum.\n",
       "- **Lunch (1:00 PM)**: **Chelsea Market (Lobster Place)**  \n",
       "  *Try the Lobster rolls.*\n",
       "- **Afternoon Activity (2:30 PM)**: Walk the High Line and enjoy the views.\n",
       "- **Dinner (7:00 PM)**: **Gramercy Tavern**  \n",
       "  *Try the Roasted chicken with seasonal vegetables.*\n",
       "\n",
       "---\n",
       "\n",
       "#### Day 2: July 2 (Sunday)\n",
       "- **Breakfast (9:00 AM)**: Local café or bakery.\n",
       "- **Morning Activity (10:30 AM)**: Visit the Statue of Liberty and Ellis Island.\n",
       "- **Lunch (1:00 PM)**: Local eatery in Battery Park.\n",
       "- **Afternoon Activity (3:00 PM)**: Explore Wall Street and the 9/11 Memorial.\n",
       "- **Dinner (7:00 PM)**: **Peter Luger Steak House**  \n",
       "  *Try the Porterhouse steak.*\n",
       "\n",
       "---\n",
       "\n",
       "#### Day 3: July 3 (Monday)\n",
       "- **Breakfast (9:00 AM)**: Local diner.\n",
       "- **Morning Activity (10:30 AM)**: Visit the Metropolitan Museum of Art.\n",
       "- **Lunch (1:00 PM)**: Nearby café or food truck.\n",
       "- **Afternoon Activity (3:00 PM)**: Stroll through Central Park.\n",
       "- **Dinner (7:00 PM)**: **Eleven Madison Park**  \n",
       "  *Try the Sunflower seed risotto.*\n",
       "\n",
       "---\n",
       "\n",
       "#### Day 4: July 4 (Tuesday)\n",
       "- **Breakfast (9:00 AM)**: Local café.\n",
       "- **Morning Activity (10:30 AM)**: Visit the American Museum of Natural History.\n",
       "- **Lunch (1:00 PM)**: Local food market.\n",
       "- **Afternoon Activity (3:00 PM)**: Explore the Upper West Side.\n",
       "- **Dinner (7:00 PM)**: Local restaurant with a view of the fireworks (if applicable).\n",
       "\n",
       "---\n",
       "\n",
       "#### Day 5: July 5 (Wednesday)\n",
       "- **Breakfast (9:00 AM)**: Local bakery.\n",
       "- **Morning Activity (10:30 AM)**: Visit the Museum of Modern Art (MoMA).\n",
       "- **Lunch (1:00 PM)**: Nearby café.\n",
       "- **Afternoon Activity (3:00 PM)**: Explore Times Square and Broadway.\n",
       "- **Dinner (7:00 PM)**: Local restaurant in the Theater District.\n",
       "\n",
       "---\n",
       "\n",
       "#### Day 6: July 6 (Thursday)\n",
       "- **Breakfast (9:00 AM)**: Local café.\n",
       "- **Morning Activity (10:30 AM)**: Visit the Brooklyn Bridge and walk to Brooklyn.\n",
       "- **Lunch (1:00 PM)**: Local pizzeria in Brooklyn.\n",
       "- **Afternoon Activity (3:00 PM)**: Explore DUMBO and Brooklyn Bridge Park.\n",
       "- **Dinner (7:00 PM)**: Local restaurant in Brooklyn.\n",
       "\n",
       "---\n",
       "\n",
       "#### Day 7: July 7 (Friday)\n",
       "- **Breakfast (9:00 AM)**: Local café.\n",
       "- **Morning Activity (10:30 AM)**: Visit the New York Botanical Garden.\n",
       "- **Lunch (1:00 PM)**: Local eatery in the Bronx.\n",
       "- **Afternoon Activity (3:00 PM)**: Explore the Bronx Zoo.\n",
       "- **Dinner (7:00 PM)**: Local restaurant in the Bronx.\n",
       "\n",
       "---\n",
       "\n",
       "#### Day 8: July 8 (Saturday)\n",
       "- **Breakfast (9:00 AM)**: Local café.\n",
       "- **Morning Activity (10:30 AM)**: Last-minute shopping or visit a local market.\n",
       "- **Lunch (1:00 PM)**: Local eatery.\n",
       "- **Afternoon Activity (3:00 PM)**: Relax in a park or visit a museum.\n",
       "- **Departure (Evening)**.\n",
       "\n",
       "Enjoy your trip to New York!"
      ],
      "text/plain": [
       "<IPython.core.display.Markdown object>"
      ]
     },
     "metadata": {},
     "output_type": "display_data"
    }
   ],
   "source": [
    "# Update the next line of code to view a different city\n",
    "display(Markdown(detailed_itinerary[\"New York\"]))"
   ]
  },
  {
   "cell_type": "code",
   "execution_count": 24,
   "metadata": {},
   "outputs": [
    {
     "data": {
      "text/markdown": [
       "### Cape Town Itinerary: July 17 - July 24\n",
       "\n",
       "#### Day 1: July 17 (Monday)\n",
       "- **Breakfast**: 8:00 AM - Local café (try a traditional South African breakfast)\n",
       "- **Morning Activity**: 9:30 AM - Visit Table Mountain (take the cable car)\n",
       "- **Lunch**: 12:30 PM - **The Test Kitchen**  \n",
       "  - **Specialty**: Pickled Fish Tacos\n",
       "- **Afternoon Activity**: 2:00 PM - Explore the V&A Waterfront\n",
       "- **Dinner**: 6:30 PM - Local seafood restaurant (try fresh fish dishes)\n",
       "\n",
       "---\n",
       "\n",
       "#### Day 2: July 18 (Tuesday)\n",
       "- **Breakfast**: 8:00 AM - Local bakery (try a koeksister)\n",
       "- **Morning Activity**: 9:30 AM - Visit Kirstenbosch National Botanical Garden\n",
       "- **Lunch**: 1:00 PM - **La Colombe**  \n",
       "  - **Specialty**: Tuna La Colombe\n",
       "- **Afternoon Activity**: 3:00 PM - Wine tasting in Constantia\n",
       "- **Dinner**: 7:00 PM - Local steakhouse (try a South African braai)\n",
       "\n",
       "---\n",
       "\n",
       "#### Day 3: July 19 (Wednesday)\n",
       "- **Breakfast**: 8:00 AM - Café in Camps Bay (try a smoothie bowl)\n",
       "- **Morning Activity**: 9:30 AM - Relax at Camps Bay Beach\n",
       "- **Lunch**: 12:30 PM - **Gold Restaurant**  \n",
       "  - **Specialty**: Bobotie\n",
       "- **Afternoon Activity**: 2:00 PM - Visit the District Six Museum\n",
       "- **Dinner**: 6:30 PM - Local Italian restaurant (try a wood-fired pizza)\n",
       "\n",
       "---\n",
       "\n",
       "#### Day 4: July 20 (Thursday)\n",
       "- **Breakfast**: 8:00 AM - Local café (try a traditional South African scone)\n",
       "- **Morning Activity**: 9:30 AM - Tour Robben Island\n",
       "- **Lunch**: 1:00 PM - Local bistro (try a gourmet burger)\n",
       "- **Afternoon Activity**: 3:00 PM - Visit the Cape of Good Hope\n",
       "- **Dinner**: 7:00 PM - **Harbour House**  \n",
       "  - **Specialty**: Grilled Kingklip\n",
       "\n",
       "---\n",
       "\n",
       "#### Day 5: July 21 (Friday)\n",
       "- **Breakfast**: 8:00 AM - Local coffee shop (try a flat white)\n",
       "- **Morning Activity**: 9:30 AM - Visit Boulders Beach to see the penguins\n",
       "- **Lunch**: 1:00 PM - Local café (try a bunny chow)\n",
       "- **Afternoon Activity**: 3:00 PM - Explore Simon's Town\n",
       "- **Dinner**: 7:00 PM - **The Pot Luck Club**  \n",
       "  - **Specialty**: Beef Tataki\n",
       "\n",
       "---\n",
       "\n",
       "#### Day 6: July 22 (Saturday)\n",
       "- **Breakfast**: 8:00 AM - Local diner (try a full English breakfast)\n",
       "- **Morning Activity**: 9:30 AM - Visit the Cape Winelands (Stellenbosch)\n",
       "- **Lunch**: 12:30 PM - Local winery (try a cheese platter)\n",
       "- **Afternoon Activity**: 2:00 PM - Wine tasting at another vineyard\n",
       "- **Dinner**: 7:00 PM - Local Asian fusion restaurant (try sushi)\n",
       "\n",
       "---\n",
       "\n",
       "#### Day 7: July 23 (Sunday)\n",
       "- **Breakfast**: 8:00 AM - Local café (try a breakfast wrap)\n",
       "- **Morning Activity**: 9:30 AM - Visit the Two Oceans Aquarium\n",
       "- **Lunch**: 1:00 PM - Local food market (try various street foods)\n",
       "- **Afternoon Activity**: 3:00 PM - Stroll through the Company’s Garden\n",
       "- **Dinner**: 6:30 PM - Local pub (try a craft beer with bangers and mash)\n",
       "\n",
       "---\n",
       "\n",
       "#### Day 8: July 24 (Monday)\n",
       "- **Breakfast**: 8:00 AM - Local café (try a croissant)\n",
       "- **Morning Activity**: 9:30 AM - Last-minute shopping at the V&A Waterfront\n",
       "- **Lunch**: 12:00 PM - Quick bite at a deli (try a gourmet sandwich)\n",
       "- **Departure**: 2:00 PM - Head to the airport\n",
       "\n",
       "Enjoy your trip to Cape Town!"
      ],
      "text/plain": [
       "<IPython.core.display.Markdown object>"
      ]
     },
     "metadata": {},
     "output_type": "display_data"
    }
   ],
   "source": [
    "# Update the next line of code to view a different city\n",
    "display(Markdown(detailed_itinerary[\"Cape Town\"]))"
   ]
  },
  {
   "cell_type": "code",
   "execution_count": 25,
   "metadata": {},
   "outputs": [
    {
     "data": {
      "text/markdown": [
       "### Daily Itinerary for Istanbul (July 25 - August 1)\n",
       "\n",
       "#### Day 1: July 25 (Arrival)\n",
       "- **Morning:**\n",
       "  - Arrive in Istanbul, check into your hotel.\n",
       "  - **Breakfast:** Enjoy a traditional Turkish breakfast at your hotel or a nearby café.\n",
       "\n",
       "- **Afternoon:**\n",
       "  - Visit the **Hagia Sophia** and explore its stunning architecture.\n",
       "  - Stroll through the **Sultanahmet Square**.\n",
       "\n",
       "- **Lunch:** \n",
       "  - **Restaurant:** Karaköy Lokantası  \n",
       "  - **Specialty:** Try the **Midye Dolma** (stuffed mussels).\n",
       "\n",
       "- **Evening:**\n",
       "  - Visit the **Basilica Cistern**.\n",
       "  - Explore the **Grand Bazaar** for shopping.\n",
       "\n",
       "- **Dinner:** \n",
       "  - **Restaurant:** Çiya Sofrası  \n",
       "  - **Specialty:** Don't miss the **Kuzu Tandir** (slow-cooked lamb).\n",
       "\n",
       "---\n",
       "\n",
       "#### Day 2: July 26\n",
       "- **Morning:**\n",
       "  - **Breakfast:** Enjoy a local café's breakfast with fresh bread and olives.\n",
       "\n",
       "- **Afternoon:**\n",
       "  - Visit the **Topkapi Palace** and its beautiful gardens.\n",
       "\n",
       "- **Lunch:** \n",
       "  - **Restaurant:** Asitane  \n",
       "  - **Specialty:** Try the **Mutancana** (a historical dish of the Ottoman cuisine).\n",
       "\n",
       "- **Evening:**\n",
       "  - Take a relaxing walk along the **Golden Horn**.\n",
       "\n",
       "- **Dinner:** \n",
       "  - **Restaurant:** Mikla  \n",
       "  - **Specialty:** Savor the **Lamb Rump**.\n",
       "\n",
       "---\n",
       "\n",
       "#### Day 3: July 27\n",
       "- **Morning:**\n",
       "  - **Breakfast:** Sample a local simit (sesame bagel) from a street vendor.\n",
       "\n",
       "- **Afternoon:**\n",
       "  - Visit the **Spice Bazaar** and enjoy the vibrant atmosphere.\n",
       "\n",
       "- **Lunch:** \n",
       "  - **Restaurant:** Istiklal Street  \n",
       "  - **Specialty:** Grab a **Simit** from a local vendor.\n",
       "\n",
       "- **Evening:**\n",
       "  - Explore the **Galata Tower** and enjoy panoramic views of the city.\n",
       "\n",
       "- **Dinner:** \n",
       "  - **Restaurant:** Karaköy Lokantası (repeat for a different meal)  \n",
       "  - **Specialty:** Try their **Fish dishes**.\n",
       "\n",
       "---\n",
       "\n",
       "#### Day 4: July 28\n",
       "- **Morning:**\n",
       "  - **Breakfast:** Enjoy a Turkish tea and pastries at a local café.\n",
       "\n",
       "- **Afternoon:**\n",
       "  - Visit the **Dolmabahçe Palace**.\n",
       "\n",
       "- **Lunch:** \n",
       "  - **Restaurant:** Çiya Sofrası (repeat for a different meal)  \n",
       "  - **Specialty:** Try their **Meze platter**.\n",
       "\n",
       "- **Evening:**\n",
       "  - Take a Bosphorus cruise at sunset.\n",
       "\n",
       "- **Dinner:** \n",
       "  - **Restaurant:** Asitane (repeat for a different meal)  \n",
       "  - **Specialty:** Try their **Vegetarian dishes**.\n",
       "\n",
       "---\n",
       "\n",
       "#### Day 5: July 29\n",
       "- **Morning:**\n",
       "  - **Breakfast:** Enjoy a traditional Turkish breakfast at a local spot.\n",
       "\n",
       "- **Afternoon:**\n",
       "  - Visit the **Chora Church** and admire its mosaics.\n",
       "\n",
       "- **Lunch:** \n",
       "  - **Restaurant:** Mikla (repeat for a different meal)  \n",
       "  - **Specialty:** Try their **Seafood dishes**.\n",
       "\n",
       "- **Evening:**\n",
       "  - Explore the **Balat** neighborhood for its colorful houses.\n",
       "\n",
       "- **Dinner:** \n",
       "  - **Restaurant:** Karaköy Lokantası (repeat for a different meal)  \n",
       "  - **Specialty:** Try their **Kebabs**.\n",
       "\n",
       "---\n",
       "\n",
       "#### Day 6: July 30\n",
       "- **Morning:**\n",
       "  - **Breakfast:** Enjoy a light breakfast at your hotel.\n",
       "\n",
       "- **Afternoon:**\n",
       "  - Visit the **Museum of Turkish and Islamic Arts**.\n",
       "\n",
       "- **Lunch:** \n",
       "  - **Restaurant:** Istiklal Street (repeat for a different meal)  \n",
       "  - **Specialty:** Try a different **Simit** or local street food.\n",
       "\n",
       "- **Evening:**\n",
       "  - Visit **Taksim Square** and enjoy the nightlife.\n",
       "\n",
       "- **Dinner:** \n",
       "  - **Restaurant:** Mikla (repeat for a different meal)  \n",
       "  - **Specialty:** Try their **Desserts**.\n",
       "\n",
       "---\n",
       "\n",
       "#### Day 7: July 31\n",
       "- **Morning:**\n",
       "  - **Breakfast:** Enjoy a leisurely breakfast at a café with a view.\n",
       "\n",
       "- **Afternoon:**\n",
       "  - Visit the **Süleymaniye Mosque**.\n",
       "\n",
       "- **Lunch:** \n",
       "  - **Restaurant:** Asitane (repeat for a different meal)  \n",
       "  - **Specialty:** Try their **Desserts**.\n",
       "\n",
       "- **Evening:**\n",
       "  - Last-minute shopping at the **Grand Bazaar**.\n",
       "\n",
       "- **Dinner:** \n",
       "  - **Restaurant:** Çiya Sofrası (repeat for a different meal)  \n",
       "  - **Specialty:** Try their **Desserts**.\n",
       "\n",
       "---\n",
       "\n",
       "#### Day 8: August 1 (Departure)\n",
       "- **Morning:**\n",
       "  - **Breakfast:** Enjoy a final Turkish breakfast at your hotel.\n",
       "\n",
       "- **Afternoon:**\n",
       "  - Last-minute sightseeing or shopping.\n",
       "\n",
       "- **Lunch:** \n",
       "  - Grab a quick bite at a local café.\n",
       "\n",
       "- **Evening:**\n",
       "  - Depart from Istanbul.\n",
       "\n",
       "---\n",
       "\n",
       "Enjoy your trip to Istanbul!"
      ],
      "text/plain": [
       "<IPython.core.display.Markdown object>"
      ]
     },
     "metadata": {},
     "output_type": "display_data"
    }
   ],
   "source": [
    "# Update the next line of code to view a different city\n",
    "display(Markdown(detailed_itinerary[\"Istanbul\"]))"
   ]
  }
 ],
 "metadata": {
  "kernelspec": {
   "display_name": ".venv",
   "language": "python",
   "name": "python3"
  },
  "language_info": {
   "codemirror_mode": {
    "name": "ipython",
    "version": 3
   },
   "file_extension": ".py",
   "mimetype": "text/x-python",
   "name": "python",
   "nbconvert_exporter": "python",
   "pygments_lexer": "ipython3",
   "version": "3.12.2"
  }
 },
 "nbformat": 4,
 "nbformat_minor": 2
}
