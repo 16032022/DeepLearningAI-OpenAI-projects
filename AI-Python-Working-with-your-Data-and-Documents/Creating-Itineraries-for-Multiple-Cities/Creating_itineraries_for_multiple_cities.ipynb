{
 "cells": [
  {
   "cell_type": "markdown",
   "metadata": {},
   "source": [
    "# Creating itineraries for multiple cities"
   ]
  },
  {
   "cell_type": "markdown",
   "metadata": {},
   "source": [
    "## Introduction\n",
    "You will use everything you have seen so far to plan the perfect vacation around the world!"
   ]
  },
  {
   "cell_type": "markdown",
   "metadata": {},
   "source": [
    "### Importing required functions \n",
    "\n",
    "- Importing specific functions from the _helper_functions_ module:  \n",
    "  - The _print_llm_response_ function is likely used to print responses from a language learning model.  \n",
    "  - The _get_llm_response_ function is likely used to get responses from a language learning model.\n",
    "  - The _display_table_ function is  \n",
    "\n",
    "- Importing specific functions from the _IPython.diplay_ module:  \n",
    "  -  _Markdown_  class from IPython.display is to render and display text as Markdown in Jupyter notebooks.\n",
    "\n",
    "- Importing the Comma-Separated Values (CSV) module to provide functionality to both read from and write to  \n",
    "  CSV files.\n",
    "\n",
    "- Importing the pandas library and aliasing it as 'pd' for efficient data manipulation and analysis."
   ]
  },
  {
   "cell_type": "code",
   "execution_count": 1,
   "metadata": {},
   "outputs": [],
   "source": [
    "# Importing specific functions from the _helper_functions_ module\n",
    "from helper_functions import print_llm_response, get_llm_response, display_table\n",
    "\n",
    "# Importing specific functions from the _IPython.diplay_ module \n",
    "from IPython.display import Markdown\n",
    "\n",
    "# Importing csv module\n",
    "import csv\n",
    "\n",
    "# Importing pandas \n",
    "import pandas as pd"
   ]
  },
  {
   "cell_type": "markdown",
   "metadata": {},
   "source": [
    "### Reading travel itineraries from a CSV file"
   ]
  },
  {
   "cell_type": "markdown",
   "metadata": {},
   "source": [
    "- First, define a new function that reads data stored in a CSV file and returns it as a dictionary variable:"
   ]
  },
  {
   "cell_type": "code",
   "execution_count": 2,
   "metadata": {},
   "outputs": [],
   "source": [
    "# Define a  function that reads data stored in a CSV file and returns it as a dictionary variable\n",
    "def read_csv(file):\n",
    "    f = open(file, \"r\")\n",
    "    \n",
    "    csv_reader = csv.DictReader(f)\n",
    "    data = []\n",
    "    for row in csv_reader:\n",
    "        data.append(row)\n",
    "    f.close()\n",
    "    \n",
    "    return data"
   ]
  },
  {
   "cell_type": "markdown",
   "metadata": {},
   "source": [
    "- Next, load itineraries from `itinerary.csv` using the function you just defined (notice how much less code this is!) and then display the table of itineraries:"
   ]
  },
  {
   "cell_type": "code",
   "execution_count": 3,
   "metadata": {},
   "outputs": [
    {
     "data": {
      "text/html": [
       "<table border=\"1\" class=\"dataframe\">\n",
       "  <thead>\n",
       "    <tr style=\"text-align: right;\">\n",
       "      <th>Arrival</th>\n",
       "      <th>Departure</th>\n",
       "      <th>City</th>\n",
       "      <th>Country</th>\n",
       "    </tr>\n",
       "  </thead>\n",
       "  <tbody>\n",
       "    <tr>\n",
       "      <td>July-01</td>\n",
       "      <td>July-08</td>\n",
       "      <td>New York</td>\n",
       "      <td>USA</td>\n",
       "    </tr>\n",
       "    <tr>\n",
       "      <td>July-09</td>\n",
       "      <td>July-16</td>\n",
       "      <td>Rio de Janeiro</td>\n",
       "      <td>Brazil</td>\n",
       "    </tr>\n",
       "    <tr>\n",
       "      <td>July-17</td>\n",
       "      <td>July-24</td>\n",
       "      <td>Cape Town</td>\n",
       "      <td>South Africa</td>\n",
       "    </tr>\n",
       "    <tr>\n",
       "      <td>July-25</td>\n",
       "      <td>August-01</td>\n",
       "      <td>Istanbul</td>\n",
       "      <td>Turkey</td>\n",
       "    </tr>\n",
       "    <tr>\n",
       "      <td>August-02</td>\n",
       "      <td>August-09</td>\n",
       "      <td>Paris</td>\n",
       "      <td>France</td>\n",
       "    </tr>\n",
       "    <tr>\n",
       "      <td>August-10</td>\n",
       "      <td>August-17</td>\n",
       "      <td>Tokyo</td>\n",
       "      <td>Japan</td>\n",
       "    </tr>\n",
       "    <tr>\n",
       "      <td>August-18</td>\n",
       "      <td>August-25</td>\n",
       "      <td>Sydney</td>\n",
       "      <td>Australia</td>\n",
       "    </tr>\n",
       "  </tbody>\n",
       "</table>"
      ],
      "text/plain": [
       "<IPython.core.display.HTML object>"
      ]
     },
     "metadata": {},
     "output_type": "display_data"
    }
   ],
   "source": [
    "# Read the itinerary.csv file\n",
    "itinerary = read_csv(\"itinerary.csv\")\n",
    "\n",
    "# Display the itinerary\n",
    "display_table(itinerary)"
   ]
  },
  {
   "cell_type": "markdown",
   "metadata": {},
   "source": [
    "### Reading restaurant information from food journal entries"
   ]
  },
  {
   "cell_type": "markdown",
   "metadata": {},
   "source": [
    "- Now create a new function called `read_journal` that reads in the contents of a plain text file with '.txt' extension and stores it into a string variable:"
   ]
  },
  {
   "cell_type": "code",
   "execution_count": 4,
   "metadata": {},
   "outputs": [],
   "source": [
    "# The function called 'read_journal'\n",
    "def read_journal(journal_file):\n",
    "    f = open(journal_file, \"r\")\n",
    "    journal = f.read() \n",
    "    f.close()\n",
    "\n",
    "    # Return the journal content\n",
    "    return journal"
   ]
  },
  {
   "cell_type": "markdown",
   "metadata": {},
   "source": [
    "- You can now use the `read_journal` function to read in a food journal file - let's start with Sydney:"
   ]
  },
  {
   "cell_type": "code",
   "execution_count": 5,
   "metadata": {},
   "outputs": [
    {
     "name": "stdout",
     "output_type": "stream",
     "text": [
      "My culinary adventure began at Saint Peter, a renowned seafood restaurant in Paddington. This place is a temple to Australian seafood, and the \"Murray Cod\" was a revelation. The fish, sourced from the Murray River, was perfectly cooked, with a crispy skin and tender, flaky flesh. It was served with a simple yet flavorful accompaniment of seasonal vegetables, allowing the quality of the fish to shine. The restaurant's dedication to sustainability and nose-to-tail seafood cooking added an educational aspect to the delicious meal.\n",
      "\n",
      "Next, I visited Billy Kwong in Potts Point, where celebrated chef Kylie Kwong puts a unique spin on modern Australian cuisine using native ingredients. The standout dish here was the \"Crispy Skin Duck with Davidsonâ€™s Plum Sauce.\" The duck was cooked to perfection, with a rich, flavorful meat and delightfully crispy skin, complemented by the tart and slightly sweet Davidsonâ€™s plum sauce. This dish was a perfect example of how traditional recipes can be elevated with local, indigenous ingredients, creating something both familiar and new.\n",
      "\n",
      "In search of a true Australian pub experience, I headed to The Lord Nelson Brewery Hotel in The Rocks. This historic pub serves up hearty, classic Australian fare, and the \"Roast Lamb\" was exactly what I was craving. The lamb, roasted to tender perfection, was served with a medley of root vegetables and a rich gravy, making for a comforting and satisfying meal. Paired with one of their house-brewed ales, it was a quintessential Aussie pub experience that I would highly recommend.\n",
      "\n",
      "I couldn't miss out on trying some of the famous Australian barbecue, so I headed to Vic's Meat Market at the Sydney Fish Market. The \"BBQ Beef Brisket\" was a highlight, slow-cooked to achieve a melt-in-the-mouth texture, and served with a tangy barbecue sauce. The smoky, rich flavor of the brisket was enhanced by the vibrant, outdoor setting of the market, where the aroma of grilling meat filled the air.\n",
      "\n",
      "To round off my exploration of local cuisine, I visited Bennelong, located within the iconic Sydney Opera House. This fine dining restaurant celebrates Australian produce in every dish. The \"Sydney Rock Oysters\" were an exquisite start to the meal, served with a delicate vinaigrette that highlighted their briny freshness. The oysters, sourced from local waters, were plump and succulent, offering a pure taste of the sea.\n",
      "\n",
      "\n"
     ]
    }
   ],
   "source": [
    "journal = read_journal(\"sydney.txt\")\n",
    "\n",
    "print(journal)\n",
    "\n",
    "# Print in Markdown format\n",
    "display(Markdown(journal))"
   ]
  },
  {
   "cell_type": "markdown",
   "metadata": {},
   "source": [
    "- Write a prompt that extracts restaurant and specialty dish information from the journal text and stores it in CSV format:"
   ]
  },
  {
   "cell_type": "code",
   "execution_count": 7,
   "metadata": {},
   "outputs": [
    {
     "name": "stdout",
     "output_type": "stream",
     "text": [
      "Restaurant,Specialty\n",
      "Saint Peter,Murray Cod\n",
      "Billy Kwong,Crispy Skin Duck with Davidson’s Plum Sauce\n",
      "The Lord Nelson Brewery Hotel,Roast Lamb\n",
      "Vic's Meat Market,BBQ Beef Brisket\n",
      "Bennelong,Sydney Rock Oysters\n"
     ]
    }
   ],
   "source": [
    "# Write the prompt\n",
    "prompt = f\"\"\"Please extract a comprehensive list of the restaurants \n",
    "and their respective specialties mentioned in the following journal entry. \n",
    "Ensure that each restaurant name is accurately identified and listed. \n",
    "Provide your answer in CSV format, ready to save. \n",
    "Exclude the \"```csv\" declaration, don't add spaces after the comma, include column headers.\n",
    "\n",
    "Format:\n",
    "Restaurant, Specialty\n",
    "Res_1, Sp_1\n",
    "...\n",
    "\n",
    "Journal entry:\n",
    "{journal}\n",
    "\"\"\"\n",
    "\n",
    "# Print the prompt\n",
    "print_llm_response(prompt)"
   ]
  },
  {
   "cell_type": "markdown",
   "metadata": {},
   "source": [
    "- Read in restaurant information from `Sydney.csv` file that was created for you and display it using the `display_table` function:"
   ]
  },
  {
   "cell_type": "code",
   "execution_count": 8,
   "metadata": {},
   "outputs": [
    {
     "data": {
      "text/html": [
       "<table border=\"1\" class=\"dataframe\">\n",
       "  <thead>\n",
       "    <tr style=\"text-align: right;\">\n",
       "      <th>Restaurant</th>\n",
       "      <th>Specialty</th>\n",
       "    </tr>\n",
       "  </thead>\n",
       "  <tbody>\n",
       "    <tr>\n",
       "      <td>Saint Peter</td>\n",
       "      <td>Murray Cod</td>\n",
       "    </tr>\n",
       "    <tr>\n",
       "      <td>Billy Kwong</td>\n",
       "      <td>Crispy Skin Duck with Davidsonâ€™s Plum Sauce</td>\n",
       "    </tr>\n",
       "    <tr>\n",
       "      <td>The Lord Nelson Brewery Hotel</td>\n",
       "      <td>Roast Lamb</td>\n",
       "    </tr>\n",
       "    <tr>\n",
       "      <td>Carriageworks Farmers Market</td>\n",
       "      <td>Kangaroo Pie</td>\n",
       "    </tr>\n",
       "    <tr>\n",
       "      <td>Vic's Meat Market</td>\n",
       "      <td>BBQ Beef Brisket</td>\n",
       "    </tr>\n",
       "    <tr>\n",
       "      <td>Bennelong</td>\n",
       "      <td>Sydney Rock Oysters</td>\n",
       "    </tr>\n",
       "  </tbody>\n",
       "</table>"
      ],
      "text/plain": [
       "<IPython.core.display.HTML object>"
      ]
     },
     "metadata": {},
     "output_type": "display_data"
    }
   ],
   "source": [
    "# Use the read_csv function\n",
    "sydney_restaurants = read_csv(\"Sydney.csv\")\n",
    "\n",
    "display_table(sydney_restaurants)"
   ]
  },
  {
   "cell_type": "markdown",
   "metadata": {},
   "source": [
    "### Creating detailed itineraries with restaurant suggestions"
   ]
  },
  {
   "cell_type": "markdown",
   "metadata": {},
   "source": [
    "In this section, you'll combine the data in the journal and the itinerary to create a detailed plan for your visit to Sydney. \n",
    "\n",
    "To access Sydney's data in the ```itinerary``` list, you have to use index '6' since Sydney is the seventh trip destination."
   ]
  },
  {
   "cell_type": "markdown",
   "metadata": {},
   "source": [
    "- Let's have a quick inside in the itinery list to confirm that Sydney has index 6 "
   ]
  },
  {
   "cell_type": "code",
   "execution_count": 9,
   "metadata": {},
   "outputs": [
    {
     "data": {
      "text/html": [
       "<table border=\"1\" class=\"dataframe\">\n",
       "  <thead>\n",
       "    <tr style=\"text-align: right;\">\n",
       "      <th>Arrival</th>\n",
       "      <th>Departure</th>\n",
       "      <th>City</th>\n",
       "      <th>Country</th>\n",
       "    </tr>\n",
       "  </thead>\n",
       "  <tbody>\n",
       "    <tr>\n",
       "      <td>July-01</td>\n",
       "      <td>July-08</td>\n",
       "      <td>New York</td>\n",
       "      <td>USA</td>\n",
       "    </tr>\n",
       "    <tr>\n",
       "      <td>July-09</td>\n",
       "      <td>July-16</td>\n",
       "      <td>Rio de Janeiro</td>\n",
       "      <td>Brazil</td>\n",
       "    </tr>\n",
       "    <tr>\n",
       "      <td>July-17</td>\n",
       "      <td>July-24</td>\n",
       "      <td>Cape Town</td>\n",
       "      <td>South Africa</td>\n",
       "    </tr>\n",
       "    <tr>\n",
       "      <td>July-25</td>\n",
       "      <td>August-01</td>\n",
       "      <td>Istanbul</td>\n",
       "      <td>Turkey</td>\n",
       "    </tr>\n",
       "    <tr>\n",
       "      <td>August-02</td>\n",
       "      <td>August-09</td>\n",
       "      <td>Paris</td>\n",
       "      <td>France</td>\n",
       "    </tr>\n",
       "    <tr>\n",
       "      <td>August-10</td>\n",
       "      <td>August-17</td>\n",
       "      <td>Tokyo</td>\n",
       "      <td>Japan</td>\n",
       "    </tr>\n",
       "    <tr>\n",
       "      <td>August-18</td>\n",
       "      <td>August-25</td>\n",
       "      <td>Sydney</td>\n",
       "      <td>Australia</td>\n",
       "    </tr>\n",
       "  </tbody>\n",
       "</table>"
      ],
      "text/plain": [
       "<IPython.core.display.HTML object>"
      ]
     },
     "metadata": {},
     "output_type": "display_data"
    }
   ],
   "source": [
    "# Read the itinerary.csv file\n",
    "itinerary = read_csv(\"itinerary.csv\")\n",
    "\n",
    "# Display the itinerary\n",
    "display_table(itinerary)"
   ]
  },
  {
   "cell_type": "code",
   "execution_count": 12,
   "metadata": {},
   "outputs": [],
   "source": [
    "#import pandas as pd"
   ]
  },
  {
   "cell_type": "code",
   "execution_count": 15,
   "metadata": {},
   "outputs": [
    {
     "name": "stdout",
     "output_type": "stream",
     "text": [
      "['New York', 'Rio de Janeiro', 'Cape Town', 'Istanbul', 'Paris', 'Tokyo', 'Sydney']\n"
     ]
    }
   ],
   "source": [
    "# Read the itinerary.csv file\n",
    "itinerary = pd.read_csv(\"itinerary.csv\")\n",
    "\n",
    "# Extract a list from a specific column, for example, the 'City' column\n",
    "items_list = itinerary[\"City\"].astype(str).tolist()\n",
    "\n",
    "# Print the list of items\n",
    "print(items_list)"
   ]
  },
  {
   "cell_type": "code",
   "execution_count": 16,
   "metadata": {},
   "outputs": [
    {
     "name": "stdout",
     "output_type": "stream",
     "text": [
      "[0, 1, 2, 3, 4, 5, 6]\n"
     ]
    }
   ],
   "source": [
    "# Generate a list of indices\n",
    "indices = list(range(len(items_list)))\n",
    "\n",
    "# Print the list of indices\n",
    "print(indices)\n"
   ]
  },
  {
   "cell_type": "markdown",
   "metadata": {},
   "source": [
    "**Explanation output** From the last two above outputs, we got the confermation that we need to use index '6' since Sydney is the seventh trip destination."
   ]
  },
  {
   "cell_type": "code",
   "execution_count": 18,
   "metadata": {},
   "outputs": [],
   "source": [
    "# Read the itinerary.csv file\n",
    "itinerary = read_csv(\"itinerary.csv\")"
   ]
  },
  {
   "cell_type": "code",
   "execution_count": 19,
   "metadata": {},
   "outputs": [],
   "source": [
    "# Select Sydney from the 'itinerary' list\n",
    "trip_stop = itinerary[6]"
   ]
  },
  {
   "cell_type": "code",
   "execution_count": 20,
   "metadata": {},
   "outputs": [
    {
     "name": "stdout",
     "output_type": "stream",
     "text": [
      "{'Arrival': 'August-18', 'Departure': 'August-25', 'City': 'Sydney', 'Country': 'Australia'}\n"
     ]
    }
   ],
   "source": [
    "print(trip_stop)"
   ]
  },
  {
   "cell_type": "markdown",
   "metadata": {},
   "source": [
    "- Next, store all the information from that ```trip_stop```, as well as the restaurant information you read in above, in separate variables:"
   ]
  },
  {
   "cell_type": "code",
   "execution_count": 22,
   "metadata": {},
   "outputs": [],
   "source": [
    "city = trip_stop[\"City\"]\n",
    "country = trip_stop[\"Country\"]\n",
    "arrival = trip_stop[\"Arrival\"]\n",
    "departure = trip_stop[\"Departure\"]\n",
    "restaurants = sydney_restaurants"
   ]
  },
  {
   "cell_type": "code",
   "execution_count": 24,
   "metadata": {},
   "outputs": [
    {
     "name": "stdout",
     "output_type": "stream",
     "text": [
      "Sydney\n",
      "Australia\n",
      "August-18\n",
      "August-25\n",
      "[{'Restaurant': 'Saint Peter', 'Specialty': 'Murray Cod'}, {'Restaurant': 'Billy Kwong', 'Specialty': 'Crispy Skin Duck with Davidsonâ€™s Plum Sauce'}, {'Restaurant': 'The Lord Nelson Brewery Hotel', 'Specialty': 'Roast Lamb'}, {'Restaurant': 'Carriageworks Farmers Market', 'Specialty': 'Kangaroo Pie'}, {'Restaurant': \"Vic's Meat Market\", 'Specialty': 'BBQ Beef Brisket'}, {'Restaurant': 'Bennelong', 'Specialty': 'Sydney Rock Oysters'}]\n"
     ]
    }
   ],
   "source": [
    "print(city)\n",
    "print(country)\n",
    "print(arrival)\n",
    "print(departure)\n",
    "print(restaurants)"
   ]
  },
  {
   "cell_type": "markdown",
   "metadata": {},
   "source": [
    "- Pass all of this information in a detailed prompt to an LLM to create a detailed itinerary:"
   ]
  },
  {
   "cell_type": "code",
   "execution_count": 25,
   "metadata": {},
   "outputs": [
    {
     "data": {
      "text/markdown": [
       "### Sydney Itinerary: August 18 - August 25\n",
       "\n",
       "#### Day 1: August 18 (Saturday)\n",
       "- **Breakfast (8:00 AM)**: Café nearby your accommodation.\n",
       "- **Morning**: Explore the Sydney Opera House and take a guided tour.\n",
       "- **Lunch (12:30 PM)**: **Bennelong**  \n",
       "  - **Specialty**: Sydney Rock Oysters\n",
       "- **Afternoon**: Stroll through the Royal Botanic Garden.\n",
       "- **Dinner (7:00 PM)**: **Saint Peter**  \n",
       "  - **Specialty**: Murray Cod\n",
       "\n",
       "---\n",
       "\n",
       "#### Day 2: August 19 (Sunday)\n",
       "- **Breakfast (8:00 AM)**: Local café.\n",
       "- **Morning**: Visit the Art Gallery of New South Wales.\n",
       "- **Lunch (12:30 PM)**: **Billy Kwong**  \n",
       "  - **Specialty**: Crispy Skin Duck with Davidson’s Plum Sauce\n",
       "- **Afternoon**: Explore the historic Rocks district.\n",
       "- **Dinner (7:00 PM)**: **The Lord Nelson Brewery Hotel**  \n",
       "  - **Specialty**: Roast Lamb\n",
       "\n",
       "---\n",
       "\n",
       "#### Day 3: August 20 (Monday)\n",
       "- **Breakfast (8:00 AM)**: Local café.\n",
       "- **Morning**: Take a ferry to Manly Beach.\n",
       "- **Lunch (12:30 PM)**: **Carriageworks Farmers Market**  \n",
       "  - **Specialty**: Kangaroo Pie\n",
       "- **Afternoon**: Relax at Manly Beach or explore the area.\n",
       "- **Dinner (7:00 PM)**: **Vic's Meat Market**  \n",
       "  - **Specialty**: BBQ Beef Brisket\n",
       "\n",
       "---\n",
       "\n",
       "#### Day 4: August 21 (Tuesday)\n",
       "- **Breakfast (8:00 AM)**: Local café.\n",
       "- **Morning**: Visit Taronga Zoo.\n",
       "- **Lunch (12:30 PM)**: Café at the zoo.\n",
       "- **Afternoon**: Return to the city and visit Darling Harbour.\n",
       "- **Dinner (7:00 PM)**: Explore local eateries in Darling Harbour.\n",
       "\n",
       "---\n",
       "\n",
       "#### Day 5: August 22 (Wednesday)\n",
       "- **Breakfast (8:00 AM)**: Local café.\n",
       "- **Morning**: Visit the Sydney Tower Eye for panoramic views.\n",
       "- **Lunch (12:30 PM)**: Local restaurant in the CBD.\n",
       "- **Afternoon**: Shopping at Pitt Street Mall.\n",
       "- **Dinner (7:00 PM)**: Explore local eateries in the CBD.\n",
       "\n",
       "---\n",
       "\n",
       "#### Day 6: August 23 (Thursday)\n",
       "- **Breakfast (8:00 AM)**: Local café.\n",
       "- **Morning**: Visit Bondi Beach and walk the coastal path to Coogee.\n",
       "- **Lunch (12:30 PM)**: Café along the coastal walk.\n",
       "- **Afternoon**: Relax at Coogee Beach.\n",
       "- **Dinner (7:00 PM)**: Explore local restaurants in Coogee.\n",
       "\n",
       "---\n",
       "\n",
       "#### Day 7: August 24 (Friday)\n",
       "- **Breakfast (8:00 AM)**: Local café.\n",
       "- **Morning**: Visit the Australian Museum.\n",
       "- **Lunch (12:30 PM)**: Local restaurant nearby.\n",
       "- **Afternoon**: Explore Hyde Park and St. Mary’s Cathedral.\n",
       "- **Dinner (7:00 PM)**: Explore local eateries in the area.\n",
       "\n",
       "---\n",
       "\n",
       "#### Day 8: August 25 (Saturday)\n",
       "- **Breakfast (8:00 AM)**: Local café.\n",
       "- **Morning**: Last-minute shopping or sightseeing.\n",
       "- **Lunch (12:30 PM)**: Local café.\n",
       "- **Afternoon**: Prepare for departure.\n",
       "\n",
       "---\n",
       "\n",
       "Enjoy your trip to Sydney!"
      ],
      "text/plain": [
       "<IPython.core.display.Markdown object>"
      ]
     },
     "metadata": {},
     "output_type": "display_data"
    }
   ],
   "source": [
    "# Write the prompt\n",
    "prompt = f\"\"\"I will visit {city}, {country} from {arrival} to {departure}. \n",
    "Create a daily itinerary with detailed activities. \n",
    "Designate times for breakfast, lunch, and dinner. \n",
    "\n",
    "I want to visit the restaurants listed in the restaurant dictionary \n",
    "without repeating any place. Make sure to mention the specialty\n",
    "that I should try at each of them.\n",
    "\n",
    "Restaurant dictionary:\n",
    "{restaurants}\n",
    "\n",
    "\"\"\"\n",
    "\n",
    "response = get_llm_response(prompt)\n",
    "\n",
    "# Print the LLM response in Markdown format\n",
    "display(Markdown(response))"
   ]
  },
  {
   "cell_type": "markdown",
   "metadata": {},
   "source": [
    "### Create detailed itineraries for all the cities in your trip"
   ]
  },
  {
   "cell_type": "markdown",
   "metadata": {},
   "source": [
    "- You'll use a 'for' loop to iterate over all the cities in the ```itinerary``` list and create a detailed itinerary for each location:"
   ]
  },
  {
   "cell_type": "code",
   "execution_count": 26,
   "metadata": {},
   "outputs": [
    {
     "name": "stdout",
     "output_type": "stream",
     "text": [
      "Creating detailed itinerary for New York, USA.\n",
      "Creating detailed itinerary for Rio de Janeiro, Brazil.\n",
      "Creating detailed itinerary for Cape Town, South Africa.\n",
      "Creating detailed itinerary for Istanbul, Turkey.\n",
      "Creating detailed itinerary for Paris, France.\n",
      "Creating detailed itinerary for Tokyo, Japan.\n",
      "Creating detailed itinerary for Sydney, Australia.\n"
     ]
    }
   ],
   "source": [
    "# Create an empty dictionary to store the itinerary for each destination\n",
    "detailed_itinerary = {}\n",
    "\n",
    " # Use the 'for' loop over the 'itinerary' list   \n",
    "for trip_stop in itinerary:\n",
    "    city = trip_stop[\"City\"]\n",
    "    country = trip_stop[\"Country\"]\n",
    "    arrival = trip_stop[\"Arrival\"]\n",
    "    departure = trip_stop[\"Departure\"]\n",
    "\n",
    "    rest_dict = read_csv(f\"{city}.csv\")\n",
    "    \n",
    "    print(f\"Creating detailed itinerary for {city}, {country}.\")\n",
    "    \n",
    "    prompt = f\"\"\"I will visit {city}, {country} from {arrival} to {departure}. \n",
    "    Create a daily itinerary with detailed activities. \n",
    "    Designate times for breakfast, lunch, and dinner. \n",
    "\n",
    "    I want to visit the restaurants listed in the restaurant dictionary without repeating any place.\n",
    "    Make sure to mention the specialty that I should try at each of them.\n",
    "\n",
    "    Restaurant dictionary:\n",
    "    {rest_dict}\n",
    "\n",
    "    \"\"\"\n",
    "    # Store the detailed itinerary for the city to the dictionary\n",
    "    detailed_itinerary[city] = get_llm_response(prompt)"
   ]
  },
  {
   "cell_type": "markdown",
   "metadata": {},
   "source": [
    "- You can now access the detailed itinerary for any city by passing in the city name as the key to the `detailed_itinerary` dictionary:"
   ]
  },
  {
   "cell_type": "code",
   "execution_count": 27,
   "metadata": {},
   "outputs": [
    {
     "data": {
      "text/markdown": [
       "### Tokyo Itinerary: August 10 - August 17\n",
       "\n",
       "#### Day 1: August 10 (Saturday)\n",
       "- **Breakfast**: 8:00 AM - Local café (try a Japanese breakfast set)\n",
       "- **Morning Activity**: Explore Asakusa and visit Senso-ji Temple\n",
       "- **Lunch**: 12:00 PM - **Tsukiji Outer Market**  \n",
       "  *Specialty*: Fresh sashimi and street food\n",
       "- **Afternoon Activity**: Stroll through Ueno Park and visit museums\n",
       "- **Dinner**: 7:00 PM - **Sukiyabashi Jiro**  \n",
       "  *Specialty*: Omakase sushi\n",
       "\n",
       "---\n",
       "\n",
       "#### Day 2: August 11 (Sunday)\n",
       "- **Breakfast**: 8:00 AM - Hotel breakfast or nearby bakery\n",
       "- **Morning Activity**: Visit the Meiji Shrine and Harajuku\n",
       "- **Lunch**: 12:30 PM - **Afuri**  \n",
       "  *Specialty*: Yuzu shio ramen\n",
       "- **Afternoon Activity**: Explore Shibuya and see the famous crossing\n",
       "- **Dinner**: 6:30 PM - **Den**  \n",
       "  *Specialty*: Creative Japanese cuisine\n",
       "\n",
       "---\n",
       "\n",
       "#### Day 3: August 12 (Monday)\n",
       "- **Breakfast**: 8:00 AM - Traditional Japanese breakfast at a ryokan\n",
       "- **Morning Activity**: Visit the Tokyo Tower\n",
       "- **Lunch**: 12:00 PM - **Ichiran Ramen**  \n",
       "  *Specialty*: Tonkotsu ramen\n",
       "- **Afternoon Activity**: Explore Roppongi Hills and Mori Art Museum\n",
       "- **Dinner**: 7:00 PM - **Ginza Kojyu**  \n",
       "  *Specialty*: Kaiseki (traditional multi-course meal)\n",
       "\n",
       "---\n",
       "\n",
       "#### Day 4: August 13 (Tuesday)\n",
       "- **Breakfast**: 8:00 AM - Local café (try matcha latte and pastries)\n",
       "- **Morning Activity**: Day trip to Nikko or Kamakura\n",
       "- **Lunch**: 12:00 PM - Local eatery in Nikko/Kamakura\n",
       "- **Afternoon Activity**: Continue exploring Nikko/Kamakura\n",
       "- **Dinner**: 7:00 PM - **Tempura Kondo**  \n",
       "  *Specialty*: Seasonal vegetable and seafood tempura\n",
       "\n",
       "---\n",
       "\n",
       "#### Day 5: August 14 (Wednesday)\n",
       "- **Breakfast**: 8:00 AM - Hotel breakfast\n",
       "- **Morning Activity**: Visit Akihabara for electronics and anime culture\n",
       "- **Lunch**: 12:00 PM - Local café in Akihabara\n",
       "- **Afternoon Activity**: Explore the Imperial Palace and East Gardens\n",
       "- **Dinner**: 6:30 PM - **Kyubey**  \n",
       "  *Specialty*: Sushi\n",
       "\n",
       "---\n",
       "\n",
       "#### Day 6: August 15 (Thursday)\n",
       "- **Breakfast**: 8:00 AM - Local café (try a Japanese pancake)\n",
       "- **Morning Activity**: Visit Odaiba and teamLab Borderless\n",
       "- **Lunch**: 12:30 PM - Local restaurant in Odaiba\n",
       "- **Afternoon Activity**: Explore DiverCity Tokyo Plaza\n",
       "- **Dinner**: 7:00 PM - **Narisawa**  \n",
       "  *Specialty*: Innovative tasting menu\n",
       "\n",
       "---\n",
       "\n",
       "#### Day 7: August 16 (Friday)\n",
       "- **Breakfast**: 8:00 AM - Hotel breakfast\n",
       "- **Morning Activity**: Visit the National Museum of Nature and Science\n",
       "- **Lunch**: 12:00 PM - Local eatery near the museum\n",
       "- **Afternoon Activity**: Explore Yanaka district for traditional atmosphere\n",
       "- **Dinner**: 6:30 PM - **Akasaka Kikunoi**  \n",
       "  *Specialty*: Kaiseki\n",
       "\n",
       "---\n",
       "\n",
       "#### Day 8: August 17 (Saturday)\n",
       "- **Breakfast**: 8:00 AM - Local café\n",
       "- **Morning Activity**: Last-minute shopping in Shinjuku\n",
       "- **Lunch**: 12:00 PM - Local restaurant in Shinjuku\n",
       "- **Afternoon Activity**: Relax at Shinjuku Gyoen National Garden\n",
       "- **Departure**: Head to the airport\n",
       "\n",
       "Enjoy your trip to Tokyo!"
      ],
      "text/plain": [
       "<IPython.core.display.Markdown object>"
      ]
     },
     "metadata": {},
     "output_type": "display_data"
    }
   ],
   "source": [
    "# Print in Markdown format\n",
    "display(Markdown(detailed_itinerary[\"Tokyo\"]))"
   ]
  },
  {
   "cell_type": "markdown",
   "metadata": {},
   "source": [
    "### Try it yourself! \n",
    "\n",
    "Update the code below to check out the itinerary for another city. \n",
    "\n",
    "**Options:**\n",
    "- Cape Town\n",
    "- Istanbul\n",
    "- New York\n",
    "- Paris\n",
    "- Rio de Janeiro\n",
    "- Sydney\n",
    "- Tokyo"
   ]
  },
  {
   "cell_type": "code",
   "execution_count": 28,
   "metadata": {},
   "outputs": [
    {
     "data": {
      "text/markdown": [
       "### Sydney Itinerary: August 18 - August 25\n",
       "\n",
       "#### Day 1: August 18 (Saturday)\n",
       "- **Breakfast**: 8:00 AM - Local café near your accommodation.\n",
       "- **Morning Activity**: Explore the Sydney Opera House and take a guided tour.\n",
       "- **Lunch**: 12:30 PM - **Bennelong**  \n",
       "  - **Specialty**: Sydney Rock Oysters\n",
       "- **Afternoon Activity**: Stroll through the Royal Botanic Garden.\n",
       "- **Dinner**: 7:00 PM - Local restaurant or pub.\n",
       "\n",
       "---\n",
       "\n",
       "#### Day 2: August 19 (Sunday)\n",
       "- **Breakfast**: 8:00 AM - Local café.\n",
       "- **Morning Activity**: Visit the Art Gallery of New South Wales.\n",
       "- **Lunch**: 12:30 PM - **Billy Kwong**  \n",
       "  - **Specialty**: Crispy Skin Duck with Davidson’s Plum Sauce\n",
       "- **Afternoon Activity**: Explore the historic Rocks district.\n",
       "- **Dinner**: 7:00 PM - Local restaurant or pub.\n",
       "\n",
       "---\n",
       "\n",
       "#### Day 3: August 20 (Monday)\n",
       "- **Breakfast**: 8:00 AM - Local café.\n",
       "- **Morning Activity**: Take a ferry to Manly Beach.\n",
       "- **Lunch**: 12:30 PM - **Carriageworks Farmers Market**  \n",
       "  - **Specialty**: Kangaroo Pie\n",
       "- **Afternoon Activity**: Relax at Manly Beach or walk along the coastal path.\n",
       "- **Dinner**: 7:00 PM - Local restaurant or pub.\n",
       "\n",
       "---\n",
       "\n",
       "#### Day 4: August 21 (Tuesday)\n",
       "- **Breakfast**: 8:00 AM - Local café.\n",
       "- **Morning Activity**: Visit Taronga Zoo.\n",
       "- **Lunch**: 12:30 PM - **The Lord Nelson Brewery Hotel**  \n",
       "  - **Specialty**: Roast Lamb\n",
       "- **Afternoon Activity**: Explore Darling Harbour.\n",
       "- **Dinner**: 7:00 PM - Local restaurant or pub.\n",
       "\n",
       "---\n",
       "\n",
       "#### Day 5: August 22 (Wednesday)\n",
       "- **Breakfast**: 8:00 AM - Local café.\n",
       "- **Morning Activity**: Visit the Sydney Tower Eye for panoramic views.\n",
       "- **Lunch**: 12:30 PM - **Vic's Meat Market**  \n",
       "  - **Specialty**: BBQ Beef Brisket\n",
       "- **Afternoon Activity**: Explore the Queen Victoria Building.\n",
       "- **Dinner**: 7:00 PM - Local restaurant or pub.\n",
       "\n",
       "---\n",
       "\n",
       "#### Day 6: August 23 (Thursday)\n",
       "- **Breakfast**: 8:00 AM - Local café.\n",
       "- **Morning Activity**: Take a day trip to the Blue Mountains.\n",
       "- **Lunch**: 12:30 PM - Picnic in the Blue Mountains.\n",
       "- **Afternoon Activity**: Visit Scenic World and enjoy the views.\n",
       "- **Dinner**: 7:00 PM - Local restaurant or pub.\n",
       "\n",
       "---\n",
       "\n",
       "#### Day 7: August 24 (Friday)\n",
       "- **Breakfast**: 8:00 AM - Local café.\n",
       "- **Morning Activity**: Visit Bondi Beach and walk the Bondi to Coogee coastal walk.\n",
       "- **Lunch**: 12:30 PM - Local café along the walk.\n",
       "- **Afternoon Activity**: Relax at Coogee Beach.\n",
       "- **Dinner**: 7:00 PM - Local restaurant or pub.\n",
       "\n",
       "---\n",
       "\n",
       "#### Day 8: August 25 (Saturday)\n",
       "- **Breakfast**: 8:00 AM - Local café.\n",
       "- **Morning Activity**: Last-minute shopping at Pitt Street Mall.\n",
       "- **Lunch**: 12:30 PM - Local café.\n",
       "- **Afternoon Activity**: Departure preparations.\n",
       "\n",
       "---\n",
       "\n",
       "Enjoy your trip to Sydney!"
      ],
      "text/plain": [
       "<IPython.core.display.Markdown object>"
      ]
     },
     "metadata": {},
     "output_type": "display_data"
    }
   ],
   "source": [
    "# Update the next line of code to view a different city\n",
    "display(Markdown(detailed_itinerary[\"Sydney\"]))"
   ]
  },
  {
   "cell_type": "code",
   "execution_count": 29,
   "metadata": {},
   "outputs": [
    {
     "data": {
      "text/markdown": [
       "### Daily Itinerary for Paris (August 2 - August 9)\n",
       "\n",
       "#### Day 1: August 2 (Arrival)\n",
       "- **Morning:**\n",
       "  - Arrive in Paris, check into your hotel.\n",
       "  - **Breakfast:** Café nearby (try a croissant and café au lait).\n",
       "  \n",
       "- **Afternoon:**\n",
       "  - Visit the Eiffel Tower and take in the views.\n",
       "  - **Lunch:** L’As du Fallafel (try the Falafel sandwiches).\n",
       "  \n",
       "- **Evening:**\n",
       "  - Stroll through the Marais district.\n",
       "  - **Dinner:** Le Comptoir du Relais (try the Coq au Vin).\n",
       "\n",
       "---\n",
       "\n",
       "#### Day 2: August 3\n",
       "- **Morning:**\n",
       "  - **Breakfast:** Local bakery (try pain au chocolat).\n",
       "  \n",
       "- **Afternoon:**\n",
       "  - Explore the Louvre Museum.\n",
       "  - **Lunch:** Nearby café (try a quiche Lorraine).\n",
       "  \n",
       "- **Evening:**\n",
       "  - Walk along the Seine River.\n",
       "  - **Dinner:** Le Jules Verne (try the Filet de Boeuf).\n",
       "\n",
       "---\n",
       "\n",
       "#### Day 3: August 4\n",
       "- **Morning:**\n",
       "  - **Breakfast:** Hotel or nearby café (try a tartine).\n",
       "  \n",
       "- **Afternoon:**\n",
       "  - Visit Montmartre and the Sacré-Cœur.\n",
       "  - **Lunch:** Local bistro (try a Croque Monsieur).\n",
       "  \n",
       "- **Evening:**\n",
       "  - Explore the nightlife in Montmartre.\n",
       "  - **Dinner:** L'Ambroisie (try the Turbot with Artichokes and Truffle).\n",
       "\n",
       "---\n",
       "\n",
       "#### Day 4: August 5\n",
       "- **Morning:**\n",
       "  - **Breakfast:** Café de Flore (try a café crème).\n",
       "  \n",
       "- **Afternoon:**\n",
       "  - Visit the Musée d'Orsay.\n",
       "  - **Lunch:** Museum café (try a salad niçoise).\n",
       "  \n",
       "- **Evening:**\n",
       "  - Stroll through the Tuileries Garden.\n",
       "  - **Dinner:** Le Comptoir du Relais (try the Coq au Vin).\n",
       "\n",
       "---\n",
       "\n",
       "#### Day 5: August 6\n",
       "- **Morning:**\n",
       "  - **Breakfast:** Local patisserie (try a macaron).\n",
       "  \n",
       "- **Afternoon:**\n",
       "  - Visit the Palace of Versailles.\n",
       "  - **Lunch:** Café in Versailles (try a baguette sandwich).\n",
       "  \n",
       "- **Evening:**\n",
       "  - Return to Paris.\n",
       "  - **Dinner:** Le Jules Verne (try the Filet de Boeuf).\n",
       "\n",
       "---\n",
       "\n",
       "#### Day 6: August 7\n",
       "- **Morning:**\n",
       "  - **Breakfast:** Local café (try a fruit tart).\n",
       "  \n",
       "- **Afternoon:**\n",
       "  - Explore the Latin Quarter and visit the Panthéon.\n",
       "  - **Lunch:** Bistro in the Latin Quarter (try a steak frites).\n",
       "  \n",
       "- **Evening:**\n",
       "  - Visit the Luxembourg Gardens.\n",
       "  - **Dinner:** L'Ambroisie (try the Turbot with Artichokes and Truffle).\n",
       "\n",
       "---\n",
       "\n",
       "#### Day 7: August 8\n",
       "- **Morning:**\n",
       "  - **Breakfast:** Hotel or nearby café (try a brioche).\n",
       "  \n",
       "- **Afternoon:**\n",
       "  - Visit the Pompidou Center.\n",
       "  - **Lunch:** Café nearby (try a crepe).\n",
       "  \n",
       "- **Evening:**\n",
       "  - Enjoy a Seine River cruise.\n",
       "  - **Dinner:** Pierre Hermé (try the Ispahan).\n",
       "\n",
       "---\n",
       "\n",
       "#### Day 8: August 9 (Departure)\n",
       "- **Morning:**\n",
       "  - **Breakfast:** Last breakfast at a favorite café (try a classic French omelette).\n",
       "  \n",
       "- **Afternoon:**\n",
       "  - Last-minute shopping or visit a local market.\n",
       "  - **Lunch:** Quick bite at a local bistro (try a tart).\n",
       "  \n",
       "- **Evening:**\n",
       "  - Depart from Paris.\n",
       "\n",
       "---\n",
       "\n",
       "Enjoy your trip to Paris!"
      ],
      "text/plain": [
       "<IPython.core.display.Markdown object>"
      ]
     },
     "metadata": {},
     "output_type": "display_data"
    }
   ],
   "source": [
    "# Update the next line of code to view a different city\n",
    "display(Markdown(detailed_itinerary[\"Paris\"]))"
   ]
  },
  {
   "cell_type": "code",
   "execution_count": 30,
   "metadata": {},
   "outputs": [
    {
     "data": {
      "text/markdown": [
       "### Daily Itinerary for Rio de Janeiro (July 9 - July 16)\n",
       "\n",
       "#### Day 1: July 9 (Sunday)\n",
       "- **Breakfast**: 8:00 AM at **Confeitaria Colombo**  \n",
       "  *Try the Pastel de nata (custard tart).*\n",
       "- **Morning Activity**: Visit the **Christ the Redeemer** statue.\n",
       "- **Lunch**: 1:00 PM at **Fogo de Chão**  \n",
       "  *Try the Picanha (top sirloin).*\n",
       "- **Afternoon Activity**: Explore **Tijuca National Park**.\n",
       "- **Dinner**: 7:00 PM at **Aprazível**  \n",
       "  *Try the Galinhada (Brazilian chicken and rice).*\n",
       "\n",
       "---\n",
       "\n",
       "#### Day 2: July 10 (Monday)\n",
       "- **Breakfast**: 8:00 AM at the hotel or a local café.\n",
       "- **Morning Activity**: Visit **Sugarloaf Mountain**.\n",
       "- **Lunch**: 12:30 PM at **Olympe**  \n",
       "  *Try the Moqueca de caju (cashew nut stew).*\n",
       "- **Afternoon Activity**: Relax at **Copacabana Beach**.\n",
       "- **Dinner**: 7:30 PM at a local restaurant (not in the dictionary).\n",
       "\n",
       "---\n",
       "\n",
       "#### Day 3: July 11 (Tuesday)\n",
       "- **Breakfast**: 8:00 AM at a local bakery.\n",
       "- **Morning Activity**: Explore **Santa Teresa neighborhood**.\n",
       "- **Lunch**: 1:00 PM at **Feira de São Cristóvão**  \n",
       "  *Try the Acarajé.*\n",
       "- **Afternoon Activity**: Visit the **Selarón Steps**.\n",
       "- **Dinner**: 7:00 PM at a local restaurant (not in the dictionary).\n",
       "\n",
       "---\n",
       "\n",
       "#### Day 4: July 12 (Wednesday)\n",
       "- **Breakfast**: 8:00 AM at the hotel.\n",
       "- **Morning Activity**: Visit the **Museum of Tomorrow**.\n",
       "- **Lunch**: 12:30 PM at a local restaurant (not in the dictionary).\n",
       "- **Afternoon Activity**: Stroll through **Jardim Botânico**.\n",
       "- **Dinner**: 7:30 PM at a local restaurant (not in the dictionary).\n",
       "\n",
       "---\n",
       "\n",
       "#### Day 5: July 13 (Thursday)\n",
       "- **Breakfast**: 8:00 AM at a local café.\n",
       "- **Morning Activity**: Visit **Maracanã Stadium**.\n",
       "- **Lunch**: 1:00 PM at a local restaurant (not in the dictionary).\n",
       "- **Afternoon Activity**: Explore **Ipanema Beach**.\n",
       "- **Dinner**: 7:00 PM at a local restaurant (not in the dictionary).\n",
       "\n",
       "---\n",
       "\n",
       "#### Day 6: July 14 (Friday)\n",
       "- **Breakfast**: 8:00 AM at the hotel.\n",
       "- **Morning Activity**: Take a **favela tour** (e.g., Rocinha).\n",
       "- **Lunch**: 1:00 PM at a local restaurant (not in the dictionary).\n",
       "- **Afternoon Activity**: Visit the **Rio Art Museum**.\n",
       "- **Dinner**: 7:30 PM at a local restaurant (not in the dictionary).\n",
       "\n",
       "---\n",
       "\n",
       "#### Day 7: July 15 (Saturday)\n",
       "- **Breakfast**: 8:00 AM at a local bakery.\n",
       "- **Morning Activity**: Visit **Lapa Arches** and **Selarón Steps**.\n",
       "- **Lunch**: 12:30 PM at a local restaurant (not in the dictionary).\n",
       "- **Afternoon Activity**: Explore **Botafogo Beach**.\n",
       "- **Dinner**: 7:00 PM at a local restaurant (not in the dictionary).\n",
       "\n",
       "---\n",
       "\n",
       "#### Day 8: July 16 (Sunday)\n",
       "- **Breakfast**: 8:00 AM at the hotel.\n",
       "- **Morning Activity**: Last-minute shopping at **Shopping Leblon**.\n",
       "- **Lunch**: 12:00 PM at a local restaurant (not in the dictionary).\n",
       "- **Afternoon Activity**: Relax at **Praia do Leme**.\n",
       "- **Departure**: Head to the airport for your flight.\n",
       "\n",
       "---\n",
       "\n",
       "Feel free to adjust the activities and meal times based on your preferences! Enjoy your trip!"
      ],
      "text/plain": [
       "<IPython.core.display.Markdown object>"
      ]
     },
     "metadata": {},
     "output_type": "display_data"
    }
   ],
   "source": [
    "# Update the next line of code to view a different city\n",
    "display(Markdown(detailed_itinerary[\"Rio de Janeiro\"]))"
   ]
  },
  {
   "cell_type": "code",
   "execution_count": 31,
   "metadata": {},
   "outputs": [
    {
     "data": {
      "text/markdown": [
       "### New York Itinerary: July 1 - July 8\n",
       "\n",
       "#### Day 1: July 1 (Saturday)\n",
       "- **Breakfast**: 8:00 AM - **Katz's Delicatessen**  \n",
       "  *Try the Pastrami on rye.*\n",
       "- **Morning Activity**: 9:30 AM - Explore the Lower East Side and visit the Tenement Museum.\n",
       "- **Lunch**: 12:30 PM - **Chelsea Market (Lobster Place)**  \n",
       "  *Try the Lobster rolls.*\n",
       "- **Afternoon Activity**: 2:00 PM - Walk the High Line and enjoy the views.\n",
       "- **Dinner**: 6:00 PM - **Gramercy Tavern**  \n",
       "  *Try the Roasted chicken with seasonal vegetables.*\n",
       "- **Evening Activity**: 8:00 PM - Stroll through Madison Square Park.\n",
       "\n",
       "---\n",
       "\n",
       "#### Day 2: July 2 (Sunday)\n",
       "- **Breakfast**: 8:00 AM - Local café (try a bagel with cream cheese).\n",
       "- **Morning Activity**: 9:30 AM - Visit the Statue of Liberty and Ellis Island.\n",
       "- **Lunch**: 1:00 PM - Local pizzeria (try a classic New York slice).\n",
       "- **Afternoon Activity**: 3:00 PM - Explore Wall Street and the 9/11 Memorial.\n",
       "- **Dinner**: 6:30 PM - **Peter Luger Steak House**  \n",
       "  *Try the Porterhouse steak.*\n",
       "- **Evening Activity**: 8:30 PM - Walk across the Brooklyn Bridge.\n",
       "\n",
       "---\n",
       "\n",
       "#### Day 3: July 3 (Monday)\n",
       "- **Breakfast**: 8:00 AM - Local diner (try pancakes).\n",
       "- **Morning Activity**: 9:30 AM - Visit the Metropolitan Museum of Art.\n",
       "- **Lunch**: 12:30 PM - Local café (try a salad).\n",
       "- **Afternoon Activity**: 2:00 PM - Stroll through Central Park.\n",
       "- **Dinner**: 6:00 PM - **Eleven Madison Park**  \n",
       "  *Try the Sunflower seed risotto.*\n",
       "- **Evening Activity**: 8:00 PM - Attend a Broadway show.\n",
       "\n",
       "---\n",
       "\n",
       "#### Day 4: July 4 (Tuesday)\n",
       "- **Breakfast**: 8:00 AM - Local bakery (try a croissant).\n",
       "- **Morning Activity**: 9:30 AM - Visit the American Museum of Natural History.\n",
       "- **Lunch**: 12:30 PM - Local food truck (try a hot dog).\n",
       "- **Afternoon Activity**: 2:00 PM - Explore the Upper West Side.\n",
       "- **Dinner**: 6:00 PM - Local restaurant (try a burger).\n",
       "- **Evening Activity**: 8:00 PM - Watch the Fourth of July fireworks (location TBD).\n",
       "\n",
       "---\n",
       "\n",
       "#### Day 5: July 5 (Wednesday)\n",
       "- **Breakfast**: 8:00 AM - Local café (try a smoothie bowl).\n",
       "- **Morning Activity**: 9:30 AM - Visit the Museum of Modern Art (MoMA).\n",
       "- **Lunch**: 12:30 PM - Local sandwich shop (try a club sandwich).\n",
       "- **Afternoon Activity**: 2:00 PM - Explore Times Square.\n",
       "- **Dinner**: 6:00 PM - Local Asian restaurant (try sushi).\n",
       "- **Evening Activity**: 8:00 PM - Visit the Top of the Rock for skyline views.\n",
       "\n",
       "---\n",
       "\n",
       "#### Day 6: July 6 (Thursday)\n",
       "- **Breakfast**: 8:00 AM - Local café (try avocado toast).\n",
       "- **Morning Activity**: 9:30 AM - Visit the Guggenheim Museum.\n",
       "- **Lunch**: 12:30 PM - Local deli (try a Reuben sandwich).\n",
       "- **Afternoon Activity**: 2:00 PM - Explore the East Village.\n",
       "- **Dinner**: 6:00 PM - Local Italian restaurant (try pasta).\n",
       "- **Evening Activity**: 8:00 PM - Attend a live music event.\n",
       "\n",
       "---\n",
       "\n",
       "#### Day 7: July 7 (Friday)\n",
       "- **Breakfast**: 8:00 AM - Local café (try a breakfast burrito).\n",
       "- **Morning Activity**: 9:30 AM - Visit the New York Botanical Garden.\n",
       "- **Lunch**: 12:30 PM - Local taco truck (try fish tacos).\n",
       "- **Afternoon Activity**: 2:00 PM - Explore the Bronx Zoo.\n",
       "- **Dinner**: 6:00 PM - Local steakhouse (try a filet mignon).\n",
       "- **Evening Activity**: 8:00 PM - Relax at a rooftop bar.\n",
       "\n",
       "---\n",
       "\n",
       "#### Day 8: July 8 (Saturday)\n",
       "- **Breakfast**: 8:00 AM - Local café (try a muffin).\n",
       "- **Morning Activity**: 9:30 AM - Last-minute shopping in SoHo.\n",
       "- **Lunch**: 12:30 PM - Local café (try a quiche).\n",
       "- **Afternoon Activity**: 2:00 PM - Visit the Brooklyn Museum.\n",
       "- **Departure**: 5:00 PM - Head to the airport.\n",
       "\n",
       "Enjoy your trip to New York!"
      ],
      "text/plain": [
       "<IPython.core.display.Markdown object>"
      ]
     },
     "metadata": {},
     "output_type": "display_data"
    }
   ],
   "source": [
    "# Update the next line of code to view a different city\n",
    "display(Markdown(detailed_itinerary[\"New York\"]))"
   ]
  },
  {
   "cell_type": "code",
   "execution_count": 32,
   "metadata": {},
   "outputs": [
    {
     "data": {
      "text/markdown": [
       "### Cape Town Itinerary: July 17 - July 24\n",
       "\n",
       "#### Day 1: July 17 (Monday)\n",
       "- **Breakfast**: 8:00 AM - Local café (try a traditional South African breakfast)\n",
       "- **Morning Activity**: 9:30 AM - Visit Table Mountain (take the cable car)\n",
       "- **Lunch**: 12:30 PM - **The Test Kitchen**  \n",
       "  - **Specialty**: Pickled Fish Tacos\n",
       "- **Afternoon Activity**: 2:00 PM - Explore the V&A Waterfront\n",
       "- **Dinner**: 7:00 PM - Local seafood restaurant (try the catch of the day)\n",
       "\n",
       "---\n",
       "\n",
       "#### Day 2: July 18 (Tuesday)\n",
       "- **Breakfast**: 8:00 AM - Hotel breakfast\n",
       "- **Morning Activity**: 9:30 AM - Visit Robben Island (book a ferry in advance)\n",
       "- **Lunch**: 1:00 PM - Local café at V&A Waterfront\n",
       "- **Afternoon Activity**: 3:00 PM - Visit the District Six Museum\n",
       "- **Dinner**: 7:00 PM - **La Colombe**  \n",
       "  - **Specialty**: Tuna La Colombe\n",
       "\n",
       "---\n",
       "\n",
       "#### Day 3: July 19 (Wednesday)\n",
       "- **Breakfast**: 8:00 AM - Local bakery (try a koeksister)\n",
       "- **Morning Activity**: 9:30 AM - Visit Kirstenbosch National Botanical Garden\n",
       "- **Lunch**: 12:30 PM - Picnic in the gardens\n",
       "- **Afternoon Activity**: 2:00 PM - Explore Constantia wine region (wine tasting)\n",
       "- **Dinner**: 7:00 PM - **Gold Restaurant**  \n",
       "  - **Specialty**: Bobotie\n",
       "\n",
       "---\n",
       "\n",
       "#### Day 4: July 20 (Thursday)\n",
       "- **Breakfast**: 8:00 AM - Hotel breakfast\n",
       "- **Morning Activity**: 9:30 AM - Visit the Cape of Good Hope\n",
       "- **Lunch**: 1:00 PM - Local café near the Cape\n",
       "- **Afternoon Activity**: 3:00 PM - Visit Boulders Beach (see the penguins)\n",
       "- **Dinner**: 7:00 PM - **Harbour House**  \n",
       "  - **Specialty**: Grilled Kingklip\n",
       "\n",
       "---\n",
       "\n",
       "#### Day 5: July 21 (Friday)\n",
       "- **Breakfast**: 8:00 AM - Local café (try a traditional South African pastry)\n",
       "- **Morning Activity**: 9:30 AM - Visit the Castle of Good Hope\n",
       "- **Lunch**: 12:30 PM - Local eatery in the city center\n",
       "- **Afternoon Activity**: 2:00 PM - Explore the Bo-Kaap neighborhood\n",
       "- **Dinner**: 7:00 PM - **The Pot Luck Club**  \n",
       "  - **Specialty**: Beef Tataki\n",
       "\n",
       "---\n",
       "\n",
       "#### Day 6: July 22 (Saturday)\n",
       "- **Breakfast**: 8:00 AM - Hotel breakfast\n",
       "- **Morning Activity**: 9:30 AM - Visit the Two Oceans Aquarium\n",
       "- **Lunch**: 12:30 PM - Café at the aquarium\n",
       "- **Afternoon Activity**: 2:00 PM - Stroll through the Company’s Garden\n",
       "- **Dinner**: 7:00 PM - Local steakhouse (try a South African steak)\n",
       "\n",
       "---\n",
       "\n",
       "#### Day 7: July 23 (Sunday)\n",
       "- **Breakfast**: 8:00 AM - Local café (try a breakfast burrito)\n",
       "- **Morning Activity**: 9:30 AM - Visit the South African Museum\n",
       "- **Lunch**: 12:30 PM - Local deli\n",
       "- **Afternoon Activity**: 2:00 PM - Explore the Waterfront Market\n",
       "- **Dinner**: 7:00 PM - Casual dining at a local pizzeria\n",
       "\n",
       "---\n",
       "\n",
       "#### Day 8: July 24 (Monday)\n",
       "- **Breakfast**: 8:00 AM - Hotel breakfast\n",
       "- **Morning Activity**: 9:30 AM - Last-minute shopping at V&A Waterfront\n",
       "- **Lunch**: 12:00 PM - Quick bite at a food stall\n",
       "- **Departure**: 2:00 PM - Head to the airport\n",
       "\n",
       "Enjoy your trip to Cape Town!"
      ],
      "text/plain": [
       "<IPython.core.display.Markdown object>"
      ]
     },
     "metadata": {},
     "output_type": "display_data"
    }
   ],
   "source": [
    "# Update the next line of code to view a different city\n",
    "display(Markdown(detailed_itinerary[\"Cape Town\"]))"
   ]
  },
  {
   "cell_type": "code",
   "execution_count": 33,
   "metadata": {},
   "outputs": [
    {
     "data": {
      "text/markdown": [
       "### Daily Itinerary for Istanbul (July 25 - August 1)\n",
       "\n",
       "#### Day 1: July 25 (Arrival)\n",
       "- **Morning:**\n",
       "  - Arrive in Istanbul, check into your hotel.\n",
       "  - **Breakfast:** Enjoy a traditional Turkish breakfast at your hotel or a nearby café.\n",
       "\n",
       "- **Afternoon:**\n",
       "  - Visit the **Hagia Sophia** and explore its stunning architecture.\n",
       "  - Stroll through the **Sultanahmet Square**.\n",
       "\n",
       "- **Lunch:** \n",
       "  - **Restaurant:** Karaköy Lokantası  \n",
       "  - **Specialty:** Midye Dolma (Stuffed Mussels)\n",
       "\n",
       "- **Evening:**\n",
       "  - Visit the **Basilica Cistern**.\n",
       "  - Explore the **Grand Bazaar** for shopping.\n",
       "\n",
       "- **Dinner:** \n",
       "  - **Restaurant:** Çiya Sofrası  \n",
       "  - **Specialty:** Kuzu Tandir (Slow-cooked Lamb)\n",
       "\n",
       "---\n",
       "\n",
       "#### Day 2: July 26\n",
       "- **Morning:**\n",
       "  - **Breakfast:** Try Simit from a local vendor on Istiklal Street.\n",
       "\n",
       "- **Afternoon:**\n",
       "  - Visit **Topkapi Palace** and its beautiful gardens.\n",
       "  - Explore the **Archaeological Museum** nearby.\n",
       "\n",
       "- **Lunch:** \n",
       "  - **Restaurant:** Asitane  \n",
       "  - **Specialty:** Mutancana (Ottoman Lamb Stew)\n",
       "\n",
       "- **Evening:**\n",
       "  - Take a leisurely walk along the **Bosphorus**.\n",
       "\n",
       "- **Dinner:** \n",
       "  - **Restaurant:** Mikla  \n",
       "  - **Specialty:** Lamb Rump\n",
       "\n",
       "---\n",
       "\n",
       "#### Day 3: July 27\n",
       "- **Morning:**\n",
       "  - **Breakfast:** Enjoy a Turkish tea and pastries at a local café.\n",
       "\n",
       "- **Afternoon:**\n",
       "  - Visit the **Spice Bazaar** and sample local spices and sweets.\n",
       "  - Take a ferry ride to **Kadıköy** on the Asian side.\n",
       "\n",
       "- **Lunch:** \n",
       "  - Try local street food in Kadıköy (e.g., Kumpir or Börek).\n",
       "\n",
       "- **Evening:**\n",
       "  - Explore the vibrant streets of Kadıköy and visit local shops.\n",
       "\n",
       "- **Dinner:** \n",
       "  - **Restaurant:** Karaköy Lokantası (if you missed it earlier) or find a local seafood restaurant.\n",
       "\n",
       "---\n",
       "\n",
       "#### Day 4: July 28\n",
       "- **Morning:**\n",
       "  - **Breakfast:** Enjoy a traditional Turkish breakfast at a local café.\n",
       "\n",
       "- **Afternoon:**\n",
       "  - Visit the **Dolmabahçe Palace** and its gardens.\n",
       "  - Walk along the **Ortaköy** waterfront.\n",
       "\n",
       "- **Lunch:** \n",
       "  - Try a local café in Ortaköy for a **Kumpir** (stuffed baked potato).\n",
       "\n",
       "- **Evening:**\n",
       "  - Visit the **Galata Tower** for panoramic views of the city.\n",
       "\n",
       "- **Dinner:** \n",
       "  - **Restaurant:** Çiya Sofrası (if you missed it earlier) or a local kebab house.\n",
       "\n",
       "---\n",
       "\n",
       "#### Day 5: July 29\n",
       "- **Morning:**\n",
       "  - **Breakfast:** Enjoy a Turkish breakfast at your hotel.\n",
       "\n",
       "- **Afternoon:**\n",
       "  - Visit the **Chora Church** and admire its mosaics.\n",
       "  - Explore the **Fener and Balat** neighborhoods.\n",
       "\n",
       "- **Lunch:** \n",
       "  - Try a local eatery in Balat for **Pide** (Turkish flatbread).\n",
       "\n",
       "- **Evening:**\n",
       "  - Visit the **Pierre Loti Café** for a sunset view.\n",
       "\n",
       "- **Dinner:** \n",
       "  - **Restaurant:** Mikla (if you missed it earlier) or a local meyhane (tavern).\n",
       "\n",
       "---\n",
       "\n",
       "#### Day 6: July 30\n",
       "- **Morning:**\n",
       "  - **Breakfast:** Enjoy a leisurely breakfast at a café in Taksim.\n",
       "\n",
       "- **Afternoon:**\n",
       "  - Explore **Istiklal Street** and visit shops and galleries.\n",
       "  - Stop by **Taksim Square**.\n",
       "\n",
       "- **Lunch:** \n",
       "  - Grab a **Simit** from a street vendor on Istiklal Street.\n",
       "\n",
       "- **Evening:**\n",
       "  - Visit the **Pera Museum**.\n",
       "\n",
       "- **Dinner:** \n",
       "  - **Restaurant:** Asitane (if you missed it earlier) or a local restaurant.\n",
       "\n",
       "---\n",
       "\n",
       "#### Day 7: July 31\n",
       "- **Morning:**\n",
       "  - **Breakfast:** Enjoy a final Turkish breakfast at your hotel.\n",
       "\n",
       "- **Afternoon:**\n",
       "  - Visit the **Bosphorus Strait** for a boat tour.\n",
       "  - Explore the **Rumeli Fortress**.\n",
       "\n",
       "- **Lunch:** \n",
       "  - Try a local fish restaurant along the Bosphorus.\n",
       "\n",
       "- **Evening:**\n",
       "  - Last-minute shopping at the **Grand Bazaar** or **Spice Bazaar**.\n",
       "\n",
       "- **Dinner:** \n",
       "  - **Restaurant:** Çiya Sofrası (if you missed it earlier) or a farewell dinner at a rooftop restaurant with a view.\n",
       "\n",
       "---\n",
       "\n",
       "#### Day 8: August 1 (Departure)\n",
       "- **Morning:**\n",
       "  - **Breakfast:** Enjoy breakfast at your hotel.\n",
       "  - Check out and prepare for departure.\n",
       "\n",
       "This itinerary ensures you experience the best of Istanbul while enjoying the specialties at the listed restaurants without repetition. Enjoy your trip!"
      ],
      "text/plain": [
       "<IPython.core.display.Markdown object>"
      ]
     },
     "metadata": {},
     "output_type": "display_data"
    }
   ],
   "source": [
    "# Update the next line of code to view a different city\n",
    "display(Markdown(detailed_itinerary[\"Istanbul\"]))"
   ]
  }
 ],
 "metadata": {
  "kernelspec": {
   "display_name": ".venv",
   "language": "python",
   "name": "python3"
  },
  "language_info": {
   "codemirror_mode": {
    "name": "ipython",
    "version": 3
   },
   "file_extension": ".py",
   "mimetype": "text/x-python",
   "name": "python",
   "nbconvert_exporter": "python",
   "pygments_lexer": "ipython3",
   "version": "3.12.2"
  }
 },
 "nbformat": 4,
 "nbformat_minor": 2
}
