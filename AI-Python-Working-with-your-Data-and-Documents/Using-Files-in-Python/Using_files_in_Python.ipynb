{
 "cells": [
  {
   "cell_type": "markdown",
   "metadata": {
    "id": "WMGxBP-yQoCl"
   },
   "source": [
    "# Using files in Python 📁\n",
    "\n",
    "## Introduction\n",
    "This Jupyter notebook demonstrates how to `handle files in Python`. It covers essential file handling operations such as `reading from text files` and utilizing functions to interact with file contents. Additionally, you will learn `how to leverage large language models (LLMs) to extract and process information from text data`. By following along, you will gain practical experience in managing file data, enhancing your Python programming skills for data manipulation and automation tasks."
   ]
  },
  {
   "cell_type": "markdown",
   "metadata": {},
   "source": [
    "## Importing specific functions from the helper_functions module  \n",
    "For more info see [helper_functions]() and [Setup Instructions](\n",
    "https://github.com/16032022/DeepLearningAI-OpenAI-projects/blob/main/SETUP.md). The imported functions from the `helper_functions`are the following:  \n",
    "- The _print_llm_response_ function is likely used to print responses from a language learning model.\n",
    "- The _get_llm_response_ function_ is likely used to get responses from a language learning model.\n",
    "\n",
    "## Importing specific functions from IPython.display module\n",
    "The `IPython.display` module provides utilities to display rich content (e.g., HTML, images, Markdown, widgets) directly in Jupyter Notebook cells, enhancing interactivity and visual presentation:\n",
    "- _display_ is a function that allows you to display rich representations of Python objects directly in Jupyter Notebook cells, such as HTML, images, or Markdown text.\n",
    "- _Markdown_ is a class that formats a string of text as Markdown, enabling easy rendering of styled text in a Jupyter Notebook."
   ]
  },
  {
   "cell_type": "code",
   "execution_count": 14,
   "metadata": {},
   "outputs": [],
   "source": [
    "# Import necessary functions from the helper_functions module\n",
    "from helper_functions import get_llm_response, print_llm_response\n",
    "\n",
    "# Import necessary functions from the IPython.display module\n",
    "from IPython.display import display, Markdown # is part of the IPython ecosystem, which provides tools to create an interactive environment, often used in Jupyter Notebooks"
   ]
  },
  {
   "cell_type": "markdown",
   "metadata": {},
   "source": [
    "* Write a prompt to create a recipe using `get_llm_response`."
   ]
  },
  {
   "cell_type": "code",
   "execution_count": 15,
   "metadata": {},
   "outputs": [
    {
     "name": "stdout",
     "output_type": "stream",
     "text": [
      "**Chicken and Broccoli Rice Bowl**\n",
      "\n",
      "**Ingredients:**\n",
      "- 1 lb chicken breast, diced\n",
      "- 2 cups broccoli florets\n",
      "- 1 cup rice (white or brown)\n",
      "- 2 cups chicken broth (or water)\n",
      "- 2 tablespoons olive oil\n",
      "- Salt and pepper to taste\n",
      "- Optional: soy sauce or garlic for extra flavor\n",
      "\n",
      "**Instructions:**\n",
      "\n",
      "1. **Cook Rice:** In a pot, combine rice and chicken broth. Bring to a boil, then reduce heat, cover, and simmer for 15-20 minutes (or according to package instructions) until rice is cooked.\n",
      "\n",
      "2. **Sauté Chicken:** In a large skillet, heat olive oil over medium heat. Add diced chicken, season with salt and pepper, and cook until browned and cooked through (about 5-7 minutes).\n",
      "\n",
      "3. **Add Broccoli:** Add broccoli florets to the skillet with the chicken. Sauté for an additional 5 minutes until broccoli is tender.\n",
      "\n",
      "4. **Combine:** Fluff the cooked rice and add it to the skillet. Mix everything together. Adjust seasoning and add soy sauce or garlic if desired.\n",
      "\n",
      "5. **Serve:** Divide into bowls and enjoy!\n"
     ]
    }
   ],
   "source": [
    "# Write a list of ingredients\n",
    "ingredients = ['chicken', 'broccoli', 'rice']\n",
    "\n",
    "# Write the prompt\n",
    "prompt = f\"\"\"\n",
    "    Create a short recipe that uses the following ingredients:\n",
    "    {ingredients}\n",
    "\"\"\"\n",
    "\n",
    "# Get the response from the LLM\n",
    "response = get_llm_response(prompt)\n",
    "\n",
    "# Print the LLM response\n",
    "print(response)"
   ]
  },
  {
   "cell_type": "markdown",
   "metadata": {},
   "source": [
    "## Opening a text file and saving it as a string"
   ]
  },
  {
   "cell_type": "markdown",
   "metadata": {},
   "source": [
    "- Loading the `email.txt`"
   ]
  },
  {
   "cell_type": "code",
   "execution_count": 16,
   "metadata": {},
   "outputs": [],
   "source": [
    "f = open(\"email.txt\", \"r\")\n",
    "email = f.read()\n",
    "f.close()"
   ]
  },
  {
   "cell_type": "markdown",
   "metadata": {},
   "source": [
    "* Print what it is 'inside' the email ✉️."
   ]
  },
  {
   "cell_type": "code",
   "execution_count": 17,
   "metadata": {},
   "outputs": [
    {
     "name": "stdout",
     "output_type": "stream",
     "text": [
      "Subject: My Incredible Journey Around the World!\n",
      "\n",
      "Hi Andrew,\n",
      "\n",
      "I hope you are doing greatl! I just returned from an incredible trip around the world. I started in New York, enjoying a Broadway show and the skyline. In Rio de Janeiro, I soaked up the sun on Copacabana Beach and hiked to Christ the Redeemer. Cape Town amazed me with its natural beauty and safari adventures. Paris was magical with its charming streets and delicious food. Istanbul's Hagia Sophia and Bosphorus cruise were unforgettable. Tokyo dazzled with its neon lights and delicious sushi. Finally, Sydney's Opera House and Bondi Beach were the perfect end to my journey. Can't wait to share more stories and photos when we catch up!\n",
      "\n",
      "Best,\n",
      "\n",
      "Daniel\n"
     ]
    }
   ],
   "source": [
    "print(email)"
   ]
  },
  {
   "cell_type": "markdown",
   "metadata": {},
   "source": [
    "<p style=\"background-color:#F5C780; padding:15px\"> 🤖 <b>Use the Chatbot</b>:\n",
    "    <br><br>\n",
    "    Explain this code line by line:\n",
    "    <br><br>f = open(\"email.txt\", \"r\")\n",
    "    <br>email = f.read()\n",
    "    <br>f.close()\n",
    "</p>"
   ]
  },
  {
   "cell_type": "markdown",
   "metadata": {},
   "source": [
    "**Response Chatbot** : This is a typical pattern in Python for reading from a file: open the file, read its contents, and then close the file to prevent resource leakage.  \n",
    "Complete Explanation:  \n",
    "'''py\n",
    "f = open(\"email.txt\", \"r\"): Open the file email.txt in read mode and assign the file object to f.  \n",
    "email = f.read(): Read the entire content of the file into the variable email.  \n",
    "f.close(): Close the file to free up resources.  \n",
    "'''"
   ]
  },
  {
   "cell_type": "markdown",
   "metadata": {},
   "source": [
    "<p style=\"background-color:#F5C780; padding:15px\"> 🤖 <b>Use the Chatbot</b>:\n",
    "    <br><br>\n",
    "    What happens if I don't close a file?\n",
    "</p>"
   ]
  },
  {
   "cell_type": "markdown",
   "metadata": {},
   "source": [
    "**Response Chatbot**: While not closing a file might not immediately cause visible issues in simple scripts, it's always a best practice to close files properly. This ensures efficient use of system resources, prevents data loss (when writing), avoids file locking problems, and keeps your code portable and reliable"
   ]
  },
  {
   "cell_type": "markdown",
   "metadata": {},
   "source": [
    "## Using LLMs to extract bullet points from the email"
   ]
  },
  {
   "cell_type": "markdown",
   "metadata": {},
   "source": [
    "<p style=\"background-color:#F5C780; padding:15px\"> 🤖 <b>Use the Chatbot</b>:\n",
    "    <br><br>\n",
    "    What are Bullet Points?\n",
    "</p>"
   ]
  },
  {
   "cell_type": "markdown",
   "metadata": {},
   "source": [
    "**Resonse chatbot** Bullet points are commonly used in documents, presentations, reports, and lists, particularly where you need to convey multiple ideas or steps in an organized and efficient way.\n",
    "\n",
    "Bullet points are a formatting tool used to organize and present information in a clear, concise, and visually appealing way. They are often used in lists to highlight key points or summarize important details. Each item in the list is preceded by a symbol, usually a dot (•), although other symbols like dashes (-) or numbers can be used depending on the context or format.\n",
    "\n",
    "Characteristics of Bullet Points:\n",
    "Concise: They are short and to the point, summarizing key information.\n",
    "Structured: Bullet points help structure information, making it easy to read and follow.\n",
    "Visually appealing: By breaking text into individual items, they make the content more digestible.\n",
    "Hierarchical: Sometimes, bullet points can be nested to show relationships between items, with sub-points appearing indented beneath main points.\n",
    "Example of Python code displaying bullet points using Markdown:\n",
    "from IPython.display import display, Markdown\n",
    "\n",
    "- Define the Markdown text with bullet points\n",
    "bullet_points = \"\"\"\n",
    "- **Simple and Easy to Learn**: Python has a clean and readable syntax.\n",
    "- **Interpreted Language**: Executes code line by line.\n",
    "- **Cross-Platform**: Runs on different operating systems.\n",
    "  - Windows\n",
    "  - macOS\n",
    "  - Linux\n",
    "\"\"\"\n",
    "\n",
    "- Use display() and Markdown() to render the bullet points in the notebook\n",
    "display(Markdown(bullet_points))\n",
    "**Response chatbot** : "
   ]
  },
  {
   "cell_type": "markdown",
   "metadata": {},
   "source": [
    "* Create a prompt to extract bullet points from Daniel's email ✉️."
   ]
  },
  {
   "cell_type": "code",
   "execution_count": 18,
   "metadata": {},
   "outputs": [
    {
     "name": "stdout",
     "output_type": "stream",
     "text": [
      "Extract bullet points from the following email. \n",
      "Include the sender information. \n",
      "\n",
      "Email:\n",
      "Subject: My Incredible Journey Around the World!\n",
      "\n",
      "Hi Andrew,\n",
      "\n",
      "I hope you are doing greatl! I just returned from an incredible trip around the world. I started in New York, enjoying a Broadway show and the skyline. In Rio de Janeiro, I soaked up the sun on Copacabana Beach and hiked to Christ the Redeemer. Cape Town amazed me with its natural beauty and safari adventures. Paris was magical with its charming streets and delicious food. Istanbul's Hagia Sophia and Bosphorus cruise were unforgettable. Tokyo dazzled with its neon lights and delicious sushi. Finally, Sydney's Opera House and Bondi Beach were the perfect end to my journey. Can't wait to share more stories and photos when we catch up!\n",
      "\n",
      "Best,\n",
      "\n",
      "Daniel\n"
     ]
    }
   ],
   "source": [
    "prompt = f\"\"\"Extract bullet points from the following email. \n",
    "Include the sender information. \n",
    "\n",
    "Email:\n",
    "{email}\"\"\"\n",
    "\n",
    "# Print the prompt\n",
    "print(prompt)"
   ]
  },
  {
   "cell_type": "markdown",
   "metadata": {},
   "source": [
    "* Run the ```get_llm_response``` function to get the response with bullet points."
   ]
  },
  {
   "cell_type": "code",
   "execution_count": 19,
   "metadata": {},
   "outputs": [
    {
     "name": "stdout",
     "output_type": "stream",
     "text": [
      "- **Sender:** Daniel\n",
      "- **Subject:** My Incredible Journey Around the World!\n",
      "- **Trip Highlights:**\n",
      "  - New York: Broadway show and skyline\n",
      "  - Rio de Janeiro: Copacabana Beach and Christ the Redeemer hike\n",
      "  - Cape Town: Natural beauty and safari adventures\n",
      "  - Paris: Charming streets and delicious food\n",
      "  - Istanbul: Hagia Sophia and Bosphorus cruise\n",
      "  - Tokyo: Neon lights and sushi\n",
      "  - Sydney: Opera House and Bondi Beach\n",
      "- **Future Plans:** Share more stories and photos when catching up.\n"
     ]
    }
   ],
   "source": [
    "bullet_points = get_llm_response(prompt)\n",
    "print(bullet_points)"
   ]
  },
  {
   "cell_type": "markdown",
   "metadata": {},
   "source": [
    "* Print the LLM response in Markdown format."
   ]
  },
  {
   "cell_type": "code",
   "execution_count": 20,
   "metadata": {},
   "outputs": [
    {
     "data": {
      "text/markdown": [
       "- **Sender:** Daniel\n",
       "- **Subject:** My Incredible Journey Around the World!\n",
       "- **Trip Highlights:**\n",
       "  - New York: Broadway show and skyline\n",
       "  - Rio de Janeiro: Copacabana Beach and Christ the Redeemer hike\n",
       "  - Cape Town: Natural beauty and safari adventures\n",
       "  - Paris: Charming streets and delicious food\n",
       "  - Istanbul: Hagia Sophia and Bosphorus cruise\n",
       "  - Tokyo: Neon lights and sushi\n",
       "  - Sydney: Opera House and Bondi Beach\n",
       "- **Future Plans:** Share more stories and photos when catching up."
      ],
      "text/plain": [
       "<IPython.core.display.Markdown object>"
      ]
     },
     "metadata": {},
     "output_type": "display_data"
    }
   ],
   "source": [
    "# Print in Markdown format\n",
    "display(Markdown(bullet_points))"
   ]
  },
  {
   "cell_type": "markdown",
   "metadata": {},
   "source": [
    "## Conclusion \n",
    "In this notebook, you have learned how to handle files in Python, including reading from text files and extracting meaningful information using large language models (LLMs). By following the provided exercises, you have practiced creating prompts, using functions to interact with file contents, and formatting responses in Markdown. These skills are essential for data manipulation and automation tasks in Python. "
   ]
  },
  {
   "cell_type": "markdown",
   "metadata": {},
   "source": [
    "## Extra practice  \n",
    "Keep experimenting and exploring to further enhance your understanding and proficiency in working with files in Python. Try the exercises below to get an LLM to carry out different tasks using the email text you read in from file:\n",
    "\n",
    "- Exercise 1 : Complete the code below to identify all the **countries** mentioned in the email."
   ]
  },
  {
   "cell_type": "code",
   "execution_count": 21,
   "metadata": {},
   "outputs": [
    {
     "name": "stdout",
     "output_type": "stream",
     "text": [
      "Subject: My Incredible Journey Around the World!\n",
      "\n",
      "Hi Andrew,\n",
      "\n",
      "I hope you are doing great! I just returned from an incredible trip around the world. I started in New York, enjoying a Broadway show and the skyline. In Rio de Janeiro, I soaked up the sun on Copacabana Beach and hiked to Christ the Redeemer. Cape Town amazed me with its natural beauty and safari adventures. Paris was magical with its charming streets and delicious food. Istanbul's Hagia Sophia and Bosphorus cruise were unforgettable. Tokyo dazzled with its neon lights and delicious sushi. Finally, Sydney's Opera House and Bondi Beach were the perfect end to my journey. Can't wait to share more stories and photos when we catch up!\n",
      "\n",
      "Best,\n",
      "\n",
      "Daniel\n"
     ]
    }
   ],
   "source": [
    "# Complete the code below to identify all of the countries mentioned \n",
    "# in the email\n",
    "prompt = f\"\"\"WRITE YOUR PROMPT HERE\n",
    "\n",
    "Email:\n",
    "{email}\n",
    "\"\"\"\n",
    "\n",
    "countries = get_llm_response(prompt)\n",
    "print(countries)"
   ]
  },
  {
   "cell_type": "markdown",
   "metadata": {},
   "source": [
    "Let's modify the above prompt in order to identify all the countries mentioned in the email "
   ]
  },
  {
   "cell_type": "code",
   "execution_count": 22,
   "metadata": {},
   "outputs": [],
   "source": [
    "prompt = f\"\"\"Extract all the countries from the following email. \n",
    "\n",
    "\n",
    "Email:\n",
    "{email}\"\"\"\n",
    "\n"
   ]
  },
  {
   "cell_type": "code",
   "execution_count": 23,
   "metadata": {},
   "outputs": [
    {
     "data": {
      "text/markdown": [
       "Countries extracted from the email:\n",
       "\n",
       "1. United States (New York)\n",
       "2. Brazil (Rio de Janeiro)\n",
       "3. South Africa (Cape Town)\n",
       "4. France (Paris)\n",
       "5. Turkey (Istanbul)\n",
       "6. Japan (Tokyo)\n",
       "7. Australia (Sydney)"
      ],
      "text/plain": [
       "<IPython.core.display.Markdown object>"
      ]
     },
     "metadata": {},
     "output_type": "display_data"
    }
   ],
   "source": [
    "countries = get_llm_response(prompt) #to get the response about the list of countries\n",
    "\n",
    "#print(countries)\n",
    "\n",
    "# Print in Markdown format\n",
    "display(Markdown(countries))"
   ]
  },
  {
   "cell_type": "markdown",
   "metadata": {},
   "source": [
    "- Exercise 2 : Write code below to list all of the activities that Daniel did on his trip. You'll need to create a prompt and use either `get_llm_response` or `print_llm_response`."
   ]
  },
  {
   "cell_type": "code",
   "execution_count": 24,
   "metadata": {},
   "outputs": [],
   "source": [
    "# Write code below to list all of the activities that Daniel did on \n",
    "# his trip. You'll need to create a prompt and use either \n",
    "# get_llm_response or print_llm_response\n",
    "# START YOUR CODE HERE"
   ]
  },
  {
   "cell_type": "markdown",
   "metadata": {},
   "source": [
    "\n",
    "Let's work out on exercise 2 step by step. \n",
    "OBJECTIVE : list all of the activities that Daniel did on his trip.   \n",
    "step 1 : Creation of the PROMPT to get the list of Daniel's activities  \n",
    "step 2 : Use of get_llm_response to get the response  \n",
    "step 3 : Use of print_llm_response to print out the list   "
   ]
  },
  {
   "cell_type": "code",
   "execution_count": 25,
   "metadata": {},
   "outputs": [],
   "source": [
    "prompt = f\"\"\"Extract all the activities that Daniel did in his trip from the following email. \n",
    "\n",
    "\n",
    "Email:\n",
    "{email}\"\"\"\n",
    "\n"
   ]
  },
  {
   "cell_type": "code",
   "execution_count": 26,
   "metadata": {},
   "outputs": [
    {
     "name": "stdout",
     "output_type": "stream",
     "text": [
      "1. Enjoyed a Broadway show in New York\n",
      "2. Viewed the skyline in New York\n",
      "3. Soaked up the sun on Copacabana Beach in Rio de Janeiro\n",
      "4. Hiked to Christ the Redeemer in Rio de Janeiro\n",
      "5. Experienced safari adventures in Cape Town\n",
      "6. Explored charming streets and enjoyed delicious food in Paris\n",
      "7. Visited Hagia Sophia in Istanbul\n",
      "8. Took a Bosphorus cruise in Istanbul\n",
      "9. Experienced neon lights and enjoyed sushi in Tokyo\n",
      "10. Visited the Sydney Opera House\n",
      "11. Relaxed at Bondi Beach in Sydney\n"
     ]
    }
   ],
   "source": [
    "activities = get_llm_response(prompt) #to get the response about the list of activities\n",
    "print(activities)"
   ]
  },
  {
   "cell_type": "markdown",
   "metadata": {},
   "source": [
    "Let's try to use print_llm_response instead of get_llm_response and then print command. The purpose here is to verify whether the printed output is the same. "
   ]
  },
  {
   "cell_type": "code",
   "execution_count": 27,
   "metadata": {},
   "outputs": [
    {
     "name": "stdout",
     "output_type": "stream",
     "text": [
      "1. Enjoyed a Broadway show in New York\n",
      "2. Viewed the skyline in New York\n",
      "3. Soaked up the sun on Copacabana Beach in Rio de Janeiro\n",
      "4. Hiked to Christ the Redeemer in Rio de Janeiro\n",
      "5. Experienced natural beauty and safari adventures in Cape Town\n",
      "6. Explored charming streets and enjoyed delicious food in Paris\n",
      "7. Visited Hagia Sophia in Istanbul\n",
      "8. Took a Bosphorus cruise in Istanbul\n",
      "9. Experienced neon lights and enjoyed sushi in Tokyo\n",
      "10. Visited the Opera House in Sydney\n",
      "11. Relaxed at Bondi Beach in Sydney\n"
     ]
    }
   ],
   "source": [
    "activities_2 = print_llm_response(prompt)"
   ]
  }
 ],
 "metadata": {
  "colab": {
   "gpuType": "T4",
   "provenance": []
  },
  "kernelspec": {
   "display_name": ".venv",
   "language": "python",
   "name": "python3"
  },
  "language_info": {
   "codemirror_mode": {
    "name": "ipython",
    "version": 3
   },
   "file_extension": ".py",
   "mimetype": "text/x-python",
   "name": "python",
   "nbconvert_exporter": "python",
   "pygments_lexer": "ipython3",
   "version": "3.12.2"
  }
 },
 "nbformat": 4,
 "nbformat_minor": 4
}
